{
 "cells": [
  {
   "cell_type": "markdown",
   "id": "285e5844",
   "metadata": {},
   "source": [
    "# 2 PROYECTO STORY POINTS \n",
    "\n",
    "# 1\n",
    "\n",
    "#### PUNTOS A REALIZAR \n",
    "     - DETECION Y ELIMINACION DE OUTLIERS \n",
    "     - ENCODING \n",
    "     - IMPUTACION DE VALORES FALTANTES \n",
    "     - REDUCCION DE DIMENSIONALIDAD \n",
    " # 2\n",
    "    - IMPLEMENTAR LAS TRSANFORMACIONES REQURIDAS \n",
    "    - VOLVER A ENTRENAR EL MODELO DE ARBOL DE DESICION \n",
    "    \n",
    "# 3 \n",
    "    - ESCOGER 2 MODELOS AVANZADOS (REGRESION LINEAL CON ATRIBUTOS             POLINOMICOS) REGULARIZACION \n",
    "    -OPTIMIZAR HIPER PARAMETROS CON UN CROSS VALIDATION Y CON UN GRID        SEARCH \n",
    "    - COMPARAR CON EL PRIMER MODELO CUAL ELEGIRIA Y POR QUE \n",
    "# 4\n",
    "    -DE ACUERDO A LO QUE EL MODELO PERMITE RESPONDE ALGUNAS O TODAS LAS      REGUNTAS: QUE VARIABLES FUERON RELEVANTES PARA EL MODELO PARA HACER      UNA PREDICCION? CUALES NO ?SI USASTE REGRESION LINEAL CON                NORMALIZACION PRESTA ATENCION A LOS PARAMETROS PENDIENTES , SI          USASTE DE E NSAMBLE DE ARBOLES , DEMAS DE VER LA IMPORTANCIOA DE        CADA ATRIBUTO TAMBIEN ELIGE ALGUNOS ARBOLES AL AZAR Y OBSERVA QUE        ATRIBUTOS CONSIDERAS IMPORTANTES \n",
    "     EN QUE SE DIFERENCIAN ESTOS ARBOLES ? POR QUE FINALMENETE RESPONDE\n",
    "     COINCIDE CON LO QUE ESPERABAS A PARTIR DE TU EXPERIENCIA CON ESTE        DATASET\n",
    "# 5 \n",
    "     -COMO ES LA DISTRUBUCION DE LOS ERRORES ? DONDE FALLAN LOS MODELOS?       A QUE SE DEBE \n",
    "# 6 \n",
    "     - CONCLUSIONES OBTENIDAS DEL TRABAJO "
   ]
  },
  {
   "cell_type": "code",
   "execution_count": 139,
   "id": "ff8a767b",
   "metadata": {},
   "outputs": [],
   "source": [
    "\n",
    "import numpy as np\n",
    "import pandas as pd\n",
    "import matplotlib.pyplot as plt\n",
    "import seaborn as sns\n",
    "sns.set()\n",
    "%matplotlib inline\n",
    "from sklearn.linear_model import LinearRegression\n",
    "from sklearn.tree import DecisionTreeRegressor\n",
    "from sklearn.neighbors import KNeighborsRegressor\n",
    "from sklearn.metrics import mean_absolute_error\n",
    "from sklearn.metrics import mean_squared_error\n",
    "from sklearn.metrics import r2_score\n",
    "from sklearn import metrics\n",
    "from sklearn.preprocessing import StandardScaler\n",
    "from sklearn.model_selection import cross_val_score\n",
    "from sklearn.model_selection import cross_validate\n",
    "from sklearn.model_selection import RandomizedSearchCV\n",
    "from sklearn.ensemble import RandomForestRegressor\n",
    "from sklearn.ensemble import AdaBoostRegressor\n"
   ]
  },
  {
   "cell_type": "code",
   "execution_count": 140,
   "id": "b4cdb659",
   "metadata": {
    "scrolled": true
   },
   "outputs": [
    {
     "name": "stdout",
     "output_type": "stream",
     "text": [
      "(146660, 19)\n"
     ]
    },
    {
     "data": {
      "text/html": [
       "<div>\n",
       "<style scoped>\n",
       "    .dataframe tbody tr th:only-of-type {\n",
       "        vertical-align: middle;\n",
       "    }\n",
       "\n",
       "    .dataframe tbody tr th {\n",
       "        vertical-align: top;\n",
       "    }\n",
       "\n",
       "    .dataframe thead th {\n",
       "        text-align: right;\n",
       "    }\n",
       "</style>\n",
       "<table border=\"1\" class=\"dataframe\">\n",
       "  <thead>\n",
       "    <tr style=\"text-align: right;\">\n",
       "      <th></th>\n",
       "      <th>start_date</th>\n",
       "      <th>end_date</th>\n",
       "      <th>created_on</th>\n",
       "      <th>lat</th>\n",
       "      <th>lon</th>\n",
       "      <th>l1</th>\n",
       "      <th>l2</th>\n",
       "      <th>l3</th>\n",
       "      <th>rooms</th>\n",
       "      <th>bedrooms</th>\n",
       "      <th>bathrooms</th>\n",
       "      <th>surface_total</th>\n",
       "      <th>surface_covered</th>\n",
       "      <th>price</th>\n",
       "      <th>currency</th>\n",
       "      <th>title</th>\n",
       "      <th>description</th>\n",
       "      <th>property_type</th>\n",
       "      <th>operation_type</th>\n",
       "    </tr>\n",
       "  </thead>\n",
       "  <tbody>\n",
       "    <tr>\n",
       "      <th>0</th>\n",
       "      <td>2019-10-17</td>\n",
       "      <td>2019-12-23</td>\n",
       "      <td>2019-10-17</td>\n",
       "      <td>-34.605880</td>\n",
       "      <td>-58.384949</td>\n",
       "      <td>Argentina</td>\n",
       "      <td>Capital Federal</td>\n",
       "      <td>San Cristobal</td>\n",
       "      <td>7.0</td>\n",
       "      <td>7.0</td>\n",
       "      <td>2.0</td>\n",
       "      <td>140.0</td>\n",
       "      <td>140.0</td>\n",
       "      <td>153000.0</td>\n",
       "      <td>USD</td>\n",
       "      <td>***Venta semipiso centro, ideal hostel*****</td>\n",
       "      <td>DESCRIPCION DE LA PROPIEDAD: Departamento de 1...</td>\n",
       "      <td>Departamento</td>\n",
       "      <td>Venta</td>\n",
       "    </tr>\n",
       "    <tr>\n",
       "      <th>1</th>\n",
       "      <td>2019-10-17</td>\n",
       "      <td>2019-11-21</td>\n",
       "      <td>2019-10-17</td>\n",
       "      <td>-34.624056</td>\n",
       "      <td>-58.412110</td>\n",
       "      <td>Argentina</td>\n",
       "      <td>Capital Federal</td>\n",
       "      <td>Boedo</td>\n",
       "      <td>2.0</td>\n",
       "      <td>1.0</td>\n",
       "      <td>2.0</td>\n",
       "      <td>70.0</td>\n",
       "      <td>58.0</td>\n",
       "      <td>159000.0</td>\n",
       "      <td>USD</td>\n",
       "      <td>Espectacular PH reciclado en Boedo sin expensas.</td>\n",
       "      <td>PH reciclado en Boedo a una cuadra de la plaz...</td>\n",
       "      <td>PH</td>\n",
       "      <td>Venta</td>\n",
       "    </tr>\n",
       "    <tr>\n",
       "      <th>2</th>\n",
       "      <td>2019-10-17</td>\n",
       "      <td>2019-11-01</td>\n",
       "      <td>2019-10-17</td>\n",
       "      <td>-34.593569</td>\n",
       "      <td>-58.427474</td>\n",
       "      <td>Argentina</td>\n",
       "      <td>Capital Federal</td>\n",
       "      <td>Palermo</td>\n",
       "      <td>2.0</td>\n",
       "      <td>1.0</td>\n",
       "      <td>1.0</td>\n",
       "      <td>45.0</td>\n",
       "      <td>45.0</td>\n",
       "      <td>125000.0</td>\n",
       "      <td>USD</td>\n",
       "      <td>Depto.tipo casa de 2 ambientes en Venta en Pal...</td>\n",
       "      <td>2 ambienets amplio , excelente estado , patio ...</td>\n",
       "      <td>PH</td>\n",
       "      <td>Venta</td>\n",
       "    </tr>\n",
       "    <tr>\n",
       "      <th>3</th>\n",
       "      <td>2019-10-17</td>\n",
       "      <td>2019-12-23</td>\n",
       "      <td>2019-10-17</td>\n",
       "      <td>-34.581294</td>\n",
       "      <td>-58.436754</td>\n",
       "      <td>Argentina</td>\n",
       "      <td>Capital Federal</td>\n",
       "      <td>Palermo</td>\n",
       "      <td>2.0</td>\n",
       "      <td>1.0</td>\n",
       "      <td>1.0</td>\n",
       "      <td>85.0</td>\n",
       "      <td>50.0</td>\n",
       "      <td>295000.0</td>\n",
       "      <td>USD</td>\n",
       "      <td>COSTA RICA 5800 / PALERMO HOLLYWOOD / VENTA PH...</td>\n",
       "      <td>HERMOSO PH EN PALERMO!!!2 AMBIENTES TOTALMENTE...</td>\n",
       "      <td>PH</td>\n",
       "      <td>Venta</td>\n",
       "    </tr>\n",
       "    <tr>\n",
       "      <th>4</th>\n",
       "      <td>2019-10-17</td>\n",
       "      <td>2020-03-11</td>\n",
       "      <td>2019-10-17</td>\n",
       "      <td>-34.914194</td>\n",
       "      <td>-57.938219</td>\n",
       "      <td>Argentina</td>\n",
       "      <td>Bs.As. G.B.A. Zona Sur</td>\n",
       "      <td>La Plata</td>\n",
       "      <td>2.0</td>\n",
       "      <td>1.0</td>\n",
       "      <td>1.0</td>\n",
       "      <td>50.0</td>\n",
       "      <td>35.0</td>\n",
       "      <td>40000.0</td>\n",
       "      <td>USD</td>\n",
       "      <td>58 entre 1 y 2  Venta de departamento en ph.1 ...</td>\n",
       "      <td>58 entre 1 y 2  Venta de departamento en PH. P...</td>\n",
       "      <td>PH</td>\n",
       "      <td>Venta</td>\n",
       "    </tr>\n",
       "  </tbody>\n",
       "</table>\n",
       "</div>"
      ],
      "text/plain": [
       "   start_date    end_date  created_on        lat        lon         l1  \\\n",
       "0  2019-10-17  2019-12-23  2019-10-17 -34.605880 -58.384949  Argentina   \n",
       "1  2019-10-17  2019-11-21  2019-10-17 -34.624056 -58.412110  Argentina   \n",
       "2  2019-10-17  2019-11-01  2019-10-17 -34.593569 -58.427474  Argentina   \n",
       "3  2019-10-17  2019-12-23  2019-10-17 -34.581294 -58.436754  Argentina   \n",
       "4  2019-10-17  2020-03-11  2019-10-17 -34.914194 -57.938219  Argentina   \n",
       "\n",
       "                       l2             l3  rooms  bedrooms  bathrooms  \\\n",
       "0         Capital Federal  San Cristobal    7.0       7.0        2.0   \n",
       "1         Capital Federal          Boedo    2.0       1.0        2.0   \n",
       "2         Capital Federal        Palermo    2.0       1.0        1.0   \n",
       "3         Capital Federal        Palermo    2.0       1.0        1.0   \n",
       "4  Bs.As. G.B.A. Zona Sur       La Plata    2.0       1.0        1.0   \n",
       "\n",
       "   surface_total  surface_covered     price currency  \\\n",
       "0          140.0            140.0  153000.0      USD   \n",
       "1           70.0             58.0  159000.0      USD   \n",
       "2           45.0             45.0  125000.0      USD   \n",
       "3           85.0             50.0  295000.0      USD   \n",
       "4           50.0             35.0   40000.0      USD   \n",
       "\n",
       "                                               title  \\\n",
       "0        ***Venta semipiso centro, ideal hostel*****   \n",
       "1   Espectacular PH reciclado en Boedo sin expensas.   \n",
       "2  Depto.tipo casa de 2 ambientes en Venta en Pal...   \n",
       "3  COSTA RICA 5800 / PALERMO HOLLYWOOD / VENTA PH...   \n",
       "4  58 entre 1 y 2  Venta de departamento en ph.1 ...   \n",
       "\n",
       "                                         description property_type  \\\n",
       "0  DESCRIPCION DE LA PROPIEDAD: Departamento de 1...  Departamento   \n",
       "1   PH reciclado en Boedo a una cuadra de la plaz...            PH   \n",
       "2  2 ambienets amplio , excelente estado , patio ...            PH   \n",
       "3  HERMOSO PH EN PALERMO!!!2 AMBIENTES TOTALMENTE...            PH   \n",
       "4  58 entre 1 y 2  Venta de departamento en PH. P...            PH   \n",
       "\n",
       "  operation_type  \n",
       "0          Venta  \n",
       "1          Venta  \n",
       "2          Venta  \n",
       "3          Venta  \n",
       "4          Venta  "
      ]
     },
     "execution_count": 140,
     "metadata": {},
     "output_type": "execute_result"
    }
   ],
   "source": [
    "data = pd.read_csv('DS_Proyecto_01_Datos_Properati.csv')\n",
    "print(data.shape)\n",
    "data.head()\n",
    "\n"
   ]
  },
  {
   "cell_type": "markdown",
   "id": "c62a31e9",
   "metadata": {},
   "source": [
    "### Visualizamos los tipos de propiedad"
   ]
  },
  {
   "cell_type": "code",
   "execution_count": 141,
   "id": "6b91ceef",
   "metadata": {},
   "outputs": [
    {
     "data": {
      "text/plain": [
       "array(['Departamento', 'PH', 'Casa', 'Lote', 'Casa de campo', 'Oficina',\n",
       "       'Otro', 'Local comercial', 'Cochera', 'Depósito'], dtype=object)"
      ]
     },
     "execution_count": 141,
     "metadata": {},
     "output_type": "execute_result"
    }
   ],
   "source": [
    "data.property_type.unique()"
   ]
  },
  {
   "cell_type": "markdown",
   "id": "1ba1e525",
   "metadata": {},
   "source": [
    "\n",
    "### Después contamos la cantidad de instancias para cada propiedad en este caso podemos ver que entre Departamento Casa y PH 98.596995 se encuentra concentrada el 98.596995 % de los datos, procederemos a crear un filtro para estos tipos de propiedad \n"
   ]
  },
  {
   "cell_type": "code",
   "execution_count": 142,
   "id": "db07631b",
   "metadata": {
    "scrolled": false
   },
   "outputs": [
    {
     "data": {
      "text/plain": [
       "Departamento       73.180145\n",
       "Casa               14.674076\n",
       "PH                  9.749080\n",
       "Lote                0.894586\n",
       "Oficina             0.448657\n",
       "Otro                0.255012\n",
       "Local comercial     0.221601\n",
       "Casa de campo       0.219555\n",
       "Depósito            0.180690\n",
       "Cochera             0.176599\n",
       "Name: property_type, dtype: float64"
      ]
     },
     "execution_count": 142,
     "metadata": {},
     "output_type": "execute_result"
    }
   ],
   "source": [
    "data['property_type'].value_counts(normalize=True) * 100\n"
   ]
  },
  {
   "cell_type": "code",
   "execution_count": 143,
   "id": "770ac46e",
   "metadata": {},
   "outputs": [
    {
     "data": {
      "text/plain": [
       "(143145, 19)"
      ]
     },
     "execution_count": 143,
     "metadata": {},
     "output_type": "execute_result"
    }
   ],
   "source": [
    "data = data[data.property_type.isin(['Departamento','Casa','PH'])]\n",
    "data.shape"
   ]
  },
  {
   "cell_type": "markdown",
   "id": "df84cb22",
   "metadata": {},
   "source": [
    "### Después contamos la cantidad de instancias para cada propiedad en este caso podemos ver que entre Departamento Casa y PH  se encuentra concentrada el 98.596995 % de los datos, procederemos a crear un filtro para estos tipos de propiedad \n"
   ]
  },
  {
   "cell_type": "code",
   "execution_count": 144,
   "id": "76745971",
   "metadata": {
    "scrolled": true
   },
   "outputs": [
    {
     "data": {
      "text/plain": [
       "Capital Federal             63.910720\n",
       "Bs.As. G.B.A. Zona Norte    16.554543\n",
       "Bs.As. G.B.A. Zona Sur      11.047539\n",
       "Bs.As. G.B.A. Zona Oeste     8.487198\n",
       "Name: l2, dtype: float64"
      ]
     },
     "execution_count": 144,
     "metadata": {},
     "output_type": "execute_result"
    }
   ],
   "source": [
    "data['l2'].value_counts(normalize=True) * 100\n"
   ]
  },
  {
   "cell_type": "code",
   "execution_count": 145,
   "id": "be2c5d89",
   "metadata": {},
   "outputs": [
    {
     "data": {
      "text/plain": [
       "(115182, 19)"
      ]
     },
     "execution_count": 145,
     "metadata": {},
     "output_type": "execute_result"
    }
   ],
   "source": [
    "data = data[data.l2.isin(['Capital Federal','Bs.As. G.B.A. Zona Norte'])]\n",
    "data.shape"
   ]
  },
  {
   "cell_type": "markdown",
   "id": "9603a3e8",
   "metadata": {},
   "source": [
    "## Eliminamos las columnas innecesarias  "
   ]
  },
  {
   "cell_type": "code",
   "execution_count": 146,
   "id": "bf47d85f",
   "metadata": {},
   "outputs": [],
   "source": [
    "data.drop(columns=['l1','l3','lat','lon','start_date','end_date','created_on','description','operation_type','title','currency'], inplace=True)"
   ]
  },
  {
   "cell_type": "code",
   "execution_count": 147,
   "id": "93e1c415",
   "metadata": {
    "scrolled": false
   },
   "outputs": [
    {
     "data": {
      "text/html": [
       "<div>\n",
       "<style scoped>\n",
       "    .dataframe tbody tr th:only-of-type {\n",
       "        vertical-align: middle;\n",
       "    }\n",
       "\n",
       "    .dataframe tbody tr th {\n",
       "        vertical-align: top;\n",
       "    }\n",
       "\n",
       "    .dataframe thead th {\n",
       "        text-align: right;\n",
       "    }\n",
       "</style>\n",
       "<table border=\"1\" class=\"dataframe\">\n",
       "  <thead>\n",
       "    <tr style=\"text-align: right;\">\n",
       "      <th></th>\n",
       "      <th>rooms</th>\n",
       "      <th>bedrooms</th>\n",
       "      <th>bathrooms</th>\n",
       "      <th>surface_total</th>\n",
       "      <th>surface_covered</th>\n",
       "      <th>price</th>\n",
       "    </tr>\n",
       "  </thead>\n",
       "  <tbody>\n",
       "    <tr>\n",
       "      <th>count</th>\n",
       "      <td>115182.0000</td>\n",
       "      <td>115182.0000</td>\n",
       "      <td>112588.0000</td>\n",
       "      <td>104561.0000</td>\n",
       "      <td>104250.0000</td>\n",
       "      <td>1.151820e+05</td>\n",
       "    </tr>\n",
       "    <tr>\n",
       "      <th>mean</th>\n",
       "      <td>3.0223</td>\n",
       "      <td>1.9940</td>\n",
       "      <td>1.6090</td>\n",
       "      <td>155.1024</td>\n",
       "      <td>104.8112</td>\n",
       "      <td>2.548960e+05</td>\n",
       "    </tr>\n",
       "    <tr>\n",
       "      <th>std</th>\n",
       "      <td>1.3478</td>\n",
       "      <td>1.0829</td>\n",
       "      <td>0.8892</td>\n",
       "      <td>1363.8369</td>\n",
       "      <td>871.9916</td>\n",
       "      <td>3.019673e+05</td>\n",
       "    </tr>\n",
       "    <tr>\n",
       "      <th>min</th>\n",
       "      <td>1.0000</td>\n",
       "      <td>0.0000</td>\n",
       "      <td>1.0000</td>\n",
       "      <td>10.0000</td>\n",
       "      <td>1.0000</td>\n",
       "      <td>6.000000e+03</td>\n",
       "    </tr>\n",
       "    <tr>\n",
       "      <th>25%</th>\n",
       "      <td>2.0000</td>\n",
       "      <td>1.0000</td>\n",
       "      <td>1.0000</td>\n",
       "      <td>51.0000</td>\n",
       "      <td>46.0000</td>\n",
       "      <td>1.220000e+05</td>\n",
       "    </tr>\n",
       "    <tr>\n",
       "      <th>50%</th>\n",
       "      <td>3.0000</td>\n",
       "      <td>2.0000</td>\n",
       "      <td>1.0000</td>\n",
       "      <td>75.0000</td>\n",
       "      <td>66.0000</td>\n",
       "      <td>1.780000e+05</td>\n",
       "    </tr>\n",
       "    <tr>\n",
       "      <th>75%</th>\n",
       "      <td>4.0000</td>\n",
       "      <td>3.0000</td>\n",
       "      <td>2.0000</td>\n",
       "      <td>123.0000</td>\n",
       "      <td>100.0000</td>\n",
       "      <td>2.799000e+05</td>\n",
       "    </tr>\n",
       "    <tr>\n",
       "      <th>max</th>\n",
       "      <td>35.0000</td>\n",
       "      <td>15.0000</td>\n",
       "      <td>14.0000</td>\n",
       "      <td>169000.0000</td>\n",
       "      <td>126062.0000</td>\n",
       "      <td>3.243423e+07</td>\n",
       "    </tr>\n",
       "  </tbody>\n",
       "</table>\n",
       "</div>"
      ],
      "text/plain": [
       "             rooms     bedrooms    bathrooms  surface_total  surface_covered  \\\n",
       "count  115182.0000  115182.0000  112588.0000    104561.0000      104250.0000   \n",
       "mean        3.0223       1.9940       1.6090       155.1024         104.8112   \n",
       "std         1.3478       1.0829       0.8892      1363.8369         871.9916   \n",
       "min         1.0000       0.0000       1.0000        10.0000           1.0000   \n",
       "25%         2.0000       1.0000       1.0000        51.0000          46.0000   \n",
       "50%         3.0000       2.0000       1.0000        75.0000          66.0000   \n",
       "75%         4.0000       3.0000       2.0000       123.0000         100.0000   \n",
       "max        35.0000      15.0000      14.0000    169000.0000      126062.0000   \n",
       "\n",
       "              price  \n",
       "count  1.151820e+05  \n",
       "mean   2.548960e+05  \n",
       "std    3.019673e+05  \n",
       "min    6.000000e+03  \n",
       "25%    1.220000e+05  \n",
       "50%    1.780000e+05  \n",
       "75%    2.799000e+05  \n",
       "max    3.243423e+07  "
      ]
     },
     "execution_count": 147,
     "metadata": {},
     "output_type": "execute_result"
    }
   ],
   "source": [
    "data.describe().round(4)\n"
   ]
  },
  {
   "cell_type": "code",
   "execution_count": 148,
   "id": "5f10c9d1",
   "metadata": {
    "scrolled": true
   },
   "outputs": [
    {
     "data": {
      "text/plain": [
       "(115182, 8)"
      ]
     },
     "execution_count": 148,
     "metadata": {},
     "output_type": "execute_result"
    }
   ],
   "source": [
    "data.shape"
   ]
  },
  {
   "cell_type": "markdown",
   "id": "4daf7b62",
   "metadata": {},
   "source": [
    "### Porcentaje de valores faltantes por columna "
   ]
  },
  {
   "cell_type": "code",
   "execution_count": 149,
   "id": "7de05f04",
   "metadata": {
    "scrolled": false
   },
   "outputs": [
    {
     "name": "stdout",
     "output_type": "stream",
     "text": [
      "l2 0.00%\n",
      "rooms 0.00%\n",
      "bedrooms 0.00%\n",
      "bathrooms 1.77%\n",
      "surface_total 7.24%\n",
      "surface_covered 7.45%\n",
      "price 0.00%\n",
      "property_type 0.00%\n"
     ]
    }
   ],
   "source": [
    "for col in data.columns:\n",
    "  nulos= data[col].isna().sum()\n",
    "  print(col,   \"{:.2f}%\".format(nulos*100/146660))"
   ]
  },
  {
   "cell_type": "markdown",
   "id": "5779ad16",
   "metadata": {},
   "source": [
    "### Eliminamos  los valores faltantes ya que no llega ni al 10% de perdida  por columna "
   ]
  },
  {
   "cell_type": "code",
   "execution_count": 150,
   "id": "4f666757",
   "metadata": {},
   "outputs": [],
   "source": [
    "data.dropna(inplace=True)"
   ]
  },
  {
   "cell_type": "markdown",
   "id": "73cf7f7c",
   "metadata": {},
   "source": [
    "### Ahora vamos a crear la variable del valor del metro cuadrado por propiedad \n"
   ]
  },
  {
   "cell_type": "code",
   "execution_count": 151,
   "id": "2c43a8f5",
   "metadata": {},
   "outputs": [],
   "source": [
    "data[\"m2\"]  = data.price / data.surface_total"
   ]
  },
  {
   "cell_type": "code",
   "execution_count": 152,
   "id": "850d2522",
   "metadata": {},
   "outputs": [
    {
     "data": {
      "text/html": [
       "<div>\n",
       "<style scoped>\n",
       "    .dataframe tbody tr th:only-of-type {\n",
       "        vertical-align: middle;\n",
       "    }\n",
       "\n",
       "    .dataframe tbody tr th {\n",
       "        vertical-align: top;\n",
       "    }\n",
       "\n",
       "    .dataframe thead th {\n",
       "        text-align: right;\n",
       "    }\n",
       "</style>\n",
       "<table border=\"1\" class=\"dataframe\">\n",
       "  <thead>\n",
       "    <tr style=\"text-align: right;\">\n",
       "      <th></th>\n",
       "      <th>l2</th>\n",
       "      <th>rooms</th>\n",
       "      <th>bedrooms</th>\n",
       "      <th>bathrooms</th>\n",
       "      <th>surface_total</th>\n",
       "      <th>surface_covered</th>\n",
       "      <th>price</th>\n",
       "      <th>property_type</th>\n",
       "      <th>m2</th>\n",
       "    </tr>\n",
       "  </thead>\n",
       "  <tbody>\n",
       "    <tr>\n",
       "      <th>0</th>\n",
       "      <td>Capital Federal</td>\n",
       "      <td>7.0</td>\n",
       "      <td>7.0</td>\n",
       "      <td>2.0</td>\n",
       "      <td>140.0</td>\n",
       "      <td>140.0</td>\n",
       "      <td>153000.0</td>\n",
       "      <td>Departamento</td>\n",
       "      <td>1092.857143</td>\n",
       "    </tr>\n",
       "    <tr>\n",
       "      <th>1</th>\n",
       "      <td>Capital Federal</td>\n",
       "      <td>2.0</td>\n",
       "      <td>1.0</td>\n",
       "      <td>2.0</td>\n",
       "      <td>70.0</td>\n",
       "      <td>58.0</td>\n",
       "      <td>159000.0</td>\n",
       "      <td>PH</td>\n",
       "      <td>2271.428571</td>\n",
       "    </tr>\n",
       "    <tr>\n",
       "      <th>2</th>\n",
       "      <td>Capital Federal</td>\n",
       "      <td>2.0</td>\n",
       "      <td>1.0</td>\n",
       "      <td>1.0</td>\n",
       "      <td>45.0</td>\n",
       "      <td>45.0</td>\n",
       "      <td>125000.0</td>\n",
       "      <td>PH</td>\n",
       "      <td>2777.777778</td>\n",
       "    </tr>\n",
       "    <tr>\n",
       "      <th>3</th>\n",
       "      <td>Capital Federal</td>\n",
       "      <td>2.0</td>\n",
       "      <td>1.0</td>\n",
       "      <td>1.0</td>\n",
       "      <td>85.0</td>\n",
       "      <td>50.0</td>\n",
       "      <td>295000.0</td>\n",
       "      <td>PH</td>\n",
       "      <td>3470.588235</td>\n",
       "    </tr>\n",
       "    <tr>\n",
       "      <th>5</th>\n",
       "      <td>Capital Federal</td>\n",
       "      <td>2.0</td>\n",
       "      <td>1.0</td>\n",
       "      <td>1.0</td>\n",
       "      <td>56.0</td>\n",
       "      <td>56.0</td>\n",
       "      <td>150000.0</td>\n",
       "      <td>PH</td>\n",
       "      <td>2678.571429</td>\n",
       "    </tr>\n",
       "  </tbody>\n",
       "</table>\n",
       "</div>"
      ],
      "text/plain": [
       "                l2  rooms  bedrooms  bathrooms  surface_total  \\\n",
       "0  Capital Federal    7.0       7.0        2.0          140.0   \n",
       "1  Capital Federal    2.0       1.0        2.0           70.0   \n",
       "2  Capital Federal    2.0       1.0        1.0           45.0   \n",
       "3  Capital Federal    2.0       1.0        1.0           85.0   \n",
       "5  Capital Federal    2.0       1.0        1.0           56.0   \n",
       "\n",
       "   surface_covered     price property_type           m2  \n",
       "0            140.0  153000.0  Departamento  1092.857143  \n",
       "1             58.0  159000.0            PH  2271.428571  \n",
       "2             45.0  125000.0            PH  2777.777778  \n",
       "3             50.0  295000.0            PH  3470.588235  \n",
       "5             56.0  150000.0            PH  2678.571429  "
      ]
     },
     "execution_count": 152,
     "metadata": {},
     "output_type": "execute_result"
    }
   ],
   "source": [
    "data.head()"
   ]
  },
  {
   "cell_type": "code",
   "execution_count": 153,
   "id": "7cc4d4cb",
   "metadata": {},
   "outputs": [],
   "source": [
    "data2 = data.copy() "
   ]
  },
  {
   "cell_type": "code",
   "execution_count": 154,
   "id": "b3a09d0d",
   "metadata": {
    "scrolled": true
   },
   "outputs": [
    {
     "data": {
      "text/plain": [
       "(102823, 9)"
      ]
     },
     "execution_count": 154,
     "metadata": {},
     "output_type": "execute_result"
    }
   ],
   "source": [
    "data2.shape"
   ]
  },
  {
   "cell_type": "markdown",
   "id": "04c611c0",
   "metadata": {},
   "source": [
    "# Que transformaciones de datos elegi y por que ?\n"
   ]
  },
  {
   "cell_type": "markdown",
   "id": "797f5976",
   "metadata": {},
   "source": [
    "### - Hemos escogido para este dataset 3 transformaciones de datos que son \n",
    "  \n",
    "  * Detección de outliers\n",
    "  * Encoding \n",
    "  * Eliminación de valores faltantes \n",
    "  * Escalado de datos\n",
    "\n",
    "  \n",
    "### - Estas son las más apropiadas ya que el dataset cuenta con una gran cantidad de valores atípicos lo que en anteriores    ocasiones hemos podido evidenciar con los boxplots así que la primera transformación de datos será la detección de outliers  para eliminar estos después, procedemos a hacer un encoding de la variable property type y por ultimo antes del train test el   escalado de datos de todas las variables contra price  "
   ]
  },
  {
   "cell_type": "markdown",
   "id": "c8d27b4f",
   "metadata": {},
   "source": [
    "### Realizamos un boxplot para tener una visualizacion de la variable surface total y price "
   ]
  },
  {
   "cell_type": "code",
   "execution_count": 155,
   "id": "57570baa",
   "metadata": {
    "scrolled": true
   },
   "outputs": [
    {
     "data": {
      "image/png": "[encoded data removed]",
      "text/plain": [
       "<Figure size 720x216 with 2 Axes>"
      ]
     },
     "metadata": {
      "needs_background": "light"
     },
     "output_type": "display_data"
    }
   ],
   "source": [
    "fig,(ax1,ax2) = plt.subplots(2,figsize=(10,3),constrained_layout= True)\n",
    "sns.boxplot(data=data2,x=\"surface_total\", ax=ax2)\n",
    "sns.boxplot(data=data2,x=\"price\", ax=ax1)\n",
    "plt.grid()\n",
    "plt.show()"
   ]
  },
  {
   "cell_type": "code",
   "execution_count": 156,
   "id": "e4d5035d",
   "metadata": {},
   "outputs": [
    {
     "data": {
      "text/plain": [
       "<seaborn.axisgrid.FacetGrid at 0x2dfe87348b0>"
      ]
     },
     "execution_count": 156,
     "metadata": {},
     "output_type": "execute_result"
    },
    {
     "data": {
      "image/png": "[encoded data removed]",
      "text/plain": [
       "<Figure size 1261.72x576 with 1 Axes>"
      ]
     },
     "metadata": {
      "needs_background": "light"
     },
     "output_type": "display_data"
    }
   ],
   "source": [
    "sns.catplot(x='price', y=\"property_type\",hue='property_type', data=data2, kind = \"bar\",height=8,aspect=2,legend=True)\n"
   ]
  },
  {
   "cell_type": "markdown",
   "id": "387891b6",
   "metadata": {},
   "source": [
    "### Como podemos observar en  en ambos graficos las variables tienen valores atipicos que distorsionan la visualiacion asi como tambien crear confusion en nuestros modelos por lo que aplicaremos un filtro para el precio segun las 2 visualizaciones vamos a filtar el dataset con propiedades con valor de  hasta 450000"
   ]
  },
  {
   "cell_type": "code",
   "execution_count": 157,
   "id": "1aa67365",
   "metadata": {},
   "outputs": [],
   "source": [
    "data2 = data2[((data2['price'] <= 4500000))]"
   ]
  },
  {
   "cell_type": "code",
   "execution_count": 158,
   "id": "5ecf2777",
   "metadata": {},
   "outputs": [],
   "source": [
    "data3=data2.copy()"
   ]
  },
  {
   "cell_type": "code",
   "execution_count": 159,
   "id": "f6a9de6e",
   "metadata": {},
   "outputs": [
    {
     "data": {
      "text/plain": [
       "(102800, 9)"
      ]
     },
     "execution_count": 159,
     "metadata": {},
     "output_type": "execute_result"
    }
   ],
   "source": [
    "data3.shape"
   ]
  },
  {
   "cell_type": "markdown",
   "id": "a89d9503",
   "metadata": {},
   "source": [
    "# Detecion de outliers \n"
   ]
  },
  {
   "cell_type": "code",
   "execution_count": 160,
   "id": "3d58fb81",
   "metadata": {
    "scrolled": true
   },
   "outputs": [
    {
     "name": "stderr",
     "output_type": "stream",
     "text": [
      "<ipython-input-160-ba0328c431ca>:6: FutureWarning: Automatic reindexing on DataFrame vs Series comparisons is deprecated and will raise ValueError in a future version.  Do `left, right = left.align(right, axis=1, copy=False)` before e.g. `left == right`\n",
      "  data3=data3[~((data3<(Q1-1.5*IQR))|(data3>(Q3+1.5*IQR))).any(axis=1)]\n",
      "<ipython-input-160-ba0328c431ca>:6: FutureWarning: Automatic reindexing on DataFrame vs Series comparisons is deprecated and will raise ValueError in a future version.  Do `left, right = left.align(right, axis=1, copy=False)` before e.g. `left == right`\n",
      "  data3=data3[~((data3<(Q1-1.5*IQR))|(data3>(Q3+1.5*IQR))).any(axis=1)]\n"
     ]
    },
    {
     "data": {
      "text/plain": [
       "(85693, 9)"
      ]
     },
     "execution_count": 160,
     "metadata": {},
     "output_type": "execute_result"
    }
   ],
   "source": [
    "#definimos los cuantiles\n",
    "Q1= data3.quantile(0.25)\n",
    "Q3= data3.quantile(0.75)\n",
    "IQR = Q3-Q1\n",
    "#aplicamos a todas las columnas del data\n",
    "data3=data3[~((data3<(Q1-1.5*IQR))|(data3>(Q3+1.5*IQR))).any(axis=1)]\n",
    "data3.shape"
   ]
  },
  {
   "cell_type": "code",
   "execution_count": 161,
   "id": "1ee0042b",
   "metadata": {},
   "outputs": [
    {
     "data": {
      "text/html": [
       "<div>\n",
       "<style scoped>\n",
       "    .dataframe tbody tr th:only-of-type {\n",
       "        vertical-align: middle;\n",
       "    }\n",
       "\n",
       "    .dataframe tbody tr th {\n",
       "        vertical-align: top;\n",
       "    }\n",
       "\n",
       "    .dataframe thead th {\n",
       "        text-align: right;\n",
       "    }\n",
       "</style>\n",
       "<table border=\"1\" class=\"dataframe\">\n",
       "  <thead>\n",
       "    <tr style=\"text-align: right;\">\n",
       "      <th></th>\n",
       "      <th>l2</th>\n",
       "      <th>rooms</th>\n",
       "      <th>bedrooms</th>\n",
       "      <th>bathrooms</th>\n",
       "      <th>surface_total</th>\n",
       "      <th>surface_covered</th>\n",
       "      <th>price</th>\n",
       "      <th>property_type</th>\n",
       "      <th>m2</th>\n",
       "    </tr>\n",
       "  </thead>\n",
       "  <tbody>\n",
       "    <tr>\n",
       "      <th>1</th>\n",
       "      <td>Capital Federal</td>\n",
       "      <td>2.0</td>\n",
       "      <td>1.0</td>\n",
       "      <td>2.0</td>\n",
       "      <td>70.0</td>\n",
       "      <td>58.0</td>\n",
       "      <td>159000.0</td>\n",
       "      <td>PH</td>\n",
       "      <td>2271.428571</td>\n",
       "    </tr>\n",
       "    <tr>\n",
       "      <th>2</th>\n",
       "      <td>Capital Federal</td>\n",
       "      <td>2.0</td>\n",
       "      <td>1.0</td>\n",
       "      <td>1.0</td>\n",
       "      <td>45.0</td>\n",
       "      <td>45.0</td>\n",
       "      <td>125000.0</td>\n",
       "      <td>PH</td>\n",
       "      <td>2777.777778</td>\n",
       "    </tr>\n",
       "    <tr>\n",
       "      <th>3</th>\n",
       "      <td>Capital Federal</td>\n",
       "      <td>2.0</td>\n",
       "      <td>1.0</td>\n",
       "      <td>1.0</td>\n",
       "      <td>85.0</td>\n",
       "      <td>50.0</td>\n",
       "      <td>295000.0</td>\n",
       "      <td>PH</td>\n",
       "      <td>3470.588235</td>\n",
       "    </tr>\n",
       "    <tr>\n",
       "      <th>5</th>\n",
       "      <td>Capital Federal</td>\n",
       "      <td>2.0</td>\n",
       "      <td>1.0</td>\n",
       "      <td>1.0</td>\n",
       "      <td>56.0</td>\n",
       "      <td>56.0</td>\n",
       "      <td>150000.0</td>\n",
       "      <td>PH</td>\n",
       "      <td>2678.571429</td>\n",
       "    </tr>\n",
       "    <tr>\n",
       "      <th>6</th>\n",
       "      <td>Capital Federal</td>\n",
       "      <td>2.0</td>\n",
       "      <td>1.0</td>\n",
       "      <td>1.0</td>\n",
       "      <td>70.0</td>\n",
       "      <td>70.0</td>\n",
       "      <td>159500.0</td>\n",
       "      <td>PH</td>\n",
       "      <td>2278.571429</td>\n",
       "    </tr>\n",
       "  </tbody>\n",
       "</table>\n",
       "</div>"
      ],
      "text/plain": [
       "                l2  rooms  bedrooms  bathrooms  surface_total  \\\n",
       "1  Capital Federal    2.0       1.0        2.0           70.0   \n",
       "2  Capital Federal    2.0       1.0        1.0           45.0   \n",
       "3  Capital Federal    2.0       1.0        1.0           85.0   \n",
       "5  Capital Federal    2.0       1.0        1.0           56.0   \n",
       "6  Capital Federal    2.0       1.0        1.0           70.0   \n",
       "\n",
       "   surface_covered     price property_type           m2  \n",
       "1             58.0  159000.0            PH  2271.428571  \n",
       "2             45.0  125000.0            PH  2777.777778  \n",
       "3             50.0  295000.0            PH  3470.588235  \n",
       "5             56.0  150000.0            PH  2678.571429  \n",
       "6             70.0  159500.0            PH  2278.571429  "
      ]
     },
     "execution_count": 161,
     "metadata": {},
     "output_type": "execute_result"
    }
   ],
   "source": [
    "data3.head()"
   ]
  },
  {
   "cell_type": "markdown",
   "id": "ca940933",
   "metadata": {},
   "source": [
    "## Vamos a hacer encoding para la variable property_type para asi poder alimentar el modelo con esta variable a la hora de hace predicciones "
   ]
  },
  {
   "cell_type": "code",
   "execution_count": 162,
   "id": "2d441c48",
   "metadata": {},
   "outputs": [
    {
     "data": {
      "text/html": [
       "<div>\n",
       "<style scoped>\n",
       "    .dataframe tbody tr th:only-of-type {\n",
       "        vertical-align: middle;\n",
       "    }\n",
       "\n",
       "    .dataframe tbody tr th {\n",
       "        vertical-align: top;\n",
       "    }\n",
       "\n",
       "    .dataframe thead th {\n",
       "        text-align: right;\n",
       "    }\n",
       "</style>\n",
       "<table border=\"1\" class=\"dataframe\">\n",
       "  <thead>\n",
       "    <tr style=\"text-align: right;\">\n",
       "      <th></th>\n",
       "      <th>l2</th>\n",
       "      <th>rooms</th>\n",
       "      <th>bedrooms</th>\n",
       "      <th>bathrooms</th>\n",
       "      <th>surface_total</th>\n",
       "      <th>surface_covered</th>\n",
       "      <th>price</th>\n",
       "      <th>m2</th>\n",
       "      <th>property_type_Casa</th>\n",
       "      <th>property_type_Departamento</th>\n",
       "      <th>property_type_PH</th>\n",
       "    </tr>\n",
       "  </thead>\n",
       "  <tbody>\n",
       "    <tr>\n",
       "      <th>1</th>\n",
       "      <td>Capital Federal</td>\n",
       "      <td>2.0</td>\n",
       "      <td>1.0</td>\n",
       "      <td>2.0</td>\n",
       "      <td>70.0</td>\n",
       "      <td>58.0</td>\n",
       "      <td>159000.0</td>\n",
       "      <td>2271.428571</td>\n",
       "      <td>0</td>\n",
       "      <td>0</td>\n",
       "      <td>1</td>\n",
       "    </tr>\n",
       "    <tr>\n",
       "      <th>2</th>\n",
       "      <td>Capital Federal</td>\n",
       "      <td>2.0</td>\n",
       "      <td>1.0</td>\n",
       "      <td>1.0</td>\n",
       "      <td>45.0</td>\n",
       "      <td>45.0</td>\n",
       "      <td>125000.0</td>\n",
       "      <td>2777.777778</td>\n",
       "      <td>0</td>\n",
       "      <td>0</td>\n",
       "      <td>1</td>\n",
       "    </tr>\n",
       "    <tr>\n",
       "      <th>3</th>\n",
       "      <td>Capital Federal</td>\n",
       "      <td>2.0</td>\n",
       "      <td>1.0</td>\n",
       "      <td>1.0</td>\n",
       "      <td>85.0</td>\n",
       "      <td>50.0</td>\n",
       "      <td>295000.0</td>\n",
       "      <td>3470.588235</td>\n",
       "      <td>0</td>\n",
       "      <td>0</td>\n",
       "      <td>1</td>\n",
       "    </tr>\n",
       "    <tr>\n",
       "      <th>5</th>\n",
       "      <td>Capital Federal</td>\n",
       "      <td>2.0</td>\n",
       "      <td>1.0</td>\n",
       "      <td>1.0</td>\n",
       "      <td>56.0</td>\n",
       "      <td>56.0</td>\n",
       "      <td>150000.0</td>\n",
       "      <td>2678.571429</td>\n",
       "      <td>0</td>\n",
       "      <td>0</td>\n",
       "      <td>1</td>\n",
       "    </tr>\n",
       "    <tr>\n",
       "      <th>6</th>\n",
       "      <td>Capital Federal</td>\n",
       "      <td>2.0</td>\n",
       "      <td>1.0</td>\n",
       "      <td>1.0</td>\n",
       "      <td>70.0</td>\n",
       "      <td>70.0</td>\n",
       "      <td>159500.0</td>\n",
       "      <td>2278.571429</td>\n",
       "      <td>0</td>\n",
       "      <td>0</td>\n",
       "      <td>1</td>\n",
       "    </tr>\n",
       "  </tbody>\n",
       "</table>\n",
       "</div>"
      ],
      "text/plain": [
       "                l2  rooms  bedrooms  bathrooms  surface_total  \\\n",
       "1  Capital Federal    2.0       1.0        2.0           70.0   \n",
       "2  Capital Federal    2.0       1.0        1.0           45.0   \n",
       "3  Capital Federal    2.0       1.0        1.0           85.0   \n",
       "5  Capital Federal    2.0       1.0        1.0           56.0   \n",
       "6  Capital Federal    2.0       1.0        1.0           70.0   \n",
       "\n",
       "   surface_covered     price           m2  property_type_Casa  \\\n",
       "1             58.0  159000.0  2271.428571                   0   \n",
       "2             45.0  125000.0  2777.777778                   0   \n",
       "3             50.0  295000.0  3470.588235                   0   \n",
       "5             56.0  150000.0  2678.571429                   0   \n",
       "6             70.0  159500.0  2278.571429                   0   \n",
       "\n",
       "   property_type_Departamento  property_type_PH  \n",
       "1                           0                 1  \n",
       "2                           0                 1  \n",
       "3                           0                 1  \n",
       "5                           0                 1  \n",
       "6                           0                 1  "
      ]
     },
     "execution_count": 162,
     "metadata": {},
     "output_type": "execute_result"
    }
   ],
   "source": [
    "dummies = pd.get_dummies(data3, columns=[\"property_type\"])\n",
    "dummies.head()"
   ]
  },
  {
   "cell_type": "code",
   "execution_count": 163,
   "id": "0023b196",
   "metadata": {},
   "outputs": [
    {
     "data": {
      "text/plain": [
       "pandas.core.frame.DataFrame"
      ]
     },
     "execution_count": 163,
     "metadata": {},
     "output_type": "execute_result"
    }
   ],
   "source": [
    "dummies.shape\n",
    "type(dummies)"
   ]
  },
  {
   "cell_type": "markdown",
   "id": "1b5ab4b0",
   "metadata": {},
   "source": [
    "## Realizamos un mapa de calor para  visualizar valores faltantes "
   ]
  },
  {
   "cell_type": "code",
   "execution_count": 164,
   "id": "627ffe78",
   "metadata": {
    "scrolled": true
   },
   "outputs": [
    {
     "data": {
      "text/plain": [
       "<AxesSubplot:>"
      ]
     },
     "execution_count": 164,
     "metadata": {},
     "output_type": "execute_result"
    },
    {
     "data": {
      "image/png": "[encoded data removed]",
      "text/plain": [
       "<Figure size 432x288 with 1 Axes>"
      ]
     },
     "metadata": {
      "needs_background": "light"
     },
     "output_type": "display_data"
    }
   ],
   "source": [
    "sns.heatmap(dummies.isnull(), yticklabels=False, cbar=False)\n"
   ]
  },
  {
   "cell_type": "code",
   "execution_count": 165,
   "id": "705ab820",
   "metadata": {},
   "outputs": [],
   "source": [
    "dummies2=dummies.copy()"
   ]
  },
  {
   "cell_type": "code",
   "execution_count": 166,
   "id": "bdeea5c3",
   "metadata": {
    "scrolled": false
   },
   "outputs": [
    {
     "data": {
      "text/plain": [
       "(85693, 11)"
      ]
     },
     "execution_count": 166,
     "metadata": {},
     "output_type": "execute_result"
    }
   ],
   "source": [
    "dummies2.shape"
   ]
  },
  {
   "cell_type": "markdown",
   "id": "8cc8a97a",
   "metadata": {},
   "source": [
    "# Definimos x e y para entrenar nuestros modelos "
   ]
  },
  {
   "cell_type": "code",
   "execution_count": 167,
   "id": "aeb50da6",
   "metadata": {},
   "outputs": [
    {
     "data": {
      "text/plain": [
       "(85693, 11)"
      ]
     },
     "execution_count": 167,
     "metadata": {},
     "output_type": "execute_result"
    }
   ],
   "source": [
    "X = dummies2[[\"rooms\",\"surface_covered\",\"surface_total\",\"bedrooms\",\"bathrooms\",\"property_type_Casa\",\"property_type_Departamento\",\"property_type_PH\"]] #Observa que sólo usamos 3 features del dataset\n",
    "y = dummies2['price']\n",
    "\n",
    "dummies2.shape\n"
   ]
  },
  {
   "cell_type": "markdown",
   "id": "f9a77590",
   "metadata": {},
   "source": [
    "# Escalado de datos"
   ]
  },
  {
   "cell_type": "code",
   "execution_count": 31,
   "id": "a7fbec32",
   "metadata": {},
   "outputs": [
    {
     "data": {
      "text/plain": [
       "StandardScaler()"
      ]
     },
     "execution_count": 31,
     "metadata": {},
     "output_type": "execute_result"
    }
   ],
   "source": [
    "escalador = StandardScaler()\n",
    "escalador.fit(X)"
   ]
  },
  {
   "cell_type": "code",
   "execution_count": 32,
   "id": "1ab7811b",
   "metadata": {},
   "outputs": [
    {
     "data": {
      "text/plain": [
       "array([[-0.75761932, -0.28502351, -0.19254499, ..., -0.16274136,\n",
       "        -2.50021153,  2.81422283],\n",
       "       [-0.75761932, -0.71926154, -0.83524211, ..., -0.16274136,\n",
       "        -2.50021153,  2.81422283],\n",
       "       [-0.75761932, -0.55224691,  0.19307329, ..., -0.16274136,\n",
       "        -2.50021153,  2.81422283],\n",
       "       ...,\n",
       "       [-1.75512523, -1.05329079, -0.70670268, ..., -0.16274136,\n",
       "         0.39996616, -0.35533789],\n",
       "       [-0.75761932, -0.95308201, -1.0151973 , ..., -0.16274136,\n",
       "         0.39996616, -0.35533789],\n",
       "       [ 0.23988659,  0.28282622, -0.06400556, ..., -0.16274136,\n",
       "         0.39996616, -0.35533789]])"
      ]
     },
     "execution_count": 32,
     "metadata": {},
     "output_type": "execute_result"
    }
   ],
   "source": [
    "X_escalado = escalador.transform(X)\n",
    "X_escalado"
   ]
  },
  {
   "cell_type": "markdown",
   "id": "70399bf4",
   "metadata": {},
   "source": [
    "## Train test split \n"
   ]
  },
  {
   "cell_type": "code",
   "execution_count": 33,
   "id": "9ed6433b",
   "metadata": {},
   "outputs": [],
   "source": [
    "from sklearn.model_selection import train_test_split\n",
    "X_train,X_test,y_train,y_test= train_test_split(X_escalado, y,test_size=0.20,random_state=42)"
   ]
  },
  {
   "cell_type": "markdown",
   "id": "e2529873",
   "metadata": {},
   "source": [
    "# - Construimos un DecisionTreeRegressor con nuestro nuevo dataset transformado "
   ]
  },
  {
   "cell_type": "code",
   "execution_count": 34,
   "id": "77ce019f",
   "metadata": {},
   "outputs": [],
   "source": [
    "decision_tree= DecisionTreeRegressor(max_depth=25,random_state=42)\n",
    "decision_tree.fit(X_train, y_train)\n",
    "\n",
    "y_arbol_train_pred = decision_tree.predict(X_train)\n",
    "y_arbol_test_pred= decision_tree.predict(X_test)"
   ]
  },
  {
   "cell_type": "code",
   "execution_count": 35,
   "id": "280d108b",
   "metadata": {},
   "outputs": [],
   "source": [
    "\n",
    "MAE_train=mean_absolute_error(y_train,y_arbol_train_pred)\n",
    "MAE_test=mean_absolute_error(y_test,y_arbol_test_pred)\n",
    "RMSE_train=np.sqrt(mean_squared_error(y_train,y_arbol_train_pred))\n",
    "RMSE_test=np.sqrt(mean_squared_error(y_test,y_arbol_test_pred))\n",
    "r2_train= metrics.r2_score(y_train, y_arbol_train_pred)\n",
    "r2_test= metrics.r2_score(y_test, y_arbol_test_pred)"
   ]
  },
  {
   "cell_type": "code",
   "execution_count": 36,
   "id": "519909d6",
   "metadata": {
    "scrolled": true
   },
   "outputs": [
    {
     "name": "stdout",
     "output_type": "stream",
     "text": [
      "El Error absoluto medio train: 19513.6523668884\n",
      "El Error absoluto medio test: 30003.323221948125\n",
      "*******************************************\n",
      "Error cudratico medio train: 31521.047420310748\n",
      "Error cudratico medio test: 48642.05053763392\n",
      "*******************************************\n",
      "El Coeficiente de determinacion train: 0.881155700432076\n",
      "El Coeficiente de determinacion test: 0.7208068283025625\n",
      "*******************************************\n"
     ]
    }
   ],
   "source": [
    "print(\"El Error absoluto medio train:\",MAE_train)\n",
    "print(\"El Error absoluto medio test:\",MAE_test)\n",
    "print(\"*******************************************\")\n",
    "print(\"Error cudratico medio train:\",RMSE_train)\n",
    "print(\"Error cudratico medio test:\",RMSE_test)\n",
    "print(\"*******************************************\")\n",
    "print(\"El Coeficiente de determinacion train:\",r2_train)\n",
    "print(\"El Coeficiente de determinacion test:\",r2_test)\n",
    "print(\"*******************************************\")"
   ]
  },
  {
   "cell_type": "markdown",
   "id": "9ed58839",
   "metadata": {},
   "source": [
    "### Metricas del anterior arbol de desicion \n",
    "\n"
   ]
  },
  {
   "cell_type": "markdown",
   "id": "19ecc4e3",
   "metadata": {},
   "source": [
    "El Error absoluto medio train: 23681.8678332786\n",
    "El Error absoluto medio test: 49388.884628718595\n",
    "*******************************************\n",
    "Error cudratico medio train: 54047.89650654257\n",
    "Error cudratico medio test: 141864.7831195434\n",
    "*******************************************\n",
    "El Coeficiente de determinacion train: 0.9671459367517681\n",
    "El Coeficiente de determinacion test: 0.7793119430612151"
   ]
  },
  {
   "cell_type": "markdown",
   "id": "6c095886",
   "metadata": {},
   "source": [
    "### En comparación con el primer modelo vemos una mejora sustancial en este respecto al MAE y al RMSE , sin embargo la mejora en el R2  no es muy  significativa  habiendo mejorado este menos de 1% frente al modelo optimizado de la anterior vez y habiendo bajado un 7% su rendimiento  frente al primer árbol construido con parámetros por default, haciendo precisión que la profundidad del árbol más reciente  fue escogida de manera manual "
   ]
  },
  {
   "cell_type": "markdown",
   "id": "4b1c2368",
   "metadata": {},
   "source": [
    "# Modelos avanzados \n"
   ]
  },
  {
   "cell_type": "markdown",
   "id": "95c2af5a",
   "metadata": {},
   "source": [
    "## - Vamos a construir un random forest como primer modelo avanzado antes de crear este vamos a hacer cross validation a los datos \n"
   ]
  },
  {
   "cell_type": "code",
   "execution_count": 37,
   "id": "abdbba42",
   "metadata": {},
   "outputs": [],
   "source": [
    "from sklearn.ensemble import RandomForestRegressor"
   ]
  },
  {
   "cell_type": "code",
   "execution_count": 38,
   "id": "6fef5f0f",
   "metadata": {},
   "outputs": [],
   "source": [
    "clf = RandomForestRegressor(n_estimators=100, n_jobs=-1, oob_score = True, random_state = 42)\n",
    "clf.fit(X_train,y_train)\n",
    "\n",
    "RandomForest = clf"
   ]
  },
  {
   "cell_type": "code",
   "execution_count": 39,
   "id": "63ca57b8",
   "metadata": {},
   "outputs": [],
   "source": [
    "clf_scores = cross_val_score(clf, X, y, cv=5)"
   ]
  },
  {
   "cell_type": "code",
   "execution_count": 40,
   "id": "61d415e1",
   "metadata": {},
   "outputs": [
    {
     "name": "stdout",
     "output_type": "stream",
     "text": [
      "[0.757047   0.76749204 0.75649634 0.74643906 0.77070182]\n",
      "Accuracy para Tree: 0.76 (+/- 0.02)\n"
     ]
    }
   ],
   "source": [
    "print(clf_scores)\n",
    "# print(tree_scores.mean(), knn_scores.mean())\n",
    "print(\"Accuracy para Tree: %0.2f (+/- %0.2f)\" % (clf_scores.mean(), clf_scores.std() * 2))"
   ]
  },
  {
   "cell_type": "code",
   "execution_count": 41,
   "id": "dd9fb005",
   "metadata": {
    "scrolled": true
   },
   "outputs": [],
   "source": [
    "clf_scores = cross_validate(clf, X, y, cv=5,n_jobs = -1)\n"
   ]
  },
  {
   "cell_type": "code",
   "execution_count": 42,
   "id": "62b53c6a",
   "metadata": {
    "scrolled": true
   },
   "outputs": [
    {
     "data": {
      "text/plain": [
       "{'fit_time': array([61.98072147, 61.9827261 , 63.99473214, 64.11173105, 42.61662531]),\n",
       " 'score_time': array([1.774894  , 1.82588124, 1.44991493, 1.72747469, 1.02193213]),\n",
       " 'test_score': array([0.757047  , 0.76749204, 0.75649634, 0.74643906, 0.77070182])}"
      ]
     },
     "execution_count": 42,
     "metadata": {},
     "output_type": "execute_result"
    }
   ],
   "source": [
    "clf_scores"
   ]
  },
  {
   "cell_type": "code",
   "execution_count": 43,
   "id": "d968aaba",
   "metadata": {},
   "outputs": [],
   "source": [
    "X_train,X_test,y_train,y_test= train_test_split(X_escalado, y,test_size=0.20,random_state=42)"
   ]
  },
  {
   "cell_type": "markdown",
   "id": "2a5d1330",
   "metadata": {},
   "source": [
    "## - Para las metricas de evalucacion hemos escogido el error cuadratico medio y el r2  "
   ]
  },
  {
   "cell_type": "code",
   "execution_count": 44,
   "id": "82b1eeb0",
   "metadata": {},
   "outputs": [],
   "source": [
    "y_train_pred = clf.predict(X_train)\n",
    "y_test_pred = clf.predict(X_test)\n",
    "#print(metrics.accuracy_score(y_train, y_train_pred))\n",
    "#print(metrics.accuracy_score(y_test, y_test_pred))"
   ]
  },
  {
   "cell_type": "code",
   "execution_count": 45,
   "id": "426d74ee",
   "metadata": {},
   "outputs": [],
   "source": [
    "RMSE_train=np.sqrt(mean_squared_error(y_train,y_train_pred))\n",
    "RMSE_test=np.sqrt(mean_squared_error(y_test,y_test_pred))\n",
    "r2_train= metrics.r2_score(y_train, y_train_pred)\n",
    "r2_test= metrics.r2_score(y_test, y_test_pred)\n",
    "\n"
   ]
  },
  {
   "cell_type": "code",
   "execution_count": 47,
   "id": "712bad0a",
   "metadata": {
    "scrolled": false
   },
   "outputs": [
    {
     "name": "stdout",
     "output_type": "stream",
     "text": [
      "Error cudratico medio train: 32834.04176101419\n",
      "Error cudratico medio test: 44480.841124207975\n",
      "*******************************************\n",
      "El Coeficiente de determinacion train: 0.8710486874067678\n",
      "El Coeficiente de determinacion test: 0.7665321814932263\n",
      "*******************************************\n"
     ]
    }
   ],
   "source": [
    "print(\"Error cudratico medio train:\",RMSE_train)\n",
    "print(\"Error cudratico medio test:\",RMSE_test)\n",
    "print(\"*******************************************\")\n",
    "print(\"El Coeficiente de determinacion train:\",r2_train)\n",
    "print(\"El Coeficiente de determinacion test:\",r2_test)\n",
    "print(\"*******************************************\")"
   ]
  },
  {
   "cell_type": "code",
   "execution_count": 48,
   "id": "52735a6c",
   "metadata": {
    "scrolled": true
   },
   "outputs": [
    {
     "data": {
      "text/plain": [
       "0.7676567308839738"
      ]
     },
     "execution_count": 48,
     "metadata": {},
     "output_type": "execute_result"
    }
   ],
   "source": [
    "clf.oob_score_"
   ]
  },
  {
   "cell_type": "code",
   "execution_count": 49,
   "id": "cbfbfeee",
   "metadata": {
    "scrolled": true
   },
   "outputs": [
    {
     "data": {
      "text/plain": [
       "RandomizedSearchCV(cv=3, estimator=RandomForestRegressor(), n_jobs=-1,\n",
       "                   param_distributions={'max_features': [2, 3, 4, 5],\n",
       "                                        'n_estimators': [10, 50, 100, 500,\n",
       "                                                         1000]})"
      ]
     },
     "execution_count": 49,
     "metadata": {},
     "output_type": "execute_result"
    }
   ],
   "source": [
    "param_dist ={'n_estimators':[10,50,100,500,1000],\"max_features\":[2,3,4,5],}\n",
    "\n",
    "ada_clf = RandomizedSearchCV(RandomForestRegressor(),\n",
    " param_distributions = param_dist,\n",
    " cv=3,\n",
    " n_iter = 10,\n",
    " n_jobs=-1)\n",
    "\n",
    "ada_clf.fit(X_train, y_train)\n",
    "\n"
   ]
  },
  {
   "cell_type": "code",
   "execution_count": 50,
   "id": "5ce7d460",
   "metadata": {},
   "outputs": [
    {
     "data": {
      "text/plain": [
       "{'n_estimators': 500, 'max_features': 4}"
      ]
     },
     "execution_count": 50,
     "metadata": {},
     "output_type": "execute_result"
    }
   ],
   "source": [
    "ada_clf.best_params_"
   ]
  },
  {
   "cell_type": "code",
   "execution_count": 51,
   "id": "8c5ba3c1",
   "metadata": {},
   "outputs": [
    {
     "data": {
      "text/plain": [
       "RandomForestRegressor(max_features=4, n_estimators=500, n_jobs=-1,\n",
       "                      oob_score=True, random_state=42)"
      ]
     },
     "execution_count": 51,
     "metadata": {},
     "output_type": "execute_result"
    }
   ],
   "source": [
    "clf = RandomForestRegressor(n_estimators=500,max_features=4, n_jobs=-1, oob_score = True, random_state = 42)\n",
    "clf.fit(X_train,y_train)"
   ]
  },
  {
   "cell_type": "code",
   "execution_count": 100,
   "id": "0399e6ec",
   "metadata": {},
   "outputs": [],
   "source": [
    "y_train_pred = clf.predict(X_train)\n",
    "y_test_pred = clf.predict(X_test)"
   ]
  },
  {
   "cell_type": "code",
   "execution_count": 101,
   "id": "c69bd890",
   "metadata": {},
   "outputs": [],
   "source": [
    "RMSE_train=np.sqrt(mean_squared_error(y_train,y_train_pred))\n",
    "RMSE_test=np.sqrt(mean_squared_error(y_test,y_test_pred))\n",
    "r2_train= metrics.r2_score(y_train, y_train_pred)\n",
    "r2_test= metrics.r2_score(y_test, y_test_pred)\n"
   ]
  },
  {
   "cell_type": "code",
   "execution_count": 102,
   "id": "c9a1a725",
   "metadata": {},
   "outputs": [
    {
     "name": "stdout",
     "output_type": "stream",
     "text": [
      "Error cudratico medio train: 32735.023479016625\n",
      "Error cudratico medio test: 40840.405527739495\n",
      "*******************************************\n",
      "El Coeficiente de determinacion train: 0.8722447215688509\n",
      "El Coeficiente de determinacion test: 0.8007857948667396\n",
      "*******************************************\n"
     ]
    }
   ],
   "source": [
    "print(\"Error cudratico medio train:\",RMSE_train)\n",
    "print(\"Error cudratico medio test:\",RMSE_test)\n",
    "print(\"*******************************************\")\n",
    "print(\"El Coeficiente de determinacion train:\",r2_train)\n",
    "print(\"El Coeficiente de determinacion test:\",r2_test)\n",
    "print(\"*******************************************\")"
   ]
  },
  {
   "cell_type": "code",
   "execution_count": 55,
   "id": "6486bd29",
   "metadata": {
    "scrolled": false
   },
   "outputs": [
    {
     "data": {
      "text/plain": [
       "array([0.03857764, 0.42736884, 0.35859949, 0.02605882, 0.10503816,\n",
       "       0.00501559, 0.03043526, 0.0089062 ])"
      ]
     },
     "execution_count": 55,
     "metadata": {},
     "output_type": "execute_result"
    }
   ],
   "source": [
    "clf.feature_importances_"
   ]
  },
  {
   "cell_type": "code",
   "execution_count": 56,
   "id": "233702ed",
   "metadata": {
    "scrolled": true
   },
   "outputs": [
    {
     "data": {
      "text/plain": [
       "[DecisionTreeRegressor(max_features=4, random_state=1608637542),\n",
       " DecisionTreeRegressor(max_features=4, random_state=1273642419),\n",
       " DecisionTreeRegressor(max_features=4, random_state=1935803228),\n",
       " DecisionTreeRegressor(max_features=4, random_state=787846414),\n",
       " DecisionTreeRegressor(max_features=4, random_state=996406378),\n",
       " DecisionTreeRegressor(max_features=4, random_state=1201263687),\n",
       " DecisionTreeRegressor(max_features=4, random_state=423734972),\n",
       " DecisionTreeRegressor(max_features=4, random_state=415968276),\n",
       " DecisionTreeRegressor(max_features=4, random_state=670094950),\n",
       " DecisionTreeRegressor(max_features=4, random_state=1914837113),\n",
       " DecisionTreeRegressor(max_features=4, random_state=669991378),\n",
       " DecisionTreeRegressor(max_features=4, random_state=429389014),\n",
       " DecisionTreeRegressor(max_features=4, random_state=249467210),\n",
       " DecisionTreeRegressor(max_features=4, random_state=1972458954),\n",
       " DecisionTreeRegressor(max_features=4, random_state=1572714583),\n",
       " DecisionTreeRegressor(max_features=4, random_state=1433267572),\n",
       " DecisionTreeRegressor(max_features=4, random_state=434285667),\n",
       " DecisionTreeRegressor(max_features=4, random_state=613608295),\n",
       " DecisionTreeRegressor(max_features=4, random_state=893664919),\n",
       " DecisionTreeRegressor(max_features=4, random_state=648061058),\n",
       " DecisionTreeRegressor(max_features=4, random_state=88409749),\n",
       " DecisionTreeRegressor(max_features=4, random_state=242285876),\n",
       " DecisionTreeRegressor(max_features=4, random_state=2018247425),\n",
       " DecisionTreeRegressor(max_features=4, random_state=953477463),\n",
       " DecisionTreeRegressor(max_features=4, random_state=1427830251),\n",
       " DecisionTreeRegressor(max_features=4, random_state=1883569565),\n",
       " DecisionTreeRegressor(max_features=4, random_state=911989541),\n",
       " DecisionTreeRegressor(max_features=4, random_state=3344769),\n",
       " DecisionTreeRegressor(max_features=4, random_state=780932287),\n",
       " DecisionTreeRegressor(max_features=4, random_state=2114032571),\n",
       " DecisionTreeRegressor(max_features=4, random_state=787716372),\n",
       " DecisionTreeRegressor(max_features=4, random_state=504579232),\n",
       " DecisionTreeRegressor(max_features=4, random_state=1306710475),\n",
       " DecisionTreeRegressor(max_features=4, random_state=479546681),\n",
       " DecisionTreeRegressor(max_features=4, random_state=106328085),\n",
       " DecisionTreeRegressor(max_features=4, random_state=30349564),\n",
       " DecisionTreeRegressor(max_features=4, random_state=1855189739),\n",
       " DecisionTreeRegressor(max_features=4, random_state=99052376),\n",
       " DecisionTreeRegressor(max_features=4, random_state=1250819632),\n",
       " DecisionTreeRegressor(max_features=4, random_state=106406362),\n",
       " DecisionTreeRegressor(max_features=4, random_state=480404538),\n",
       " DecisionTreeRegressor(max_features=4, random_state=1717389822),\n",
       " DecisionTreeRegressor(max_features=4, random_state=599121577),\n",
       " DecisionTreeRegressor(max_features=4, random_state=200427519),\n",
       " DecisionTreeRegressor(max_features=4, random_state=1254751707),\n",
       " DecisionTreeRegressor(max_features=4, random_state=2034764475),\n",
       " DecisionTreeRegressor(max_features=4, random_state=1573512143),\n",
       " DecisionTreeRegressor(max_features=4, random_state=999745294),\n",
       " DecisionTreeRegressor(max_features=4, random_state=1958805693),\n",
       " DecisionTreeRegressor(max_features=4, random_state=389151677),\n",
       " DecisionTreeRegressor(max_features=4, random_state=1224821422),\n",
       " DecisionTreeRegressor(max_features=4, random_state=508464061),\n",
       " DecisionTreeRegressor(max_features=4, random_state=857592370),\n",
       " DecisionTreeRegressor(max_features=4, random_state=1642661739),\n",
       " DecisionTreeRegressor(max_features=4, random_state=61136438),\n",
       " DecisionTreeRegressor(max_features=4, random_state=2075460851),\n",
       " DecisionTreeRegressor(max_features=4, random_state=396917567),\n",
       " DecisionTreeRegressor(max_features=4, random_state=2004731384),\n",
       " DecisionTreeRegressor(max_features=4, random_state=199502978),\n",
       " DecisionTreeRegressor(max_features=4, random_state=1545932260),\n",
       " DecisionTreeRegressor(max_features=4, random_state=461901618),\n",
       " DecisionTreeRegressor(max_features=4, random_state=774414982),\n",
       " DecisionTreeRegressor(max_features=4, random_state=732395540),\n",
       " DecisionTreeRegressor(max_features=4, random_state=1934879560),\n",
       " DecisionTreeRegressor(max_features=4, random_state=279394470),\n",
       " DecisionTreeRegressor(max_features=4, random_state=56972561),\n",
       " DecisionTreeRegressor(max_features=4, random_state=1927948675),\n",
       " DecisionTreeRegressor(max_features=4, random_state=1899242072),\n",
       " DecisionTreeRegressor(max_features=4, random_state=1999874363),\n",
       " DecisionTreeRegressor(max_features=4, random_state=271820813),\n",
       " DecisionTreeRegressor(max_features=4, random_state=1324556529),\n",
       " DecisionTreeRegressor(max_features=4, random_state=1655351289),\n",
       " DecisionTreeRegressor(max_features=4, random_state=1308306184),\n",
       " DecisionTreeRegressor(max_features=4, random_state=68574553),\n",
       " DecisionTreeRegressor(max_features=4, random_state=419498548),\n",
       " DecisionTreeRegressor(max_features=4, random_state=991681409),\n",
       " DecisionTreeRegressor(max_features=4, random_state=791274835),\n",
       " DecisionTreeRegressor(max_features=4, random_state=1035196507),\n",
       " DecisionTreeRegressor(max_features=4, random_state=1890440558),\n",
       " DecisionTreeRegressor(max_features=4, random_state=787110843),\n",
       " DecisionTreeRegressor(max_features=4, random_state=524150214),\n",
       " DecisionTreeRegressor(max_features=4, random_state=472432043),\n",
       " DecisionTreeRegressor(max_features=4, random_state=2126768636),\n",
       " DecisionTreeRegressor(max_features=4, random_state=1431061255),\n",
       " DecisionTreeRegressor(max_features=4, random_state=147697582),\n",
       " DecisionTreeRegressor(max_features=4, random_state=744595490),\n",
       " DecisionTreeRegressor(max_features=4, random_state=1758017741),\n",
       " DecisionTreeRegressor(max_features=4, random_state=1679592528),\n",
       " DecisionTreeRegressor(max_features=4, random_state=1111451555),\n",
       " DecisionTreeRegressor(max_features=4, random_state=782698033),\n",
       " DecisionTreeRegressor(max_features=4, random_state=698027879),\n",
       " DecisionTreeRegressor(max_features=4, random_state=1096768899),\n",
       " DecisionTreeRegressor(max_features=4, random_state=1338788865),\n",
       " DecisionTreeRegressor(max_features=4, random_state=1826030589),\n",
       " DecisionTreeRegressor(max_features=4, random_state=86191493),\n",
       " DecisionTreeRegressor(max_features=4, random_state=893102645),\n",
       " DecisionTreeRegressor(max_features=4, random_state=200619113),\n",
       " DecisionTreeRegressor(max_features=4, random_state=290770691),\n",
       " DecisionTreeRegressor(max_features=4, random_state=793943861),\n",
       " DecisionTreeRegressor(max_features=4, random_state=134489564),\n",
       " DecisionTreeRegressor(max_features=4, random_state=2016850622),\n",
       " DecisionTreeRegressor(max_features=4, random_state=1470101905),\n",
       " DecisionTreeRegressor(max_features=4, random_state=1181686489),\n",
       " DecisionTreeRegressor(max_features=4, random_state=1931679275),\n",
       " DecisionTreeRegressor(max_features=4, random_state=1887633569),\n",
       " DecisionTreeRegressor(max_features=4, random_state=1697157321),\n",
       " DecisionTreeRegressor(max_features=4, random_state=1695770557),\n",
       " DecisionTreeRegressor(max_features=4, random_state=1832485859),\n",
       " DecisionTreeRegressor(max_features=4, random_state=420477197),\n",
       " DecisionTreeRegressor(max_features=4, random_state=976125790),\n",
       " DecisionTreeRegressor(max_features=4, random_state=1811936047),\n",
       " DecisionTreeRegressor(max_features=4, random_state=1402481934),\n",
       " DecisionTreeRegressor(max_features=4, random_state=380072391),\n",
       " DecisionTreeRegressor(max_features=4, random_state=302554573),\n",
       " DecisionTreeRegressor(max_features=4, random_state=841739990),\n",
       " DecisionTreeRegressor(max_features=4, random_state=89482491),\n",
       " DecisionTreeRegressor(max_features=4, random_state=194249720),\n",
       " DecisionTreeRegressor(max_features=4, random_state=1980718781),\n",
       " DecisionTreeRegressor(max_features=4, random_state=1397283111),\n",
       " DecisionTreeRegressor(max_features=4, random_state=1479761620),\n",
       " DecisionTreeRegressor(max_features=4, random_state=1669356239),\n",
       " DecisionTreeRegressor(max_features=4, random_state=1062231788),\n",
       " DecisionTreeRegressor(max_features=4, random_state=1165435217),\n",
       " DecisionTreeRegressor(max_features=4, random_state=170476398),\n",
       " DecisionTreeRegressor(max_features=4, random_state=1411916852),\n",
       " DecisionTreeRegressor(max_features=4, random_state=372593431),\n",
       " DecisionTreeRegressor(max_features=4, random_state=1532243865),\n",
       " DecisionTreeRegressor(max_features=4, random_state=1998256344),\n",
       " DecisionTreeRegressor(max_features=4, random_state=1206604539),\n",
       " DecisionTreeRegressor(max_features=4, random_state=459708603),\n",
       " DecisionTreeRegressor(max_features=4, random_state=183378299),\n",
       " DecisionTreeRegressor(max_features=4, random_state=1185407468),\n",
       " DecisionTreeRegressor(max_features=4, random_state=605264936),\n",
       " DecisionTreeRegressor(max_features=4, random_state=1272485020),\n",
       " DecisionTreeRegressor(max_features=4, random_state=1297926158),\n",
       " DecisionTreeRegressor(max_features=4, random_state=709816108),\n",
       " DecisionTreeRegressor(max_features=4, random_state=320192576),\n",
       " DecisionTreeRegressor(max_features=4, random_state=67157848),\n",
       " DecisionTreeRegressor(max_features=4, random_state=2091163462),\n",
       " DecisionTreeRegressor(max_features=4, random_state=1818495496),\n",
       " DecisionTreeRegressor(max_features=4, random_state=1169282391),\n",
       " DecisionTreeRegressor(max_features=4, random_state=1696003200),\n",
       " DecisionTreeRegressor(max_features=4, random_state=853477355),\n",
       " DecisionTreeRegressor(max_features=4, random_state=1260522119),\n",
       " DecisionTreeRegressor(max_features=4, random_state=23717335),\n",
       " DecisionTreeRegressor(max_features=4, random_state=60472382),\n",
       " DecisionTreeRegressor(max_features=4, random_state=1354896522),\n",
       " DecisionTreeRegressor(max_features=4, random_state=854021618),\n",
       " DecisionTreeRegressor(max_features=4, random_state=888445520),\n",
       " DecisionTreeRegressor(max_features=4, random_state=907706759),\n",
       " DecisionTreeRegressor(max_features=4, random_state=983578274),\n",
       " DecisionTreeRegressor(max_features=4, random_state=1246294434),\n",
       " DecisionTreeRegressor(max_features=4, random_state=1165097248),\n",
       " DecisionTreeRegressor(max_features=4, random_state=455094650),\n",
       " DecisionTreeRegressor(max_features=4, random_state=318019332),\n",
       " DecisionTreeRegressor(max_features=4, random_state=1830948329),\n",
       " DecisionTreeRegressor(max_features=4, random_state=1539598566),\n",
       " DecisionTreeRegressor(max_features=4, random_state=648870905),\n",
       " DecisionTreeRegressor(max_features=4, random_state=497653800),\n",
       " DecisionTreeRegressor(max_features=4, random_state=1782238235),\n",
       " DecisionTreeRegressor(max_features=4, random_state=1559517318),\n",
       " DecisionTreeRegressor(max_features=4, random_state=1503404232),\n",
       " DecisionTreeRegressor(max_features=4, random_state=529561415),\n",
       " DecisionTreeRegressor(max_features=4, random_state=1930375947),\n",
       " DecisionTreeRegressor(max_features=4, random_state=1421196193),\n",
       " DecisionTreeRegressor(max_features=4, random_state=409783328),\n",
       " DecisionTreeRegressor(max_features=4, random_state=272981039),\n",
       " DecisionTreeRegressor(max_features=4, random_state=1592652278),\n",
       " DecisionTreeRegressor(max_features=4, random_state=1335658902),\n",
       " DecisionTreeRegressor(max_features=4, random_state=725167677),\n",
       " DecisionTreeRegressor(max_features=4, random_state=1396651735),\n",
       " DecisionTreeRegressor(max_features=4, random_state=712631076),\n",
       " DecisionTreeRegressor(max_features=4, random_state=986151010),\n",
       " DecisionTreeRegressor(max_features=4, random_state=392121003),\n",
       " DecisionTreeRegressor(max_features=4, random_state=590804839),\n",
       " DecisionTreeRegressor(max_features=4, random_state=1179921109),\n",
       " DecisionTreeRegressor(max_features=4, random_state=1663066074),\n",
       " DecisionTreeRegressor(max_features=4, random_state=263038498),\n",
       " DecisionTreeRegressor(max_features=4, random_state=2028147648),\n",
       " DecisionTreeRegressor(max_features=4, random_state=1644658402),\n",
       " DecisionTreeRegressor(max_features=4, random_state=513653348),\n",
       " DecisionTreeRegressor(max_features=4, random_state=2025988014),\n",
       " DecisionTreeRegressor(max_features=4, random_state=915879373),\n",
       " DecisionTreeRegressor(max_features=4, random_state=1498573442),\n",
       " DecisionTreeRegressor(max_features=4, random_state=1120063232),\n",
       " DecisionTreeRegressor(max_features=4, random_state=952321028),\n",
       " DecisionTreeRegressor(max_features=4, random_state=263183577),\n",
       " DecisionTreeRegressor(max_features=4, random_state=1013547510),\n",
       " DecisionTreeRegressor(max_features=4, random_state=1163795198),\n",
       " DecisionTreeRegressor(max_features=4, random_state=1099805069),\n",
       " DecisionTreeRegressor(max_features=4, random_state=2120835942),\n",
       " DecisionTreeRegressor(max_features=4, random_state=173660954),\n",
       " DecisionTreeRegressor(max_features=4, random_state=97636744),\n",
       " DecisionTreeRegressor(max_features=4, random_state=904790222),\n",
       " DecisionTreeRegressor(max_features=4, random_state=1836274702),\n",
       " DecisionTreeRegressor(max_features=4, random_state=476272473),\n",
       " DecisionTreeRegressor(max_features=4, random_state=109174313),\n",
       " DecisionTreeRegressor(max_features=4, random_state=1886935931),\n",
       " DecisionTreeRegressor(max_features=4, random_state=463390156),\n",
       " DecisionTreeRegressor(max_features=4, random_state=866377394),\n",
       " DecisionTreeRegressor(max_features=4, random_state=134987326),\n",
       " DecisionTreeRegressor(max_features=4, random_state=1699791711),\n",
       " DecisionTreeRegressor(max_features=4, random_state=585878246),\n",
       " DecisionTreeRegressor(max_features=4, random_state=2041699568),\n",
       " DecisionTreeRegressor(max_features=4, random_state=1350148659),\n",
       " DecisionTreeRegressor(max_features=4, random_state=271766524),\n",
       " DecisionTreeRegressor(max_features=4, random_state=36810847),\n",
       " DecisionTreeRegressor(max_features=4, random_state=839735171),\n",
       " DecisionTreeRegressor(max_features=4, random_state=1750484701),\n",
       " DecisionTreeRegressor(max_features=4, random_state=598424036),\n",
       " DecisionTreeRegressor(max_features=4, random_state=1070701974),\n",
       " DecisionTreeRegressor(max_features=4, random_state=448469222),\n",
       " DecisionTreeRegressor(max_features=4, random_state=1762581228),\n",
       " DecisionTreeRegressor(max_features=4, random_state=171116174),\n",
       " DecisionTreeRegressor(max_features=4, random_state=1097583786),\n",
       " DecisionTreeRegressor(max_features=4, random_state=872141340),\n",
       " DecisionTreeRegressor(max_features=4, random_state=982680611),\n",
       " DecisionTreeRegressor(max_features=4, random_state=1902041612),\n",
       " DecisionTreeRegressor(max_features=4, random_state=330626207),\n",
       " DecisionTreeRegressor(max_features=4, random_state=424623942),\n",
       " DecisionTreeRegressor(max_features=4, random_state=1244473018),\n",
       " DecisionTreeRegressor(max_features=4, random_state=836594930),\n",
       " DecisionTreeRegressor(max_features=4, random_state=692440149),\n",
       " DecisionTreeRegressor(max_features=4, random_state=1634096923),\n",
       " DecisionTreeRegressor(max_features=4, random_state=1845537345),\n",
       " DecisionTreeRegressor(max_features=4, random_state=534096553),\n",
       " DecisionTreeRegressor(max_features=4, random_state=1323366956),\n",
       " DecisionTreeRegressor(max_features=4, random_state=1269737021),\n",
       " DecisionTreeRegressor(max_features=4, random_state=572964792),\n",
       " DecisionTreeRegressor(max_features=4, random_state=453094388),\n",
       " DecisionTreeRegressor(max_features=4, random_state=1595411077),\n",
       " DecisionTreeRegressor(max_features=4, random_state=1960801051),\n",
       " DecisionTreeRegressor(max_features=4, random_state=1304261659),\n",
       " DecisionTreeRegressor(max_features=4, random_state=938194539),\n",
       " DecisionTreeRegressor(max_features=4, random_state=801312299),\n",
       " DecisionTreeRegressor(max_features=4, random_state=1788896595),\n",
       " DecisionTreeRegressor(max_features=4, random_state=1686028061),\n",
       " DecisionTreeRegressor(max_features=4, random_state=1646176189),\n",
       " DecisionTreeRegressor(max_features=4, random_state=168973642),\n",
       " DecisionTreeRegressor(max_features=4, random_state=1393051263),\n",
       " DecisionTreeRegressor(max_features=4, random_state=1320445433),\n",
       " DecisionTreeRegressor(max_features=4, random_state=524363766),\n",
       " DecisionTreeRegressor(max_features=4, random_state=1701199195),\n",
       " DecisionTreeRegressor(max_features=4, random_state=1530287576),\n",
       " DecisionTreeRegressor(max_features=4, random_state=1365814502),\n",
       " DecisionTreeRegressor(max_features=4, random_state=1747314877),\n",
       " DecisionTreeRegressor(max_features=4, random_state=472669408),\n",
       " DecisionTreeRegressor(max_features=4, random_state=1168799104),\n",
       " DecisionTreeRegressor(max_features=4, random_state=978974072),\n",
       " DecisionTreeRegressor(max_features=4, random_state=634324250),\n",
       " DecisionTreeRegressor(max_features=4, random_state=1834414013),\n",
       " DecisionTreeRegressor(max_features=4, random_state=2235000),\n",
       " DecisionTreeRegressor(max_features=4, random_state=1365863027),\n",
       " DecisionTreeRegressor(max_features=4, random_state=1514271692),\n",
       " DecisionTreeRegressor(max_features=4, random_state=1549326056),\n",
       " DecisionTreeRegressor(max_features=4, random_state=1309025538),\n",
       " DecisionTreeRegressor(max_features=4, random_state=29859174),\n",
       " DecisionTreeRegressor(max_features=4, random_state=707191493),\n",
       " DecisionTreeRegressor(max_features=4, random_state=46159303),\n",
       " DecisionTreeRegressor(max_features=4, random_state=146412954),\n",
       " DecisionTreeRegressor(max_features=4, random_state=1792766600),\n",
       " DecisionTreeRegressor(max_features=4, random_state=2082328893),\n",
       " DecisionTreeRegressor(max_features=4, random_state=953945764),\n",
       " DecisionTreeRegressor(max_features=4, random_state=826506464),\n",
       " DecisionTreeRegressor(max_features=4, random_state=514817842),\n",
       " DecisionTreeRegressor(max_features=4, random_state=1157117161),\n",
       " DecisionTreeRegressor(max_features=4, random_state=1450046123),\n",
       " DecisionTreeRegressor(max_features=4, random_state=1048511127),\n",
       " DecisionTreeRegressor(max_features=4, random_state=1902282702),\n",
       " DecisionTreeRegressor(max_features=4, random_state=722804538),\n",
       " DecisionTreeRegressor(max_features=4, random_state=1388146037),\n",
       " DecisionTreeRegressor(max_features=4, random_state=939585183),\n",
       " DecisionTreeRegressor(max_features=4, random_state=80705119),\n",
       " DecisionTreeRegressor(max_features=4, random_state=249546199),\n",
       " DecisionTreeRegressor(max_features=4, random_state=871959784),\n",
       " DecisionTreeRegressor(max_features=4, random_state=1734463155),\n",
       " DecisionTreeRegressor(max_features=4, random_state=1561777264),\n",
       " DecisionTreeRegressor(max_features=4, random_state=278710077),\n",
       " DecisionTreeRegressor(max_features=4, random_state=2026288624),\n",
       " DecisionTreeRegressor(max_features=4, random_state=1090558393),\n",
       " DecisionTreeRegressor(max_features=4, random_state=1986196019),\n",
       " DecisionTreeRegressor(max_features=4, random_state=1060324619),\n",
       " DecisionTreeRegressor(max_features=4, random_state=1081396733),\n",
       " DecisionTreeRegressor(max_features=4, random_state=843120422),\n",
       " DecisionTreeRegressor(max_features=4, random_state=2135666049),\n",
       " DecisionTreeRegressor(max_features=4, random_state=911695234),\n",
       " DecisionTreeRegressor(max_features=4, random_state=1292262512),\n",
       " DecisionTreeRegressor(max_features=4, random_state=636028516),\n",
       " DecisionTreeRegressor(max_features=4, random_state=1223380592),\n",
       " DecisionTreeRegressor(max_features=4, random_state=2137779127),\n",
       " DecisionTreeRegressor(max_features=4, random_state=158428240),\n",
       " DecisionTreeRegressor(max_features=4, random_state=1145815738),\n",
       " DecisionTreeRegressor(max_features=4, random_state=470575216),\n",
       " DecisionTreeRegressor(max_features=4, random_state=2047045633),\n",
       " DecisionTreeRegressor(max_features=4, random_state=11506305),\n",
       " DecisionTreeRegressor(max_features=4, random_state=1765390555),\n",
       " DecisionTreeRegressor(max_features=4, random_state=221099573),\n",
       " DecisionTreeRegressor(max_features=4, random_state=141951830),\n",
       " DecisionTreeRegressor(max_features=4, random_state=1196777444),\n",
       " DecisionTreeRegressor(max_features=4, random_state=1482069727),\n",
       " DecisionTreeRegressor(max_features=4, random_state=1753488608),\n",
       " DecisionTreeRegressor(max_features=4, random_state=577034624),\n",
       " DecisionTreeRegressor(max_features=4, random_state=1028910482),\n",
       " DecisionTreeRegressor(max_features=4, random_state=776124029),\n",
       " DecisionTreeRegressor(max_features=4, random_state=622318721),\n",
       " DecisionTreeRegressor(max_features=4, random_state=132863028),\n",
       " DecisionTreeRegressor(max_features=4, random_state=2102183595),\n",
       " DecisionTreeRegressor(max_features=4, random_state=1923214041),\n",
       " DecisionTreeRegressor(max_features=4, random_state=2085852831),\n",
       " DecisionTreeRegressor(max_features=4, random_state=227174085),\n",
       " DecisionTreeRegressor(max_features=4, random_state=1039619487),\n",
       " DecisionTreeRegressor(max_features=4, random_state=398129398),\n",
       " DecisionTreeRegressor(max_features=4, random_state=739316547),\n",
       " DecisionTreeRegressor(max_features=4, random_state=347262390),\n",
       " DecisionTreeRegressor(max_features=4, random_state=1123647690),\n",
       " DecisionTreeRegressor(max_features=4, random_state=1587653815),\n",
       " DecisionTreeRegressor(max_features=4, random_state=1020645498),\n",
       " DecisionTreeRegressor(max_features=4, random_state=1040069008),\n",
       " DecisionTreeRegressor(max_features=4, random_state=980181758),\n",
       " DecisionTreeRegressor(max_features=4, random_state=1301975333),\n",
       " DecisionTreeRegressor(max_features=4, random_state=1579616535),\n",
       " DecisionTreeRegressor(max_features=4, random_state=2019925828),\n",
       " DecisionTreeRegressor(max_features=4, random_state=568249203),\n",
       " DecisionTreeRegressor(max_features=4, random_state=2076286561),\n",
       " DecisionTreeRegressor(max_features=4, random_state=573505733),\n",
       " DecisionTreeRegressor(max_features=4, random_state=1712937941),\n",
       " DecisionTreeRegressor(max_features=4, random_state=153651082),\n",
       " DecisionTreeRegressor(max_features=4, random_state=1359064574),\n",
       " DecisionTreeRegressor(max_features=4, random_state=387791599),\n",
       " DecisionTreeRegressor(max_features=4, random_state=1281382543),\n",
       " DecisionTreeRegressor(max_features=4, random_state=1440113248),\n",
       " DecisionTreeRegressor(max_features=4, random_state=647326920),\n",
       " DecisionTreeRegressor(max_features=4, random_state=1377739899),\n",
       " DecisionTreeRegressor(max_features=4, random_state=35213498),\n",
       " DecisionTreeRegressor(max_features=4, random_state=801090885),\n",
       " DecisionTreeRegressor(max_features=4, random_state=841009615),\n",
       " DecisionTreeRegressor(max_features=4, random_state=175127900),\n",
       " DecisionTreeRegressor(max_features=4, random_state=1539139330),\n",
       " DecisionTreeRegressor(max_features=4, random_state=390382227),\n",
       " DecisionTreeRegressor(max_features=4, random_state=1399982843),\n",
       " DecisionTreeRegressor(max_features=4, random_state=762633146),\n",
       " DecisionTreeRegressor(max_features=4, random_state=945928099),\n",
       " DecisionTreeRegressor(max_features=4, random_state=71244178),\n",
       " DecisionTreeRegressor(max_features=4, random_state=906880345),\n",
       " DecisionTreeRegressor(max_features=4, random_state=51939266),\n",
       " DecisionTreeRegressor(max_features=4, random_state=1329296894),\n",
       " DecisionTreeRegressor(max_features=4, random_state=972791954),\n",
       " DecisionTreeRegressor(max_features=4, random_state=1497509011),\n",
       " DecisionTreeRegressor(max_features=4, random_state=623512415),\n",
       " DecisionTreeRegressor(max_features=4, random_state=413075142),\n",
       " DecisionTreeRegressor(max_features=4, random_state=748898099),\n",
       " DecisionTreeRegressor(max_features=4, random_state=1892033000),\n",
       " DecisionTreeRegressor(max_features=4, random_state=820071328),\n",
       " DecisionTreeRegressor(max_features=4, random_state=1707558823),\n",
       " DecisionTreeRegressor(max_features=4, random_state=1661015679),\n",
       " DecisionTreeRegressor(max_features=4, random_state=76241446),\n",
       " DecisionTreeRegressor(max_features=4, random_state=1875741009),\n",
       " DecisionTreeRegressor(max_features=4, random_state=1450453863),\n",
       " DecisionTreeRegressor(max_features=4, random_state=590647936),\n",
       " DecisionTreeRegressor(max_features=4, random_state=754583306),\n",
       " DecisionTreeRegressor(max_features=4, random_state=1464868827),\n",
       " DecisionTreeRegressor(max_features=4, random_state=1010245560),\n",
       " DecisionTreeRegressor(max_features=4, random_state=487365080),\n",
       " DecisionTreeRegressor(max_features=4, random_state=897955761),\n",
       " DecisionTreeRegressor(max_features=4, random_state=1824045206),\n",
       " DecisionTreeRegressor(max_features=4, random_state=178017694),\n",
       " DecisionTreeRegressor(max_features=4, random_state=1620660189),\n",
       " DecisionTreeRegressor(max_features=4, random_state=840887593),\n",
       " DecisionTreeRegressor(max_features=4, random_state=1107850850),\n",
       " DecisionTreeRegressor(max_features=4, random_state=981614854),\n",
       " DecisionTreeRegressor(max_features=4, random_state=687126267),\n",
       " DecisionTreeRegressor(max_features=4, random_state=751425679),\n",
       " DecisionTreeRegressor(max_features=4, random_state=1362458969),\n",
       " DecisionTreeRegressor(max_features=4, random_state=2070897263),\n",
       " DecisionTreeRegressor(max_features=4, random_state=237085688),\n",
       " DecisionTreeRegressor(max_features=4, random_state=71450611),\n",
       " DecisionTreeRegressor(max_features=4, random_state=127348283),\n",
       " DecisionTreeRegressor(max_features=4, random_state=1120252784),\n",
       " DecisionTreeRegressor(max_features=4, random_state=1038747649),\n",
       " DecisionTreeRegressor(max_features=4, random_state=2131393408),\n",
       " DecisionTreeRegressor(max_features=4, random_state=399873327),\n",
       " DecisionTreeRegressor(max_features=4, random_state=1998960893),\n",
       " DecisionTreeRegressor(max_features=4, random_state=1706028683),\n",
       " DecisionTreeRegressor(max_features=4, random_state=250368452),\n",
       " DecisionTreeRegressor(max_features=4, random_state=1719782436),\n",
       " DecisionTreeRegressor(max_features=4, random_state=1643410591),\n",
       " DecisionTreeRegressor(max_features=4, random_state=571666426),\n",
       " DecisionTreeRegressor(max_features=4, random_state=810490870),\n",
       " DecisionTreeRegressor(max_features=4, random_state=1456121864),\n",
       " DecisionTreeRegressor(max_features=4, random_state=1197743336),\n",
       " DecisionTreeRegressor(max_features=4, random_state=1499843682),\n",
       " DecisionTreeRegressor(max_features=4, random_state=860530322),\n",
       " DecisionTreeRegressor(max_features=4, random_state=970472239),\n",
       " DecisionTreeRegressor(max_features=4, random_state=1488898255),\n",
       " DecisionTreeRegressor(max_features=4, random_state=1705575554),\n",
       " DecisionTreeRegressor(max_features=4, random_state=1530401171),\n",
       " DecisionTreeRegressor(max_features=4, random_state=1662523543),\n",
       " DecisionTreeRegressor(max_features=4, random_state=1737349173),\n",
       " DecisionTreeRegressor(max_features=4, random_state=1202056311),\n",
       " DecisionTreeRegressor(max_features=4, random_state=1665459872),\n",
       " DecisionTreeRegressor(max_features=4, random_state=610021271),\n",
       " DecisionTreeRegressor(max_features=4, random_state=1507226227),\n",
       " DecisionTreeRegressor(max_features=4, random_state=361378378),\n",
       " DecisionTreeRegressor(max_features=4, random_state=1871038064),\n",
       " DecisionTreeRegressor(max_features=4, random_state=694190023),\n",
       " DecisionTreeRegressor(max_features=4, random_state=1225528739),\n",
       " DecisionTreeRegressor(max_features=4, random_state=1711777189),\n",
       " DecisionTreeRegressor(max_features=4, random_state=725799015),\n",
       " DecisionTreeRegressor(max_features=4, random_state=457109331),\n",
       " DecisionTreeRegressor(max_features=4, random_state=346546429),\n",
       " DecisionTreeRegressor(max_features=4, random_state=39501026),\n",
       " DecisionTreeRegressor(max_features=4, random_state=1598942319),\n",
       " DecisionTreeRegressor(max_features=4, random_state=435816957),\n",
       " DecisionTreeRegressor(max_features=4, random_state=1890358744),\n",
       " DecisionTreeRegressor(max_features=4, random_state=702234722),\n",
       " DecisionTreeRegressor(max_features=4, random_state=2034370712),\n",
       " DecisionTreeRegressor(max_features=4, random_state=21739356),\n",
       " DecisionTreeRegressor(max_features=4, random_state=1219431313),\n",
       " DecisionTreeRegressor(max_features=4, random_state=690665343),\n",
       " DecisionTreeRegressor(max_features=4, random_state=1311527789),\n",
       " DecisionTreeRegressor(max_features=4, random_state=209310033),\n",
       " DecisionTreeRegressor(max_features=4, random_state=2085695169),\n",
       " DecisionTreeRegressor(max_features=4, random_state=824183605),\n",
       " DecisionTreeRegressor(max_features=4, random_state=1925967010),\n",
       " DecisionTreeRegressor(max_features=4, random_state=652668623),\n",
       " DecisionTreeRegressor(max_features=4, random_state=2123678652),\n",
       " DecisionTreeRegressor(max_features=4, random_state=963229352),\n",
       " DecisionTreeRegressor(max_features=4, random_state=755593187),\n",
       " DecisionTreeRegressor(max_features=4, random_state=911302816),\n",
       " DecisionTreeRegressor(max_features=4, random_state=77633091),\n",
       " DecisionTreeRegressor(max_features=4, random_state=1018977056),\n",
       " DecisionTreeRegressor(max_features=4, random_state=2121257357),\n",
       " DecisionTreeRegressor(max_features=4, random_state=1397581076),\n",
       " DecisionTreeRegressor(max_features=4, random_state=768037679),\n",
       " DecisionTreeRegressor(max_features=4, random_state=1058672531),\n",
       " DecisionTreeRegressor(max_features=4, random_state=1573971447),\n",
       " DecisionTreeRegressor(max_features=4, random_state=642668415),\n",
       " DecisionTreeRegressor(max_features=4, random_state=1048704391),\n",
       " DecisionTreeRegressor(max_features=4, random_state=1499903110),\n",
       " DecisionTreeRegressor(max_features=4, random_state=948929730),\n",
       " DecisionTreeRegressor(max_features=4, random_state=676942224),\n",
       " DecisionTreeRegressor(max_features=4, random_state=1323111039),\n",
       " DecisionTreeRegressor(max_features=4, random_state=293383200),\n",
       " DecisionTreeRegressor(max_features=4, random_state=182708911),\n",
       " DecisionTreeRegressor(max_features=4, random_state=402330059),\n",
       " DecisionTreeRegressor(max_features=4, random_state=37856186),\n",
       " DecisionTreeRegressor(max_features=4, random_state=1579327346),\n",
       " DecisionTreeRegressor(max_features=4, random_state=585544149),\n",
       " DecisionTreeRegressor(max_features=4, random_state=1139035510),\n",
       " DecisionTreeRegressor(max_features=4, random_state=1075725333),\n",
       " DecisionTreeRegressor(max_features=4, random_state=1047927533),\n",
       " DecisionTreeRegressor(max_features=4, random_state=385992349),\n",
       " DecisionTreeRegressor(max_features=4, random_state=2031564837),\n",
       " DecisionTreeRegressor(max_features=4, random_state=2056829157),\n",
       " DecisionTreeRegressor(max_features=4, random_state=1688341868),\n",
       " DecisionTreeRegressor(max_features=4, random_state=2090541618),\n",
       " DecisionTreeRegressor(max_features=4, random_state=1683827125),\n",
       " DecisionTreeRegressor(max_features=4, random_state=1744180999),\n",
       " DecisionTreeRegressor(max_features=4, random_state=563236122),\n",
       " DecisionTreeRegressor(max_features=4, random_state=1865709594),\n",
       " DecisionTreeRegressor(max_features=4, random_state=1266204897),\n",
       " DecisionTreeRegressor(max_features=4, random_state=1503575316),\n",
       " DecisionTreeRegressor(max_features=4, random_state=11326237),\n",
       " DecisionTreeRegressor(max_features=4, random_state=623214176),\n",
       " DecisionTreeRegressor(max_features=4, random_state=330299675),\n",
       " DecisionTreeRegressor(max_features=4, random_state=725523310),\n",
       " DecisionTreeRegressor(max_features=4, random_state=2115347391),\n",
       " DecisionTreeRegressor(max_features=4, random_state=1564087776),\n",
       " DecisionTreeRegressor(max_features=4, random_state=838562244),\n",
       " DecisionTreeRegressor(max_features=4, random_state=988638203),\n",
       " DecisionTreeRegressor(max_features=4, random_state=955424572),\n",
       " DecisionTreeRegressor(max_features=4, random_state=2144019247),\n",
       " DecisionTreeRegressor(max_features=4, random_state=1205908114),\n",
       " DecisionTreeRegressor(max_features=4, random_state=309255683),\n",
       " DecisionTreeRegressor(max_features=4, random_state=104436258),\n",
       " DecisionTreeRegressor(max_features=4, random_state=1153430719),\n",
       " DecisionTreeRegressor(max_features=4, random_state=624798768),\n",
       " DecisionTreeRegressor(max_features=4, random_state=187276799),\n",
       " DecisionTreeRegressor(max_features=4, random_state=760684560),\n",
       " DecisionTreeRegressor(max_features=4, random_state=2124078251),\n",
       " DecisionTreeRegressor(max_features=4, random_state=1891755227),\n",
       " DecisionTreeRegressor(max_features=4, random_state=2018396317),\n",
       " DecisionTreeRegressor(max_features=4, random_state=1949608412),\n",
       " DecisionTreeRegressor(max_features=4, random_state=1200702509),\n",
       " DecisionTreeRegressor(max_features=4, random_state=1781828980),\n",
       " DecisionTreeRegressor(max_features=4, random_state=1647094277),\n",
       " DecisionTreeRegressor(max_features=4, random_state=1589819490),\n",
       " DecisionTreeRegressor(max_features=4, random_state=1063944059),\n",
       " DecisionTreeRegressor(max_features=4, random_state=66385640),\n",
       " DecisionTreeRegressor(max_features=4, random_state=1945928740),\n",
       " DecisionTreeRegressor(max_features=4, random_state=1839614231),\n",
       " DecisionTreeRegressor(max_features=4, random_state=1420561756),\n",
       " DecisionTreeRegressor(max_features=4, random_state=1839036912),\n",
       " DecisionTreeRegressor(max_features=4, random_state=226623789),\n",
       " DecisionTreeRegressor(max_features=4, random_state=2004267188),\n",
       " DecisionTreeRegressor(max_features=4, random_state=310493790),\n",
       " DecisionTreeRegressor(max_features=4, random_state=1991232610),\n",
       " DecisionTreeRegressor(max_features=4, random_state=2063008443),\n",
       " DecisionTreeRegressor(max_features=4, random_state=1516164064),\n",
       " DecisionTreeRegressor(max_features=4, random_state=323609715)]"
      ]
     },
     "execution_count": 56,
     "metadata": {},
     "output_type": "execute_result"
    }
   ],
   "source": [
    "clf.estimators_"
   ]
  },
  {
   "cell_type": "code",
   "execution_count": 57,
   "id": "785f65e8",
   "metadata": {
    "scrolled": true
   },
   "outputs": [
    {
     "data": {
      "text/plain": [
       "{'ccp_alpha': 0.0,\n",
       " 'criterion': 'mse',\n",
       " 'max_depth': None,\n",
       " 'max_features': 4,\n",
       " 'max_leaf_nodes': None,\n",
       " 'min_impurity_decrease': 0.0,\n",
       " 'min_impurity_split': None,\n",
       " 'min_samples_leaf': 1,\n",
       " 'min_samples_split': 2,\n",
       " 'min_weight_fraction_leaf': 0.0,\n",
       " 'random_state': 1324556529,\n",
       " 'splitter': 'best'}"
      ]
     },
     "execution_count": 57,
     "metadata": {},
     "output_type": "execute_result"
    }
   ],
   "source": [
    "clf_tree = clf.estimators_[70]\n",
    "clf_tree.get_params()"
   ]
  },
  {
   "cell_type": "code",
   "execution_count": 58,
   "id": "796a7b1c",
   "metadata": {},
   "outputs": [],
   "source": [
    "y_train_pred = clf_tree.predict(X_train)\n",
    "y_test_pred = clf_tree.predict(X_test)"
   ]
  },
  {
   "cell_type": "code",
   "execution_count": 59,
   "id": "fca2057c",
   "metadata": {},
   "outputs": [],
   "source": [
    "RMSE_train=np.sqrt(mean_squared_error(y_train,y_train_pred))\n",
    "RMSE_test=np.sqrt(mean_squared_error(y_test,y_test_pred))\n",
    "r2_train= metrics.r2_score(y_train, y_train_pred)\n",
    "r2_test= metrics.r2_score(y_test, y_test_pred)"
   ]
  },
  {
   "cell_type": "code",
   "execution_count": 60,
   "id": "00703fa0",
   "metadata": {},
   "outputs": [
    {
     "name": "stdout",
     "output_type": "stream",
     "text": [
      "Error cudratico medio train: 39689.29582714043\n",
      "Error cudratico medio test: 51877.4644650205\n",
      "*******************************************\n",
      "El Coeficiente de determinacion train: 0.8115813611663723\n",
      "El Coeficiente de determinacion test: 0.6824306893166631\n",
      "*******************************************\n"
     ]
    }
   ],
   "source": [
    "print(\"Error cudratico medio train:\",RMSE_train)\n",
    "print(\"Error cudratico medio test:\",RMSE_test)\n",
    "print(\"*******************************************\")\n",
    "print(\"El Coeficiente de determinacion train:\",r2_train)\n",
    "print(\"El Coeficiente de determinacion test:\",r2_test)\n",
    "print(\"*******************************************\")"
   ]
  },
  {
   "cell_type": "code",
   "execution_count": 61,
   "id": "b71ba7db",
   "metadata": {
    "scrolled": true
   },
   "outputs": [
    {
     "name": "stdout",
     "output_type": "stream",
     "text": [
      "1\n"
     ]
    },
    {
     "name": "stderr",
     "output_type": "stream",
     "text": [
      "C:\\Users\\Cankil\\miniconda3\\envs\\ds\\lib\\site-packages\\sklearn\\ensemble\\_forest.py:833: UserWarning: Some inputs do not have OOB scores. This probably means too few trees were used to compute any reliable oob estimates.\n",
      "  warn(\"Some inputs do not have OOB scores. \"\n"
     ]
    },
    {
     "name": "stdout",
     "output_type": "stream",
     "text": [
      "2\n"
     ]
    },
    {
     "name": "stderr",
     "output_type": "stream",
     "text": [
      "C:\\Users\\Cankil\\miniconda3\\envs\\ds\\lib\\site-packages\\sklearn\\ensemble\\_forest.py:833: UserWarning: Some inputs do not have OOB scores. This probably means too few trees were used to compute any reliable oob estimates.\n",
      "  warn(\"Some inputs do not have OOB scores. \"\n"
     ]
    },
    {
     "name": "stdout",
     "output_type": "stream",
     "text": [
      "3\n"
     ]
    },
    {
     "name": "stderr",
     "output_type": "stream",
     "text": [
      "C:\\Users\\Cankil\\miniconda3\\envs\\ds\\lib\\site-packages\\sklearn\\ensemble\\_forest.py:833: UserWarning: Some inputs do not have OOB scores. This probably means too few trees were used to compute any reliable oob estimates.\n",
      "  warn(\"Some inputs do not have OOB scores. \"\n"
     ]
    },
    {
     "name": "stdout",
     "output_type": "stream",
     "text": [
      "4\n"
     ]
    },
    {
     "name": "stderr",
     "output_type": "stream",
     "text": [
      "C:\\Users\\Cankil\\miniconda3\\envs\\ds\\lib\\site-packages\\sklearn\\ensemble\\_forest.py:833: UserWarning: Some inputs do not have OOB scores. This probably means too few trees were used to compute any reliable oob estimates.\n",
      "  warn(\"Some inputs do not have OOB scores. \"\n"
     ]
    },
    {
     "name": "stdout",
     "output_type": "stream",
     "text": [
      "5\n"
     ]
    },
    {
     "name": "stderr",
     "output_type": "stream",
     "text": [
      "C:\\Users\\Cankil\\miniconda3\\envs\\ds\\lib\\site-packages\\sklearn\\ensemble\\_forest.py:833: UserWarning: Some inputs do not have OOB scores. This probably means too few trees were used to compute any reliable oob estimates.\n",
      "  warn(\"Some inputs do not have OOB scores. \"\n"
     ]
    },
    {
     "name": "stdout",
     "output_type": "stream",
     "text": [
      "10\n"
     ]
    },
    {
     "name": "stderr",
     "output_type": "stream",
     "text": [
      "C:\\Users\\Cankil\\miniconda3\\envs\\ds\\lib\\site-packages\\sklearn\\ensemble\\_forest.py:833: UserWarning: Some inputs do not have OOB scores. This probably means too few trees were used to compute any reliable oob estimates.\n",
      "  warn(\"Some inputs do not have OOB scores. \"\n"
     ]
    },
    {
     "name": "stdout",
     "output_type": "stream",
     "text": [
      "25\n",
      "50\n",
      "100\n",
      "250\n",
      "500\n",
      "1000\n"
     ]
    }
   ],
   "source": [
    "train_RMSE = []\n",
    "test_RMSE = []\n",
    "train_r2 = []\n",
    "test_r2 = []\n",
    "oob_scores = []\n",
    "\n",
    "N_estimadores= [1,2,3,4,5,10,25,50,100,250,500,1000]\n",
    "for estimadores in N_estimadores:\n",
    "    print(estimadores)\n",
    "    clf = RandomForestRegressor(n_estimators=estimadores, max_features='sqrt', n_jobs=-1, oob_score = True, random_state = 42)\n",
    "    clf.fit(X_train,y_train)\n",
    "    \n",
    "    y_train_pred = clf.predict(X_train)\n",
    "    y_test_pred = clf.predict(X_test)\n",
    "    \n",
    "    train_RMSE.append(mean_squared_error(y_train,y_train_pred))\n",
    "    test_RMSE.append(mean_squared_error(y_test,y_test_pred))\n",
    "    train_r2.append(r2_score(y_train, y_train_pred))\n",
    "    test_r2.append(r2_score(y_test, y_test_pred))\n",
    "    oob_scores.append(clf.oob_score_)\n",
    "    \n",
    "train_RMSE = np.array(train_RMSE)\n",
    "test_RMSE = np.array(test_RMSE)\n",
    "\n",
    "train_r2 = np.array(train_r2)\n",
    "test_r2 = np.array(test_r2)\n",
    "\n",
    "\n",
    "oob_scores = np.array(oob_scores)"
   ]
  },
  {
   "cell_type": "code",
   "execution_count": 62,
   "id": "1a3714b7",
   "metadata": {},
   "outputs": [
    {
     "data": {
      "text/plain": [
       "<matplotlib.legend.Legend at 0x2dfc31c29d0>"
      ]
     },
     "execution_count": 62,
     "metadata": {},
     "output_type": "execute_result"
    },
    {
     "data": {
      "image/png": "[encoded data removed]",
      "text/plain": [
       "<Figure size 576x432 with 1 Axes>"
      ]
     },
     "metadata": {
      "needs_background": "light"
     },
     "output_type": "display_data"
    }
   ],
   "source": [
    "plt.figure(figsize = (8,6))\n",
    "plt.plot(N_estimadores, train_RMSE, label = 'train_RMSE')\n",
    "plt.plot(N_estimadores, test_RMSE, label = 'test_RMSE')\n",
    "plt.plot(N_estimadores, oob_scores, label = 'OOB')\n",
    "plt.xlabel('Numero de estimadores')\n",
    "plt.ylabel('RMSE')\n",
    "plt.legend()"
   ]
  },
  {
   "cell_type": "code",
   "execution_count": 63,
   "id": "2563640e",
   "metadata": {
    "scrolled": true
   },
   "outputs": [
    {
     "data": {
      "image/png": "[encoded data removed]",
      "text/plain": [
       "<Figure size 576x432 with 1 Axes>"
      ]
     },
     "metadata": {
      "needs_background": "light"
     },
     "output_type": "display_data"
    }
   ],
   "source": [
    "plt.figure(figsize = (8,6))\n",
    "plt.plot(N_estimadores, train_r2, label = 'train_r2')\n",
    "plt.plot(N_estimadores, test_r2, label = 'test_r2')\n",
    "plt.plot(N_estimadores, oob_scores, label = 'OOB')\n",
    "plt.xlabel('Numero de estimadores')\n",
    "plt.ylabel('r2')\n",
    "plt.legend()\n",
    "# plt.xlim(0,50)\n",
    "plt.show()\n",
    "\n"
   ]
  },
  {
   "cell_type": "markdown",
   "id": "e2b74ffd",
   "metadata": {},
   "source": [
    "## Ahora vamos a construir un Adaboost "
   ]
  },
  {
   "cell_type": "code",
   "execution_count": 64,
   "id": "6c8f1345",
   "metadata": {},
   "outputs": [],
   "source": [
    "from sklearn.ensemble import AdaBoostRegressor"
   ]
  },
  {
   "cell_type": "code",
   "execution_count": 65,
   "id": "e0428bae",
   "metadata": {},
   "outputs": [],
   "source": [
    "#X = dummies[[\"rooms\",\"surface_covered\",\"surface_total\",\"bedrooms\",\"bathrooms\",\"property_type_Casa\",\"property_type_Casa de campo\",\"property_type_Cochera\",\"property_type_Departamento\",\"property_type_Depósito\",\"property_type_Local comercial\",\"property_type_Lote\",\"property_type_Oficina\",\"property_type_Otro\",\"property_type_PH\"]] #Observa que sólo usamos 3 features del dataset\n",
    "#y = dummies['price']"
   ]
  },
  {
   "cell_type": "code",
   "execution_count": 66,
   "id": "cc274009",
   "metadata": {},
   "outputs": [],
   "source": [
    "X_train, X_test, y_train, y_test = train_test_split(X_escalado, y, test_size=0.30, random_state=42)"
   ]
  },
  {
   "cell_type": "code",
   "execution_count": 67,
   "id": "9f74df6e",
   "metadata": {
    "scrolled": true
   },
   "outputs": [
    {
     "data": {
      "text/plain": [
       "AdaBoostRegressor(base_estimator=DecisionTreeRegressor())"
      ]
     },
     "execution_count": 67,
     "metadata": {},
     "output_type": "execute_result"
    }
   ],
   "source": [
    "ada_clf = AdaBoostRegressor(DecisionTreeRegressor())\n",
    "# Entrenamos el modelo\n",
    "ada_clf.fit(X_train, y_train)\n",
    "#get_params().keys()"
   ]
  },
  {
   "cell_type": "code",
   "execution_count": 68,
   "id": "f592b130",
   "metadata": {},
   "outputs": [],
   "source": [
    "y_train_pred = ada_clf.predict(X_train)\n",
    "y_test_pred = ada_clf.predict(X_test)"
   ]
  },
  {
   "cell_type": "code",
   "execution_count": 69,
   "id": "6b9d7e3f",
   "metadata": {},
   "outputs": [],
   "source": [
    "RMSE_train=np.sqrt(mean_squared_error(y_train,y_train_pred))\n",
    "RMSE_test=np.sqrt(mean_squared_error(y_test,y_test_pred))\n",
    "r2_train= metrics.r2_score(y_train, y_train_pred)\n",
    "r2_test= metrics.r2_score(y_test, y_test_pred)"
   ]
  },
  {
   "cell_type": "code",
   "execution_count": 70,
   "id": "728b5bf6",
   "metadata": {
    "scrolled": false
   },
   "outputs": [
    {
     "name": "stdout",
     "output_type": "stream",
     "text": [
      "*******************************************\n",
      "Error cudratico medio train: 34696.92676814216\n",
      "Error cudratico medio test: 46421.11399689121\n",
      "*******************************************\n",
      "El Coeficiente de determinacion train: 0.8564723552567675\n",
      "El Coeficiente de determinacion test: 0.7426220556464167\n",
      "*******************************************\n"
     ]
    }
   ],
   "source": [
    "print(\"*******************************************\")\n",
    "print(\"Error cudratico medio train:\",RMSE_train)\n",
    "print(\"Error cudratico medio test:\",RMSE_test)\n",
    "print(\"*******************************************\")\n",
    "print(\"El Coeficiente de determinacion train:\",r2_train)\n",
    "print(\"El Coeficiente de determinacion test:\",r2_test)\n",
    "print(\"*******************************************\")"
   ]
  },
  {
   "cell_type": "code",
   "execution_count": 71,
   "id": "68886757",
   "metadata": {},
   "outputs": [
    {
     "data": {
      "text/plain": [
       "RandomizedSearchCV(cv=3, estimator=AdaBoostRegressor(), n_jobs=-1,\n",
       "                   param_distributions={'learning_rate': [0.01, 0.05, 0.1, 0.3,\n",
       "                                                          1],\n",
       "                                        'loss': ['linear', 'square',\n",
       "                                                 'exponential'],\n",
       "                                        'n_estimators': [50, 100, 250, 500,\n",
       "                                                         1000]})"
      ]
     },
     "execution_count": 71,
     "metadata": {},
     "output_type": "execute_result"
    }
   ],
   "source": [
    "\n",
    "param_dist = {\n",
    " 'n_estimators': [50, 100,250,500,1000],\n",
    " 'learning_rate' : [0.01,0.05,0.1,0.3,1],\n",
    " 'loss' : ['linear', 'square', 'exponential']\n",
    " }\n",
    "\n",
    "ada_clf = RandomizedSearchCV(AdaBoostRegressor(),\n",
    " param_distributions = param_dist,\n",
    " cv=3,\n",
    " n_iter = 10,\n",
    " n_jobs=-1)\n",
    "\n",
    "ada_clf.fit(X_train, y_train)"
   ]
  },
  {
   "cell_type": "code",
   "execution_count": 72,
   "id": "61ee7dfd",
   "metadata": {
    "scrolled": false
   },
   "outputs": [
    {
     "data": {
      "text/plain": [
       "{'n_estimators': 500, 'loss': 'exponential', 'learning_rate': 0.01}"
      ]
     },
     "execution_count": 72,
     "metadata": {},
     "output_type": "execute_result"
    }
   ],
   "source": [
    "ada_clf.best_params_"
   ]
  },
  {
   "cell_type": "code",
   "execution_count": 103,
   "id": "df633917",
   "metadata": {},
   "outputs": [],
   "source": [
    "ada_clf = AdaBoostRegressor(DecisionTreeRegressor(max_depth=20),n_estimators=500,loss='exponential',learning_rate=0.01)\n"
   ]
  },
  {
   "cell_type": "code",
   "execution_count": 104,
   "id": "7e34770b",
   "metadata": {},
   "outputs": [
    {
     "data": {
      "text/plain": [
       "AdaBoostRegressor(base_estimator=DecisionTreeRegressor(max_depth=20),\n",
       "                  learning_rate=0.01, loss='exponential', n_estimators=500)"
      ]
     },
     "execution_count": 104,
     "metadata": {},
     "output_type": "execute_result"
    }
   ],
   "source": [
    "ada_clf.fit(X_train, y_train)\n"
   ]
  },
  {
   "cell_type": "code",
   "execution_count": 105,
   "id": "1503ee1f",
   "metadata": {},
   "outputs": [],
   "source": [
    "y_train_pred = ada_clf.predict(X_train)\n",
    "y_test_pred = ada_clf.predict(X_test)"
   ]
  },
  {
   "cell_type": "code",
   "execution_count": 106,
   "id": "1861ec81",
   "metadata": {},
   "outputs": [],
   "source": [
    "RMSE_train=np.sqrt(mean_squared_error(y_train,y_train_pred))\n",
    "RMSE_test=np.sqrt(mean_squared_error(y_test,y_test_pred))\n",
    "r2_train= metrics.r2_score(y_train, y_train_pred)\n",
    "r2_test= metrics.r2_score(y_test, y_test_pred)"
   ]
  },
  {
   "cell_type": "code",
   "execution_count": 107,
   "id": "deebab93",
   "metadata": {
    "scrolled": true
   },
   "outputs": [
    {
     "name": "stdout",
     "output_type": "stream",
     "text": [
      "*******************************************\n",
      "Error cudratico medio train: 31809.31628574396\n",
      "Error cudratico medio test: 45996.243785549035\n",
      "*******************************************\n",
      "El Coeficiente de determinacion train: 0.8793680889038161\n",
      "El Coeficiente de determinacion test: 0.7473118094243325\n",
      "*******************************************\n"
     ]
    }
   ],
   "source": [
    "print(\"*******************************************\")\n",
    "print(\"Error cudratico medio train:\",RMSE_train)\n",
    "print(\"Error cudratico medio test:\",RMSE_test)\n",
    "print(\"*******************************************\")\n",
    "print(\"El Coeficiente de determinacion train:\",r2_train)\n",
    "print(\"El Coeficiente de determinacion test:\",r2_test)\n",
    "print(\"*******************************************\")"
   ]
  },
  {
   "cell_type": "code",
   "execution_count": 108,
   "id": "23719d57",
   "metadata": {},
   "outputs": [
    {
     "name": "stdout",
     "output_type": "stream",
     "text": [
      "Modelo: Árbol de Decisión\n",
      "Raíz del error cuadrático medio en Train: 31497.856737497506\n",
      "Raíz del error cuadrático medio en Test: 43726.262442405256\n",
      "--------------------------\n",
      "R2 o coeficiente de determinacion train : 0.881718847913086\n",
      "R2 o coeficiente de determinacion test: 0.7716374281467351\n",
      "--------------------------\n"
     ]
    },
    {
     "name": "stderr",
     "output_type": "stream",
     "text": [
      "C:\\Users\\Cankil\\miniconda3\\envs\\ds\\lib\\site-packages\\seaborn\\distributions.py:2557: FutureWarning: `distplot` is a deprecated function and will be removed in a future version. Please adapt your code to use either `displot` (a figure-level function with similar flexibility) or `histplot` (an axes-level function for histograms).\n",
      "  warnings.warn(msg, FutureWarning)\n",
      "C:\\Users\\Cankil\\miniconda3\\envs\\ds\\lib\\site-packages\\seaborn\\distributions.py:2557: FutureWarning: `distplot` is a deprecated function and will be removed in a future version. Please adapt your code to use either `displot` (a figure-level function with similar flexibility) or `histplot` (an axes-level function for histograms).\n",
      "  warnings.warn(msg, FutureWarning)\n"
     ]
    },
    {
     "data": {
      "image/png": "[encoded data removed]",
      "text/plain": [
       "<Figure size 720x288 with 2 Axes>"
      ]
     },
     "metadata": {
      "needs_background": "light"
     },
     "output_type": "display_data"
    },
    {
     "name": "stdout",
     "output_type": "stream",
     "text": [
      "Modelo: Random Forest\n",
      "Raíz del error cuadrático medio en Train: 32735.023479016625\n",
      "Raíz del error cuadrático medio en Test: 40840.405527739495\n",
      "--------------------------\n",
      "R2 o coeficiente de determinacion train : 0.8722447215688509\n",
      "R2 o coeficiente de determinacion test: 0.8007857948667396\n",
      "--------------------------\n"
     ]
    },
    {
     "name": "stderr",
     "output_type": "stream",
     "text": [
      "C:\\Users\\Cankil\\miniconda3\\envs\\ds\\lib\\site-packages\\seaborn\\distributions.py:2557: FutureWarning: `distplot` is a deprecated function and will be removed in a future version. Please adapt your code to use either `displot` (a figure-level function with similar flexibility) or `histplot` (an axes-level function for histograms).\n",
      "  warnings.warn(msg, FutureWarning)\n",
      "C:\\Users\\Cankil\\miniconda3\\envs\\ds\\lib\\site-packages\\seaborn\\distributions.py:2557: FutureWarning: `distplot` is a deprecated function and will be removed in a future version. Please adapt your code to use either `displot` (a figure-level function with similar flexibility) or `histplot` (an axes-level function for histograms).\n",
      "  warnings.warn(msg, FutureWarning)\n"
     ]
    },
    {
     "data": {
      "image/png": "[encoded data removed]",
      "text/plain": [
       "<Figure size 720x288 with 2 Axes>"
      ]
     },
     "metadata": {
      "needs_background": "light"
     },
     "output_type": "display_data"
    },
    {
     "name": "stdout",
     "output_type": "stream",
     "text": [
      "Modelo: ADA Boost\n",
      "Raíz del error cuadrático medio en Train: 31809.31628574396\n",
      "Raíz del error cuadrático medio en Test: 45996.243785549035\n",
      "--------------------------\n",
      "R2 o coeficiente de determinacion train : 0.8793680889038161\n",
      "R2 o coeficiente de determinacion test: 0.7473118094243325\n",
      "--------------------------\n"
     ]
    },
    {
     "name": "stderr",
     "output_type": "stream",
     "text": [
      "C:\\Users\\Cankil\\miniconda3\\envs\\ds\\lib\\site-packages\\seaborn\\distributions.py:2557: FutureWarning: `distplot` is a deprecated function and will be removed in a future version. Please adapt your code to use either `displot` (a figure-level function with similar flexibility) or `histplot` (an axes-level function for histograms).\n",
      "  warnings.warn(msg, FutureWarning)\n",
      "C:\\Users\\Cankil\\miniconda3\\envs\\ds\\lib\\site-packages\\seaborn\\distributions.py:2557: FutureWarning: `distplot` is a deprecated function and will be removed in a future version. Please adapt your code to use either `displot` (a figure-level function with similar flexibility) or `histplot` (an axes-level function for histograms).\n",
      "  warnings.warn(msg, FutureWarning)\n"
     ]
    },
    {
     "data": {
      "image/png": "[encoded data removed]",
      "text/plain": [
       "<Figure size 720x288 with 2 Axes>"
      ]
     },
     "metadata": {
      "needs_background": "light"
     },
     "output_type": "display_data"
    }
   ],
   "source": [
    "modelos = ['Árbol de Decisión', 'Random Forest', 'ADA Boost']\n",
    "\n",
    "for i, model in enumerate([decision_tree, clf, ada_clf]):\n",
    "    y_train_pred = model.predict(X_train)\n",
    "    y_test_pred = model.predict(X_test)\n",
    "    \n",
    "    \n",
    "    print(f'Modelo: {modelos[i]}')\n",
    "\n",
    "    rmse_train = np.sqrt(mean_squared_error(y_train, y_train_pred))\n",
    "    rmse_test = np.sqrt(mean_squared_error(y_test, y_test_pred))\n",
    "    \n",
    "    \n",
    "    r2_train= metrics.r2_score(y_train, y_train_pred)\n",
    "    r2_test= metrics.r2_score(y_test, y_test_pred)\n",
    "    \n",
    "    print(f'Raíz del error cuadrático medio en Train: {rmse_train}')\n",
    "    print(f'Raíz del error cuadrático medio en Test: {rmse_test}')\n",
    "    print(\"--------------------------\")\n",
    "    \n",
    "    \n",
    "    \n",
    "    print(f'R2 o coeficiente de determinacion train : {r2_train}')\n",
    "    print(f'R2 o coeficiente de determinacion test: {r2_test}')\n",
    "    print(\"--------------------------\")\n",
    "    \n",
    "    plt.figure(figsize = (10,4))\n",
    "\n",
    "    plt.subplot(1,2,1)\n",
    "    sns.distplot(y_train - y_train_pred, bins = 20, label = 'train')\n",
    "    sns.distplot(y_test - y_test_pred, bins = 20, label = 'test')\n",
    "    plt.xlabel('errores')\n",
    "    plt.legend()\n",
    "\n",
    "\n",
    "    ax = plt.subplot(1,2,2)\n",
    "    ax.scatter(y_test,y_test_pred, s =2)\n",
    "    \n",
    "    lims = [\n",
    "    np.min([ax.get_xlim(), ax.get_ylim()]),  # min of both axes\n",
    "    np.max([ax.get_xlim(), ax.get_ylim()]),  # max of both axes]\n",
    "    ]\n",
    "    \n",
    "    ax.plot(lims, lims, 'k-', alpha=0.75, zorder=0)\n",
    "    plt.xlabel('y (test)')\n",
    "    plt.ylabel('y_pred (test)')\n",
    "    \n",
    "    plt.tight_layout()\n",
    "    plt.show()"
   ]
  },
  {
   "cell_type": "code",
   "execution_count": null,
   "id": "d667ee20",
   "metadata": {},
   "outputs": [],
   "source": []
  },
  {
   "cell_type": "code",
   "execution_count": null,
   "id": "2bf15bbf",
   "metadata": {},
   "outputs": [],
   "source": []
  },
  {
   "cell_type": "code",
   "execution_count": null,
   "id": "aead6734",
   "metadata": {},
   "outputs": [],
   "source": []
  },
  {
   "cell_type": "markdown",
   "id": "d7b62614",
   "metadata": {},
   "source": [
    "\n",
    "### Después de haber optimizado y evaluado los modelos construidos hasta ahora escogería el Random Forest siendo este el que mayor rendimiento ha mostrado en las métricas de evaluación tendiendo un RMSE para train de 36381.67 y para test de 47422.84 así como un R2 de 0.84 en train y 0.80 en test mostrando poca varianza y desempeño sobresaliente frente a los otros 2 donde alcanzaron valores similares para el RMSE en train a este modelo pero aun así el random forest ostenta el RMSE  más bajo, ademas el ada boost y el árbol no alcanzaron el R2 del randon forest  por lo que para este caso seria el modelo mas robusto a utilizar\n"
   ]
  },
  {
   "cell_type": "code",
   "execution_count": 109,
   "id": "a5776e6a",
   "metadata": {},
   "outputs": [
    {
     "data": {
      "image/png": "[encoded data removed]",
      "text/plain": [
       "<Figure size 576x576 with 2 Axes>"
      ]
     },
     "metadata": {
      "needs_background": "light"
     },
     "output_type": "display_data"
    }
   ],
   "source": [
    "corr = dummies2.corr()\n",
    "plt.figure(figsize=(8,8))\n",
    "sns.heatmap(corr, cbar = True,  square = True, annot=True, fmt= '.2f',annot_kws={'size': 15},\n",
    "           cmap= 'coolwarm')\n",
    "plt.xticks(rotation = 45)\n",
    "plt.yticks(rotation = 45)\n",
    "plt.show()"
   ]
  },
  {
   "cell_type": "markdown",
   "id": "18ce0ade",
   "metadata": {},
   "source": [
    "## ¿ Que variables fueron relevantes para el modelo para hacer al una prediccion?"
   ]
  },
  {
   "cell_type": "markdown",
   "id": "7767097c",
   "metadata": {},
   "source": [
    "## -  Ya que el modelo mas robusto para este ejercicio fue el modelo de randon forest vamos        a centrar el analisis sobre este por      lo que primeroidentificamos las variables que mas          influencia tuvieron en la predicicon, siendo estas las variables relativas    al tamaño de la        propiedad como surface_covered y surface_total teniendo 35.6%  de importamcia y 34.8%        en u tercer lugar de    importancia la cantidad de baños con un 14.4% y de ahi para abajo          todas las variables con menos de 10% de influencia sobre el resultado del modelo de esto      podemos inferir que aparte de la cantidad de espacio de un predio en este influye de                manera sustancial la cantidada de baños de este "
   ]
  },
  {
   "cell_type": "code",
   "execution_count": 110,
   "id": "94b410a4",
   "metadata": {},
   "outputs": [
    {
     "data": {
      "text/html": [
       "<div>\n",
       "<style scoped>\n",
       "    .dataframe tbody tr th:only-of-type {\n",
       "        vertical-align: middle;\n",
       "    }\n",
       "\n",
       "    .dataframe tbody tr th {\n",
       "        vertical-align: top;\n",
       "    }\n",
       "\n",
       "    .dataframe thead th {\n",
       "        text-align: right;\n",
       "    }\n",
       "</style>\n",
       "<table border=\"1\" class=\"dataframe\">\n",
       "  <thead>\n",
       "    <tr style=\"text-align: right;\">\n",
       "      <th></th>\n",
       "      <th>col_name</th>\n",
       "    </tr>\n",
       "  </thead>\n",
       "  <tbody>\n",
       "    <tr>\n",
       "      <th>surface_covered</th>\n",
       "      <td>0.356843</td>\n",
       "    </tr>\n",
       "    <tr>\n",
       "      <th>surface_total</th>\n",
       "      <td>0.347870</td>\n",
       "    </tr>\n",
       "    <tr>\n",
       "      <th>bathrooms</th>\n",
       "      <td>0.134569</td>\n",
       "    </tr>\n",
       "    <tr>\n",
       "      <th>rooms</th>\n",
       "      <td>0.066704</td>\n",
       "    </tr>\n",
       "    <tr>\n",
       "      <th>bedrooms</th>\n",
       "      <td>0.057728</td>\n",
       "    </tr>\n",
       "    <tr>\n",
       "      <th>property_type_Departamento</th>\n",
       "      <td>0.020894</td>\n",
       "    </tr>\n",
       "    <tr>\n",
       "      <th>property_type_PH</th>\n",
       "      <td>0.009567</td>\n",
       "    </tr>\n",
       "    <tr>\n",
       "      <th>property_type_Casa</th>\n",
       "      <td>0.005825</td>\n",
       "    </tr>\n",
       "  </tbody>\n",
       "</table>\n",
       "</div>"
      ],
      "text/plain": [
       "                            col_name\n",
       "surface_covered             0.356843\n",
       "surface_total               0.347870\n",
       "bathrooms                   0.134569\n",
       "rooms                       0.066704\n",
       "bedrooms                    0.057728\n",
       "property_type_Departamento  0.020894\n",
       "property_type_PH            0.009567\n",
       "property_type_Casa          0.005825"
      ]
     },
     "execution_count": 110,
     "metadata": {},
     "output_type": "execute_result"
    }
   ],
   "source": [
    "importancias=pd.DataFrame({'col_name': clf.feature_importances_}, index=X.columns).sort_values(by='col_name', ascending=False)\n",
    "\n",
    "importancias "
   ]
  },
  {
   "cell_type": "code",
   "execution_count": 111,
   "id": "896218c4",
   "metadata": {},
   "outputs": [
    {
     "data": {
      "text/plain": [
       "<AxesSubplot:>"
      ]
     },
     "execution_count": 111,
     "metadata": {},
     "output_type": "execute_result"
    },
    {
     "data": {
      "image/png": "[encoded data removed]",
      "text/plain": [
       "<Figure size 432x288 with 1 Axes>"
      ]
     },
     "metadata": {
      "needs_background": "light"
     },
     "output_type": "display_data"
    }
   ],
   "source": [
    "importancias.plot(kind='bar')"
   ]
  },
  {
   "cell_type": "markdown",
   "id": "1480a9f7",
   "metadata": {},
   "source": [
    "### Ahora vamos a traer unos cuantos arboles del random forest para comparar entre estos vamos a usar el estimador 10 , 30 , 50 y 80."
   ]
  },
  {
   "cell_type": "code",
   "execution_count": 112,
   "id": "1414f473",
   "metadata": {},
   "outputs": [
    {
     "data": {
      "text/plain": [
       "{'ccp_alpha': 0.0,\n",
       " 'criterion': 'mse',\n",
       " 'max_depth': None,\n",
       " 'max_features': 'sqrt',\n",
       " 'max_leaf_nodes': None,\n",
       " 'min_impurity_decrease': 0.0,\n",
       " 'min_impurity_split': None,\n",
       " 'min_samples_leaf': 1,\n",
       " 'min_samples_split': 2,\n",
       " 'min_weight_fraction_leaf': 0.0,\n",
       " 'random_state': 669991378,\n",
       " 'splitter': 'best'}"
      ]
     },
     "execution_count": 112,
     "metadata": {},
     "output_type": "execute_result"
    }
   ],
   "source": [
    "clf_tree = clf.estimators_[10]\n",
    "clf_tree.get_params()"
   ]
  },
  {
   "cell_type": "code",
   "execution_count": 113,
   "id": "02583e70",
   "metadata": {},
   "outputs": [
    {
     "name": "stdout",
     "output_type": "stream",
     "text": [
      "*******************************************\n",
      "Error cudratico medio train: 39739.64002343835\n",
      "Error cudratico medio test: 47936.15480383074\n",
      "*******************************************\n",
      "El Coeficiente de determinacion train: 0.8117212107411091\n",
      "El Coeficiente de determinacion test: 0.7255478737624927\n",
      "*******************************************\n"
     ]
    }
   ],
   "source": [
    "y_train_pred = clf_tree.predict(X_train)\n",
    "y_test_pred = clf_tree.predict(X_test)\n",
    "\n",
    "RMSE_train=np.sqrt(mean_squared_error(y_train,y_train_pred))\n",
    "RMSE_test=np.sqrt(mean_squared_error(y_test,y_test_pred))\n",
    "r2_train= metrics.r2_score(y_train, y_train_pred)\n",
    "r2_test= metrics.r2_score(y_test, y_test_pred)\n",
    "\n",
    "print(\"*******************************************\")\n",
    "print(\"Error cudratico medio train:\",RMSE_train)\n",
    "print(\"Error cudratico medio test:\",RMSE_test)\n",
    "print(\"*******************************************\")\n",
    "print(\"El Coeficiente de determinacion train:\",r2_train)\n",
    "print(\"El Coeficiente de determinacion test:\",r2_test)\n",
    "print(\"*******************************************\")"
   ]
  },
  {
   "cell_type": "code",
   "execution_count": 114,
   "id": "b8423b68",
   "metadata": {},
   "outputs": [
    {
     "data": {
      "text/plain": [
       "{'ccp_alpha': 0.0,\n",
       " 'criterion': 'mse',\n",
       " 'max_depth': None,\n",
       " 'max_features': 'sqrt',\n",
       " 'max_leaf_nodes': None,\n",
       " 'min_impurity_decrease': 0.0,\n",
       " 'min_impurity_split': None,\n",
       " 'min_samples_leaf': 1,\n",
       " 'min_samples_split': 2,\n",
       " 'min_weight_fraction_leaf': 0.0,\n",
       " 'random_state': 787716372,\n",
       " 'splitter': 'best'}"
      ]
     },
     "execution_count": 114,
     "metadata": {},
     "output_type": "execute_result"
    }
   ],
   "source": [
    "clf_tree = clf.estimators_[30]\n",
    "clf_tree.get_params()"
   ]
  },
  {
   "cell_type": "code",
   "execution_count": 115,
   "id": "0bc14d2b",
   "metadata": {},
   "outputs": [
    {
     "name": "stdout",
     "output_type": "stream",
     "text": [
      "*******************************************\n",
      "Error cudratico medio train: 39882.23053215752\n",
      "Error cudratico medio test: 48522.707682952605\n",
      "*******************************************\n",
      "El Coeficiente de determinacion train: 0.8103676537884578\n",
      "El Coeficiente de determinacion test: 0.7187903198642986\n",
      "*******************************************\n"
     ]
    }
   ],
   "source": [
    "y_train_pred = clf_tree.predict(X_train)\n",
    "y_test_pred = clf_tree.predict(X_test)\n",
    "\n",
    "RMSE_train=np.sqrt(mean_squared_error(y_train,y_train_pred))\n",
    "RMSE_test=np.sqrt(mean_squared_error(y_test,y_test_pred))\n",
    "r2_train= metrics.r2_score(y_train, y_train_pred)\n",
    "r2_test= metrics.r2_score(y_test, y_test_pred)\n",
    "\n",
    "print(\"*******************************************\")\n",
    "print(\"Error cudratico medio train:\",RMSE_train)\n",
    "print(\"Error cudratico medio test:\",RMSE_test)\n",
    "print(\"*******************************************\")\n",
    "print(\"El Coeficiente de determinacion train:\",r2_train)\n",
    "print(\"El Coeficiente de determinacion test:\",r2_test)\n",
    "print(\"*******************************************\")"
   ]
  },
  {
   "cell_type": "code",
   "execution_count": 116,
   "id": "39fd0935",
   "metadata": {},
   "outputs": [
    {
     "data": {
      "text/plain": [
       "{'ccp_alpha': 0.0,\n",
       " 'criterion': 'mse',\n",
       " 'max_depth': None,\n",
       " 'max_features': 'sqrt',\n",
       " 'max_leaf_nodes': None,\n",
       " 'min_impurity_decrease': 0.0,\n",
       " 'min_impurity_split': None,\n",
       " 'min_samples_leaf': 1,\n",
       " 'min_samples_split': 2,\n",
       " 'min_weight_fraction_leaf': 0.0,\n",
       " 'random_state': 1224821422,\n",
       " 'splitter': 'best'}"
      ]
     },
     "execution_count": 116,
     "metadata": {},
     "output_type": "execute_result"
    }
   ],
   "source": [
    "clf_tree = clf.estimators_[50]\n",
    "clf_tree.get_params()"
   ]
  },
  {
   "cell_type": "code",
   "execution_count": 117,
   "id": "8102e6e0",
   "metadata": {},
   "outputs": [
    {
     "name": "stdout",
     "output_type": "stream",
     "text": [
      "*******************************************\n",
      "Error cudratico medio train: 39334.06696032664\n",
      "Error cudratico medio test: 48092.04422186326\n",
      "*******************************************\n",
      "El Coeficiente de determinacion train: 0.8155446548068734\n",
      "El Coeficiente de determinacion test: 0.7237599226864033\n",
      "*******************************************\n"
     ]
    }
   ],
   "source": [
    "y_train_pred = clf_tree.predict(X_train)\n",
    "y_test_pred = clf_tree.predict(X_test)\n",
    "\n",
    "RMSE_train=np.sqrt(mean_squared_error(y_train,y_train_pred))\n",
    "RMSE_test=np.sqrt(mean_squared_error(y_test,y_test_pred))\n",
    "r2_train= metrics.r2_score(y_train, y_train_pred)\n",
    "r2_test= metrics.r2_score(y_test, y_test_pred)\n",
    "\n",
    "print(\"*******************************************\")\n",
    "print(\"Error cudratico medio train:\",RMSE_train)\n",
    "print(\"Error cudratico medio test:\",RMSE_test)\n",
    "print(\"*******************************************\")\n",
    "print(\"El Coeficiente de determinacion train:\",r2_train)\n",
    "print(\"El Coeficiente de determinacion test:\",r2_test)\n",
    "print(\"*******************************************\")"
   ]
  },
  {
   "cell_type": "code",
   "execution_count": 118,
   "id": "a55213b8",
   "metadata": {},
   "outputs": [
    {
     "data": {
      "text/plain": [
       "{'ccp_alpha': 0.0,\n",
       " 'criterion': 'mse',\n",
       " 'max_depth': None,\n",
       " 'max_features': 'sqrt',\n",
       " 'max_leaf_nodes': None,\n",
       " 'min_impurity_decrease': 0.0,\n",
       " 'min_impurity_split': None,\n",
       " 'min_samples_leaf': 1,\n",
       " 'min_samples_split': 2,\n",
       " 'min_weight_fraction_leaf': 0.0,\n",
       " 'random_state': 524150214,\n",
       " 'splitter': 'best'}"
      ]
     },
     "execution_count": 118,
     "metadata": {},
     "output_type": "execute_result"
    }
   ],
   "source": [
    "clf_tree = clf.estimators_[80]\n",
    "clf_tree.get_params()"
   ]
  },
  {
   "cell_type": "code",
   "execution_count": 119,
   "id": "dba5bba5",
   "metadata": {},
   "outputs": [
    {
     "name": "stdout",
     "output_type": "stream",
     "text": [
      "*******************************************\n",
      "Error cudratico medio train: 39507.53766700517\n",
      "Error cudratico medio test: 48705.20569085964\n",
      "*******************************************\n",
      "El Coeficiente de determinacion train: 0.8139141009738042\n",
      "El Coeficiente de determinacion test: 0.7166710351539913\n",
      "*******************************************\n"
     ]
    }
   ],
   "source": [
    "y_train_pred = clf_tree.predict(X_train)\n",
    "y_test_pred = clf_tree.predict(X_test)\n",
    "\n",
    "RMSE_train=np.sqrt(mean_squared_error(y_train,y_train_pred))\n",
    "RMSE_test=np.sqrt(mean_squared_error(y_test,y_test_pred))\n",
    "r2_train= metrics.r2_score(y_train, y_train_pred)\n",
    "r2_test= metrics.r2_score(y_test, y_test_pred)\n",
    "\n",
    "print(\"*******************************************\")\n",
    "print(\"Error cudratico medio train:\",RMSE_train)\n",
    "print(\"Error cudratico medio test:\",RMSE_test)\n",
    "print(\"*******************************************\")\n",
    "print(\"El Coeficiente de determinacion train:\",r2_train)\n",
    "print(\"El Coeficiente de determinacion test:\",r2_test)\n",
    "print(\"*******************************************\")"
   ]
  },
  {
   "cell_type": "markdown",
   "id": "31926d07",
   "metadata": {},
   "source": [
    "## -Comparando el rendimiento de estos arboles podemos ver la fortaleza de los algoritmos         de baggin, ya que de por si los arboles no tienen un rendimiento que supere el 70% sin             embargo cuando estos se combinan el redimiento del modelo en general mejora mas               del 10%.\n",
    "## -Los párametros mas importantes segun lo ebservado para este modelo seria la cantidad         de estimadores ya que la profundidad de los arboles para el random forest suele ser poca\n",
    "## -Revisando estos arboles al azar podemos inferir que segun los parametros fijados lo que         cambia en estos es el randon state el cual controla la aletoriedad de estos \n",
    "## -Con relacion a los resulatdos esperados para este dataset puedo afirmar que el                         comportamiento de este fue como se esperaba ya que en el anterior ejercico nos dieron           los filtros para el preprocesamiento sin embargo para este no hubo parametros                         especificos de como filtar aun asi la cantidad de filas y columas dadas la vez anteriror             sirvieron de guia para llegar a un dataset lo mas limpio posible ademas de que esta vez ya       teniamos mas herramientas en la caja para poder codificar variables numericas o agregar       dummys dependiendo del caso "
   ]
  },
  {
   "cell_type": "markdown",
   "id": "78614005",
   "metadata": {},
   "source": [
    "# -Concluisiones sobre este ejercicio de machine learning\n"
   ]
  },
  {
   "cell_type": "markdown",
   "id": "61471fa3",
   "metadata": {},
   "source": [
    "## - Una de las conclusiones de este proceso es que las variables asi no tengan una                        correlacion lineal con la variable a predecir pueden igual tener importancia a la hora de            las prediciones esto fue comprobado a travez de prueba y error corriendo los modelos            con variables dummys y sin variables dummys y cuando se hizo la prueba sin las                      dummys el r2 disminuyo en un 10%y RMSE  amunento.\n",
    "## - El correcto preprocesamiento es una de las tareas mas imporantes para el correcto                  desempeño de los modelo\n",
    "## - Siempre se busca llegar a un modelo en el punto medio de bias y varianaza ya que                    cuando se tiene mucho de uno es necesario aplicar transformaccion a los datos ya sea            para complejizarlos o simplificarlos dependiendo del caso \n",
    "## - El proceso de cientifico de datos es iterativo sobre los modelos\n",
    "## - Los modelos pueden ser mas o menos sensibe a la optmizacion de parametros ya que para este ejerciocio el modelo de random forest aumento 4% en test despues de la optimizacion de parametros moientras en ADAboost solo auento 0.02% respecto al resultado sin optimizar "
   ]
  },
  {
   "cell_type": "markdown",
   "id": "0ee8f955",
   "metadata": {},
   "source": [
    "### Vamos a ahora a aplicar PCA y a reentrenar un modelo con el el output del PCA "
   ]
  },
  {
   "cell_type": "code",
   "execution_count": 214,
   "id": "c51dcac4",
   "metadata": {},
   "outputs": [],
   "source": [
    "data = pd.read_csv('DS_Proyecto_01_Datos_Properati.csv')\n"
   ]
  },
  {
   "cell_type": "code",
   "execution_count": 216,
   "id": "70c928e2",
   "metadata": {},
   "outputs": [
    {
     "data": {
      "text/plain": [
       "(85693, 11)"
      ]
     },
     "execution_count": 216,
     "metadata": {},
     "output_type": "execute_result"
    }
   ],
   "source": [
    "X = dummies2[[\"rooms\",\"surface_covered\",\"surface_total\",\"bedrooms\",\"bathrooms\",\"property_type_Casa\",\"property_type_Departamento\",\"property_type_PH\"]] #Observa que sólo usamos 3 features del dataset\n",
    "y = dummies2['price']\n",
    "\n",
    "dummies2.shape"
   ]
  },
  {
   "cell_type": "code",
   "execution_count": 220,
   "id": "3bf5d76e",
   "metadata": {},
   "outputs": [],
   "source": [
    "from sklearn.decomposition import PCA\n",
    "from sklearn.cluster import KMeans\n",
    "import seaborn as sns\n",
    "\n",
    "pca = PCA(n_components=2)\n",
    "X_nuevo = pca.fit_transform(X) "
   ]
  },
  {
   "cell_type": "code",
   "execution_count": 221,
   "id": "0b9adbb0",
   "metadata": {},
   "outputs": [
    {
     "data": {
      "text/plain": [
       "array([[-11.11698837,   2.38548623],\n",
       "       [-38.93043792,  -2.14171584],\n",
       "       [ -3.88224557,  17.77115959],\n",
       "       ...,\n",
       "       [-40.91854317,   8.87177988],\n",
       "       [-48.72788913,  -0.72605768],\n",
       "       [  3.06724001,  -8.2772787 ]])"
      ]
     },
     "execution_count": 221,
     "metadata": {},
     "output_type": "execute_result"
    }
   ],
   "source": [
    "X_nuevo"
   ]
  },
  {
   "cell_type": "code",
   "execution_count": null,
   "id": "f32f3f1b",
   "metadata": {},
   "outputs": [],
   "source": []
  },
  {
   "cell_type": "code",
   "execution_count": 229,
   "id": "f054599f",
   "metadata": {},
   "outputs": [
    {
     "ename": "ValueError",
     "evalue": "The truth value of an array with more than one element is ambiguous. Use a.any() or a.all()",
     "output_type": "error",
     "traceback": [
      "\u001b[1;31m---------------------------------------------------------------------------\u001b[0m",
      "\u001b[1;31mValueError\u001b[0m                                Traceback (most recent call last)",
      "\u001b[1;32m<ipython-input-229-93f581bc0eb2>\u001b[0m in \u001b[0;36m<module>\u001b[1;34m\u001b[0m\n\u001b[0;32m      1\u001b[0m \u001b[0minertias\u001b[0m \u001b[1;33m=\u001b[0m \u001b[1;33m[\u001b[0m\u001b[1;33m]\u001b[0m\u001b[1;33m\u001b[0m\u001b[1;33m\u001b[0m\u001b[0m\n\u001b[1;32m----> 2\u001b[1;33m \u001b[1;32mfor\u001b[0m \u001b[0mk\u001b[0m \u001b[1;32min\u001b[0m \u001b[0many\u001b[0m\u001b[1;33m(\u001b[0m\u001b[0mX_nuevo\u001b[0m\u001b[1;33m)\u001b[0m\u001b[1;33m:\u001b[0m\u001b[1;33m\u001b[0m\u001b[1;33m\u001b[0m\u001b[0m\n\u001b[0m\u001b[0;32m      3\u001b[0m   \u001b[0mkmeans\u001b[0m \u001b[1;33m=\u001b[0m \u001b[0mKMeans\u001b[0m\u001b[1;33m(\u001b[0m\u001b[0mk\u001b[0m\u001b[1;33m)\u001b[0m\u001b[1;33m\u001b[0m\u001b[1;33m\u001b[0m\u001b[0m\n\u001b[0;32m      4\u001b[0m   \u001b[0mkmeans\u001b[0m\u001b[1;33m.\u001b[0m\u001b[0mfit\u001b[0m\u001b[1;33m(\u001b[0m\u001b[0mX_nuevo\u001b[0m\u001b[1;33m)\u001b[0m\u001b[1;33m\u001b[0m\u001b[1;33m\u001b[0m\u001b[0m\n\u001b[0;32m      5\u001b[0m   \u001b[0minertias\u001b[0m\u001b[1;33m.\u001b[0m\u001b[0mappend\u001b[0m\u001b[1;33m(\u001b[0m\u001b[0mkmeans\u001b[0m\u001b[1;33m.\u001b[0m\u001b[0minertia_\u001b[0m\u001b[1;33m)\u001b[0m\u001b[1;33m\u001b[0m\u001b[1;33m\u001b[0m\u001b[0m\n",
      "\u001b[1;31mValueError\u001b[0m: The truth value of an array with more than one element is ambiguous. Use a.any() or a.all()"
     ]
    }
   ],
   "source": [
    "inertias = []\n",
    "for k in any(X_nuevo):\n",
    "  kmeans = KMeans(k)\n",
    "  kmeans.fit(X_nuevo)\n",
    "  inertias.append(kmeans.inertia_)"
   ]
  },
  {
   "cell_type": "code",
   "execution_count": null,
   "id": "af3dd8c4",
   "metadata": {},
   "outputs": [],
   "source": [
    "sns.lineplot(range(2,10), inertias)"
   ]
  },
  {
   "cell_type": "code",
   "execution_count": null,
   "id": "96eedb66",
   "metadata": {},
   "outputs": [],
   "source": []
  },
  {
   "cell_type": "code",
   "execution_count": null,
   "id": "2fb70db2",
   "metadata": {},
   "outputs": [],
   "source": []
  }
 ],
 "metadata": {
  "kernelspec": {
   "display_name": "Python 3",
   "language": "python",
   "name": "python3"
  },
  "language_info": {
   "codemirror_mode": {
    "name": "ipython",
    "version": 3
   },
   "file_extension": ".py",
   "mimetype": "text/x-python",
   "name": "python",
   "nbconvert_exporter": "python",
   "pygments_lexer": "ipython3",
   "version": "3.8.8"
  }
 },
 "nbformat": 4,
 "nbformat_minor": 5
}
