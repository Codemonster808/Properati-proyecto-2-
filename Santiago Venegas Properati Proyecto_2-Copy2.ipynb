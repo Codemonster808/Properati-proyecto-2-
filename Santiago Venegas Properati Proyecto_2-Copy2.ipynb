{
 "cells": [
  {
   "cell_type": "markdown",
   "id": "285e5844",
   "metadata": {},
   "source": [
    "# 2 PROYECTO STORY POINTS \n",
    "\n",
    "# 1\n",
    "\n",
    "#### PUNTOS A REALIZAR \n",
    "     - DETECION Y ELIMINACION DE OUTLIERS \n",
    "     - ENCODING \n",
    "     - IMPUTACION DE VALORES FALTANTES \n",
    "     - REDUCCION DE DIMENSIONALIDAD \n",
    " # 2\n",
    "    - IMPLEMENTAR LAS TRSANFORMACIONES REQURIDAS \n",
    "    - VOLVER A ENTRENAR EL MODELO DE ARBOL DE DESICION \n",
    "    \n",
    "# 3 \n",
    "    - ESCOGER 2 MODELOS AVANZADOS (REGRESION LINEAL CON ATRIBUTOS             POLINOMICOS) REGULARIZACION \n",
    "    -OPTIMIZAR HIPER PARAMETROS CON UN CROSS VALIDATION Y CON UN GRID        SEARCH \n",
    "    - COMPARAR CON EL PRIMER MODELO CUAL ELEGIRIA Y POR QUE \n",
    "# 4\n",
    "    -DE ACUERDO A LO QUE EL MODELO PERMITE RESPONDE ALGUNAS O TODAS LAS      REGUNTAS: QUE VARIABLES FUERON RELEVANTES PARA EL MODELO PARA HACER      UNA PREDICCION? CUALES NO ?SI USASTE REGRESION LINEAL CON                NORMALIZACION PRESTA ATENCION A LOS PARAMETROS PENDIENTES , SI          USASTE DE E NSAMBLE DE ARBOLES , DEMAS DE VER LA IMPORTANCIOA DE        CADA ATRIBUTO TAMBIEN ELIGE ALGUNOS ARBOLES AL AZAR Y OBSERVA QUE        ATRIBUTOS CONSIDERAS IMPORTANTES \n",
    "     EN QUE SE DIFERENCIAN ESTOS ARBOLES ? POR QUE FINALMENETE RESPONDE\n",
    "     COINCIDE CON LO QUE ESPERABAS A PARTIR DE TU EXPERIENCIA CON ESTE        DATASET\n",
    "# 5 \n",
    "     -COMO ES LA DISTRUBUCION DE LOS ERRORES ? DONDE FALLAN LOS MODELOS?       A QUE SE DEBE \n",
    "# 6 \n",
    "     - CONCLUSIONES OBTENIDAS DEL TRABAJO "
   ]
  },
  {
   "cell_type": "code",
   "execution_count": 67,
   "id": "ff8a767b",
   "metadata": {},
   "outputs": [],
   "source": [
    "\n",
    "import numpy as np\n",
    "import pandas as pd\n",
    "import matplotlib.pyplot as plt\n",
    "import seaborn as sns\n",
    "sns.set()\n",
    "%matplotlib inline\n",
    "from sklearn.linear_model import LinearRegression\n",
    "from sklearn.tree import DecisionTreeRegressor\n",
    "from sklearn.neighbors import KNeighborsRegressor\n",
    "from sklearn.metrics import mean_absolute_error\n",
    "from sklearn.metrics import mean_squared_error\n",
    "from sklearn.metrics import r2_score\n",
    "from sklearn import metrics\n",
    "from sklearn.preprocessing import StandardScaler\n",
    "from sklearn.model_selection import cross_val_score\n",
    "from sklearn.model_selection import cross_validate\n",
    "from sklearn.model_selection import RandomizedSearchCV\n",
    "from sklearn.ensemble import RandomForestRegressor\n",
    "from sklearn.ensemble import AdaBoostRegressor\n"
   ]
  },
  {
   "cell_type": "code",
   "execution_count": 68,
   "id": "b4cdb659",
   "metadata": {
    "scrolled": true
   },
   "outputs": [
    {
     "name": "stdout",
     "output_type": "stream",
     "text": [
      "(146660, 19)\n"
     ]
    },
    {
     "data": {
      "text/html": [
       "<div>\n",
       "<style scoped>\n",
       "    .dataframe tbody tr th:only-of-type {\n",
       "        vertical-align: middle;\n",
       "    }\n",
       "\n",
       "    .dataframe tbody tr th {\n",
       "        vertical-align: top;\n",
       "    }\n",
       "\n",
       "    .dataframe thead th {\n",
       "        text-align: right;\n",
       "    }\n",
       "</style>\n",
       "<table border=\"1\" class=\"dataframe\">\n",
       "  <thead>\n",
       "    <tr style=\"text-align: right;\">\n",
       "      <th></th>\n",
       "      <th>start_date</th>\n",
       "      <th>end_date</th>\n",
       "      <th>created_on</th>\n",
       "      <th>lat</th>\n",
       "      <th>lon</th>\n",
       "      <th>l1</th>\n",
       "      <th>l2</th>\n",
       "      <th>l3</th>\n",
       "      <th>rooms</th>\n",
       "      <th>bedrooms</th>\n",
       "      <th>bathrooms</th>\n",
       "      <th>surface_total</th>\n",
       "      <th>surface_covered</th>\n",
       "      <th>price</th>\n",
       "      <th>currency</th>\n",
       "      <th>title</th>\n",
       "      <th>description</th>\n",
       "      <th>property_type</th>\n",
       "      <th>operation_type</th>\n",
       "    </tr>\n",
       "  </thead>\n",
       "  <tbody>\n",
       "    <tr>\n",
       "      <th>0</th>\n",
       "      <td>2019-10-17</td>\n",
       "      <td>2019-12-23</td>\n",
       "      <td>2019-10-17</td>\n",
       "      <td>-34.605880</td>\n",
       "      <td>-58.384949</td>\n",
       "      <td>Argentina</td>\n",
       "      <td>Capital Federal</td>\n",
       "      <td>San Cristobal</td>\n",
       "      <td>7.0</td>\n",
       "      <td>7.0</td>\n",
       "      <td>2.0</td>\n",
       "      <td>140.0</td>\n",
       "      <td>140.0</td>\n",
       "      <td>153000.0</td>\n",
       "      <td>USD</td>\n",
       "      <td>***Venta semipiso centro, ideal hostel*****</td>\n",
       "      <td>DESCRIPCION DE LA PROPIEDAD: Departamento de 1...</td>\n",
       "      <td>Departamento</td>\n",
       "      <td>Venta</td>\n",
       "    </tr>\n",
       "    <tr>\n",
       "      <th>1</th>\n",
       "      <td>2019-10-17</td>\n",
       "      <td>2019-11-21</td>\n",
       "      <td>2019-10-17</td>\n",
       "      <td>-34.624056</td>\n",
       "      <td>-58.412110</td>\n",
       "      <td>Argentina</td>\n",
       "      <td>Capital Federal</td>\n",
       "      <td>Boedo</td>\n",
       "      <td>2.0</td>\n",
       "      <td>1.0</td>\n",
       "      <td>2.0</td>\n",
       "      <td>70.0</td>\n",
       "      <td>58.0</td>\n",
       "      <td>159000.0</td>\n",
       "      <td>USD</td>\n",
       "      <td>Espectacular PH reciclado en Boedo sin expensas.</td>\n",
       "      <td>PH reciclado en Boedo a una cuadra de la plaz...</td>\n",
       "      <td>PH</td>\n",
       "      <td>Venta</td>\n",
       "    </tr>\n",
       "    <tr>\n",
       "      <th>2</th>\n",
       "      <td>2019-10-17</td>\n",
       "      <td>2019-11-01</td>\n",
       "      <td>2019-10-17</td>\n",
       "      <td>-34.593569</td>\n",
       "      <td>-58.427474</td>\n",
       "      <td>Argentina</td>\n",
       "      <td>Capital Federal</td>\n",
       "      <td>Palermo</td>\n",
       "      <td>2.0</td>\n",
       "      <td>1.0</td>\n",
       "      <td>1.0</td>\n",
       "      <td>45.0</td>\n",
       "      <td>45.0</td>\n",
       "      <td>125000.0</td>\n",
       "      <td>USD</td>\n",
       "      <td>Depto.tipo casa de 2 ambientes en Venta en Pal...</td>\n",
       "      <td>2 ambienets amplio , excelente estado , patio ...</td>\n",
       "      <td>PH</td>\n",
       "      <td>Venta</td>\n",
       "    </tr>\n",
       "    <tr>\n",
       "      <th>3</th>\n",
       "      <td>2019-10-17</td>\n",
       "      <td>2019-12-23</td>\n",
       "      <td>2019-10-17</td>\n",
       "      <td>-34.581294</td>\n",
       "      <td>-58.436754</td>\n",
       "      <td>Argentina</td>\n",
       "      <td>Capital Federal</td>\n",
       "      <td>Palermo</td>\n",
       "      <td>2.0</td>\n",
       "      <td>1.0</td>\n",
       "      <td>1.0</td>\n",
       "      <td>85.0</td>\n",
       "      <td>50.0</td>\n",
       "      <td>295000.0</td>\n",
       "      <td>USD</td>\n",
       "      <td>COSTA RICA 5800 / PALERMO HOLLYWOOD / VENTA PH...</td>\n",
       "      <td>HERMOSO PH EN PALERMO!!!2 AMBIENTES TOTALMENTE...</td>\n",
       "      <td>PH</td>\n",
       "      <td>Venta</td>\n",
       "    </tr>\n",
       "    <tr>\n",
       "      <th>4</th>\n",
       "      <td>2019-10-17</td>\n",
       "      <td>2020-03-11</td>\n",
       "      <td>2019-10-17</td>\n",
       "      <td>-34.914194</td>\n",
       "      <td>-57.938219</td>\n",
       "      <td>Argentina</td>\n",
       "      <td>Bs.As. G.B.A. Zona Sur</td>\n",
       "      <td>La Plata</td>\n",
       "      <td>2.0</td>\n",
       "      <td>1.0</td>\n",
       "      <td>1.0</td>\n",
       "      <td>50.0</td>\n",
       "      <td>35.0</td>\n",
       "      <td>40000.0</td>\n",
       "      <td>USD</td>\n",
       "      <td>58 entre 1 y 2  Venta de departamento en ph.1 ...</td>\n",
       "      <td>58 entre 1 y 2  Venta de departamento en PH. P...</td>\n",
       "      <td>PH</td>\n",
       "      <td>Venta</td>\n",
       "    </tr>\n",
       "  </tbody>\n",
       "</table>\n",
       "</div>"
      ],
      "text/plain": [
       "   start_date    end_date  created_on        lat        lon         l1  \\\n",
       "0  2019-10-17  2019-12-23  2019-10-17 -34.605880 -58.384949  Argentina   \n",
       "1  2019-10-17  2019-11-21  2019-10-17 -34.624056 -58.412110  Argentina   \n",
       "2  2019-10-17  2019-11-01  2019-10-17 -34.593569 -58.427474  Argentina   \n",
       "3  2019-10-17  2019-12-23  2019-10-17 -34.581294 -58.436754  Argentina   \n",
       "4  2019-10-17  2020-03-11  2019-10-17 -34.914194 -57.938219  Argentina   \n",
       "\n",
       "                       l2             l3  rooms  bedrooms  bathrooms  \\\n",
       "0         Capital Federal  San Cristobal    7.0       7.0        2.0   \n",
       "1         Capital Federal          Boedo    2.0       1.0        2.0   \n",
       "2         Capital Federal        Palermo    2.0       1.0        1.0   \n",
       "3         Capital Federal        Palermo    2.0       1.0        1.0   \n",
       "4  Bs.As. G.B.A. Zona Sur       La Plata    2.0       1.0        1.0   \n",
       "\n",
       "   surface_total  surface_covered     price currency  \\\n",
       "0          140.0            140.0  153000.0      USD   \n",
       "1           70.0             58.0  159000.0      USD   \n",
       "2           45.0             45.0  125000.0      USD   \n",
       "3           85.0             50.0  295000.0      USD   \n",
       "4           50.0             35.0   40000.0      USD   \n",
       "\n",
       "                                               title  \\\n",
       "0        ***Venta semipiso centro, ideal hostel*****   \n",
       "1   Espectacular PH reciclado en Boedo sin expensas.   \n",
       "2  Depto.tipo casa de 2 ambientes en Venta en Pal...   \n",
       "3  COSTA RICA 5800 / PALERMO HOLLYWOOD / VENTA PH...   \n",
       "4  58 entre 1 y 2  Venta de departamento en ph.1 ...   \n",
       "\n",
       "                                         description property_type  \\\n",
       "0  DESCRIPCION DE LA PROPIEDAD: Departamento de 1...  Departamento   \n",
       "1   PH reciclado en Boedo a una cuadra de la plaz...            PH   \n",
       "2  2 ambienets amplio , excelente estado , patio ...            PH   \n",
       "3  HERMOSO PH EN PALERMO!!!2 AMBIENTES TOTALMENTE...            PH   \n",
       "4  58 entre 1 y 2  Venta de departamento en PH. P...            PH   \n",
       "\n",
       "  operation_type  \n",
       "0          Venta  \n",
       "1          Venta  \n",
       "2          Venta  \n",
       "3          Venta  \n",
       "4          Venta  "
      ]
     },
     "execution_count": 68,
     "metadata": {},
     "output_type": "execute_result"
    }
   ],
   "source": [
    "data = pd.read_csv('DS_Proyecto_01_Datos_Properati.csv')\n",
    "print(data.shape)\n",
    "data.head()\n",
    "\n"
   ]
  },
  {
   "cell_type": "markdown",
   "id": "c62a31e9",
   "metadata": {},
   "source": [
    "### Visualizamos los tipos de propiedad"
   ]
  },
  {
   "cell_type": "code",
   "execution_count": 69,
   "id": "6b91ceef",
   "metadata": {},
   "outputs": [
    {
     "data": {
      "text/plain": [
       "array(['Departamento', 'PH', 'Casa', 'Lote', 'Casa de campo', 'Oficina',\n",
       "       'Otro', 'Local comercial', 'Cochera', 'Depósito'], dtype=object)"
      ]
     },
     "execution_count": 69,
     "metadata": {},
     "output_type": "execute_result"
    }
   ],
   "source": [
    "data.property_type.unique()"
   ]
  },
  {
   "cell_type": "markdown",
   "id": "1ba1e525",
   "metadata": {},
   "source": [
    "\n",
    "### Después contamos la cantidad de instancias para cada propiedad en este caso podemos ver que entre Departamento Casa y PH 98.596995 se encuentra concentrada el 98.596995 % de los datos, procederemos a crear un filtro para estos tipos de propiedad \n"
   ]
  },
  {
   "cell_type": "code",
   "execution_count": 70,
   "id": "db07631b",
   "metadata": {
    "scrolled": false
   },
   "outputs": [
    {
     "data": {
      "text/plain": [
       "Departamento       73.180145\n",
       "Casa               14.674076\n",
       "PH                  9.749080\n",
       "Lote                0.894586\n",
       "Oficina             0.448657\n",
       "Otro                0.255012\n",
       "Local comercial     0.221601\n",
       "Casa de campo       0.219555\n",
       "Depósito            0.180690\n",
       "Cochera             0.176599\n",
       "Name: property_type, dtype: float64"
      ]
     },
     "execution_count": 70,
     "metadata": {},
     "output_type": "execute_result"
    }
   ],
   "source": [
    "data['property_type'].value_counts(normalize=True) * 100\n"
   ]
  },
  {
   "cell_type": "code",
   "execution_count": 71,
   "id": "770ac46e",
   "metadata": {},
   "outputs": [
    {
     "data": {
      "text/plain": [
       "(143145, 19)"
      ]
     },
     "execution_count": 71,
     "metadata": {},
     "output_type": "execute_result"
    }
   ],
   "source": [
    "data = data[data.property_type.isin(['Departamento','Casa','PH'])]\n",
    "data.shape"
   ]
  },
  {
   "cell_type": "markdown",
   "id": "df84cb22",
   "metadata": {},
   "source": [
    "### Después contamos la cantidad de instancias para cada propiedad en este caso podemos ver que entre Departamento Casa y PH  se encuentra concentrada el 98.596995 % de los datos, procederemos a crear un filtro para estos tipos de propiedad \n"
   ]
  },
  {
   "cell_type": "code",
   "execution_count": 72,
   "id": "76745971",
   "metadata": {
    "scrolled": true
   },
   "outputs": [
    {
     "data": {
      "text/plain": [
       "Capital Federal             63.910720\n",
       "Bs.As. G.B.A. Zona Norte    16.554543\n",
       "Bs.As. G.B.A. Zona Sur      11.047539\n",
       "Bs.As. G.B.A. Zona Oeste     8.487198\n",
       "Name: l2, dtype: float64"
      ]
     },
     "execution_count": 72,
     "metadata": {},
     "output_type": "execute_result"
    }
   ],
   "source": [
    "data['l2'].value_counts(normalize=True) * 100\n"
   ]
  },
  {
   "cell_type": "code",
   "execution_count": 73,
   "id": "be2c5d89",
   "metadata": {},
   "outputs": [
    {
     "data": {
      "text/plain": [
       "(115182, 19)"
      ]
     },
     "execution_count": 73,
     "metadata": {},
     "output_type": "execute_result"
    }
   ],
   "source": [
    "data = data[data.l2.isin(['Capital Federal','Bs.As. G.B.A. Zona Norte'])]\n",
    "data.shape"
   ]
  },
  {
   "cell_type": "markdown",
   "id": "9603a3e8",
   "metadata": {},
   "source": [
    "## Eliminamos las columnas innecesarias  "
   ]
  },
  {
   "cell_type": "code",
   "execution_count": 74,
   "id": "bf47d85f",
   "metadata": {},
   "outputs": [],
   "source": [
    "data.drop(columns=['l1','l3','lat','lon','start_date','end_date','created_on','description','operation_type','title','currency'], inplace=True)"
   ]
  },
  {
   "cell_type": "code",
   "execution_count": 75,
   "id": "93e1c415",
   "metadata": {
    "scrolled": false
   },
   "outputs": [
    {
     "data": {
      "text/html": [
       "<div>\n",
       "<style scoped>\n",
       "    .dataframe tbody tr th:only-of-type {\n",
       "        vertical-align: middle;\n",
       "    }\n",
       "\n",
       "    .dataframe tbody tr th {\n",
       "        vertical-align: top;\n",
       "    }\n",
       "\n",
       "    .dataframe thead th {\n",
       "        text-align: right;\n",
       "    }\n",
       "</style>\n",
       "<table border=\"1\" class=\"dataframe\">\n",
       "  <thead>\n",
       "    <tr style=\"text-align: right;\">\n",
       "      <th></th>\n",
       "      <th>rooms</th>\n",
       "      <th>bedrooms</th>\n",
       "      <th>bathrooms</th>\n",
       "      <th>surface_total</th>\n",
       "      <th>surface_covered</th>\n",
       "      <th>price</th>\n",
       "    </tr>\n",
       "  </thead>\n",
       "  <tbody>\n",
       "    <tr>\n",
       "      <th>count</th>\n",
       "      <td>115182.0000</td>\n",
       "      <td>115182.0000</td>\n",
       "      <td>112588.0000</td>\n",
       "      <td>104561.0000</td>\n",
       "      <td>104250.0000</td>\n",
       "      <td>1.151820e+05</td>\n",
       "    </tr>\n",
       "    <tr>\n",
       "      <th>mean</th>\n",
       "      <td>3.0223</td>\n",
       "      <td>1.9940</td>\n",
       "      <td>1.6090</td>\n",
       "      <td>155.1024</td>\n",
       "      <td>104.8112</td>\n",
       "      <td>2.548960e+05</td>\n",
       "    </tr>\n",
       "    <tr>\n",
       "      <th>std</th>\n",
       "      <td>1.3478</td>\n",
       "      <td>1.0829</td>\n",
       "      <td>0.8892</td>\n",
       "      <td>1363.8369</td>\n",
       "      <td>871.9916</td>\n",
       "      <td>3.019673e+05</td>\n",
       "    </tr>\n",
       "    <tr>\n",
       "      <th>min</th>\n",
       "      <td>1.0000</td>\n",
       "      <td>0.0000</td>\n",
       "      <td>1.0000</td>\n",
       "      <td>10.0000</td>\n",
       "      <td>1.0000</td>\n",
       "      <td>6.000000e+03</td>\n",
       "    </tr>\n",
       "    <tr>\n",
       "      <th>25%</th>\n",
       "      <td>2.0000</td>\n",
       "      <td>1.0000</td>\n",
       "      <td>1.0000</td>\n",
       "      <td>51.0000</td>\n",
       "      <td>46.0000</td>\n",
       "      <td>1.220000e+05</td>\n",
       "    </tr>\n",
       "    <tr>\n",
       "      <th>50%</th>\n",
       "      <td>3.0000</td>\n",
       "      <td>2.0000</td>\n",
       "      <td>1.0000</td>\n",
       "      <td>75.0000</td>\n",
       "      <td>66.0000</td>\n",
       "      <td>1.780000e+05</td>\n",
       "    </tr>\n",
       "    <tr>\n",
       "      <th>75%</th>\n",
       "      <td>4.0000</td>\n",
       "      <td>3.0000</td>\n",
       "      <td>2.0000</td>\n",
       "      <td>123.0000</td>\n",
       "      <td>100.0000</td>\n",
       "      <td>2.799000e+05</td>\n",
       "    </tr>\n",
       "    <tr>\n",
       "      <th>max</th>\n",
       "      <td>35.0000</td>\n",
       "      <td>15.0000</td>\n",
       "      <td>14.0000</td>\n",
       "      <td>169000.0000</td>\n",
       "      <td>126062.0000</td>\n",
       "      <td>3.243423e+07</td>\n",
       "    </tr>\n",
       "  </tbody>\n",
       "</table>\n",
       "</div>"
      ],
      "text/plain": [
       "             rooms     bedrooms    bathrooms  surface_total  surface_covered  \\\n",
       "count  115182.0000  115182.0000  112588.0000    104561.0000      104250.0000   \n",
       "mean        3.0223       1.9940       1.6090       155.1024         104.8112   \n",
       "std         1.3478       1.0829       0.8892      1363.8369         871.9916   \n",
       "min         1.0000       0.0000       1.0000        10.0000           1.0000   \n",
       "25%         2.0000       1.0000       1.0000        51.0000          46.0000   \n",
       "50%         3.0000       2.0000       1.0000        75.0000          66.0000   \n",
       "75%         4.0000       3.0000       2.0000       123.0000         100.0000   \n",
       "max        35.0000      15.0000      14.0000    169000.0000      126062.0000   \n",
       "\n",
       "              price  \n",
       "count  1.151820e+05  \n",
       "mean   2.548960e+05  \n",
       "std    3.019673e+05  \n",
       "min    6.000000e+03  \n",
       "25%    1.220000e+05  \n",
       "50%    1.780000e+05  \n",
       "75%    2.799000e+05  \n",
       "max    3.243423e+07  "
      ]
     },
     "execution_count": 75,
     "metadata": {},
     "output_type": "execute_result"
    }
   ],
   "source": [
    "data.describe().round(4)\n"
   ]
  },
  {
   "cell_type": "code",
   "execution_count": 76,
   "id": "5f10c9d1",
   "metadata": {
    "scrolled": true
   },
   "outputs": [
    {
     "data": {
      "text/plain": [
       "(115182, 8)"
      ]
     },
     "execution_count": 76,
     "metadata": {},
     "output_type": "execute_result"
    }
   ],
   "source": [
    "data.shape"
   ]
  },
  {
   "cell_type": "markdown",
   "id": "4daf7b62",
   "metadata": {},
   "source": [
    "### Porcentaje de valores faltantes por columna "
   ]
  },
  {
   "cell_type": "code",
   "execution_count": 77,
   "id": "7de05f04",
   "metadata": {
    "scrolled": false
   },
   "outputs": [
    {
     "name": "stdout",
     "output_type": "stream",
     "text": [
      "l2 0.00%\n",
      "rooms 0.00%\n",
      "bedrooms 0.00%\n",
      "bathrooms 1.77%\n",
      "surface_total 7.24%\n",
      "surface_covered 7.45%\n",
      "price 0.00%\n",
      "property_type 0.00%\n"
     ]
    }
   ],
   "source": [
    "for col in data.columns:\n",
    "  nulos= data[col].isna().sum()\n",
    "  print(col,   \"{:.2f}%\".format(nulos*100/146660))"
   ]
  },
  {
   "cell_type": "markdown",
   "id": "5779ad16",
   "metadata": {},
   "source": [
    "### Eliminamos  los valores faltantes ya que no llega ni al 10% de perdida  por columna "
   ]
  },
  {
   "cell_type": "code",
   "execution_count": 78,
   "id": "4f666757",
   "metadata": {},
   "outputs": [],
   "source": [
    "data.dropna(inplace=True)"
   ]
  },
  {
   "cell_type": "code",
   "execution_count": 79,
   "id": "7cc4d4cb",
   "metadata": {},
   "outputs": [],
   "source": [
    "data2 = data.copy() "
   ]
  },
  {
   "cell_type": "code",
   "execution_count": 80,
   "id": "b3a09d0d",
   "metadata": {
    "scrolled": true
   },
   "outputs": [
    {
     "data": {
      "text/plain": [
       "(102823, 8)"
      ]
     },
     "execution_count": 80,
     "metadata": {},
     "output_type": "execute_result"
    }
   ],
   "source": [
    "data2.shape"
   ]
  },
  {
   "cell_type": "markdown",
   "id": "04c611c0",
   "metadata": {},
   "source": [
    "# Que transformaciones de datos elegi y por que ?\n"
   ]
  },
  {
   "cell_type": "markdown",
   "id": "797f5976",
   "metadata": {},
   "source": [
    "### - Hemos escogido para este dataset 3 transformaciones de datos que son \n",
    "  \n",
    "  * Detección de outliers\n",
    "  * Encoding \n",
    "  * Eliminación de valores faltantes \n",
    "  * Escalado de datos\n",
    "\n",
    "  \n",
    "### - Estas son las más apropiadas ya que el dataset cuenta con una gran cantidad de valores atípicos lo que en anteriores    ocasiones hemos podido evidenciar con los boxplots así que la primera transformación de datos será la detección de outliers  para eliminar estos después, procedemos a hacer un encoding de la variable property type y por ultimo antes del train test el   escalado de datos de todas las variables contra price  "
   ]
  },
  {
   "cell_type": "markdown",
   "id": "c8d27b4f",
   "metadata": {},
   "source": [
    "### Realizamos un boxplot para tener una visualizacion de la variable surface total y price "
   ]
  },
  {
   "cell_type": "code",
   "execution_count": 81,
   "id": "57570baa",
   "metadata": {
    "scrolled": true
   },
   "outputs": [
    {
     "data": {
      "image/png": "[encoded data removed]",
      "text/plain": [
       "<Figure size 720x216 with 2 Axes>"
      ]
     },
     "metadata": {
      "needs_background": "light"
     },
     "output_type": "display_data"
    }
   ],
   "source": [
    "fig,(ax1,ax2) = plt.subplots(2,figsize=(10,3),constrained_layout= True)\n",
    "sns.boxplot(data=data2,x=\"surface_total\", ax=ax2)\n",
    "sns.boxplot(data=data2,x=\"price\", ax=ax1)\n",
    "plt.grid()\n",
    "plt.show()"
   ]
  },
  {
   "cell_type": "code",
   "execution_count": 82,
   "id": "e4d5035d",
   "metadata": {},
   "outputs": [
    {
     "data": {
      "text/plain": [
       "<seaborn.axisgrid.FacetGrid at 0x1ca03516a30>"
      ]
     },
     "execution_count": 82,
     "metadata": {},
     "output_type": "execute_result"
    },
    {
     "data": {
      "image/png": "[encoded data removed]",
      "text/plain": [
       "<Figure size 1261.72x576 with 1 Axes>"
      ]
     },
     "metadata": {
      "needs_background": "light"
     },
     "output_type": "display_data"
    }
   ],
   "source": [
    "sns.catplot(x='price', y=\"property_type\",hue='property_type', data=data2, kind = \"bar\",height=8,aspect=2,legend=True)\n"
   ]
  },
  {
   "cell_type": "markdown",
   "id": "387891b6",
   "metadata": {},
   "source": [
    "### Como podemos observar en  en ambos graficos las variables tienen valores atipicos que distorsionan la visualiacion asi como tambien crear confusion en nuestros modelos por lo que aplicaremos un filtro para el precio segun las 2 visualizaciones vamos a filtar el dataset con propiedades con valor de  hasta 450000"
   ]
  },
  {
   "cell_type": "code",
   "execution_count": 84,
   "id": "1aa67365",
   "metadata": {},
   "outputs": [],
   "source": [
    "data2 = data2[((data2['price'] <= 4500000))]"
   ]
  },
  {
   "cell_type": "code",
   "execution_count": 85,
   "id": "5ecf2777",
   "metadata": {},
   "outputs": [],
   "source": [
    "data3=data2"
   ]
  },
  {
   "cell_type": "code",
   "execution_count": 86,
   "id": "f6a9de6e",
   "metadata": {},
   "outputs": [
    {
     "data": {
      "text/plain": [
       "(102800, 8)"
      ]
     },
     "execution_count": 86,
     "metadata": {},
     "output_type": "execute_result"
    }
   ],
   "source": [
    "data3.shape"
   ]
  },
  {
   "cell_type": "markdown",
   "id": "a89d9503",
   "metadata": {},
   "source": [
    "# Detecion de outliers \n"
   ]
  },
  {
   "cell_type": "code",
   "execution_count": 87,
   "id": "3d58fb81",
   "metadata": {
    "scrolled": true
   },
   "outputs": [
    {
     "name": "stderr",
     "output_type": "stream",
     "text": [
      "<ipython-input-87-ba0328c431ca>:6: FutureWarning: Automatic reindexing on DataFrame vs Series comparisons is deprecated and will raise ValueError in a future version.  Do `left, right = left.align(right, axis=1, copy=False)` before e.g. `left == right`\n",
      "  data3=data3[~((data3<(Q1-1.5*IQR))|(data3>(Q3+1.5*IQR))).any(axis=1)]\n",
      "<ipython-input-87-ba0328c431ca>:6: FutureWarning: Automatic reindexing on DataFrame vs Series comparisons is deprecated and will raise ValueError in a future version.  Do `left, right = left.align(right, axis=1, copy=False)` before e.g. `left == right`\n",
      "  data3=data3[~((data3<(Q1-1.5*IQR))|(data3>(Q3+1.5*IQR))).any(axis=1)]\n"
     ]
    },
    {
     "data": {
      "text/plain": [
       "(87148, 8)"
      ]
     },
     "execution_count": 87,
     "metadata": {},
     "output_type": "execute_result"
    }
   ],
   "source": [
    "#definimos los cuantiles\n",
    "Q1= data3.quantile(0.25)\n",
    "Q3= data3.quantile(0.75)\n",
    "IQR = Q3-Q1\n",
    "#aplicamos a todas las columnas del data\n",
    "data3=data3[~((data3<(Q1-1.5*IQR))|(data3>(Q3+1.5*IQR))).any(axis=1)]\n",
    "data3.shape"
   ]
  },
  {
   "cell_type": "code",
   "execution_count": 88,
   "id": "1ee0042b",
   "metadata": {},
   "outputs": [
    {
     "data": {
      "text/html": [
       "<div>\n",
       "<style scoped>\n",
       "    .dataframe tbody tr th:only-of-type {\n",
       "        vertical-align: middle;\n",
       "    }\n",
       "\n",
       "    .dataframe tbody tr th {\n",
       "        vertical-align: top;\n",
       "    }\n",
       "\n",
       "    .dataframe thead th {\n",
       "        text-align: right;\n",
       "    }\n",
       "</style>\n",
       "<table border=\"1\" class=\"dataframe\">\n",
       "  <thead>\n",
       "    <tr style=\"text-align: right;\">\n",
       "      <th></th>\n",
       "      <th>l2</th>\n",
       "      <th>rooms</th>\n",
       "      <th>bedrooms</th>\n",
       "      <th>bathrooms</th>\n",
       "      <th>surface_total</th>\n",
       "      <th>surface_covered</th>\n",
       "      <th>price</th>\n",
       "      <th>property_type</th>\n",
       "    </tr>\n",
       "  </thead>\n",
       "  <tbody>\n",
       "    <tr>\n",
       "      <th>1</th>\n",
       "      <td>Capital Federal</td>\n",
       "      <td>2.0</td>\n",
       "      <td>1.0</td>\n",
       "      <td>2.0</td>\n",
       "      <td>70.0</td>\n",
       "      <td>58.0</td>\n",
       "      <td>159000.0</td>\n",
       "      <td>PH</td>\n",
       "    </tr>\n",
       "    <tr>\n",
       "      <th>2</th>\n",
       "      <td>Capital Federal</td>\n",
       "      <td>2.0</td>\n",
       "      <td>1.0</td>\n",
       "      <td>1.0</td>\n",
       "      <td>45.0</td>\n",
       "      <td>45.0</td>\n",
       "      <td>125000.0</td>\n",
       "      <td>PH</td>\n",
       "    </tr>\n",
       "    <tr>\n",
       "      <th>3</th>\n",
       "      <td>Capital Federal</td>\n",
       "      <td>2.0</td>\n",
       "      <td>1.0</td>\n",
       "      <td>1.0</td>\n",
       "      <td>85.0</td>\n",
       "      <td>50.0</td>\n",
       "      <td>295000.0</td>\n",
       "      <td>PH</td>\n",
       "    </tr>\n",
       "    <tr>\n",
       "      <th>5</th>\n",
       "      <td>Capital Federal</td>\n",
       "      <td>2.0</td>\n",
       "      <td>1.0</td>\n",
       "      <td>1.0</td>\n",
       "      <td>56.0</td>\n",
       "      <td>56.0</td>\n",
       "      <td>150000.0</td>\n",
       "      <td>PH</td>\n",
       "    </tr>\n",
       "    <tr>\n",
       "      <th>6</th>\n",
       "      <td>Capital Federal</td>\n",
       "      <td>2.0</td>\n",
       "      <td>1.0</td>\n",
       "      <td>1.0</td>\n",
       "      <td>70.0</td>\n",
       "      <td>70.0</td>\n",
       "      <td>159500.0</td>\n",
       "      <td>PH</td>\n",
       "    </tr>\n",
       "  </tbody>\n",
       "</table>\n",
       "</div>"
      ],
      "text/plain": [
       "                l2  rooms  bedrooms  bathrooms  surface_total  \\\n",
       "1  Capital Federal    2.0       1.0        2.0           70.0   \n",
       "2  Capital Federal    2.0       1.0        1.0           45.0   \n",
       "3  Capital Federal    2.0       1.0        1.0           85.0   \n",
       "5  Capital Federal    2.0       1.0        1.0           56.0   \n",
       "6  Capital Federal    2.0       1.0        1.0           70.0   \n",
       "\n",
       "   surface_covered     price property_type  \n",
       "1             58.0  159000.0            PH  \n",
       "2             45.0  125000.0            PH  \n",
       "3             50.0  295000.0            PH  \n",
       "5             56.0  150000.0            PH  \n",
       "6             70.0  159500.0            PH  "
      ]
     },
     "execution_count": 88,
     "metadata": {},
     "output_type": "execute_result"
    }
   ],
   "source": [
    "data3.head()"
   ]
  },
  {
   "cell_type": "markdown",
   "id": "ca940933",
   "metadata": {},
   "source": [
    "## Vamos a hacer encoding para la variable property_type para asi poder alimentar el modelo con esta variable a la hora de hace predicciones "
   ]
  },
  {
   "cell_type": "code",
   "execution_count": 89,
   "id": "2d441c48",
   "metadata": {},
   "outputs": [
    {
     "data": {
      "text/html": [
       "<div>\n",
       "<style scoped>\n",
       "    .dataframe tbody tr th:only-of-type {\n",
       "        vertical-align: middle;\n",
       "    }\n",
       "\n",
       "    .dataframe tbody tr th {\n",
       "        vertical-align: top;\n",
       "    }\n",
       "\n",
       "    .dataframe thead th {\n",
       "        text-align: right;\n",
       "    }\n",
       "</style>\n",
       "<table border=\"1\" class=\"dataframe\">\n",
       "  <thead>\n",
       "    <tr style=\"text-align: right;\">\n",
       "      <th></th>\n",
       "      <th>l2</th>\n",
       "      <th>rooms</th>\n",
       "      <th>bedrooms</th>\n",
       "      <th>bathrooms</th>\n",
       "      <th>surface_total</th>\n",
       "      <th>surface_covered</th>\n",
       "      <th>price</th>\n",
       "      <th>property_type_Casa</th>\n",
       "      <th>property_type_Departamento</th>\n",
       "      <th>property_type_PH</th>\n",
       "    </tr>\n",
       "  </thead>\n",
       "  <tbody>\n",
       "    <tr>\n",
       "      <th>1</th>\n",
       "      <td>Capital Federal</td>\n",
       "      <td>2.0</td>\n",
       "      <td>1.0</td>\n",
       "      <td>2.0</td>\n",
       "      <td>70.0</td>\n",
       "      <td>58.0</td>\n",
       "      <td>159000.0</td>\n",
       "      <td>0</td>\n",
       "      <td>0</td>\n",
       "      <td>1</td>\n",
       "    </tr>\n",
       "    <tr>\n",
       "      <th>2</th>\n",
       "      <td>Capital Federal</td>\n",
       "      <td>2.0</td>\n",
       "      <td>1.0</td>\n",
       "      <td>1.0</td>\n",
       "      <td>45.0</td>\n",
       "      <td>45.0</td>\n",
       "      <td>125000.0</td>\n",
       "      <td>0</td>\n",
       "      <td>0</td>\n",
       "      <td>1</td>\n",
       "    </tr>\n",
       "    <tr>\n",
       "      <th>3</th>\n",
       "      <td>Capital Federal</td>\n",
       "      <td>2.0</td>\n",
       "      <td>1.0</td>\n",
       "      <td>1.0</td>\n",
       "      <td>85.0</td>\n",
       "      <td>50.0</td>\n",
       "      <td>295000.0</td>\n",
       "      <td>0</td>\n",
       "      <td>0</td>\n",
       "      <td>1</td>\n",
       "    </tr>\n",
       "    <tr>\n",
       "      <th>5</th>\n",
       "      <td>Capital Federal</td>\n",
       "      <td>2.0</td>\n",
       "      <td>1.0</td>\n",
       "      <td>1.0</td>\n",
       "      <td>56.0</td>\n",
       "      <td>56.0</td>\n",
       "      <td>150000.0</td>\n",
       "      <td>0</td>\n",
       "      <td>0</td>\n",
       "      <td>1</td>\n",
       "    </tr>\n",
       "    <tr>\n",
       "      <th>6</th>\n",
       "      <td>Capital Federal</td>\n",
       "      <td>2.0</td>\n",
       "      <td>1.0</td>\n",
       "      <td>1.0</td>\n",
       "      <td>70.0</td>\n",
       "      <td>70.0</td>\n",
       "      <td>159500.0</td>\n",
       "      <td>0</td>\n",
       "      <td>0</td>\n",
       "      <td>1</td>\n",
       "    </tr>\n",
       "  </tbody>\n",
       "</table>\n",
       "</div>"
      ],
      "text/plain": [
       "                l2  rooms  bedrooms  bathrooms  surface_total  \\\n",
       "1  Capital Federal    2.0       1.0        2.0           70.0   \n",
       "2  Capital Federal    2.0       1.0        1.0           45.0   \n",
       "3  Capital Federal    2.0       1.0        1.0           85.0   \n",
       "5  Capital Federal    2.0       1.0        1.0           56.0   \n",
       "6  Capital Federal    2.0       1.0        1.0           70.0   \n",
       "\n",
       "   surface_covered     price  property_type_Casa  property_type_Departamento  \\\n",
       "1             58.0  159000.0                   0                           0   \n",
       "2             45.0  125000.0                   0                           0   \n",
       "3             50.0  295000.0                   0                           0   \n",
       "5             56.0  150000.0                   0                           0   \n",
       "6             70.0  159500.0                   0                           0   \n",
       "\n",
       "   property_type_PH  \n",
       "1                 1  \n",
       "2                 1  \n",
       "3                 1  \n",
       "5                 1  \n",
       "6                 1  "
      ]
     },
     "execution_count": 89,
     "metadata": {},
     "output_type": "execute_result"
    }
   ],
   "source": [
    "dummies = pd.get_dummies(data3, columns=[\"property_type\"])\n",
    "dummies.head()"
   ]
  },
  {
   "cell_type": "code",
   "execution_count": 90,
   "id": "0023b196",
   "metadata": {},
   "outputs": [
    {
     "data": {
      "text/plain": [
       "pandas.core.frame.DataFrame"
      ]
     },
     "execution_count": 90,
     "metadata": {},
     "output_type": "execute_result"
    }
   ],
   "source": [
    "dummies.shape\n",
    "type(dummies)"
   ]
  },
  {
   "cell_type": "markdown",
   "id": "1b5ab4b0",
   "metadata": {},
   "source": [
    "## Realizamos un mapa de calor para  visualizar valores faltantes "
   ]
  },
  {
   "cell_type": "code",
   "execution_count": 91,
   "id": "627ffe78",
   "metadata": {
    "scrolled": true
   },
   "outputs": [
    {
     "data": {
      "text/plain": [
       "<AxesSubplot:>"
      ]
     },
     "execution_count": 91,
     "metadata": {},
     "output_type": "execute_result"
    },
    {
     "data": {
      "image/png": "[encoded data removed]",
      "text/plain": [
       "<Figure size 432x288 with 1 Axes>"
      ]
     },
     "metadata": {
      "needs_background": "light"
     },
     "output_type": "display_data"
    }
   ],
   "source": [
    "sns.heatmap(dummies.isnull(), yticklabels=False, cbar=False)\n"
   ]
  },
  {
   "cell_type": "code",
   "execution_count": 92,
   "id": "705ab820",
   "metadata": {},
   "outputs": [],
   "source": [
    "dummies2=dummies.copy()"
   ]
  },
  {
   "cell_type": "code",
   "execution_count": 93,
   "id": "bdeea5c3",
   "metadata": {
    "scrolled": false
   },
   "outputs": [
    {
     "data": {
      "text/plain": [
       "(87148, 10)"
      ]
     },
     "execution_count": 93,
     "metadata": {},
     "output_type": "execute_result"
    }
   ],
   "source": [
    "dummies2.shape"
   ]
  },
  {
   "cell_type": "markdown",
   "id": "8cc8a97a",
   "metadata": {},
   "source": [
    "# Definimos x e y para entrenar nuestros modelos "
   ]
  },
  {
   "cell_type": "code",
   "execution_count": 140,
   "id": "aeb50da6",
   "metadata": {},
   "outputs": [
    {
     "data": {
      "text/plain": [
       "(87148, 10)"
      ]
     },
     "execution_count": 140,
     "metadata": {},
     "output_type": "execute_result"
    }
   ],
   "source": [
    "X = dummies2[[\"rooms\",\"surface_covered\",\"surface_total\",\"bedrooms\",\"bathrooms\",\"property_type_Casa\",\"property_type_Departamento\",\"property_type_PH\"]] #Observa que sólo usamos 3 features del dataset\n",
    "y = dummies2['price']\n",
    "\n",
    "dummies2.shape\n"
   ]
  },
  {
   "cell_type": "markdown",
   "id": "f9a77590",
   "metadata": {},
   "source": [
    "# Escalado de datos"
   ]
  },
  {
   "cell_type": "code",
   "execution_count": 141,
   "id": "a7fbec32",
   "metadata": {},
   "outputs": [
    {
     "data": {
      "text/plain": [
       "StandardScaler()"
      ]
     },
     "execution_count": 141,
     "metadata": {},
     "output_type": "execute_result"
    }
   ],
   "source": [
    "escalador = StandardScaler()\n",
    "escalador.fit(X)"
   ]
  },
  {
   "cell_type": "code",
   "execution_count": 142,
   "id": "1ab7811b",
   "metadata": {},
   "outputs": [
    {
     "data": {
      "text/plain": [
       "array([[-0.74938748, -0.28230254, -0.187059  , ..., -0.16149111,\n",
       "        -2.52261424,  2.83884548],\n",
       "       [-0.74938748, -0.71875886, -0.83292108, ..., -0.16149111,\n",
       "        -2.52261424,  2.83884548],\n",
       "       [-0.74938748, -0.55089104,  0.20045826, ..., -0.16149111,\n",
       "        -2.52261424,  2.83884548],\n",
       "       ...,\n",
       "       [-1.74904491, -1.05449448, -0.70374867, ..., -0.16149111,\n",
       "         0.39641416, -0.35225588],\n",
       "       [-0.74938748, -0.95377379, -1.01376247, ..., -0.16149111,\n",
       "         0.39641416, -0.35225588],\n",
       "       [ 0.25026995,  0.28844802, -0.05788658, ..., -0.16149111,\n",
       "         0.39641416, -0.35225588]])"
      ]
     },
     "execution_count": 142,
     "metadata": {},
     "output_type": "execute_result"
    }
   ],
   "source": [
    "X_escalado = escalador.transform(X)\n",
    "X_escalado"
   ]
  },
  {
   "cell_type": "markdown",
   "id": "70399bf4",
   "metadata": {},
   "source": [
    "## Train test split \n"
   ]
  },
  {
   "cell_type": "code",
   "execution_count": 143,
   "id": "9ed6433b",
   "metadata": {},
   "outputs": [],
   "source": [
    "from sklearn.model_selection import train_test_split\n",
    "X_train,X_test,y_train,y_test= train_test_split(X_escalado, y,test_size=0.20,random_state=42)"
   ]
  },
  {
   "cell_type": "markdown",
   "id": "e2529873",
   "metadata": {},
   "source": [
    "# - Construimos un DecisionTreeRegressor con nuestro nuevo dataset transfromado "
   ]
  },
  {
   "cell_type": "code",
   "execution_count": 144,
   "id": "77ce019f",
   "metadata": {},
   "outputs": [],
   "source": [
    "decision_tree= DecisionTreeRegressor(max_depth=25,random_state=42)\n",
    "decision_tree.fit(X_train, y_train)\n",
    "\n",
    "y_arbol_train_pred = decision_tree.predict(X_train)\n",
    "y_arbol_test_pred= decision_tree.predict(X_test)"
   ]
  },
  {
   "cell_type": "code",
   "execution_count": 145,
   "id": "280d108b",
   "metadata": {},
   "outputs": [],
   "source": [
    "\n",
    "MAE_train=mean_absolute_error(y_train,y_arbol_train_pred)\n",
    "MAE_test=mean_absolute_error(y_test,y_arbol_test_pred)\n",
    "RMSE_train=np.sqrt(mean_squared_error(y_train,y_arbol_train_pred))\n",
    "RMSE_test=np.sqrt(mean_squared_error(y_test,y_arbol_test_pred))\n",
    "r2_train= metrics.r2_score(y_train, y_arbol_train_pred)\n",
    "r2_test= metrics.r2_score(y_test, y_arbol_test_pred)"
   ]
  },
  {
   "cell_type": "code",
   "execution_count": 146,
   "id": "519909d6",
   "metadata": {
    "scrolled": true
   },
   "outputs": [
    {
     "name": "stdout",
     "output_type": "stream",
     "text": [
      "El Error absoluto medio train: 21322.177352213374\n",
      "El Error absoluto medio test: 31569.6414932944\n",
      "*******************************************\n",
      "Error cudratico medio train: 35189.94309342781\n",
      "Error cudratico medio test: 51373.530595351134\n",
      "*******************************************\n",
      "El Coeficiente de determinacion train: 0.8587891487613118\n",
      "El Coeficiente de determinacion test: 0.7021419682032797\n",
      "*******************************************\n"
     ]
    }
   ],
   "source": [
    "print(\"El Error absoluto medio train:\",MAE_train)\n",
    "print(\"El Error absoluto medio test:\",MAE_test)\n",
    "print(\"*******************************************\")\n",
    "print(\"Error cudratico medio train:\",RMSE_train)\n",
    "print(\"Error cudratico medio test:\",RMSE_test)\n",
    "print(\"*******************************************\")\n",
    "print(\"El Coeficiente de determinacion train:\",r2_train)\n",
    "print(\"El Coeficiente de determinacion test:\",r2_test)\n",
    "print(\"*******************************************\")"
   ]
  },
  {
   "cell_type": "markdown",
   "id": "9ed58839",
   "metadata": {},
   "source": [
    "### Metricas del anterior arbol de desicion \n",
    "\n"
   ]
  },
  {
   "cell_type": "markdown",
   "id": "19ecc4e3",
   "metadata": {},
   "source": [
    "El Error absoluto medio train: 23681.8678332786\n",
    "El Error absoluto medio test: 49388.884628718595\n",
    "*******************************************\n",
    "Error cudratico medio train: 54047.89650654257\n",
    "Error cudratico medio test: 141864.7831195434\n",
    "*******************************************\n",
    "El Coeficiente de determinacion train: 0.9671459367517681\n",
    "El Coeficiente de determinacion test: 0.7793119430612151"
   ]
  },
  {
   "cell_type": "markdown",
   "id": "6c095886",
   "metadata": {},
   "source": [
    "### En comparación con el primer modelo vemos una mejora sustancial en este respecto al MAE y al RMSE , sin embargo la mejora en el R2  no es muy  significativa  habiendo mejorado este menos de 1% frente al modelo optimizado de la anterior vez y habiendo bajado un 7% su rendimiento  frente al primer árbol construido con parámetros por default, haciendo precisión que la profundidad del árbol más reciente  fue escogida de manera manual "
   ]
  },
  {
   "cell_type": "markdown",
   "id": "4b1c2368",
   "metadata": {},
   "source": [
    "# Modelos avanzados \n"
   ]
  },
  {
   "cell_type": "markdown",
   "id": "95c2af5a",
   "metadata": {},
   "source": [
    "## - Vamos a construir un random forest como primer modelo avanzado antes de crear este vamos a hacer cross validation a los datos \n"
   ]
  },
  {
   "cell_type": "code",
   "execution_count": 148,
   "id": "abdbba42",
   "metadata": {},
   "outputs": [],
   "source": [
    "from sklearn.ensemble import RandomForestRegressor"
   ]
  },
  {
   "cell_type": "code",
   "execution_count": 178,
   "id": "dd9fb005",
   "metadata": {},
   "outputs": [],
   "source": [
    "clf_cv =cross_validate(clf,X, y, cv=5,)\n"
   ]
  },
  {
   "cell_type": "code",
   "execution_count": 180,
   "id": "62b53c6a",
   "metadata": {},
   "outputs": [
    {
     "data": {
      "text/plain": [
       "{'fit_time': array([19.14434791, 13.85581517, 13.34197021, 13.58159328, 13.92435718]),\n",
       " 'score_time': array([0.364043  , 0.36700058, 0.36644483, 0.37152267, 0.33597326]),\n",
       " 'test_score': array([0.66175734, 0.68418666, 0.65676705, 0.64853176, 0.69040575])}"
      ]
     },
     "execution_count": 180,
     "metadata": {},
     "output_type": "execute_result"
    }
   ],
   "source": [
    "clf_cv"
   ]
  },
  {
   "cell_type": "code",
   "execution_count": 149,
   "id": "d968aaba",
   "metadata": {},
   "outputs": [],
   "source": [
    "X_train,X_test,y_train,y_test= train_test_split(X_escalado, y,test_size=0.20,random_state=42)"
   ]
  },
  {
   "cell_type": "code",
   "execution_count": 170,
   "id": "6fef5f0f",
   "metadata": {},
   "outputs": [],
   "source": [
    "clf = RandomForestRegressor(n_estimators=100, max_features='sqrt', n_jobs=-1, oob_score = True, random_state = 42)\n",
    "clf.fit(X_train,y_train)\n",
    "\n",
    "RandomForest = clf"
   ]
  },
  {
   "cell_type": "markdown",
   "id": "2a5d1330",
   "metadata": {},
   "source": [
    "## - Para las metricas de evalucacion hemos escogido el error cuadratico medio y el r2  "
   ]
  },
  {
   "cell_type": "code",
   "execution_count": 151,
   "id": "82b1eeb0",
   "metadata": {},
   "outputs": [],
   "source": [
    "y_train_pred = clf.predict(X_train)\n",
    "y_test_pred = clf.predict(X_test)\n",
    "#print(metrics.accuracy_score(y_train, y_train_pred))\n",
    "#print(metrics.accuracy_score(y_test, y_test_pred))"
   ]
  },
  {
   "cell_type": "code",
   "execution_count": 152,
   "id": "426d74ee",
   "metadata": {},
   "outputs": [],
   "source": [
    "RMSE_train=np.sqrt(mean_squared_error(y_train,y_train_pred))\n",
    "RMSE_test=np.sqrt(mean_squared_error(y_test,y_test_pred))\n",
    "r2_train= metrics.r2_score(y_train, y_train_pred)\n",
    "r2_test= metrics.r2_score(y_test, y_test_pred)\n",
    "\n"
   ]
  },
  {
   "cell_type": "code",
   "execution_count": 153,
   "id": "712bad0a",
   "metadata": {
    "scrolled": true
   },
   "outputs": [
    {
     "name": "stdout",
     "output_type": "stream",
     "text": [
      "Error cudratico medio train: 36381.67849428846\n",
      "Error cudratico medio test: 47422.84623428616\n",
      "*******************************************\n",
      "El Coeficiente de determinacion train: 0.8490627596594701\n",
      "El Coeficiente de determinacion test: 0.7461917579846129\n",
      "*******************************************\n"
     ]
    }
   ],
   "source": [
    "print(\"Error cudratico medio train:\",RMSE_train)\n",
    "print(\"Error cudratico medio test:\",RMSE_test)\n",
    "print(\"*******************************************\")\n",
    "print(\"El Coeficiente de determinacion train:\",r2_train)\n",
    "print(\"El Coeficiente de determinacion test:\",r2_test)\n",
    "print(\"*******************************************\")"
   ]
  },
  {
   "cell_type": "code",
   "execution_count": 154,
   "id": "52735a6c",
   "metadata": {},
   "outputs": [
    {
     "data": {
      "text/plain": [
       "0.7425537013847717"
      ]
     },
     "execution_count": 154,
     "metadata": {},
     "output_type": "execute_result"
    }
   ],
   "source": [
    "clf.oob_score_"
   ]
  },
  {
   "cell_type": "code",
   "execution_count": 155,
   "id": "6486bd29",
   "metadata": {
    "scrolled": false
   },
   "outputs": [
    {
     "data": {
      "text/plain": [
       "array([0.05572843, 0.37613703, 0.34899884, 0.03723394, 0.14475104,\n",
       "       0.00589698, 0.02179718, 0.00945656])"
      ]
     },
     "execution_count": 155,
     "metadata": {},
     "output_type": "execute_result"
    }
   ],
   "source": [
    "clf.feature_importances_"
   ]
  },
  {
   "cell_type": "code",
   "execution_count": 52,
   "id": "233702ed",
   "metadata": {
    "scrolled": true
   },
   "outputs": [
    {
     "data": {
      "text/plain": [
       "[DecisionTreeRegressor(max_features='sqrt', random_state=1608637542),\n",
       " DecisionTreeRegressor(max_features='sqrt', random_state=1273642419),\n",
       " DecisionTreeRegressor(max_features='sqrt', random_state=1935803228),\n",
       " DecisionTreeRegressor(max_features='sqrt', random_state=787846414),\n",
       " DecisionTreeRegressor(max_features='sqrt', random_state=996406378),\n",
       " DecisionTreeRegressor(max_features='sqrt', random_state=1201263687),\n",
       " DecisionTreeRegressor(max_features='sqrt', random_state=423734972),\n",
       " DecisionTreeRegressor(max_features='sqrt', random_state=415968276),\n",
       " DecisionTreeRegressor(max_features='sqrt', random_state=670094950),\n",
       " DecisionTreeRegressor(max_features='sqrt', random_state=1914837113),\n",
       " DecisionTreeRegressor(max_features='sqrt', random_state=669991378),\n",
       " DecisionTreeRegressor(max_features='sqrt', random_state=429389014),\n",
       " DecisionTreeRegressor(max_features='sqrt', random_state=249467210),\n",
       " DecisionTreeRegressor(max_features='sqrt', random_state=1972458954),\n",
       " DecisionTreeRegressor(max_features='sqrt', random_state=1572714583),\n",
       " DecisionTreeRegressor(max_features='sqrt', random_state=1433267572),\n",
       " DecisionTreeRegressor(max_features='sqrt', random_state=434285667),\n",
       " DecisionTreeRegressor(max_features='sqrt', random_state=613608295),\n",
       " DecisionTreeRegressor(max_features='sqrt', random_state=893664919),\n",
       " DecisionTreeRegressor(max_features='sqrt', random_state=648061058),\n",
       " DecisionTreeRegressor(max_features='sqrt', random_state=88409749),\n",
       " DecisionTreeRegressor(max_features='sqrt', random_state=242285876),\n",
       " DecisionTreeRegressor(max_features='sqrt', random_state=2018247425),\n",
       " DecisionTreeRegressor(max_features='sqrt', random_state=953477463),\n",
       " DecisionTreeRegressor(max_features='sqrt', random_state=1427830251),\n",
       " DecisionTreeRegressor(max_features='sqrt', random_state=1883569565),\n",
       " DecisionTreeRegressor(max_features='sqrt', random_state=911989541),\n",
       " DecisionTreeRegressor(max_features='sqrt', random_state=3344769),\n",
       " DecisionTreeRegressor(max_features='sqrt', random_state=780932287),\n",
       " DecisionTreeRegressor(max_features='sqrt', random_state=2114032571),\n",
       " DecisionTreeRegressor(max_features='sqrt', random_state=787716372),\n",
       " DecisionTreeRegressor(max_features='sqrt', random_state=504579232),\n",
       " DecisionTreeRegressor(max_features='sqrt', random_state=1306710475),\n",
       " DecisionTreeRegressor(max_features='sqrt', random_state=479546681),\n",
       " DecisionTreeRegressor(max_features='sqrt', random_state=106328085),\n",
       " DecisionTreeRegressor(max_features='sqrt', random_state=30349564),\n",
       " DecisionTreeRegressor(max_features='sqrt', random_state=1855189739),\n",
       " DecisionTreeRegressor(max_features='sqrt', random_state=99052376),\n",
       " DecisionTreeRegressor(max_features='sqrt', random_state=1250819632),\n",
       " DecisionTreeRegressor(max_features='sqrt', random_state=106406362),\n",
       " DecisionTreeRegressor(max_features='sqrt', random_state=480404538),\n",
       " DecisionTreeRegressor(max_features='sqrt', random_state=1717389822),\n",
       " DecisionTreeRegressor(max_features='sqrt', random_state=599121577),\n",
       " DecisionTreeRegressor(max_features='sqrt', random_state=200427519),\n",
       " DecisionTreeRegressor(max_features='sqrt', random_state=1254751707),\n",
       " DecisionTreeRegressor(max_features='sqrt', random_state=2034764475),\n",
       " DecisionTreeRegressor(max_features='sqrt', random_state=1573512143),\n",
       " DecisionTreeRegressor(max_features='sqrt', random_state=999745294),\n",
       " DecisionTreeRegressor(max_features='sqrt', random_state=1958805693),\n",
       " DecisionTreeRegressor(max_features='sqrt', random_state=389151677),\n",
       " DecisionTreeRegressor(max_features='sqrt', random_state=1224821422),\n",
       " DecisionTreeRegressor(max_features='sqrt', random_state=508464061),\n",
       " DecisionTreeRegressor(max_features='sqrt', random_state=857592370),\n",
       " DecisionTreeRegressor(max_features='sqrt', random_state=1642661739),\n",
       " DecisionTreeRegressor(max_features='sqrt', random_state=61136438),\n",
       " DecisionTreeRegressor(max_features='sqrt', random_state=2075460851),\n",
       " DecisionTreeRegressor(max_features='sqrt', random_state=396917567),\n",
       " DecisionTreeRegressor(max_features='sqrt', random_state=2004731384),\n",
       " DecisionTreeRegressor(max_features='sqrt', random_state=199502978),\n",
       " DecisionTreeRegressor(max_features='sqrt', random_state=1545932260),\n",
       " DecisionTreeRegressor(max_features='sqrt', random_state=461901618),\n",
       " DecisionTreeRegressor(max_features='sqrt', random_state=774414982),\n",
       " DecisionTreeRegressor(max_features='sqrt', random_state=732395540),\n",
       " DecisionTreeRegressor(max_features='sqrt', random_state=1934879560),\n",
       " DecisionTreeRegressor(max_features='sqrt', random_state=279394470),\n",
       " DecisionTreeRegressor(max_features='sqrt', random_state=56972561),\n",
       " DecisionTreeRegressor(max_features='sqrt', random_state=1927948675),\n",
       " DecisionTreeRegressor(max_features='sqrt', random_state=1899242072),\n",
       " DecisionTreeRegressor(max_features='sqrt', random_state=1999874363),\n",
       " DecisionTreeRegressor(max_features='sqrt', random_state=271820813),\n",
       " DecisionTreeRegressor(max_features='sqrt', random_state=1324556529),\n",
       " DecisionTreeRegressor(max_features='sqrt', random_state=1655351289),\n",
       " DecisionTreeRegressor(max_features='sqrt', random_state=1308306184),\n",
       " DecisionTreeRegressor(max_features='sqrt', random_state=68574553),\n",
       " DecisionTreeRegressor(max_features='sqrt', random_state=419498548),\n",
       " DecisionTreeRegressor(max_features='sqrt', random_state=991681409),\n",
       " DecisionTreeRegressor(max_features='sqrt', random_state=791274835),\n",
       " DecisionTreeRegressor(max_features='sqrt', random_state=1035196507),\n",
       " DecisionTreeRegressor(max_features='sqrt', random_state=1890440558),\n",
       " DecisionTreeRegressor(max_features='sqrt', random_state=787110843),\n",
       " DecisionTreeRegressor(max_features='sqrt', random_state=524150214),\n",
       " DecisionTreeRegressor(max_features='sqrt', random_state=472432043),\n",
       " DecisionTreeRegressor(max_features='sqrt', random_state=2126768636),\n",
       " DecisionTreeRegressor(max_features='sqrt', random_state=1431061255),\n",
       " DecisionTreeRegressor(max_features='sqrt', random_state=147697582),\n",
       " DecisionTreeRegressor(max_features='sqrt', random_state=744595490),\n",
       " DecisionTreeRegressor(max_features='sqrt', random_state=1758017741),\n",
       " DecisionTreeRegressor(max_features='sqrt', random_state=1679592528),\n",
       " DecisionTreeRegressor(max_features='sqrt', random_state=1111451555),\n",
       " DecisionTreeRegressor(max_features='sqrt', random_state=782698033),\n",
       " DecisionTreeRegressor(max_features='sqrt', random_state=698027879),\n",
       " DecisionTreeRegressor(max_features='sqrt', random_state=1096768899),\n",
       " DecisionTreeRegressor(max_features='sqrt', random_state=1338788865),\n",
       " DecisionTreeRegressor(max_features='sqrt', random_state=1826030589),\n",
       " DecisionTreeRegressor(max_features='sqrt', random_state=86191493),\n",
       " DecisionTreeRegressor(max_features='sqrt', random_state=893102645),\n",
       " DecisionTreeRegressor(max_features='sqrt', random_state=200619113),\n",
       " DecisionTreeRegressor(max_features='sqrt', random_state=290770691),\n",
       " DecisionTreeRegressor(max_features='sqrt', random_state=793943861),\n",
       " DecisionTreeRegressor(max_features='sqrt', random_state=134489564)]"
      ]
     },
     "execution_count": 52,
     "metadata": {},
     "output_type": "execute_result"
    }
   ],
   "source": [
    "clf.estimators_"
   ]
  },
  {
   "cell_type": "code",
   "execution_count": 87,
   "id": "785f65e8",
   "metadata": {},
   "outputs": [
    {
     "data": {
      "text/plain": [
       "{'ccp_alpha': 0.0,\n",
       " 'criterion': 'mse',\n",
       " 'max_depth': None,\n",
       " 'max_features': 'sqrt',\n",
       " 'max_leaf_nodes': None,\n",
       " 'min_impurity_decrease': 0.0,\n",
       " 'min_impurity_split': None,\n",
       " 'min_samples_leaf': 1,\n",
       " 'min_samples_split': 2,\n",
       " 'min_weight_fraction_leaf': 0.0,\n",
       " 'random_state': 1324556529,\n",
       " 'splitter': 'best'}"
      ]
     },
     "execution_count": 87,
     "metadata": {},
     "output_type": "execute_result"
    }
   ],
   "source": [
    "clf_tree = clf.estimators_[70]\n",
    "clf_tree.get_params()"
   ]
  },
  {
   "cell_type": "code",
   "execution_count": null,
   "id": "796a7b1c",
   "metadata": {},
   "outputs": [],
   "source": [
    "y_train_pred = clf_tree.predict(X_train)\n",
    "y_test_pred = clf_tree.predict(X_test)"
   ]
  },
  {
   "cell_type": "code",
   "execution_count": null,
   "id": "fca2057c",
   "metadata": {},
   "outputs": [],
   "source": [
    "RMSE_train=np.sqrt(mean_squared_error(y_train,y_train_pred))\n",
    "RMSE_test=np.sqrt(mean_squared_error(y_test,y_test_pred))\n",
    "r2_train= metrics.r2_score(y_train, y_train_pred)\n",
    "r2_test= metrics.r2_score(y_test, y_test_pred)"
   ]
  },
  {
   "cell_type": "code",
   "execution_count": null,
   "id": "00703fa0",
   "metadata": {},
   "outputs": [],
   "source": [
    "print(\"Error cudratico medio train:\",RMSE_train)\n",
    "print(\"Error cudratico medio test:\",RMSE_test)\n",
    "print(\"*******************************************\")\n",
    "print(\"El Coeficiente de determinacion train:\",r2_train)\n",
    "print(\"El Coeficiente de determinacion test:\",r2_test)\n",
    "print(\"*******************************************\")"
   ]
  },
  {
   "cell_type": "code",
   "execution_count": null,
   "id": "b71ba7db",
   "metadata": {},
   "outputs": [],
   "source": [
    "train_RMSE = []\n",
    "test_RMSE = []\n",
    "train_r2 = []\n",
    "test_r2 = []\n",
    "oob_scores = []\n",
    "\n",
    "N_estimadores= [1,2,3,4,5,10,25,50,100,250,500,1000]\n",
    "for estimadores in N_estimadores:\n",
    "    print(estimadores)\n",
    "    clf = RandomForestRegressor(n_estimators=estimadores, max_features='sqrt', n_jobs=-1, oob_score = True, random_state = 42)\n",
    "    clf.fit(X_train,y_train)\n",
    "    \n",
    "    y_train_pred = clf.predict(X_train)\n",
    "    y_test_pred = clf.predict(X_test)\n",
    "    \n",
    "    train_RMSE.append(mean_squared_error(y_train,y_train_pred))\n",
    "    test_RMSE.append(mean_squared_error(y_test,y_test_pred))\n",
    "    train_r2.append(r2_score(y_train, y_train_pred))\n",
    "    test_r2.append(r2_score(y_test, y_test_pred))\n",
    "    oob_scores.append(clf.oob_score_)\n",
    "    \n",
    "train_RMSE = np.array(train_RMSE)\n",
    "test_RMSE = np.array(test_RMSE)\n",
    "\n",
    "train_r2 = np.array(train_r2)\n",
    "test_r2 = np.array(test_r2)\n",
    "\n",
    "\n",
    "oob_scores = np.array(oob_scores)"
   ]
  },
  {
   "cell_type": "code",
   "execution_count": null,
   "id": "1a3714b7",
   "metadata": {},
   "outputs": [],
   "source": [
    "plt.figure(figsize = (8,6))\n",
    "plt.plot(N_estimadores, train_RMSE, label = 'train_RMSE')\n",
    "plt.plot(N_estimadores, test_RMSE, label = 'test_RMSE')\n",
    "plt.plot(N_estimadores, oob_scores, label = 'OOB')\n",
    "plt.xlabel('Numero de estimadores')\n",
    "plt.ylabel('RMSE')\n",
    "plt.legend()"
   ]
  },
  {
   "cell_type": "code",
   "execution_count": null,
   "id": "2563640e",
   "metadata": {
    "scrolled": true
   },
   "outputs": [],
   "source": [
    "plt.figure(figsize = (8,6))\n",
    "plt.plot(N_estimadores, train_r2, label = 'train_r2')\n",
    "plt.plot(N_estimadores, test_r2, label = 'test_r2')\n",
    "plt.plot(N_estimadores, oob_scores, label = 'OOB')\n",
    "plt.xlabel('Numero de estimadores')\n",
    "plt.ylabel('r2')\n",
    "plt.legend()\n",
    "# plt.xlim(0,50)\n",
    "plt.show()\n",
    "\n"
   ]
  },
  {
   "cell_type": "markdown",
   "id": "e2b74ffd",
   "metadata": {},
   "source": [
    "## Ahora vamos a construir un Adaboost "
   ]
  },
  {
   "cell_type": "code",
   "execution_count": 156,
   "id": "6c8f1345",
   "metadata": {},
   "outputs": [],
   "source": [
    "from sklearn.ensemble import AdaBoostRegressor"
   ]
  },
  {
   "cell_type": "code",
   "execution_count": 157,
   "id": "e0428bae",
   "metadata": {},
   "outputs": [],
   "source": [
    "#X = dummies[[\"rooms\",\"surface_covered\",\"surface_total\",\"bedrooms\",\"bathrooms\",\"property_type_Casa\",\"property_type_Casa de campo\",\"property_type_Cochera\",\"property_type_Departamento\",\"property_type_Depósito\",\"property_type_Local comercial\",\"property_type_Lote\",\"property_type_Oficina\",\"property_type_Otro\",\"property_type_PH\"]] #Observa que sólo usamos 3 features del dataset\n",
    "#y = dummies['price']"
   ]
  },
  {
   "cell_type": "code",
   "execution_count": 160,
   "id": "cc274009",
   "metadata": {},
   "outputs": [],
   "source": [
    "X_train, X_test, y_train, y_test = train_test_split(X_escalado, y, test_size=0.30, random_state=42)"
   ]
  },
  {
   "cell_type": "code",
   "execution_count": 165,
   "id": "9f74df6e",
   "metadata": {
    "scrolled": true
   },
   "outputs": [
    {
     "data": {
      "text/plain": [
       "AdaBoostRegressor(base_estimator=DecisionTreeRegressor())"
      ]
     },
     "execution_count": 165,
     "metadata": {},
     "output_type": "execute_result"
    }
   ],
   "source": [
    "ada_clf = AdaBoostRegressor(DecisionTreeRegressor())\n",
    "# Entrenamos el modelo\n",
    "ada_clf.fit(X_train, y_train)\n",
    "#get_params().keys()"
   ]
  },
  {
   "cell_type": "code",
   "execution_count": 166,
   "id": "f592b130",
   "metadata": {},
   "outputs": [],
   "source": [
    "y_train_pred = ada_clf.predict(X_train)\n",
    "y_test_pred = ada_clf.predict(X_test)"
   ]
  },
  {
   "cell_type": "code",
   "execution_count": 167,
   "id": "6b9d7e3f",
   "metadata": {},
   "outputs": [],
   "source": [
    "RMSE_train=np.sqrt(mean_squared_error(y_train,y_train_pred))\n",
    "RMSE_test=np.sqrt(mean_squared_error(y_test,y_test_pred))\n",
    "r2_train= metrics.r2_score(y_train, y_train_pred)\n",
    "r2_test= metrics.r2_score(y_test, y_test_pred)"
   ]
  },
  {
   "cell_type": "code",
   "execution_count": 168,
   "id": "728b5bf6",
   "metadata": {
    "scrolled": false
   },
   "outputs": [
    {
     "name": "stdout",
     "output_type": "stream",
     "text": [
      "*******************************************\n",
      "Error cudratico medio train: 40850.97800118868\n",
      "Error cudratico medio test: 52146.00228011956\n",
      "*******************************************\n",
      "El Coeficiente de determinacion train: 0.8090045752197539\n",
      "El Coeficiente de determinacion test: 0.6946257677092555\n",
      "*******************************************\n"
     ]
    }
   ],
   "source": [
    "print(\"*******************************************\")\n",
    "print(\"Error cudratico medio train:\",RMSE_train)\n",
    "print(\"Error cudratico medio test:\",RMSE_test)\n",
    "print(\"*******************************************\")\n",
    "print(\"El Coeficiente de determinacion train:\",r2_train)\n",
    "print(\"El Coeficiente de determinacion test:\",r2_test)\n",
    "print(\"*******************************************\")"
   ]
  },
  {
   "cell_type": "code",
   "execution_count": 194,
   "id": "68886757",
   "metadata": {},
   "outputs": [
    {
     "data": {
      "text/plain": [
       "RandomizedSearchCV(cv=3, estimator=AdaBoostRegressor(), n_jobs=-1,\n",
       "                   param_distributions={'learning_rate': [0.01, 0.05, 0.1, 0.3,\n",
       "                                                          1],\n",
       "                                        'loss': ['linear', 'square',\n",
       "                                                 'exponential'],\n",
       "                                        'n_estimators': [50, 100, 250, 500,\n",
       "                                                         1000]})"
      ]
     },
     "execution_count": 194,
     "metadata": {},
     "output_type": "execute_result"
    }
   ],
   "source": [
    "\n",
    "param_dist = {\n",
    " 'n_estimators': [50, 100,250,500,1000],\n",
    " 'learning_rate' : [0.01,0.05,0.1,0.3,1],\n",
    " 'loss' : ['linear', 'square', 'exponential']\n",
    " }\n",
    "\n",
    "ada_clf = RandomizedSearchCV(AdaBoostRegressor(),\n",
    " param_distributions = param_dist,\n",
    " cv=3,\n",
    " n_iter = 10,\n",
    " n_jobs=-1)\n",
    "\n",
    "ada_clf.fit(X_train, y_train)"
   ]
  },
  {
   "cell_type": "code",
   "execution_count": 195,
   "id": "61ee7dfd",
   "metadata": {
    "scrolled": false
   },
   "outputs": [
    {
     "data": {
      "text/plain": [
       "{'n_estimators': 100, 'loss': 'linear', 'learning_rate': 0.05}"
      ]
     },
     "execution_count": 195,
     "metadata": {},
     "output_type": "execute_result"
    }
   ],
   "source": [
    "ada_clf.best_params_"
   ]
  },
  {
   "cell_type": "code",
   "execution_count": 99,
   "id": "df633917",
   "metadata": {},
   "outputs": [],
   "source": [
    "ada_clf = AdaBoostRegressor(DecisionTreeRegressor(max_depth=20),n_estimators=100,loss='linear',learning_rate=0.05)\n"
   ]
  },
  {
   "cell_type": "code",
   "execution_count": 100,
   "id": "7e34770b",
   "metadata": {},
   "outputs": [
    {
     "data": {
      "text/plain": [
       "AdaBoostRegressor(base_estimator=DecisionTreeRegressor(max_depth=20),\n",
       "                  learning_rate=0.05, n_estimators=100)"
      ]
     },
     "execution_count": 100,
     "metadata": {},
     "output_type": "execute_result"
    }
   ],
   "source": [
    "ada_clf.fit(X_train, y_train)\n"
   ]
  },
  {
   "cell_type": "code",
   "execution_count": 101,
   "id": "1503ee1f",
   "metadata": {},
   "outputs": [],
   "source": [
    "y_train_pred = ada_clf.predict(X_train)\n",
    "y_test_pred = ada_clf.predict(X_test)"
   ]
  },
  {
   "cell_type": "code",
   "execution_count": 102,
   "id": "1861ec81",
   "metadata": {},
   "outputs": [],
   "source": [
    "RMSE_train=np.sqrt(mean_squared_error(y_train,y_train_pred))\n",
    "RMSE_test=np.sqrt(mean_squared_error(y_test,y_test_pred))\n",
    "r2_train= metrics.r2_score(y_train, y_train_pred)\n",
    "r2_test= metrics.r2_score(y_test, y_test_pred)"
   ]
  },
  {
   "cell_type": "code",
   "execution_count": 103,
   "id": "deebab93",
   "metadata": {
    "scrolled": true
   },
   "outputs": [
    {
     "name": "stdout",
     "output_type": "stream",
     "text": [
      "*******************************************\n",
      "Error cudratico medio train: 36333.48103648397\n",
      "Error cudratico medio test: 50559.588646788216\n",
      "*******************************************\n",
      "El Coeficiente de determinacion train: 0.8517321761452\n",
      "El Coeficiente de determinacion test: 0.7153056334779515\n",
      "*******************************************\n"
     ]
    }
   ],
   "source": [
    "print(\"*******************************************\")\n",
    "print(\"Error cudratico medio train:\",RMSE_train)\n",
    "print(\"Error cudratico medio test:\",RMSE_test)\n",
    "print(\"*******************************************\")\n",
    "print(\"El Coeficiente de determinacion train:\",r2_train)\n",
    "print(\"El Coeficiente de determinacion test:\",r2_test)\n",
    "print(\"*******************************************\")"
   ]
  },
  {
   "cell_type": "code",
   "execution_count": 172,
   "id": "23719d57",
   "metadata": {},
   "outputs": [
    {
     "name": "stdout",
     "output_type": "stream",
     "text": [
      "Modelo: Árbol de Decisión\n",
      "Raíz del error cuadrático medio en Train: 35285.72201712695\n",
      "Raíz del error cuadrático medio en Test: 46438.35466578335\n",
      "--------------------------\n",
      "R2 o coeficiente de determinacion train : 0.8574996063018936\n",
      "R2 o coeficiente de determinacion test: 0.7578168086877286\n",
      "--------------------------\n"
     ]
    },
    {
     "name": "stderr",
     "output_type": "stream",
     "text": [
      "C:\\Users\\Cankil\\miniconda3\\envs\\ds\\lib\\site-packages\\seaborn\\distributions.py:2557: FutureWarning: `distplot` is a deprecated function and will be removed in a future version. Please adapt your code to use either `displot` (a figure-level function with similar flexibility) or `histplot` (an axes-level function for histograms).\n",
      "  warnings.warn(msg, FutureWarning)\n",
      "C:\\Users\\Cankil\\miniconda3\\envs\\ds\\lib\\site-packages\\seaborn\\distributions.py:2557: FutureWarning: `distplot` is a deprecated function and will be removed in a future version. Please adapt your code to use either `displot` (a figure-level function with similar flexibility) or `histplot` (an axes-level function for histograms).\n",
      "  warnings.warn(msg, FutureWarning)\n"
     ]
    },
    {
     "data": {
      "image/png": "[encoded data removed]",
      "text/plain": [
       "<Figure size 720x288 with 2 Axes>"
      ]
     },
     "metadata": {
      "needs_background": "light"
     },
     "output_type": "display_data"
    },
    {
     "name": "stdout",
     "output_type": "stream",
     "text": [
      "Modelo: Random Forest\n",
      "Raíz del error cuadrático medio en Train: 36262.5918909516\n",
      "Raíz del error cuadrático medio en Test: 48029.75609717008\n",
      "--------------------------\n",
      "R2 o coeficiente de determinacion train : 0.8495002660938038\n",
      "R2 o coeficiente de determinacion test: 0.740933586961983\n",
      "--------------------------\n"
     ]
    },
    {
     "name": "stderr",
     "output_type": "stream",
     "text": [
      "C:\\Users\\Cankil\\miniconda3\\envs\\ds\\lib\\site-packages\\seaborn\\distributions.py:2557: FutureWarning: `distplot` is a deprecated function and will be removed in a future version. Please adapt your code to use either `displot` (a figure-level function with similar flexibility) or `histplot` (an axes-level function for histograms).\n",
      "  warnings.warn(msg, FutureWarning)\n",
      "C:\\Users\\Cankil\\miniconda3\\envs\\ds\\lib\\site-packages\\seaborn\\distributions.py:2557: FutureWarning: `distplot` is a deprecated function and will be removed in a future version. Please adapt your code to use either `displot` (a figure-level function with similar flexibility) or `histplot` (an axes-level function for histograms).\n",
      "  warnings.warn(msg, FutureWarning)\n"
     ]
    },
    {
     "data": {
      "image/png": "[encoded data removed]",
      "text/plain": [
       "<Figure size 720x288 with 2 Axes>"
      ]
     },
     "metadata": {
      "needs_background": "light"
     },
     "output_type": "display_data"
    },
    {
     "name": "stdout",
     "output_type": "stream",
     "text": [
      "Modelo: ADA Boost\n",
      "Raíz del error cuadrático medio en Train: 40850.97800118868\n",
      "Raíz del error cuadrático medio en Test: 52146.00228011956\n",
      "--------------------------\n",
      "R2 o coeficiente de determinacion train : 0.8090045752197539\n",
      "R2 o coeficiente de determinacion test: 0.6946257677092555\n",
      "--------------------------\n"
     ]
    },
    {
     "name": "stderr",
     "output_type": "stream",
     "text": [
      "C:\\Users\\Cankil\\miniconda3\\envs\\ds\\lib\\site-packages\\seaborn\\distributions.py:2557: FutureWarning: `distplot` is a deprecated function and will be removed in a future version. Please adapt your code to use either `displot` (a figure-level function with similar flexibility) or `histplot` (an axes-level function for histograms).\n",
      "  warnings.warn(msg, FutureWarning)\n",
      "C:\\Users\\Cankil\\miniconda3\\envs\\ds\\lib\\site-packages\\seaborn\\distributions.py:2557: FutureWarning: `distplot` is a deprecated function and will be removed in a future version. Please adapt your code to use either `displot` (a figure-level function with similar flexibility) or `histplot` (an axes-level function for histograms).\n",
      "  warnings.warn(msg, FutureWarning)\n"
     ]
    },
    {
     "data": {
      "image/png": "[encoded data removed]",
      "text/plain": [
       "<Figure size 720x288 with 2 Axes>"
      ]
     },
     "metadata": {
      "needs_background": "light"
     },
     "output_type": "display_data"
    }
   ],
   "source": [
    "modelos = ['Árbol de Decisión', 'Random Forest', 'ADA Boost']\n",
    "\n",
    "for i, model in enumerate([decision_tree, RandomForest, ada_clf]):\n",
    "    y_train_pred = model.predict(X_train)\n",
    "    y_test_pred = model.predict(X_test)\n",
    "    \n",
    "    \n",
    "    print(f'Modelo: {modelos[i]}')\n",
    "\n",
    "    rmse_train = np.sqrt(mean_squared_error(y_train, y_train_pred))\n",
    "    rmse_test = np.sqrt(mean_squared_error(y_test, y_test_pred))\n",
    "    \n",
    "    \n",
    "    r2_train= metrics.r2_score(y_train, y_train_pred)\n",
    "    r2_test= metrics.r2_score(y_test, y_test_pred)\n",
    "    \n",
    "    print(f'Raíz del error cuadrático medio en Train: {rmse_train}')\n",
    "    print(f'Raíz del error cuadrático medio en Test: {rmse_test}')\n",
    "    print(\"--------------------------\")\n",
    "    \n",
    "    \n",
    "    \n",
    "    print(f'R2 o coeficiente de determinacion train : {r2_train}')\n",
    "    print(f'R2 o coeficiente de determinacion test: {r2_test}')\n",
    "    print(\"--------------------------\")\n",
    "    \n",
    "    plt.figure(figsize = (10,4))\n",
    "\n",
    "    plt.subplot(1,2,1)\n",
    "    sns.distplot(y_train - y_train_pred, bins = 20, label = 'train')\n",
    "    sns.distplot(y_test - y_test_pred, bins = 20, label = 'test')\n",
    "    plt.xlabel('errores')\n",
    "    plt.legend()\n",
    "\n",
    "\n",
    "    ax = plt.subplot(1,2,2)\n",
    "    ax.scatter(y_test,y_test_pred, s =2)\n",
    "    \n",
    "    lims = [\n",
    "    np.min([ax.get_xlim(), ax.get_ylim()]),  # min of both axes\n",
    "    np.max([ax.get_xlim(), ax.get_ylim()]),  # max of both axes]\n",
    "    ]\n",
    "    \n",
    "    ax.plot(lims, lims, 'k-', alpha=0.75, zorder=0)\n",
    "    plt.xlabel('y (test)')\n",
    "    plt.ylabel('y_pred (test)')\n",
    "    \n",
    "    plt.tight_layout()\n",
    "    plt.show()"
   ]
  },
  {
   "cell_type": "code",
   "execution_count": null,
   "id": "d667ee20",
   "metadata": {},
   "outputs": [],
   "source": []
  },
  {
   "cell_type": "code",
   "execution_count": null,
   "id": "2bf15bbf",
   "metadata": {},
   "outputs": [],
   "source": []
  },
  {
   "cell_type": "code",
   "execution_count": null,
   "id": "aead6734",
   "metadata": {},
   "outputs": [],
   "source": []
  },
  {
   "cell_type": "markdown",
   "id": "d7b62614",
   "metadata": {},
   "source": [
    "\n",
    "### Después de haber optimizado y evaluado los modelos construidos hasta ahora escogería el Random Forest siendo este el que mayor rendimiento ha mostrado en las métricas de evaluación tendiendo un RMSE para train de 36381.67 y para test de 47422.84 así como un R2 de 0.84 en train y 0.7461 en test mostrando poca varianza y desempeño sobresaliente frente a los otros 2 donde alcanzaron valores similares para el RMSE en train a este modelo pero aun así el random forest ostenta el RMSE  más bajo, ademas el ada boost y el árbol no alcanzaron el R2 del randon forest  por lo que para este caso seria el modelo mas robusto a utilizar\n"
   ]
  },
  {
   "cell_type": "code",
   "execution_count": 169,
   "id": "a5776e6a",
   "metadata": {},
   "outputs": [
    {
     "data": {
      "image/png": "[encoded data removed]",
      "text/plain": [
       "<Figure size 576x576 with 2 Axes>"
      ]
     },
     "metadata": {
      "needs_background": "light"
     },
     "output_type": "display_data"
    }
   ],
   "source": [
    "corr = dummies2.corr()\n",
    "plt.figure(figsize=(8,8))\n",
    "sns.heatmap(corr, cbar = True,  square = True, annot=True, fmt= '.2f',annot_kws={'size': 15},\n",
    "           cmap= 'coolwarm')\n",
    "plt.xticks(rotation = 45)\n",
    "plt.yticks(rotation = 45)\n",
    "plt.show()"
   ]
  },
  {
   "cell_type": "code",
   "execution_count": null,
   "id": "61f795cb",
   "metadata": {},
   "outputs": [],
   "source": []
  },
  {
   "cell_type": "code",
   "execution_count": null,
   "id": "d5ebfef2",
   "metadata": {},
   "outputs": [],
   "source": []
  },
  {
   "cell_type": "code",
   "execution_count": null,
   "id": "94b410a4",
   "metadata": {},
   "outputs": [],
   "source": []
  },
  {
   "cell_type": "code",
   "execution_count": null,
   "id": "896218c4",
   "metadata": {},
   "outputs": [],
   "source": []
  },
  {
   "cell_type": "code",
   "execution_count": null,
   "id": "f0689730",
   "metadata": {},
   "outputs": [],
   "source": []
  },
  {
   "cell_type": "code",
   "execution_count": null,
   "id": "1414f473",
   "metadata": {},
   "outputs": [],
   "source": []
  },
  {
   "cell_type": "code",
   "execution_count": null,
   "id": "02583e70",
   "metadata": {},
   "outputs": [],
   "source": []
  },
  {
   "cell_type": "code",
   "execution_count": null,
   "id": "b8423b68",
   "metadata": {},
   "outputs": [],
   "source": []
  }
 ],
 "metadata": {
  "kernelspec": {
   "display_name": "Python 3",
   "language": "python",
   "name": "python3"
  },
  "language_info": {
   "codemirror_mode": {
    "name": "ipython",
    "version": 3
   },
   "file_extension": ".py",
   "mimetype": "text/x-python",
   "name": "python",
   "nbconvert_exporter": "python",
   "pygments_lexer": "ipython3",
   "version": "3.8.8"
  }
 },
 "nbformat": 4,
 "nbformat_minor": 5
}
