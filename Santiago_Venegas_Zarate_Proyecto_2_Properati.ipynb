{
 "cells": [
  {
   "cell_type": "markdown",
   "id": "285e5844",
   "metadata": {},
   "source": [
    "# 2 PROYECTO STORY POINTS \n",
    "\n",
    "# 1\n",
    "\n",
    "#### PUNTOS A REALIZAR \n",
    "     - DETECION Y ELIMINACION DE OUTLIERS \n",
    "     - ENCODING \n",
    "     - IMPUTACION DE VALORES FALTANTES \n",
    "     - REDUCCION DE DIMENSIONALIDAD \n",
    " # 2\n",
    "    - IMPLEMENTAR LAS TRSANFORMACIONES REQURIDAS \n",
    "    - VOLVER A ENTRENAR EL MODELO DE ARBOL DE DESICION \n",
    "    \n",
    "# 3 \n",
    "    - ESCOGER 2 MODELOS AVANZADOS (REGRESION LINEAL CON ATRIBUTOS             POLINOMICOS) REGULARIZACION \n",
    "    -OPTIMIZAR HIPER PARAMETROS CON UN CROSS VALIDATION Y CON UN GRID        SEARCH \n",
    "    - COMPARAR CON EL PRIMER MODELO CUAL ELEGIRIA Y POR QUE \n",
    "# 4\n",
    "    -DE ACUERDO A LO QUE EL MODELO PERMITE RESPONDE ALGUNAS O TODAS LAS      REGUNTAS: ¿QUE VARIABLES FUERON RELEVANTES PARA EL MODELO PARA HACER      UNA PREDICCION? ¿CUALES NO? SI USASTE REGRESION LINEAL CON                NORMALIZACION PRESTA ATENCION A LOS PARAMETROS PENDIENTES, SI          USASTE DE E NSAMBLE DE ARBOLES, DEMAS DE VER LA IMPORTANCIOA DE        CADA ATRIBUTO TAMBIEN ELIGE ALGUNOS ARBOLES AL AZAR Y OBSERVA QUE        ATRIBUTOS CONSIDERAS IMPORTANTES \n",
    "     ¿EN QUE SE DIFERENCIAN ESTOS ARBOLES? POR QUE FINALMENETE RESPONDE\n",
    "     COINCIDE CON LO QUE ESPERABAS A PARTIR DE TU EXPERIENCIA CON ESTE        DATASET\n",
    "# 5 \n",
    "     -COMO ES LA DISTRUBUCION DE LOS ERRORES? ¿DONDE FALLAN LOS MODELOS?       A QUE SE DEBE \n",
    "# 6 \n",
    "     - CONCLUSIONES OBTENIDAS DEL TRABAJO\n"
   ]
  },
  {
   "cell_type": "code",
   "execution_count": 631,
   "id": "ff8a767b",
   "metadata": {},
   "outputs": [],
   "source": [
    "\n",
    "import numpy as np\n",
    "import pandas as pd\n",
    "import matplotlib.pyplot as plt\n",
    "import seaborn as sns\n",
    "sns.set()\n",
    "%matplotlib inline\n",
    "from sklearn.linear_model import LinearRegression\n",
    "from sklearn.tree import DecisionTreeRegressor\n",
    "from sklearn.neighbors import KNeighborsRegressor\n",
    "from sklearn.metrics import mean_absolute_error\n",
    "from sklearn.metrics import mean_squared_error\n",
    "from sklearn.metrics import r2_score\n",
    "from sklearn import metrics\n",
    "from sklearn.preprocessing import StandardScaler\n",
    "from sklearn.model_selection import cross_val_score\n",
    "from sklearn.model_selection import cross_validate\n",
    "from sklearn.model_selection import RandomizedSearchCV\n",
    "from sklearn.ensemble import RandomForestRegressor\n",
    "from sklearn.ensemble import AdaBoostRegressor\n",
    "from pickle import load, dump\n"
   ]
  },
  {
   "cell_type": "code",
   "execution_count": 350,
   "id": "b4cdb659",
   "metadata": {
    "scrolled": true
   },
   "outputs": [
    {
     "name": "stdout",
     "output_type": "stream",
     "text": [
      "(146660, 19)\n"
     ]
    },
    {
     "data": {
      "text/html": [
       "<div>\n",
       "<style scoped>\n",
       "    .dataframe tbody tr th:only-of-type {\n",
       "        vertical-align: middle;\n",
       "    }\n",
       "\n",
       "    .dataframe tbody tr th {\n",
       "        vertical-align: top;\n",
       "    }\n",
       "\n",
       "    .dataframe thead th {\n",
       "        text-align: right;\n",
       "    }\n",
       "</style>\n",
       "<table border=\"1\" class=\"dataframe\">\n",
       "  <thead>\n",
       "    <tr style=\"text-align: right;\">\n",
       "      <th></th>\n",
       "      <th>start_date</th>\n",
       "      <th>end_date</th>\n",
       "      <th>created_on</th>\n",
       "      <th>lat</th>\n",
       "      <th>lon</th>\n",
       "      <th>l1</th>\n",
       "      <th>l2</th>\n",
       "      <th>l3</th>\n",
       "      <th>rooms</th>\n",
       "      <th>bedrooms</th>\n",
       "      <th>bathrooms</th>\n",
       "      <th>surface_total</th>\n",
       "      <th>surface_covered</th>\n",
       "      <th>price</th>\n",
       "      <th>currency</th>\n",
       "      <th>title</th>\n",
       "      <th>description</th>\n",
       "      <th>property_type</th>\n",
       "      <th>operation_type</th>\n",
       "    </tr>\n",
       "  </thead>\n",
       "  <tbody>\n",
       "    <tr>\n",
       "      <th>0</th>\n",
       "      <td>2019-10-17</td>\n",
       "      <td>2019-12-23</td>\n",
       "      <td>2019-10-17</td>\n",
       "      <td>-34.605880</td>\n",
       "      <td>-58.384949</td>\n",
       "      <td>Argentina</td>\n",
       "      <td>Capital Federal</td>\n",
       "      <td>San Cristobal</td>\n",
       "      <td>7.0</td>\n",
       "      <td>7.0</td>\n",
       "      <td>2.0</td>\n",
       "      <td>140.0</td>\n",
       "      <td>140.0</td>\n",
       "      <td>153000.0</td>\n",
       "      <td>USD</td>\n",
       "      <td>***Venta semipiso centro, ideal hostel*****</td>\n",
       "      <td>DESCRIPCION DE LA PROPIEDAD: Departamento de 1...</td>\n",
       "      <td>Departamento</td>\n",
       "      <td>Venta</td>\n",
       "    </tr>\n",
       "    <tr>\n",
       "      <th>1</th>\n",
       "      <td>2019-10-17</td>\n",
       "      <td>2019-11-21</td>\n",
       "      <td>2019-10-17</td>\n",
       "      <td>-34.624056</td>\n",
       "      <td>-58.412110</td>\n",
       "      <td>Argentina</td>\n",
       "      <td>Capital Federal</td>\n",
       "      <td>Boedo</td>\n",
       "      <td>2.0</td>\n",
       "      <td>1.0</td>\n",
       "      <td>2.0</td>\n",
       "      <td>70.0</td>\n",
       "      <td>58.0</td>\n",
       "      <td>159000.0</td>\n",
       "      <td>USD</td>\n",
       "      <td>Espectacular PH reciclado en Boedo sin expensas.</td>\n",
       "      <td>PH reciclado en Boedo a una cuadra de la plaz...</td>\n",
       "      <td>PH</td>\n",
       "      <td>Venta</td>\n",
       "    </tr>\n",
       "    <tr>\n",
       "      <th>2</th>\n",
       "      <td>2019-10-17</td>\n",
       "      <td>2019-11-01</td>\n",
       "      <td>2019-10-17</td>\n",
       "      <td>-34.593569</td>\n",
       "      <td>-58.427474</td>\n",
       "      <td>Argentina</td>\n",
       "      <td>Capital Federal</td>\n",
       "      <td>Palermo</td>\n",
       "      <td>2.0</td>\n",
       "      <td>1.0</td>\n",
       "      <td>1.0</td>\n",
       "      <td>45.0</td>\n",
       "      <td>45.0</td>\n",
       "      <td>125000.0</td>\n",
       "      <td>USD</td>\n",
       "      <td>Depto.tipo casa de 2 ambientes en Venta en Pal...</td>\n",
       "      <td>2 ambienets amplio , excelente estado , patio ...</td>\n",
       "      <td>PH</td>\n",
       "      <td>Venta</td>\n",
       "    </tr>\n",
       "    <tr>\n",
       "      <th>3</th>\n",
       "      <td>2019-10-17</td>\n",
       "      <td>2019-12-23</td>\n",
       "      <td>2019-10-17</td>\n",
       "      <td>-34.581294</td>\n",
       "      <td>-58.436754</td>\n",
       "      <td>Argentina</td>\n",
       "      <td>Capital Federal</td>\n",
       "      <td>Palermo</td>\n",
       "      <td>2.0</td>\n",
       "      <td>1.0</td>\n",
       "      <td>1.0</td>\n",
       "      <td>85.0</td>\n",
       "      <td>50.0</td>\n",
       "      <td>295000.0</td>\n",
       "      <td>USD</td>\n",
       "      <td>COSTA RICA 5800 / PALERMO HOLLYWOOD / VENTA PH...</td>\n",
       "      <td>HERMOSO PH EN PALERMO!!!2 AMBIENTES TOTALMENTE...</td>\n",
       "      <td>PH</td>\n",
       "      <td>Venta</td>\n",
       "    </tr>\n",
       "    <tr>\n",
       "      <th>4</th>\n",
       "      <td>2019-10-17</td>\n",
       "      <td>2020-03-11</td>\n",
       "      <td>2019-10-17</td>\n",
       "      <td>-34.914194</td>\n",
       "      <td>-57.938219</td>\n",
       "      <td>Argentina</td>\n",
       "      <td>Bs.As. G.B.A. Zona Sur</td>\n",
       "      <td>La Plata</td>\n",
       "      <td>2.0</td>\n",
       "      <td>1.0</td>\n",
       "      <td>1.0</td>\n",
       "      <td>50.0</td>\n",
       "      <td>35.0</td>\n",
       "      <td>40000.0</td>\n",
       "      <td>USD</td>\n",
       "      <td>58 entre 1 y 2  Venta de departamento en ph.1 ...</td>\n",
       "      <td>58 entre 1 y 2  Venta de departamento en PH. P...</td>\n",
       "      <td>PH</td>\n",
       "      <td>Venta</td>\n",
       "    </tr>\n",
       "  </tbody>\n",
       "</table>\n",
       "</div>"
      ],
      "text/plain": [
       "   start_date    end_date  created_on        lat        lon         l1  \\\n",
       "0  2019-10-17  2019-12-23  2019-10-17 -34.605880 -58.384949  Argentina   \n",
       "1  2019-10-17  2019-11-21  2019-10-17 -34.624056 -58.412110  Argentina   \n",
       "2  2019-10-17  2019-11-01  2019-10-17 -34.593569 -58.427474  Argentina   \n",
       "3  2019-10-17  2019-12-23  2019-10-17 -34.581294 -58.436754  Argentina   \n",
       "4  2019-10-17  2020-03-11  2019-10-17 -34.914194 -57.938219  Argentina   \n",
       "\n",
       "                       l2             l3  rooms  bedrooms  bathrooms  \\\n",
       "0         Capital Federal  San Cristobal    7.0       7.0        2.0   \n",
       "1         Capital Federal          Boedo    2.0       1.0        2.0   \n",
       "2         Capital Federal        Palermo    2.0       1.0        1.0   \n",
       "3         Capital Federal        Palermo    2.0       1.0        1.0   \n",
       "4  Bs.As. G.B.A. Zona Sur       La Plata    2.0       1.0        1.0   \n",
       "\n",
       "   surface_total  surface_covered     price currency  \\\n",
       "0          140.0            140.0  153000.0      USD   \n",
       "1           70.0             58.0  159000.0      USD   \n",
       "2           45.0             45.0  125000.0      USD   \n",
       "3           85.0             50.0  295000.0      USD   \n",
       "4           50.0             35.0   40000.0      USD   \n",
       "\n",
       "                                               title  \\\n",
       "0        ***Venta semipiso centro, ideal hostel*****   \n",
       "1   Espectacular PH reciclado en Boedo sin expensas.   \n",
       "2  Depto.tipo casa de 2 ambientes en Venta en Pal...   \n",
       "3  COSTA RICA 5800 / PALERMO HOLLYWOOD / VENTA PH...   \n",
       "4  58 entre 1 y 2  Venta de departamento en ph.1 ...   \n",
       "\n",
       "                                         description property_type  \\\n",
       "0  DESCRIPCION DE LA PROPIEDAD: Departamento de 1...  Departamento   \n",
       "1   PH reciclado en Boedo a una cuadra de la plaz...            PH   \n",
       "2  2 ambienets amplio , excelente estado , patio ...            PH   \n",
       "3  HERMOSO PH EN PALERMO!!!2 AMBIENTES TOTALMENTE...            PH   \n",
       "4  58 entre 1 y 2  Venta de departamento en PH. P...            PH   \n",
       "\n",
       "  operation_type  \n",
       "0          Venta  \n",
       "1          Venta  \n",
       "2          Venta  \n",
       "3          Venta  \n",
       "4          Venta  "
      ]
     },
     "execution_count": 350,
     "metadata": {},
     "output_type": "execute_result"
    }
   ],
   "source": [
    "data = pd.read_csv('DS_Proyecto_01_Datos_Properati.csv')\n",
    "print(data.shape)\n",
    "data.head()\n",
    "\n"
   ]
  },
  {
   "cell_type": "markdown",
   "id": "6d17c240",
   "metadata": {},
   "source": [
    "# Preprocesamiento de datos "
   ]
  },
  {
   "cell_type": "markdown",
   "id": "c62a31e9",
   "metadata": {},
   "source": [
    "### - Visualizamos los tipos de propiedad"
   ]
  },
  {
   "cell_type": "code",
   "execution_count": 351,
   "id": "6b91ceef",
   "metadata": {
    "scrolled": true
   },
   "outputs": [
    {
     "data": {
      "text/plain": [
       "array(['Departamento', 'PH', 'Casa', 'Lote', 'Casa de campo', 'Oficina',\n",
       "       'Otro', 'Local comercial', 'Cochera', 'Depósito'], dtype=object)"
      ]
     },
     "execution_count": 351,
     "metadata": {},
     "output_type": "execute_result"
    }
   ],
   "source": [
    "data.property_type.unique()"
   ]
  },
  {
   "cell_type": "markdown",
   "id": "efda1582",
   "metadata": {},
   "source": [
    "### -Contamos la cantidad de propiedades por tipo "
   ]
  },
  {
   "cell_type": "code",
   "execution_count": 352,
   "id": "db07631b",
   "metadata": {
    "scrolled": false
   },
   "outputs": [
    {
     "data": {
      "text/plain": [
       "Departamento       73.180145\n",
       "Casa               14.674076\n",
       "PH                  9.749080\n",
       "Lote                0.894586\n",
       "Oficina             0.448657\n",
       "Otro                0.255012\n",
       "Local comercial     0.221601\n",
       "Casa de campo       0.219555\n",
       "Depósito            0.180690\n",
       "Cochera             0.176599\n",
       "Name: property_type, dtype: float64"
      ]
     },
     "execution_count": 352,
     "metadata": {},
     "output_type": "execute_result"
    }
   ],
   "source": [
    "data['property_type'].value_counts(normalize=True) * 100\n"
   ]
  },
  {
   "cell_type": "code",
   "execution_count": 353,
   "id": "770ac46e",
   "metadata": {},
   "outputs": [
    {
     "data": {
      "text/plain": [
       "(143145, 19)"
      ]
     },
     "execution_count": 353,
     "metadata": {},
     "output_type": "execute_result"
    }
   ],
   "source": [
    "data = data[data.property_type.isin(['Departamento','Casa','PH'])]\n",
    "data.shape"
   ]
  },
  {
   "cell_type": "markdown",
   "id": "df84cb22",
   "metadata": {},
   "source": [
    "### -Después contamos la cantidad de instancias para cada propiedad en este caso podemos ver que entre Departamento Casa y PH  se encuentra concentrada el 98.596995 % de los datos, procederemos a crear un filtro para estos tipos de propiedad \n"
   ]
  },
  {
   "cell_type": "code",
   "execution_count": 354,
   "id": "76745971",
   "metadata": {
    "scrolled": false
   },
   "outputs": [
    {
     "data": {
      "text/plain": [
       "Capital Federal             63.910720\n",
       "Bs.As. G.B.A. Zona Norte    16.554543\n",
       "Bs.As. G.B.A. Zona Sur      11.047539\n",
       "Bs.As. G.B.A. Zona Oeste     8.487198\n",
       "Name: l2, dtype: float64"
      ]
     },
     "execution_count": 354,
     "metadata": {},
     "output_type": "execute_result"
    }
   ],
   "source": [
    "data['l2'].value_counts(normalize=True) * 100\n"
   ]
  },
  {
   "cell_type": "code",
   "execution_count": 355,
   "id": "fd7a042a",
   "metadata": {},
   "outputs": [
    {
     "data": {
      "text/plain": [
       "(115182, 19)"
      ]
     },
     "execution_count": 355,
     "metadata": {},
     "output_type": "execute_result"
    }
   ],
   "source": [
    "data = data[data.l2.isin(['Capital Federal','Bs.As. G.B.A. Zona Norte'])]\n",
    "data.shape"
   ]
  },
  {
   "cell_type": "markdown",
   "id": "9603a3e8",
   "metadata": {},
   "source": [
    "### - Eliminamos las columnas innecesarias para este analisis "
   ]
  },
  {
   "cell_type": "code",
   "execution_count": 356,
   "id": "bf47d85f",
   "metadata": {},
   "outputs": [],
   "source": [
    "data.drop(columns=['l1','lat','lon','start_date','end_date','created_on','description','operation_type','title','currency'], inplace=True)"
   ]
  },
  {
   "cell_type": "code",
   "execution_count": 357,
   "id": "93e1c415",
   "metadata": {
    "scrolled": false
   },
   "outputs": [
    {
     "data": {
      "text/html": [
       "<div>\n",
       "<style scoped>\n",
       "    .dataframe tbody tr th:only-of-type {\n",
       "        vertical-align: middle;\n",
       "    }\n",
       "\n",
       "    .dataframe tbody tr th {\n",
       "        vertical-align: top;\n",
       "    }\n",
       "\n",
       "    .dataframe thead th {\n",
       "        text-align: right;\n",
       "    }\n",
       "</style>\n",
       "<table border=\"1\" class=\"dataframe\">\n",
       "  <thead>\n",
       "    <tr style=\"text-align: right;\">\n",
       "      <th></th>\n",
       "      <th>rooms</th>\n",
       "      <th>bedrooms</th>\n",
       "      <th>bathrooms</th>\n",
       "      <th>surface_total</th>\n",
       "      <th>surface_covered</th>\n",
       "      <th>price</th>\n",
       "    </tr>\n",
       "  </thead>\n",
       "  <tbody>\n",
       "    <tr>\n",
       "      <th>count</th>\n",
       "      <td>115182.0000</td>\n",
       "      <td>115182.0000</td>\n",
       "      <td>112588.0000</td>\n",
       "      <td>104561.0000</td>\n",
       "      <td>104250.0000</td>\n",
       "      <td>1.151820e+05</td>\n",
       "    </tr>\n",
       "    <tr>\n",
       "      <th>mean</th>\n",
       "      <td>3.0223</td>\n",
       "      <td>1.9940</td>\n",
       "      <td>1.6090</td>\n",
       "      <td>155.1024</td>\n",
       "      <td>104.8112</td>\n",
       "      <td>2.548960e+05</td>\n",
       "    </tr>\n",
       "    <tr>\n",
       "      <th>std</th>\n",
       "      <td>1.3478</td>\n",
       "      <td>1.0829</td>\n",
       "      <td>0.8892</td>\n",
       "      <td>1363.8369</td>\n",
       "      <td>871.9916</td>\n",
       "      <td>3.019673e+05</td>\n",
       "    </tr>\n",
       "    <tr>\n",
       "      <th>min</th>\n",
       "      <td>1.0000</td>\n",
       "      <td>0.0000</td>\n",
       "      <td>1.0000</td>\n",
       "      <td>10.0000</td>\n",
       "      <td>1.0000</td>\n",
       "      <td>6.000000e+03</td>\n",
       "    </tr>\n",
       "    <tr>\n",
       "      <th>25%</th>\n",
       "      <td>2.0000</td>\n",
       "      <td>1.0000</td>\n",
       "      <td>1.0000</td>\n",
       "      <td>51.0000</td>\n",
       "      <td>46.0000</td>\n",
       "      <td>1.220000e+05</td>\n",
       "    </tr>\n",
       "    <tr>\n",
       "      <th>50%</th>\n",
       "      <td>3.0000</td>\n",
       "      <td>2.0000</td>\n",
       "      <td>1.0000</td>\n",
       "      <td>75.0000</td>\n",
       "      <td>66.0000</td>\n",
       "      <td>1.780000e+05</td>\n",
       "    </tr>\n",
       "    <tr>\n",
       "      <th>75%</th>\n",
       "      <td>4.0000</td>\n",
       "      <td>3.0000</td>\n",
       "      <td>2.0000</td>\n",
       "      <td>123.0000</td>\n",
       "      <td>100.0000</td>\n",
       "      <td>2.799000e+05</td>\n",
       "    </tr>\n",
       "    <tr>\n",
       "      <th>max</th>\n",
       "      <td>35.0000</td>\n",
       "      <td>15.0000</td>\n",
       "      <td>14.0000</td>\n",
       "      <td>169000.0000</td>\n",
       "      <td>126062.0000</td>\n",
       "      <td>3.243423e+07</td>\n",
       "    </tr>\n",
       "  </tbody>\n",
       "</table>\n",
       "</div>"
      ],
      "text/plain": [
       "             rooms     bedrooms    bathrooms  surface_total  surface_covered  \\\n",
       "count  115182.0000  115182.0000  112588.0000    104561.0000      104250.0000   \n",
       "mean        3.0223       1.9940       1.6090       155.1024         104.8112   \n",
       "std         1.3478       1.0829       0.8892      1363.8369         871.9916   \n",
       "min         1.0000       0.0000       1.0000        10.0000           1.0000   \n",
       "25%         2.0000       1.0000       1.0000        51.0000          46.0000   \n",
       "50%         3.0000       2.0000       1.0000        75.0000          66.0000   \n",
       "75%         4.0000       3.0000       2.0000       123.0000         100.0000   \n",
       "max        35.0000      15.0000      14.0000    169000.0000      126062.0000   \n",
       "\n",
       "              price  \n",
       "count  1.151820e+05  \n",
       "mean   2.548960e+05  \n",
       "std    3.019673e+05  \n",
       "min    6.000000e+03  \n",
       "25%    1.220000e+05  \n",
       "50%    1.780000e+05  \n",
       "75%    2.799000e+05  \n",
       "max    3.243423e+07  "
      ]
     },
     "execution_count": 357,
     "metadata": {},
     "output_type": "execute_result"
    }
   ],
   "source": [
    "data.describe().round(4)\n"
   ]
  },
  {
   "cell_type": "code",
   "execution_count": 358,
   "id": "5f10c9d1",
   "metadata": {
    "scrolled": true
   },
   "outputs": [
    {
     "data": {
      "text/plain": [
       "(115182, 9)"
      ]
     },
     "execution_count": 358,
     "metadata": {},
     "output_type": "execute_result"
    }
   ],
   "source": [
    "data.shape"
   ]
  },
  {
   "cell_type": "markdown",
   "id": "4daf7b62",
   "metadata": {},
   "source": [
    "### - Identificamos el porcentaje de valores faltantes por columna "
   ]
  },
  {
   "cell_type": "code",
   "execution_count": 427,
   "id": "7de05f04",
   "metadata": {
    "scrolled": false
   },
   "outputs": [
    {
     "name": "stdout",
     "output_type": "stream",
     "text": [
      "l2 0.00%\n",
      "l3 0.00%\n",
      "rooms 0.00%\n",
      "bedrooms 0.00%\n",
      "bathrooms 0.00%\n",
      "surface_total 0.00%\n",
      "surface_covered 0.00%\n",
      "price 0.00%\n",
      "property_type 0.00%\n"
     ]
    }
   ],
   "source": [
    "for col in data.columns:\n",
    "  nulos= data[col].isna().sum()\n",
    "  print(col,   \"{:.2f}%\".format(nulos*100/146660))"
   ]
  },
  {
   "cell_type": "markdown",
   "id": "5779ad16",
   "metadata": {},
   "source": [
    "# Eliminamos  los valores faltantes ya que la cantidad de estos no llega ni al 10% de perdida por columna "
   ]
  },
  {
   "cell_type": "code",
   "execution_count": 360,
   "id": "4f666757",
   "metadata": {},
   "outputs": [],
   "source": [
    "data.dropna(inplace=True)"
   ]
  },
  {
   "cell_type": "markdown",
   "id": "73cf7f7c",
   "metadata": {},
   "source": [
    "### - Ahora vamos a crear la variable del valor del metro cuadrado por propiedad \n"
   ]
  },
  {
   "cell_type": "code",
   "execution_count": 488,
   "id": "2c43a8f5",
   "metadata": {},
   "outputs": [],
   "source": [
    "data[\"m2\"]  = data.price / data.surface_total"
   ]
  },
  {
   "cell_type": "code",
   "execution_count": 362,
   "id": "850d2522",
   "metadata": {
    "scrolled": false
   },
   "outputs": [
    {
     "data": {
      "text/html": [
       "<div>\n",
       "<style scoped>\n",
       "    .dataframe tbody tr th:only-of-type {\n",
       "        vertical-align: middle;\n",
       "    }\n",
       "\n",
       "    .dataframe tbody tr th {\n",
       "        vertical-align: top;\n",
       "    }\n",
       "\n",
       "    .dataframe thead th {\n",
       "        text-align: right;\n",
       "    }\n",
       "</style>\n",
       "<table border=\"1\" class=\"dataframe\">\n",
       "  <thead>\n",
       "    <tr style=\"text-align: right;\">\n",
       "      <th></th>\n",
       "      <th>l2</th>\n",
       "      <th>l3</th>\n",
       "      <th>rooms</th>\n",
       "      <th>bedrooms</th>\n",
       "      <th>bathrooms</th>\n",
       "      <th>surface_total</th>\n",
       "      <th>surface_covered</th>\n",
       "      <th>price</th>\n",
       "      <th>property_type</th>\n",
       "      <th>m2</th>\n",
       "    </tr>\n",
       "  </thead>\n",
       "  <tbody>\n",
       "    <tr>\n",
       "      <th>0</th>\n",
       "      <td>Capital Federal</td>\n",
       "      <td>San Cristobal</td>\n",
       "      <td>7.0</td>\n",
       "      <td>7.0</td>\n",
       "      <td>2.0</td>\n",
       "      <td>140.0</td>\n",
       "      <td>140.0</td>\n",
       "      <td>153000.0</td>\n",
       "      <td>Departamento</td>\n",
       "      <td>1092.857143</td>\n",
       "    </tr>\n",
       "    <tr>\n",
       "      <th>1</th>\n",
       "      <td>Capital Federal</td>\n",
       "      <td>Boedo</td>\n",
       "      <td>2.0</td>\n",
       "      <td>1.0</td>\n",
       "      <td>2.0</td>\n",
       "      <td>70.0</td>\n",
       "      <td>58.0</td>\n",
       "      <td>159000.0</td>\n",
       "      <td>PH</td>\n",
       "      <td>2271.428571</td>\n",
       "    </tr>\n",
       "    <tr>\n",
       "      <th>2</th>\n",
       "      <td>Capital Federal</td>\n",
       "      <td>Palermo</td>\n",
       "      <td>2.0</td>\n",
       "      <td>1.0</td>\n",
       "      <td>1.0</td>\n",
       "      <td>45.0</td>\n",
       "      <td>45.0</td>\n",
       "      <td>125000.0</td>\n",
       "      <td>PH</td>\n",
       "      <td>2777.777778</td>\n",
       "    </tr>\n",
       "    <tr>\n",
       "      <th>3</th>\n",
       "      <td>Capital Federal</td>\n",
       "      <td>Palermo</td>\n",
       "      <td>2.0</td>\n",
       "      <td>1.0</td>\n",
       "      <td>1.0</td>\n",
       "      <td>85.0</td>\n",
       "      <td>50.0</td>\n",
       "      <td>295000.0</td>\n",
       "      <td>PH</td>\n",
       "      <td>3470.588235</td>\n",
       "    </tr>\n",
       "    <tr>\n",
       "      <th>5</th>\n",
       "      <td>Capital Federal</td>\n",
       "      <td>Villa Crespo</td>\n",
       "      <td>2.0</td>\n",
       "      <td>1.0</td>\n",
       "      <td>1.0</td>\n",
       "      <td>56.0</td>\n",
       "      <td>56.0</td>\n",
       "      <td>150000.0</td>\n",
       "      <td>PH</td>\n",
       "      <td>2678.571429</td>\n",
       "    </tr>\n",
       "  </tbody>\n",
       "</table>\n",
       "</div>"
      ],
      "text/plain": [
       "                l2             l3  rooms  bedrooms  bathrooms  surface_total  \\\n",
       "0  Capital Federal  San Cristobal    7.0       7.0        2.0          140.0   \n",
       "1  Capital Federal          Boedo    2.0       1.0        2.0           70.0   \n",
       "2  Capital Federal        Palermo    2.0       1.0        1.0           45.0   \n",
       "3  Capital Federal        Palermo    2.0       1.0        1.0           85.0   \n",
       "5  Capital Federal   Villa Crespo    2.0       1.0        1.0           56.0   \n",
       "\n",
       "   surface_covered     price property_type           m2  \n",
       "0            140.0  153000.0  Departamento  1092.857143  \n",
       "1             58.0  159000.0            PH  2271.428571  \n",
       "2             45.0  125000.0            PH  2777.777778  \n",
       "3             50.0  295000.0            PH  3470.588235  \n",
       "5             56.0  150000.0            PH  2678.571429  "
      ]
     },
     "execution_count": 362,
     "metadata": {},
     "output_type": "execute_result"
    }
   ],
   "source": [
    "data.head()"
   ]
  },
  {
   "cell_type": "markdown",
   "id": "2f74d1f7",
   "metadata": {},
   "source": [
    "### -Después vamos a remplazar los valores de l3 con el promedio del valor del metro cuadrado por barrio"
   ]
  },
  {
   "cell_type": "code",
   "execution_count": 363,
   "id": "fa746417",
   "metadata": {},
   "outputs": [
    {
     "data": {
      "text/plain": [
       "{'Abasto': 2402.3187024869176,\n",
       " 'Agronomía': 2164.256870662044,\n",
       " 'Almagro': 2399.295567999604,\n",
       " 'Balvanera': 2052.838506385363,\n",
       " 'Barracas': 2159.3037480039793,\n",
       " 'Barrio Norte': 3105.3803513366265,\n",
       " 'Belgrano': 3370.36673104708,\n",
       " 'Boca': 1699.3529325411282,\n",
       " 'Boedo': 2038.0985669396998,\n",
       " 'Caballito': 2528.293502399792,\n",
       " 'Catalinas': 2040.9733736118492,\n",
       " 'Centro / Microcentro': 2274.5479007691583,\n",
       " 'Chacarita': 2411.672493580059,\n",
       " 'Coghlan': 2733.0960165494257,\n",
       " 'Colegiales': 2682.6704452817426,\n",
       " 'Congreso': 2050.933479778871,\n",
       " 'Constitución': 1634.2146327868218,\n",
       " 'Escobar': 793.2763114820983,\n",
       " 'Flores': 2018.6631600254493,\n",
       " 'Floresta': 1766.6165434207119,\n",
       " 'General San Martín': 1235.1926870275981,\n",
       " 'José C Paz': 505.11156441756054,\n",
       " 'Las Cañitas': 3845.4145164597276,\n",
       " 'Liniers': 2010.0605036256416,\n",
       " 'Malvinas Argentinas': 580.0768837663381,\n",
       " 'Mataderos': 1684.28227967064,\n",
       " 'Monserrat': 2012.136492335345,\n",
       " 'Monte Castro': 2036.8787346302988,\n",
       " 'Nuñez': 3249.5766217002747,\n",
       " 'Once': 1938.1764011971425,\n",
       " 'Palermo': 3528.966162866249,\n",
       " 'Parque Avellaneda': 1496.1366935282144,\n",
       " 'Parque Centenario': 2432.794047274052,\n",
       " 'Parque Chacabuco': 1856.0075455036636,\n",
       " 'Parque Chas': 2257.6665885150883,\n",
       " 'Parque Patricios': 1811.9415548499903,\n",
       " 'Paternal': 2053.724529486076,\n",
       " 'Pilar': 1252.5741564561959,\n",
       " 'Pompeya': 1230.1771209807964,\n",
       " 'Puerto Madero': 6098.252993372329,\n",
       " 'Recoleta': 3351.5646770860553,\n",
       " 'Retiro': 2961.3755584662244,\n",
       " 'Saavedra': 2452.3336836873264,\n",
       " 'San Cristobal': 1931.9924331310756,\n",
       " 'San Fernando': 2029.6495344050018,\n",
       " 'San Isidro': 2382.971667690224,\n",
       " 'San Miguel': 1201.1145195694642,\n",
       " 'San Nicolás': 2244.396000757365,\n",
       " 'San Telmo': 2291.56603375104,\n",
       " 'Tigre': 2358.5493511195086,\n",
       " 'Tribunales': 2078.6290193848154,\n",
       " 'Velez Sarsfield': 1757.5607613975933,\n",
       " 'Versalles': 1819.3168216336637,\n",
       " 'Vicente López': 2761.680438943497,\n",
       " 'Villa Crespo': 2425.057930162483,\n",
       " 'Villa Devoto': 2249.4785469163307,\n",
       " 'Villa General Mitre': 2010.3556008430683,\n",
       " 'Villa Lugano': 1241.909482832953,\n",
       " 'Villa Luro': 2050.7079021060517,\n",
       " 'Villa Ortuzar': 2454.8435572559965,\n",
       " 'Villa Pueyrredón': 2287.870299097313,\n",
       " 'Villa Real': 2156.876769678301,\n",
       " 'Villa Riachuelo': 1382.0635490521784,\n",
       " 'Villa Santa Rita': 2040.6117897469185,\n",
       " 'Villa Soldati': 828.3885718387816,\n",
       " 'Villa Urquiza': 2747.356617230902,\n",
       " 'Villa del Parque': 2241.11708502077}"
      ]
     },
     "execution_count": 363,
     "metadata": {},
     "output_type": "execute_result"
    }
   ],
   "source": [
    "media = data[[\"m2\",\"l3\"]].groupby(\"l3\").agg(pd.Series.mean)\n",
    "media = media.to_dict()[\"m2\"]\n",
    "media"
   ]
  },
  {
   "cell_type": "code",
   "execution_count": 364,
   "id": "40bd0e25",
   "metadata": {},
   "outputs": [],
   "source": [
    "data.l3 = data.l3.map(media)"
   ]
  },
  {
   "cell_type": "markdown",
   "id": "789a9a76",
   "metadata": {},
   "source": [
    "### -Eliminamos la columna m2 ya que la necesitábamos para poder hacer el remplazo de l3"
   ]
  },
  {
   "cell_type": "code",
   "execution_count": 365,
   "id": "65ba6a1b",
   "metadata": {},
   "outputs": [],
   "source": [
    "data.drop(columns=[\"m2\"], inplace=True)"
   ]
  },
  {
   "cell_type": "code",
   "execution_count": 366,
   "id": "7cc4d4cb",
   "metadata": {},
   "outputs": [],
   "source": [
    "data2 = data.copy() "
   ]
  },
  {
   "cell_type": "code",
   "execution_count": 367,
   "id": "b3a09d0d",
   "metadata": {
    "scrolled": true
   },
   "outputs": [
    {
     "data": {
      "text/plain": [
       "(102823, 9)"
      ]
     },
     "execution_count": 367,
     "metadata": {},
     "output_type": "execute_result"
    }
   ],
   "source": [
    "data2.shape"
   ]
  },
  {
   "cell_type": "code",
   "execution_count": 368,
   "id": "cd146879",
   "metadata": {
    "scrolled": true
   },
   "outputs": [
    {
     "data": {
      "text/html": [
       "<div>\n",
       "<style scoped>\n",
       "    .dataframe tbody tr th:only-of-type {\n",
       "        vertical-align: middle;\n",
       "    }\n",
       "\n",
       "    .dataframe tbody tr th {\n",
       "        vertical-align: top;\n",
       "    }\n",
       "\n",
       "    .dataframe thead th {\n",
       "        text-align: right;\n",
       "    }\n",
       "</style>\n",
       "<table border=\"1\" class=\"dataframe\">\n",
       "  <thead>\n",
       "    <tr style=\"text-align: right;\">\n",
       "      <th></th>\n",
       "      <th>l2</th>\n",
       "      <th>l3</th>\n",
       "      <th>rooms</th>\n",
       "      <th>bedrooms</th>\n",
       "      <th>bathrooms</th>\n",
       "      <th>surface_total</th>\n",
       "      <th>surface_covered</th>\n",
       "      <th>price</th>\n",
       "      <th>property_type</th>\n",
       "    </tr>\n",
       "  </thead>\n",
       "  <tbody>\n",
       "    <tr>\n",
       "      <th>0</th>\n",
       "      <td>Capital Federal</td>\n",
       "      <td>1931.992433</td>\n",
       "      <td>7.0</td>\n",
       "      <td>7.0</td>\n",
       "      <td>2.0</td>\n",
       "      <td>140.0</td>\n",
       "      <td>140.0</td>\n",
       "      <td>153000.0</td>\n",
       "      <td>Departamento</td>\n",
       "    </tr>\n",
       "    <tr>\n",
       "      <th>1</th>\n",
       "      <td>Capital Federal</td>\n",
       "      <td>2038.098567</td>\n",
       "      <td>2.0</td>\n",
       "      <td>1.0</td>\n",
       "      <td>2.0</td>\n",
       "      <td>70.0</td>\n",
       "      <td>58.0</td>\n",
       "      <td>159000.0</td>\n",
       "      <td>PH</td>\n",
       "    </tr>\n",
       "    <tr>\n",
       "      <th>2</th>\n",
       "      <td>Capital Federal</td>\n",
       "      <td>3528.966163</td>\n",
       "      <td>2.0</td>\n",
       "      <td>1.0</td>\n",
       "      <td>1.0</td>\n",
       "      <td>45.0</td>\n",
       "      <td>45.0</td>\n",
       "      <td>125000.0</td>\n",
       "      <td>PH</td>\n",
       "    </tr>\n",
       "    <tr>\n",
       "      <th>3</th>\n",
       "      <td>Capital Federal</td>\n",
       "      <td>3528.966163</td>\n",
       "      <td>2.0</td>\n",
       "      <td>1.0</td>\n",
       "      <td>1.0</td>\n",
       "      <td>85.0</td>\n",
       "      <td>50.0</td>\n",
       "      <td>295000.0</td>\n",
       "      <td>PH</td>\n",
       "    </tr>\n",
       "    <tr>\n",
       "      <th>5</th>\n",
       "      <td>Capital Federal</td>\n",
       "      <td>2425.057930</td>\n",
       "      <td>2.0</td>\n",
       "      <td>1.0</td>\n",
       "      <td>1.0</td>\n",
       "      <td>56.0</td>\n",
       "      <td>56.0</td>\n",
       "      <td>150000.0</td>\n",
       "      <td>PH</td>\n",
       "    </tr>\n",
       "  </tbody>\n",
       "</table>\n",
       "</div>"
      ],
      "text/plain": [
       "                l2           l3  rooms  bedrooms  bathrooms  surface_total  \\\n",
       "0  Capital Federal  1931.992433    7.0       7.0        2.0          140.0   \n",
       "1  Capital Federal  2038.098567    2.0       1.0        2.0           70.0   \n",
       "2  Capital Federal  3528.966163    2.0       1.0        1.0           45.0   \n",
       "3  Capital Federal  3528.966163    2.0       1.0        1.0           85.0   \n",
       "5  Capital Federal  2425.057930    2.0       1.0        1.0           56.0   \n",
       "\n",
       "   surface_covered     price property_type  \n",
       "0            140.0  153000.0  Departamento  \n",
       "1             58.0  159000.0            PH  \n",
       "2             45.0  125000.0            PH  \n",
       "3             50.0  295000.0            PH  \n",
       "5             56.0  150000.0            PH  "
      ]
     },
     "execution_count": 368,
     "metadata": {},
     "output_type": "execute_result"
    }
   ],
   "source": [
    "data2.head()"
   ]
  },
  {
   "cell_type": "markdown",
   "id": "04c611c0",
   "metadata": {},
   "source": [
    "# Que transformaciones de datos elegi y por que ?\n"
   ]
  },
  {
   "cell_type": "markdown",
   "id": "797f5976",
   "metadata": {},
   "source": [
    "### - Hemos escogido para este dataset 3 transformaciones de datos que son \n",
    "  \n",
    "  * Detección de outliers\n",
    "  * Encoding \n",
    "  * Eliminación de valores faltantes \n",
    "  * Escalado de datos\n",
    "\n",
    "  \n",
    "### - Estas son las más apropiadas ya que el dataset cuenta con una gran cantidad de valores atípicos lo que en anteriores ocasiones hemos podido evidenciar con los boxplots así que ahora después de eliminar los valores faltantes la siguiente transformación será la detección de outliers después el encoding de la variable property type y por último el escalado de datos de todas las variables contra price  "
   ]
  },
  {
   "cell_type": "markdown",
   "id": "c8d27b4f",
   "metadata": {},
   "source": [
    "### -Para poder tener una idea del rango de precios que nos será útil para el análisis realizamos un boxplot para tener una visualización de la variable price y surface total"
   ]
  },
  {
   "cell_type": "code",
   "execution_count": 369,
   "id": "57570baa",
   "metadata": {
    "scrolled": true
   },
   "outputs": [
    {
     "data": {
      "image/png": "[encoded data removed]",
      "text/plain": [
       "<Figure size 720x216 with 2 Axes>"
      ]
     },
     "metadata": {
      "needs_background": "light"
     },
     "output_type": "display_data"
    }
   ],
   "source": [
    "fig,(ax1,ax2) = plt.subplots(2,figsize=(10,3),constrained_layout= True)\n",
    "sns.boxplot(data=data2,x=\"surface_total\", ax=ax2)\n",
    "sns.boxplot(data=data2,x=\"price\", ax=ax1)\n",
    "plt.grid()\n",
    "plt.show()"
   ]
  },
  {
   "cell_type": "code",
   "execution_count": 370,
   "id": "e4d5035d",
   "metadata": {
    "scrolled": true
   },
   "outputs": [
    {
     "data": {
      "text/plain": [
       "<seaborn.axisgrid.FacetGrid at 0x2229e502250>"
      ]
     },
     "execution_count": 370,
     "metadata": {},
     "output_type": "execute_result"
    },
    {
     "data": {
      "image/png": "[encoded data removed]",
      "text/plain": [
       "<Figure size 1261.72x576 with 1 Axes>"
      ]
     },
     "metadata": {
      "needs_background": "light"
     },
     "output_type": "display_data"
    }
   ],
   "source": [
    "sns.catplot(x='price', y=\"property_type\",hue='property_type', data=data2, kind = \"bar\",height=8,aspect=2,legend=True)\n"
   ]
  },
  {
   "cell_type": "markdown",
   "id": "387891b6",
   "metadata": {},
   "source": [
    "### Como podemos observar en  las visualizaciones las variables tienen una cantidad considerable de  valores atípicos en base a estas   definimos que para este análisis vamos a trabajar  con propiedades de un valor de  hasta 450000"
   ]
  },
  {
   "cell_type": "code",
   "execution_count": 371,
   "id": "1aa67365",
   "metadata": {},
   "outputs": [],
   "source": [
    "data2 = data2[((data2['price'] <= 4500000))]"
   ]
  },
  {
   "cell_type": "code",
   "execution_count": 372,
   "id": "5ecf2777",
   "metadata": {},
   "outputs": [],
   "source": [
    "data3=data2.copy()"
   ]
  },
  {
   "cell_type": "code",
   "execution_count": 373,
   "id": "f6a9de6e",
   "metadata": {},
   "outputs": [
    {
     "data": {
      "text/plain": [
       "(102800, 9)"
      ]
     },
     "execution_count": 373,
     "metadata": {},
     "output_type": "execute_result"
    }
   ],
   "source": [
    "data3.shape"
   ]
  },
  {
   "cell_type": "markdown",
   "id": "a89d9503",
   "metadata": {},
   "source": [
    "# Detecion de outliers \n"
   ]
  },
  {
   "cell_type": "code",
   "execution_count": 374,
   "id": "3d58fb81",
   "metadata": {
    "scrolled": true
   },
   "outputs": [
    {
     "name": "stderr",
     "output_type": "stream",
     "text": [
      "<ipython-input-374-ba0328c431ca>:6: FutureWarning: Automatic reindexing on DataFrame vs Series comparisons is deprecated and will raise ValueError in a future version.  Do `left, right = left.align(right, axis=1, copy=False)` before e.g. `left == right`\n",
      "  data3=data3[~((data3<(Q1-1.5*IQR))|(data3>(Q3+1.5*IQR))).any(axis=1)]\n",
      "<ipython-input-374-ba0328c431ca>:6: FutureWarning: Automatic reindexing on DataFrame vs Series comparisons is deprecated and will raise ValueError in a future version.  Do `left, right = left.align(right, axis=1, copy=False)` before e.g. `left == right`\n",
      "  data3=data3[~((data3<(Q1-1.5*IQR))|(data3>(Q3+1.5*IQR))).any(axis=1)]\n"
     ]
    },
    {
     "data": {
      "text/plain": [
       "(86546, 9)"
      ]
     },
     "execution_count": 374,
     "metadata": {},
     "output_type": "execute_result"
    }
   ],
   "source": [
    "#definimos los cuantiles\n",
    "Q1= data3.quantile(0.25)\n",
    "Q3= data3.quantile(0.75)\n",
    "IQR = Q3-Q1\n",
    "#aplicamos a todas las columnas del data\n",
    "data3=data3[~((data3<(Q1-1.5*IQR))|(data3>(Q3+1.5*IQR))).any(axis=1)]\n",
    "data3.shape"
   ]
  },
  {
   "cell_type": "code",
   "execution_count": 375,
   "id": "1ee0042b",
   "metadata": {},
   "outputs": [
    {
     "data": {
      "text/html": [
       "<div>\n",
       "<style scoped>\n",
       "    .dataframe tbody tr th:only-of-type {\n",
       "        vertical-align: middle;\n",
       "    }\n",
       "\n",
       "    .dataframe tbody tr th {\n",
       "        vertical-align: top;\n",
       "    }\n",
       "\n",
       "    .dataframe thead th {\n",
       "        text-align: right;\n",
       "    }\n",
       "</style>\n",
       "<table border=\"1\" class=\"dataframe\">\n",
       "  <thead>\n",
       "    <tr style=\"text-align: right;\">\n",
       "      <th></th>\n",
       "      <th>l2</th>\n",
       "      <th>l3</th>\n",
       "      <th>rooms</th>\n",
       "      <th>bedrooms</th>\n",
       "      <th>bathrooms</th>\n",
       "      <th>surface_total</th>\n",
       "      <th>surface_covered</th>\n",
       "      <th>price</th>\n",
       "      <th>property_type</th>\n",
       "    </tr>\n",
       "  </thead>\n",
       "  <tbody>\n",
       "    <tr>\n",
       "      <th>1</th>\n",
       "      <td>Capital Federal</td>\n",
       "      <td>2038.098567</td>\n",
       "      <td>2.0</td>\n",
       "      <td>1.0</td>\n",
       "      <td>2.0</td>\n",
       "      <td>70.0</td>\n",
       "      <td>58.0</td>\n",
       "      <td>159000.0</td>\n",
       "      <td>PH</td>\n",
       "    </tr>\n",
       "    <tr>\n",
       "      <th>2</th>\n",
       "      <td>Capital Federal</td>\n",
       "      <td>3528.966163</td>\n",
       "      <td>2.0</td>\n",
       "      <td>1.0</td>\n",
       "      <td>1.0</td>\n",
       "      <td>45.0</td>\n",
       "      <td>45.0</td>\n",
       "      <td>125000.0</td>\n",
       "      <td>PH</td>\n",
       "    </tr>\n",
       "    <tr>\n",
       "      <th>3</th>\n",
       "      <td>Capital Federal</td>\n",
       "      <td>3528.966163</td>\n",
       "      <td>2.0</td>\n",
       "      <td>1.0</td>\n",
       "      <td>1.0</td>\n",
       "      <td>85.0</td>\n",
       "      <td>50.0</td>\n",
       "      <td>295000.0</td>\n",
       "      <td>PH</td>\n",
       "    </tr>\n",
       "    <tr>\n",
       "      <th>5</th>\n",
       "      <td>Capital Federal</td>\n",
       "      <td>2425.057930</td>\n",
       "      <td>2.0</td>\n",
       "      <td>1.0</td>\n",
       "      <td>1.0</td>\n",
       "      <td>56.0</td>\n",
       "      <td>56.0</td>\n",
       "      <td>150000.0</td>\n",
       "      <td>PH</td>\n",
       "    </tr>\n",
       "    <tr>\n",
       "      <th>6</th>\n",
       "      <td>Capital Federal</td>\n",
       "      <td>2425.057930</td>\n",
       "      <td>2.0</td>\n",
       "      <td>1.0</td>\n",
       "      <td>1.0</td>\n",
       "      <td>70.0</td>\n",
       "      <td>70.0</td>\n",
       "      <td>159500.0</td>\n",
       "      <td>PH</td>\n",
       "    </tr>\n",
       "  </tbody>\n",
       "</table>\n",
       "</div>"
      ],
      "text/plain": [
       "                l2           l3  rooms  bedrooms  bathrooms  surface_total  \\\n",
       "1  Capital Federal  2038.098567    2.0       1.0        2.0           70.0   \n",
       "2  Capital Federal  3528.966163    2.0       1.0        1.0           45.0   \n",
       "3  Capital Federal  3528.966163    2.0       1.0        1.0           85.0   \n",
       "5  Capital Federal  2425.057930    2.0       1.0        1.0           56.0   \n",
       "6  Capital Federal  2425.057930    2.0       1.0        1.0           70.0   \n",
       "\n",
       "   surface_covered     price property_type  \n",
       "1             58.0  159000.0            PH  \n",
       "2             45.0  125000.0            PH  \n",
       "3             50.0  295000.0            PH  \n",
       "5             56.0  150000.0            PH  \n",
       "6             70.0  159500.0            PH  "
      ]
     },
     "execution_count": 375,
     "metadata": {},
     "output_type": "execute_result"
    }
   ],
   "source": [
    "data3.head()"
   ]
  },
  {
   "cell_type": "markdown",
   "id": "ca940933",
   "metadata": {},
   "source": [
    "# Ahora codificamos la variable property_type para asi poder alimentar nuestro algoritmo con esta "
   ]
  },
  {
   "cell_type": "code",
   "execution_count": 376,
   "id": "2d441c48",
   "metadata": {},
   "outputs": [
    {
     "data": {
      "text/html": [
       "<div>\n",
       "<style scoped>\n",
       "    .dataframe tbody tr th:only-of-type {\n",
       "        vertical-align: middle;\n",
       "    }\n",
       "\n",
       "    .dataframe tbody tr th {\n",
       "        vertical-align: top;\n",
       "    }\n",
       "\n",
       "    .dataframe thead th {\n",
       "        text-align: right;\n",
       "    }\n",
       "</style>\n",
       "<table border=\"1\" class=\"dataframe\">\n",
       "  <thead>\n",
       "    <tr style=\"text-align: right;\">\n",
       "      <th></th>\n",
       "      <th>l2</th>\n",
       "      <th>l3</th>\n",
       "      <th>rooms</th>\n",
       "      <th>bedrooms</th>\n",
       "      <th>bathrooms</th>\n",
       "      <th>surface_total</th>\n",
       "      <th>surface_covered</th>\n",
       "      <th>price</th>\n",
       "      <th>property_type_Casa</th>\n",
       "      <th>property_type_Departamento</th>\n",
       "      <th>property_type_PH</th>\n",
       "    </tr>\n",
       "  </thead>\n",
       "  <tbody>\n",
       "    <tr>\n",
       "      <th>1</th>\n",
       "      <td>Capital Federal</td>\n",
       "      <td>2038.098567</td>\n",
       "      <td>2.0</td>\n",
       "      <td>1.0</td>\n",
       "      <td>2.0</td>\n",
       "      <td>70.0</td>\n",
       "      <td>58.0</td>\n",
       "      <td>159000.0</td>\n",
       "      <td>0</td>\n",
       "      <td>0</td>\n",
       "      <td>1</td>\n",
       "    </tr>\n",
       "    <tr>\n",
       "      <th>2</th>\n",
       "      <td>Capital Federal</td>\n",
       "      <td>3528.966163</td>\n",
       "      <td>2.0</td>\n",
       "      <td>1.0</td>\n",
       "      <td>1.0</td>\n",
       "      <td>45.0</td>\n",
       "      <td>45.0</td>\n",
       "      <td>125000.0</td>\n",
       "      <td>0</td>\n",
       "      <td>0</td>\n",
       "      <td>1</td>\n",
       "    </tr>\n",
       "    <tr>\n",
       "      <th>3</th>\n",
       "      <td>Capital Federal</td>\n",
       "      <td>3528.966163</td>\n",
       "      <td>2.0</td>\n",
       "      <td>1.0</td>\n",
       "      <td>1.0</td>\n",
       "      <td>85.0</td>\n",
       "      <td>50.0</td>\n",
       "      <td>295000.0</td>\n",
       "      <td>0</td>\n",
       "      <td>0</td>\n",
       "      <td>1</td>\n",
       "    </tr>\n",
       "    <tr>\n",
       "      <th>5</th>\n",
       "      <td>Capital Federal</td>\n",
       "      <td>2425.057930</td>\n",
       "      <td>2.0</td>\n",
       "      <td>1.0</td>\n",
       "      <td>1.0</td>\n",
       "      <td>56.0</td>\n",
       "      <td>56.0</td>\n",
       "      <td>150000.0</td>\n",
       "      <td>0</td>\n",
       "      <td>0</td>\n",
       "      <td>1</td>\n",
       "    </tr>\n",
       "    <tr>\n",
       "      <th>6</th>\n",
       "      <td>Capital Federal</td>\n",
       "      <td>2425.057930</td>\n",
       "      <td>2.0</td>\n",
       "      <td>1.0</td>\n",
       "      <td>1.0</td>\n",
       "      <td>70.0</td>\n",
       "      <td>70.0</td>\n",
       "      <td>159500.0</td>\n",
       "      <td>0</td>\n",
       "      <td>0</td>\n",
       "      <td>1</td>\n",
       "    </tr>\n",
       "  </tbody>\n",
       "</table>\n",
       "</div>"
      ],
      "text/plain": [
       "                l2           l3  rooms  bedrooms  bathrooms  surface_total  \\\n",
       "1  Capital Federal  2038.098567    2.0       1.0        2.0           70.0   \n",
       "2  Capital Federal  3528.966163    2.0       1.0        1.0           45.0   \n",
       "3  Capital Federal  3528.966163    2.0       1.0        1.0           85.0   \n",
       "5  Capital Federal  2425.057930    2.0       1.0        1.0           56.0   \n",
       "6  Capital Federal  2425.057930    2.0       1.0        1.0           70.0   \n",
       "\n",
       "   surface_covered     price  property_type_Casa  property_type_Departamento  \\\n",
       "1             58.0  159000.0                   0                           0   \n",
       "2             45.0  125000.0                   0                           0   \n",
       "3             50.0  295000.0                   0                           0   \n",
       "5             56.0  150000.0                   0                           0   \n",
       "6             70.0  159500.0                   0                           0   \n",
       "\n",
       "   property_type_PH  \n",
       "1                 1  \n",
       "2                 1  \n",
       "3                 1  \n",
       "5                 1  \n",
       "6                 1  "
      ]
     },
     "execution_count": 376,
     "metadata": {},
     "output_type": "execute_result"
    }
   ],
   "source": [
    "dummies = pd.get_dummies(data3, columns=[\"property_type\"])\n",
    "dummies.head()"
   ]
  },
  {
   "cell_type": "code",
   "execution_count": 377,
   "id": "0023b196",
   "metadata": {},
   "outputs": [
    {
     "data": {
      "text/plain": [
       "pandas.core.frame.DataFrame"
      ]
     },
     "execution_count": 377,
     "metadata": {},
     "output_type": "execute_result"
    }
   ],
   "source": [
    "dummies.shape\n",
    "type(dummies)"
   ]
  },
  {
   "cell_type": "markdown",
   "id": "1b5ab4b0",
   "metadata": {},
   "source": [
    "### -Realizamos un mapa de calor para  visualizar valores faltantes "
   ]
  },
  {
   "cell_type": "code",
   "execution_count": 378,
   "id": "627ffe78",
   "metadata": {
    "scrolled": true
   },
   "outputs": [
    {
     "data": {
      "text/plain": [
       "<AxesSubplot:>"
      ]
     },
     "execution_count": 378,
     "metadata": {},
     "output_type": "execute_result"
    },
    {
     "data": {
      "image/png": "[encoded data removed]",
      "text/plain": [
       "<Figure size 432x288 with 1 Axes>"
      ]
     },
     "metadata": {
      "needs_background": "light"
     },
     "output_type": "display_data"
    }
   ],
   "source": [
    "sns.heatmap(dummies.isnull(), yticklabels=False, cbar=False)\n"
   ]
  },
  {
   "cell_type": "code",
   "execution_count": 379,
   "id": "705ab820",
   "metadata": {},
   "outputs": [],
   "source": [
    "dummies2=dummies.copy()"
   ]
  },
  {
   "cell_type": "code",
   "execution_count": 380,
   "id": "bdeea5c3",
   "metadata": {
    "scrolled": false
   },
   "outputs": [
    {
     "data": {
      "text/plain": [
       "(86546, 11)"
      ]
     },
     "execution_count": 380,
     "metadata": {},
     "output_type": "execute_result"
    }
   ],
   "source": [
    "dummies2.shape"
   ]
  },
  {
   "cell_type": "markdown",
   "id": "8cc8a97a",
   "metadata": {},
   "source": [
    "### - Ahora definimos X e y para los modelos  "
   ]
  },
  {
   "cell_type": "code",
   "execution_count": 541,
   "id": "aeb50da6",
   "metadata": {},
   "outputs": [
    {
     "data": {
      "text/plain": [
       "(86546, 11)"
      ]
     },
     "execution_count": 541,
     "metadata": {},
     "output_type": "execute_result"
    }
   ],
   "source": [
    "X = dummies2[[\"rooms\",\"surface_covered\",\"surface_total\",\"bedrooms\",\"bathrooms\",\"property_type_Casa\",\"property_type_Departamento\",\"property_type_PH\",'l3']] #Observa que sólo usamos 3 features del dataset\n",
    "y = dummies2['price']\n",
    "\n",
    "dummies2.shape\n"
   ]
  },
  {
   "cell_type": "markdown",
   "id": "f9a77590",
   "metadata": {},
   "source": [
    "# Escalado de datos"
   ]
  },
  {
   "cell_type": "markdown",
   "id": "d6fb4fd3",
   "metadata": {},
   "source": [
    "### - Vamos ahora a escalar la X para igualar la escala de la variable y "
   ]
  },
  {
   "cell_type": "code",
   "execution_count": 429,
   "id": "a7fbec32",
   "metadata": {},
   "outputs": [
    {
     "data": {
      "text/plain": [
       "StandardScaler()"
      ]
     },
     "execution_count": 429,
     "metadata": {},
     "output_type": "execute_result"
    }
   ],
   "source": [
    "escalador = StandardScaler()\n",
    "escalador.fit(X)"
   ]
  },
  {
   "cell_type": "code",
   "execution_count": 430,
   "id": "1ab7811b",
   "metadata": {},
   "outputs": [
    {
     "data": {
      "text/plain": [
       "array([[-0.75280246, -0.28156628, -0.18688262, ..., -2.51707173,\n",
       "         2.82813303, -0.82530823],\n",
       "       [-0.75280246, -0.71718304, -0.83249438, ..., -2.51707173,\n",
       "         2.82813303,  1.53656544],\n",
       "       [-0.75280246, -0.54963813,  0.20048443, ..., -2.51707173,\n",
       "         2.82813303,  1.53656544],\n",
       "       ...,\n",
       "       [-1.75228152, -1.05227286, -0.70337202, ...,  0.39728705,\n",
       "        -0.35359016, -2.06975773],\n",
       "       [-0.75280246, -0.95174591, -1.01326567, ...,  0.39728705,\n",
       "        -0.35359016, -2.06975773],\n",
       "       [ 0.2466766 ,  0.28808641, -0.05776027, ...,  0.39728705,\n",
       "        -0.35359016, -2.06975773]])"
      ]
     },
     "execution_count": 430,
     "metadata": {},
     "output_type": "execute_result"
    }
   ],
   "source": [
    "X_escalado = escalador.transform(X)\n",
    "X_escalado"
   ]
  },
  {
   "cell_type": "markdown",
   "id": "70399bf4",
   "metadata": {},
   "source": [
    "## Train test split \n"
   ]
  },
  {
   "cell_type": "code",
   "execution_count": 431,
   "id": "9ed6433b",
   "metadata": {},
   "outputs": [],
   "source": [
    "from sklearn.model_selection import train_test_split\n",
    "X_train,X_test,y_train,y_test= train_test_split(X_escalado, y,test_size=0.20,random_state=42)"
   ]
  },
  {
   "cell_type": "markdown",
   "id": "e2529873",
   "metadata": {},
   "source": [
    "### - Construimos un DecisionTreeRegressor con nuestro nuevo dataset transformado "
   ]
  },
  {
   "cell_type": "code",
   "execution_count": 432,
   "id": "77ce019f",
   "metadata": {},
   "outputs": [],
   "source": [
    "decision_tree= DecisionTreeRegressor(max_depth=25,random_state=42)\n",
    "decision_tree.fit(X_train, y_train)\n",
    "\n",
    "y_arbol_train_pred = decision_tree.predict(X_train)\n",
    "y_arbol_test_pred= decision_tree.predict(X_test)"
   ]
  },
  {
   "cell_type": "code",
   "execution_count": 433,
   "id": "280d108b",
   "metadata": {},
   "outputs": [],
   "source": [
    "\n",
    "MAE_train=mean_absolute_error(y_train,y_arbol_train_pred)\n",
    "MAE_test=mean_absolute_error(y_test,y_arbol_test_pred)\n",
    "RMSE_train=np.sqrt(mean_squared_error(y_train,y_arbol_train_pred))\n",
    "RMSE_test=np.sqrt(mean_squared_error(y_test,y_arbol_test_pred))\n",
    "r2_train= metrics.r2_score(y_train, y_arbol_train_pred)\n",
    "r2_test= metrics.r2_score(y_test, y_arbol_test_pred)"
   ]
  },
  {
   "cell_type": "code",
   "execution_count": 434,
   "id": "519909d6",
   "metadata": {
    "scrolled": true
   },
   "outputs": [
    {
     "name": "stdout",
     "output_type": "stream",
     "text": [
      "El Error absoluto medio train: 6836.760309778518\n",
      "El Error absoluto medio test: 20499.615873618593\n",
      "*******************************************\n",
      "Error cudratico medio train: 15403.818874981154\n",
      "Error cudratico medio test: 38569.789390635764\n",
      "*******************************************\n",
      "El Coeficiente de determinacion train: 0.9723648729602253\n",
      "El Coeficiente de determinacion test: 0.8262746715376029\n",
      "*******************************************\n"
     ]
    }
   ],
   "source": [
    "print(\"El Error absoluto medio train:\",MAE_train)\n",
    "print(\"El Error absoluto medio test:\",MAE_test)\n",
    "print(\"*******************************************\")\n",
    "print(\"Error cudratico medio train:\",RMSE_train)\n",
    "print(\"Error cudratico medio test:\",RMSE_test)\n",
    "print(\"*******************************************\")\n",
    "print(\"El Coeficiente de determinacion train:\",r2_train)\n",
    "print(\"El Coeficiente de determinacion test:\",r2_test)\n",
    "print(\"*******************************************\")"
   ]
  },
  {
   "cell_type": "markdown",
   "id": "9ed58839",
   "metadata": {},
   "source": [
    "### Metricas del anterior arbol de desicion "
   ]
  },
  {
   "cell_type": "markdown",
   "id": "19ecc4e3",
   "metadata": {},
   "source": [
    "#### El Error absoluto medio train: 23681.8678332786\n",
    "#### El Error absoluto medio test: 49388.884628718595\n",
    "*******************************************\n",
    "#### Error cudratico medio train: 54047.89650654257\n",
    "#### Error cudratico medio test: 141864.7831195434\n",
    "*******************************************\n",
    "#### El Coeficiente de determinacion train: 0.9671459367517681\n",
    "#### El Coeficiente de determinacion test: 0.7793119430612151"
   ]
  },
  {
   "cell_type": "markdown",
   "id": "6c095886",
   "metadata": {},
   "source": [
    "# - En comparación con el primer  vemos una mejora sustancial en este respecto al MAE al RMSE y al R2 teniendo una mejora en el MAE del 141.5% en el RMSE de 367% y una mejora de 4.6% en el r2 con respecto al ejercicio de ML  pasado,  de estos inferimos que varios de los factores que aumentaron el rendimiento del modelo son la codificación de variables categóricas a numéricas la eliminación de valores atípicos y por último el escalado de la variables predictoras contra la variable a predecir."
   ]
  },
  {
   "cell_type": "markdown",
   "id": "4b1c2368",
   "metadata": {},
   "source": [
    "# Modelos avanzados \n"
   ]
  },
  {
   "cell_type": "markdown",
   "id": "95c2af5a",
   "metadata": {},
   "source": [
    "## -Como primer modelo escogimos un random forest  pero antes de crear este vamos a hacer cross validation de los datos \n"
   ]
  },
  {
   "cell_type": "code",
   "execution_count": 435,
   "id": "abdbba42",
   "metadata": {},
   "outputs": [],
   "source": [
    "from sklearn.ensemble import RandomForestRegressor"
   ]
  },
  {
   "cell_type": "code",
   "execution_count": 436,
   "id": "6fef5f0f",
   "metadata": {},
   "outputs": [],
   "source": [
    "clf = RandomForestRegressor(n_estimators=100,max_depth=20, n_jobs=-1, oob_score = True, random_state = 42)\n",
    "clf.fit(X_train,y_train)\n",
    "\n",
    "RandomForest = clf"
   ]
  },
  {
   "cell_type": "code",
   "execution_count": 437,
   "id": "63ca57b8",
   "metadata": {},
   "outputs": [],
   "source": [
    "clf_scores = cross_val_score(clf, X, y, cv=5)"
   ]
  },
  {
   "cell_type": "code",
   "execution_count": 438,
   "id": "61d415e1",
   "metadata": {},
   "outputs": [
    {
     "name": "stdout",
     "output_type": "stream",
     "text": [
      "[0.87135561 0.87291881 0.86365531 0.861023   0.88882103]\n",
      "Accuracy para Tree: 0.87 (+/- 0.02)\n"
     ]
    }
   ],
   "source": [
    "print(clf_scores)\n",
    "# print(tree_scores.mean(), knn_scores.mean())\n",
    "print(\"Accuracy para Tree: %0.2f (+/- %0.2f)\" % (clf_scores.mean(), clf_scores.std() * 2))"
   ]
  },
  {
   "cell_type": "code",
   "execution_count": 439,
   "id": "dd9fb005",
   "metadata": {
    "scrolled": true
   },
   "outputs": [],
   "source": [
    "clf_scores = cross_validate(clf, X, y, cv=5,n_jobs = -1)\n"
   ]
  },
  {
   "cell_type": "code",
   "execution_count": 440,
   "id": "62b53c6a",
   "metadata": {
    "scrolled": true
   },
   "outputs": [
    {
     "data": {
      "text/plain": [
       "{'fit_time': array([52.03264666, 51.77666473, 50.05281734, 50.54078436, 26.82509661]),\n",
       " 'score_time': array([1.1999197 , 0.83994126, 0.80794501, 0.75195026, 0.45597172]),\n",
       " 'test_score': array([0.87135561, 0.87291881, 0.86365531, 0.861023  , 0.88882103])}"
      ]
     },
     "execution_count": 440,
     "metadata": {},
     "output_type": "execute_result"
    }
   ],
   "source": [
    "clf_scores"
   ]
  },
  {
   "cell_type": "code",
   "execution_count": 497,
   "id": "55af6091",
   "metadata": {},
   "outputs": [
    {
     "data": {
      "text/plain": [
       "array([0.04047372, 0.34934997, 0.27060794, 0.01905266, 0.0994175 ,\n",
       "       0.00198187, 0.01349396, 0.00583441, 0.19978797])"
      ]
     },
     "execution_count": 497,
     "metadata": {},
     "output_type": "execute_result"
    }
   ],
   "source": [
    "clf.feature_importances_"
   ]
  },
  {
   "cell_type": "markdown",
   "id": "a35cc3a3",
   "metadata": {},
   "source": [
    "### - Ya con los scores de la validación cruzada nos podemos dar una idea del posible rendimiento de este modelo cuando apliquemos las métricas de evaluación"
   ]
  },
  {
   "cell_type": "code",
   "execution_count": 441,
   "id": "d968aaba",
   "metadata": {},
   "outputs": [],
   "source": [
    "X_train,X_test,y_train,y_test= train_test_split(X_escalado, y,test_size=0.20,random_state=42)"
   ]
  },
  {
   "cell_type": "markdown",
   "id": "2a5d1330",
   "metadata": {},
   "source": [
    "## - Para las metricas de evalucacion hemos escogido el error cuadratico medio y el r2  "
   ]
  },
  {
   "cell_type": "code",
   "execution_count": 442,
   "id": "82b1eeb0",
   "metadata": {},
   "outputs": [],
   "source": [
    "y_train_pred = clf.predict(X_train)\n",
    "y_test_pred = clf.predict(X_test)\n"
   ]
  },
  {
   "cell_type": "code",
   "execution_count": 443,
   "id": "426d74ee",
   "metadata": {},
   "outputs": [],
   "source": [
    "RMSE_train=np.sqrt(mean_squared_error(y_train,y_train_pred))\n",
    "RMSE_test=np.sqrt(mean_squared_error(y_test,y_test_pred))\n",
    "r2_train= metrics.r2_score(y_train, y_train_pred)\n",
    "r2_test= metrics.r2_score(y_test, y_test_pred)\n",
    "\n"
   ]
  },
  {
   "cell_type": "code",
   "execution_count": 444,
   "id": "712bad0a",
   "metadata": {
    "scrolled": false
   },
   "outputs": [
    {
     "name": "stdout",
     "output_type": "stream",
     "text": [
      "Error cudratico medio train: 19273.84073138634\n",
      "Error cudratico medio test: 32000.88238105769\n",
      "*******************************************\n",
      "El Coeficiente de determinacion train: 0.9567345534536826\n",
      "El Coeficiente de determinacion test: 0.8804106476910138\n",
      "*******************************************\n"
     ]
    }
   ],
   "source": [
    "print(\"Error cudratico medio train:\",RMSE_train)\n",
    "print(\"Error cudratico medio test:\",RMSE_test)\n",
    "print(\"*******************************************\")\n",
    "print(\"El Coeficiente de determinacion train:\",r2_train)\n",
    "print(\"El Coeficiente de determinacion test:\",r2_test)\n",
    "print(\"*******************************************\")"
   ]
  },
  {
   "cell_type": "code",
   "execution_count": 489,
   "id": "52735a6c",
   "metadata": {
    "scrolled": true
   },
   "outputs": [
    {
     "data": {
      "text/plain": [
       "0.8801927165525183"
      ]
     },
     "execution_count": 489,
     "metadata": {},
     "output_type": "execute_result"
    }
   ],
   "source": [
    "clf.oob_score_"
   ]
  },
  {
   "cell_type": "markdown",
   "id": "8b592f53",
   "metadata": {},
   "source": [
    "### - Optimizacion de parametros a travez del random search "
   ]
  },
  {
   "cell_type": "code",
   "execution_count": null,
   "id": "cbfbfeee",
   "metadata": {
    "scrolled": true
   },
   "outputs": [],
   "source": [
    "param_dist ={'n_estimators':[10,50,100,500,1000],\"max_features\":[2,3,4,5],}\n",
    "\n",
    "ada_clf = RandomizedSearchCV(RandomForestRegressor(),\n",
    " param_distributions = param_dist,\n",
    " cv=3,\n",
    " n_iter = 10,\n",
    " n_jobs=-1)\n",
    "\n",
    "ada_clf.fit(X_train, y_train)\n",
    "\n"
   ]
  },
  {
   "cell_type": "code",
   "execution_count": null,
   "id": "5ce7d460",
   "metadata": {},
   "outputs": [],
   "source": [
    "ada_clf.best_params_"
   ]
  },
  {
   "cell_type": "code",
   "execution_count": 445,
   "id": "8c5ba3c1",
   "metadata": {},
   "outputs": [
    {
     "data": {
      "text/plain": [
       "RandomForestRegressor(max_features=4, n_estimators=500, n_jobs=-1,\n",
       "                      oob_score=True, random_state=42)"
      ]
     },
     "execution_count": 445,
     "metadata": {},
     "output_type": "execute_result"
    }
   ],
   "source": [
    "clf = RandomForestRegressor(n_estimators=500,max_depth=20,max_features=4, n_jobs=-1, oob_score = True, random_state = 42)\n",
    "clf.fit(X_train,y_train)"
   ]
  },
  {
   "cell_type": "code",
   "execution_count": 483,
   "id": "0399e6ec",
   "metadata": {},
   "outputs": [],
   "source": [
    "y_train_pred = clf.predict(X_train)\n",
    "y_test_pred = clf.predict(X_test)"
   ]
  },
  {
   "cell_type": "code",
   "execution_count": 484,
   "id": "c69bd890",
   "metadata": {},
   "outputs": [],
   "source": [
    "RMSE_train=np.sqrt(mean_squared_error(y_train,y_train_pred))\n",
    "RMSE_test=np.sqrt(mean_squared_error(y_test,y_test_pred))\n",
    "r2_train= metrics.r2_score(y_train, y_train_pred)\n",
    "r2_test= metrics.r2_score(y_test, y_test_pred)\n"
   ]
  },
  {
   "cell_type": "code",
   "execution_count": 485,
   "id": "c9a1a725",
   "metadata": {},
   "outputs": [
    {
     "name": "stdout",
     "output_type": "stream",
     "text": [
      "Error cudratico medio train: 17989.523752263627\n",
      "Error cudratico medio test: 27546.962423443074\n",
      "*******************************************\n",
      "El Coeficiente de determinacion train: 0.962272898904486\n",
      "El Coeficiente de determinacion test: 0.9116569648989772\n",
      "*******************************************\n"
     ]
    }
   ],
   "source": [
    "print(\"Error cudratico medio train:\",RMSE_train)\n",
    "print(\"Error cudratico medio test:\",RMSE_test)\n",
    "print(\"*******************************************\")\n",
    "print(\"El Coeficiente de determinacion train:\",r2_train)\n",
    "print(\"El Coeficiente de determinacion test:\",r2_test)\n",
    "print(\"*******************************************\")"
   ]
  },
  {
   "cell_type": "code",
   "execution_count": 449,
   "id": "6486bd29",
   "metadata": {
    "scrolled": false
   },
   "outputs": [
    {
     "data": {
      "text/plain": [
       "array([0.04047372, 0.34934997, 0.27060794, 0.01905266, 0.0994175 ,\n",
       "       0.00198187, 0.01349396, 0.00583441, 0.19978797])"
      ]
     },
     "execution_count": 449,
     "metadata": {},
     "output_type": "execute_result"
    }
   ],
   "source": [
    "clf.feature_importances_"
   ]
  },
  {
   "cell_type": "markdown",
   "id": "e2b74ffd",
   "metadata": {},
   "source": [
    "## Ahora vamos a construir un Adaboost "
   ]
  },
  {
   "cell_type": "code",
   "execution_count": 450,
   "id": "6c8f1345",
   "metadata": {},
   "outputs": [],
   "source": [
    "from sklearn.ensemble import AdaBoostRegressor"
   ]
  },
  {
   "cell_type": "code",
   "execution_count": 451,
   "id": "cc274009",
   "metadata": {},
   "outputs": [],
   "source": [
    "X_train, X_test, y_train, y_test = train_test_split(X_escalado, y, test_size=0.30, random_state=42)"
   ]
  },
  {
   "cell_type": "code",
   "execution_count": 452,
   "id": "9f74df6e",
   "metadata": {
    "scrolled": true
   },
   "outputs": [
    {
     "data": {
      "text/plain": [
       "AdaBoostRegressor(base_estimator=DecisionTreeRegressor())"
      ]
     },
     "execution_count": 452,
     "metadata": {},
     "output_type": "execute_result"
    }
   ],
   "source": [
    "ada_clf = AdaBoostRegressor(DecisionTreeRegressor())\n",
    "# Entrenamos el modelo\n",
    "ada_clf.fit(X_train, y_train)\n",
    "#get_params().keys()"
   ]
  },
  {
   "cell_type": "code",
   "execution_count": 453,
   "id": "f592b130",
   "metadata": {},
   "outputs": [],
   "source": [
    "y_train_pred = ada_clf.predict(X_train)\n",
    "y_test_pred = ada_clf.predict(X_test)"
   ]
  },
  {
   "cell_type": "code",
   "execution_count": 454,
   "id": "6b9d7e3f",
   "metadata": {},
   "outputs": [],
   "source": [
    "RMSE_train=np.sqrt(mean_squared_error(y_train,y_train_pred))\n",
    "RMSE_test=np.sqrt(mean_squared_error(y_test,y_test_pred))\n",
    "r2_train= metrics.r2_score(y_train, y_train_pred)\n",
    "r2_test= metrics.r2_score(y_test, y_test_pred)"
   ]
  },
  {
   "cell_type": "code",
   "execution_count": 455,
   "id": "728b5bf6",
   "metadata": {
    "scrolled": false
   },
   "outputs": [
    {
     "name": "stdout",
     "output_type": "stream",
     "text": [
      "*******************************************\n",
      "Error cudratico medio train: 19126.37043300667\n",
      "Error cudratico medio test: 33772.72634473375\n",
      "*******************************************\n",
      "El Coeficiente de determinacion train: 0.9573539090191729\n",
      "El Coeficiente de determinacion test: 0.8672125213839322\n",
      "*******************************************\n"
     ]
    }
   ],
   "source": [
    "print(\"*******************************************\")\n",
    "print(\"Error cudratico medio train:\",RMSE_train)\n",
    "print(\"Error cudratico medio test:\",RMSE_test)\n",
    "print(\"*******************************************\")\n",
    "print(\"El Coeficiente de determinacion train:\",r2_train)\n",
    "print(\"El Coeficiente de determinacion test:\",r2_test)\n",
    "print(\"*******************************************\")"
   ]
  },
  {
   "cell_type": "code",
   "execution_count": null,
   "id": "68886757",
   "metadata": {},
   "outputs": [],
   "source": [
    "\n",
    "param_dist = {\n",
    " 'n_estimators': [50, 100,250,500,1000],\n",
    " 'learning_rate' : [0.01,0.05,0.1,0.3,1],\n",
    " 'loss' : ['linear', 'square', 'exponential']\n",
    " }\n",
    "\n",
    "ada_clf = RandomizedSearchCV(AdaBoostRegressor(),\n",
    " param_distributions = param_dist,\n",
    " cv=3,\n",
    " n_iter = 10,\n",
    " n_jobs=-1)\n",
    "\n",
    "ada_clf.fit(X_train, y_train)"
   ]
  },
  {
   "cell_type": "code",
   "execution_count": null,
   "id": "61ee7dfd",
   "metadata": {
    "scrolled": false
   },
   "outputs": [],
   "source": [
    "ada_clf.best_params_"
   ]
  },
  {
   "cell_type": "code",
   "execution_count": 486,
   "id": "df633917",
   "metadata": {},
   "outputs": [],
   "source": [
    "ada_clf = AdaBoostRegressor(DecisionTreeRegressor(),n_estimators=500,loss='exponential',learning_rate=0.01)\n"
   ]
  },
  {
   "cell_type": "code",
   "execution_count": 487,
   "id": "7e34770b",
   "metadata": {},
   "outputs": [
    {
     "data": {
      "text/plain": [
       "AdaBoostRegressor(base_estimator=DecisionTreeRegressor(), learning_rate=0.01,\n",
       "                  loss='exponential', n_estimators=500)"
      ]
     },
     "execution_count": 487,
     "metadata": {},
     "output_type": "execute_result"
    }
   ],
   "source": [
    "ada_clf.fit(X_train, y_train)\n"
   ]
  },
  {
   "cell_type": "code",
   "execution_count": 458,
   "id": "1503ee1f",
   "metadata": {},
   "outputs": [],
   "source": [
    "y_train_pred = ada_clf.predict(X_train)\n",
    "y_test_pred = ada_clf.predict(X_test)"
   ]
  },
  {
   "cell_type": "code",
   "execution_count": 459,
   "id": "1861ec81",
   "metadata": {},
   "outputs": [],
   "source": [
    "RMSE_train=np.sqrt(mean_squared_error(y_train,y_train_pred))\n",
    "RMSE_test=np.sqrt(mean_squared_error(y_test,y_test_pred))\n",
    "r2_train= metrics.r2_score(y_train, y_train_pred)\n",
    "r2_test= metrics.r2_score(y_test, y_test_pred)"
   ]
  },
  {
   "cell_type": "code",
   "execution_count": 460,
   "id": "deebab93",
   "metadata": {
    "scrolled": false
   },
   "outputs": [
    {
     "name": "stdout",
     "output_type": "stream",
     "text": [
      "*******************************************\n",
      "Error cudratico medio train: 15854.733293334231\n",
      "Error cudratico medio test: 33620.78112837686\n",
      "*******************************************\n",
      "El Coeficiente de determinacion train: 0.9706956572657939\n",
      "El Coeficiente de determinacion test: 0.8684046688337242\n",
      "*******************************************\n"
     ]
    }
   ],
   "source": [
    "print(\"*******************************************\")\n",
    "print(\"Error cudratico medio train:\",RMSE_train)\n",
    "print(\"Error cudratico medio test:\",RMSE_test)\n",
    "print(\"*******************************************\")\n",
    "print(\"El Coeficiente de determinacion train:\",r2_train)\n",
    "print(\"El Coeficiente de determinacion test:\",r2_test)\n",
    "print(\"*******************************************\")"
   ]
  },
  {
   "cell_type": "markdown",
   "id": "62fb0b8a",
   "metadata": {},
   "source": [
    "# Vamos ahora a graficar los aciertos del modelo versus su error para ver donde se concentra este"
   ]
  },
  {
   "cell_type": "code",
   "execution_count": 461,
   "id": "23719d57",
   "metadata": {
    "scrolled": false
   },
   "outputs": [
    {
     "name": "stdout",
     "output_type": "stream",
     "text": [
      "Modelo: Árbol de Decisión\n",
      "Raíz del error cuadrático medio en Train: 15414.160239472953\n",
      "Raíz del error cuadrático medio en Test: 32712.89441122456\n",
      "--------------------------\n",
      "R2 o coeficiente de determinacion train : 0.9723016535968194\n",
      "R2 o coeficiente de determinacion test: 0.8754158405983229\n",
      "--------------------------\n"
     ]
    },
    {
     "name": "stderr",
     "output_type": "stream",
     "text": [
      "C:\\Users\\Cankil\\miniconda3\\envs\\ds\\lib\\site-packages\\seaborn\\distributions.py:2557: FutureWarning: `distplot` is a deprecated function and will be removed in a future version. Please adapt your code to use either `displot` (a figure-level function with similar flexibility) or `histplot` (an axes-level function for histograms).\n",
      "  warnings.warn(msg, FutureWarning)\n",
      "C:\\Users\\Cankil\\miniconda3\\envs\\ds\\lib\\site-packages\\seaborn\\distributions.py:2557: FutureWarning: `distplot` is a deprecated function and will be removed in a future version. Please adapt your code to use either `displot` (a figure-level function with similar flexibility) or `histplot` (an axes-level function for histograms).\n",
      "  warnings.warn(msg, FutureWarning)\n"
     ]
    },
    {
     "data": {
      "image/png": "[encoded data removed]",
      "text/plain": [
       "<Figure size 720x288 with 2 Axes>"
      ]
     },
     "metadata": {
      "needs_background": "light"
     },
     "output_type": "display_data"
    },
    {
     "name": "stdout",
     "output_type": "stream",
     "text": [
      "Modelo: Random Forest\n",
      "Raíz del error cuadrático medio en Train: 17989.523752263627\n",
      "Raíz del error cuadrático medio en Test: 27546.962423443074\n",
      "--------------------------\n",
      "R2 o coeficiente de determinacion train : 0.962272898904486\n",
      "R2 o coeficiente de determinacion test: 0.9116569648989772\n",
      "--------------------------\n"
     ]
    },
    {
     "name": "stderr",
     "output_type": "stream",
     "text": [
      "C:\\Users\\Cankil\\miniconda3\\envs\\ds\\lib\\site-packages\\seaborn\\distributions.py:2557: FutureWarning: `distplot` is a deprecated function and will be removed in a future version. Please adapt your code to use either `displot` (a figure-level function with similar flexibility) or `histplot` (an axes-level function for histograms).\n",
      "  warnings.warn(msg, FutureWarning)\n",
      "C:\\Users\\Cankil\\miniconda3\\envs\\ds\\lib\\site-packages\\seaborn\\distributions.py:2557: FutureWarning: `distplot` is a deprecated function and will be removed in a future version. Please adapt your code to use either `displot` (a figure-level function with similar flexibility) or `histplot` (an axes-level function for histograms).\n",
      "  warnings.warn(msg, FutureWarning)\n"
     ]
    },
    {
     "data": {
      "image/png": "[encoded data removed]",
      "text/plain": [
       "<Figure size 720x288 with 2 Axes>"
      ]
     },
     "metadata": {
      "needs_background": "light"
     },
     "output_type": "display_data"
    },
    {
     "name": "stdout",
     "output_type": "stream",
     "text": [
      "Modelo: ADA Boost\n",
      "Raíz del error cuadrático medio en Train: 15854.733293334231\n",
      "Raíz del error cuadrático medio en Test: 33620.78112837686\n",
      "--------------------------\n",
      "R2 o coeficiente de determinacion train : 0.9706956572657939\n",
      "R2 o coeficiente de determinacion test: 0.8684046688337242\n",
      "--------------------------\n"
     ]
    },
    {
     "name": "stderr",
     "output_type": "stream",
     "text": [
      "C:\\Users\\Cankil\\miniconda3\\envs\\ds\\lib\\site-packages\\seaborn\\distributions.py:2557: FutureWarning: `distplot` is a deprecated function and will be removed in a future version. Please adapt your code to use either `displot` (a figure-level function with similar flexibility) or `histplot` (an axes-level function for histograms).\n",
      "  warnings.warn(msg, FutureWarning)\n",
      "C:\\Users\\Cankil\\miniconda3\\envs\\ds\\lib\\site-packages\\seaborn\\distributions.py:2557: FutureWarning: `distplot` is a deprecated function and will be removed in a future version. Please adapt your code to use either `displot` (a figure-level function with similar flexibility) or `histplot` (an axes-level function for histograms).\n",
      "  warnings.warn(msg, FutureWarning)\n"
     ]
    },
    {
     "data": {
      "image/png": "[encoded data removed]",
      "text/plain": [
       "<Figure size 720x288 with 2 Axes>"
      ]
     },
     "metadata": {
      "needs_background": "light"
     },
     "output_type": "display_data"
    }
   ],
   "source": [
    "modelos = ['Árbol de Decisión', 'Random Forest', 'ADA Boost']\n",
    "\n",
    "for i, model in enumerate([decision_tree, clf, ada_clf]):\n",
    "    y_train_pred = model.predict(X_train)\n",
    "    y_test_pred = model.predict(X_test)\n",
    "    \n",
    "    \n",
    "    print(f'Modelo: {modelos[i]}')\n",
    "\n",
    "    rmse_train = np.sqrt(mean_squared_error(y_train, y_train_pred))\n",
    "    rmse_test = np.sqrt(mean_squared_error(y_test, y_test_pred))\n",
    "    \n",
    "    \n",
    "    r2_train= metrics.r2_score(y_train, y_train_pred)\n",
    "    r2_test= metrics.r2_score(y_test, y_test_pred)\n",
    "    \n",
    "    print(f'Raíz del error cuadrático medio en Train: {rmse_train}')\n",
    "    print(f'Raíz del error cuadrático medio en Test: {rmse_test}')\n",
    "    print(\"--------------------------\")\n",
    "    \n",
    "    \n",
    "    \n",
    "    print(f'R2 o coeficiente de determinacion train : {r2_train}')\n",
    "    print(f'R2 o coeficiente de determinacion test: {r2_test}')\n",
    "    print(\"--------------------------\")\n",
    "    \n",
    "    plt.figure(figsize = (10,4))\n",
    "\n",
    "    plt.subplot(1,2,1)\n",
    "    sns.distplot(y_train - y_train_pred, bins = 20, label = 'train')\n",
    "    sns.distplot(y_test - y_test_pred, bins = 20, label = 'test')\n",
    "    plt.xlabel('errores')\n",
    "    plt.legend()\n",
    "\n",
    "\n",
    "    ax = plt.subplot(1,2,2)\n",
    "    ax.scatter(y_test,y_test_pred, s =2)\n",
    "    \n",
    "    lims = [\n",
    "    np.min([ax.get_xlim(), ax.get_ylim()]),  # min of both axes\n",
    "    np.max([ax.get_xlim(), ax.get_ylim()]),  # max of both axes]\n",
    "    ]\n",
    "    \n",
    "    ax.plot(lims, lims, 'k-', alpha=0.75, zorder=0)\n",
    "    plt.xlabel('y (test)')\n",
    "    plt.ylabel('y_pred (test)')\n",
    "    \n",
    "    plt.tight_layout()\n",
    "    plt.show()"
   ]
  },
  {
   "cell_type": "markdown",
   "id": "47e7e3ee",
   "metadata": {},
   "source": [
    "# En donde fallan los modelos?\n",
    "\n",
    "## - Como observamos en la gráfica del error de cada modelo, la distribución de estos obedece a una distribución normal ya que la mayoría de los errores están concentrados en el centro de la misma por otro lado el  ADAboost y el árbol de decisión el  error  se centra en la áreas con una densidad de cercana a 0 para y para el random forest en las áreas entre 0 y 3.5 de densidad esto en consecuencia de la gran concentración de puntos sobre la línea\n"
   ]
  },
  {
   "cell_type": "markdown",
   "id": "d7b62614",
   "metadata": {},
   "source": [
    "## - Después de haber optimizado y evaluado los modelos construidos hasta ahora escogería el Random Forest siendo este el que mayor rendimiento ha mostrado en las métricas de evaluación tendiendo un RMSE para train de 17989 y para test de 27546 así como un R2 de 0.96 en train y 0.91 en test mostrando poca varianza y desempeño sobresaliente frente a los otros 2 donde alcanzaron valores similares para el RMSE en train a este modelo pero aun así el random forest ostenta el RMSE  más bajo, además el ada boost y el árbol no alcanzaron el R2 del RF por lo que para este caso sería el modelo más robusto a utilizar"
   ]
  },
  {
   "cell_type": "markdown",
   "id": "1d4e5375",
   "metadata": {},
   "source": [
    "# Realizamos un mapa de correlacion "
   ]
  },
  {
   "cell_type": "code",
   "execution_count": 462,
   "id": "a5776e6a",
   "metadata": {
    "scrolled": true
   },
   "outputs": [
    {
     "data": {
      "image/png": "[encoded data removed]",
      "text/plain": [
       "<Figure size 576x576 with 2 Axes>"
      ]
     },
     "metadata": {
      "needs_background": "light"
     },
     "output_type": "display_data"
    }
   ],
   "source": [
    "corr = dummies2.corr()\n",
    "plt.figure(figsize=(8,8))\n",
    "sns.heatmap(corr, cbar = True,  square = True, annot=True, fmt= '.2f',annot_kws={'size': 15},\n",
    "           cmap= 'coolwarm')\n",
    "plt.xticks(rotation = 45)\n",
    "plt.yticks(rotation = 45)\n",
    "plt.show()"
   ]
  },
  {
   "cell_type": "markdown",
   "id": "18ce0ade",
   "metadata": {},
   "source": [
    "## ¿ Que variables fueron relevantes para el modelo para hacer al una prediccion?"
   ]
  },
  {
   "cell_type": "markdown",
   "id": "7767097c",
   "metadata": {},
   "source": [
    "## -  Ya que el modelo más robusto para este ejercicio fue el modelo de random forest vamos    a centrar el análisis sobre este por lo que primero identificamos las variables que más          influencia tuvieron en la predicción, siendo estas las variables relativas al tamaño de la        propiedad como surface_covered y surface_total teniendo 34.9%  de importancia y 27%        en un tercer lugar la variable l3 que usamos para tener el promedio del valor del metro cuadrado por barrios y de ahí para en adelante todas las variables con menos de 10% de influencia sobre el resultado del modelo."
   ]
  },
  {
   "cell_type": "code",
   "execution_count": 542,
   "id": "94b410a4",
   "metadata": {},
   "outputs": [
    {
     "data": {
      "text/html": [
       "<div>\n",
       "<style scoped>\n",
       "    .dataframe tbody tr th:only-of-type {\n",
       "        vertical-align: middle;\n",
       "    }\n",
       "\n",
       "    .dataframe tbody tr th {\n",
       "        vertical-align: top;\n",
       "    }\n",
       "\n",
       "    .dataframe thead th {\n",
       "        text-align: right;\n",
       "    }\n",
       "</style>\n",
       "<table border=\"1\" class=\"dataframe\">\n",
       "  <thead>\n",
       "    <tr style=\"text-align: right;\">\n",
       "      <th></th>\n",
       "      <th>col_name</th>\n",
       "    </tr>\n",
       "  </thead>\n",
       "  <tbody>\n",
       "    <tr>\n",
       "      <th>surface_covered</th>\n",
       "      <td>0.349350</td>\n",
       "    </tr>\n",
       "    <tr>\n",
       "      <th>surface_total</th>\n",
       "      <td>0.270608</td>\n",
       "    </tr>\n",
       "    <tr>\n",
       "      <th>l3</th>\n",
       "      <td>0.199788</td>\n",
       "    </tr>\n",
       "    <tr>\n",
       "      <th>bathrooms</th>\n",
       "      <td>0.099418</td>\n",
       "    </tr>\n",
       "    <tr>\n",
       "      <th>rooms</th>\n",
       "      <td>0.040474</td>\n",
       "    </tr>\n",
       "    <tr>\n",
       "      <th>bedrooms</th>\n",
       "      <td>0.019053</td>\n",
       "    </tr>\n",
       "    <tr>\n",
       "      <th>property_type_Departamento</th>\n",
       "      <td>0.013494</td>\n",
       "    </tr>\n",
       "    <tr>\n",
       "      <th>property_type_PH</th>\n",
       "      <td>0.005834</td>\n",
       "    </tr>\n",
       "    <tr>\n",
       "      <th>property_type_Casa</th>\n",
       "      <td>0.001982</td>\n",
       "    </tr>\n",
       "  </tbody>\n",
       "</table>\n",
       "</div>"
      ],
      "text/plain": [
       "                            col_name\n",
       "surface_covered             0.349350\n",
       "surface_total               0.270608\n",
       "l3                          0.199788\n",
       "bathrooms                   0.099418\n",
       "rooms                       0.040474\n",
       "bedrooms                    0.019053\n",
       "property_type_Departamento  0.013494\n",
       "property_type_PH            0.005834\n",
       "property_type_Casa          0.001982"
      ]
     },
     "execution_count": 542,
     "metadata": {},
     "output_type": "execute_result"
    }
   ],
   "source": [
    "importancias=pd.DataFrame({'col_name': clf.feature_importances_}, index=X.columns).sort_values(by='col_name', ascending=False)\n",
    "\n",
    "importancias "
   ]
  },
  {
   "cell_type": "code",
   "execution_count": 550,
   "id": "896218c4",
   "metadata": {},
   "outputs": [
    {
     "data": {
      "text/plain": [
       "<AxesSubplot:title={'center':'Feature_Importances'}>"
      ]
     },
     "execution_count": 550,
     "metadata": {},
     "output_type": "execute_result"
    },
    {
     "data": {
      "image/png": "[encoded data removed]",
      "text/plain": [
       "<Figure size 432x288 with 1 Axes>"
      ]
     },
     "metadata": {
      "needs_background": "light"
     },
     "output_type": "display_data"
    }
   ],
   "source": [
    "importancias.plot.bar(fontsize= 15, width=0.5,color='g',title='Feature_Importances')"
   ]
  },
  {
   "cell_type": "markdown",
   "id": "1480a9f7",
   "metadata": {},
   "source": [
    "# Ahora vamos a traer unos cuantos arboles del random forest para comparar entre estos vamos a usar el estimador 10 , 30 , 50 y 80."
   ]
  },
  {
   "cell_type": "code",
   "execution_count": 505,
   "id": "1414f473",
   "metadata": {},
   "outputs": [
    {
     "data": {
      "text/plain": [
       "{'ccp_alpha': 0.0,\n",
       " 'criterion': 'mse',\n",
       " 'max_depth': None,\n",
       " 'max_features': 4,\n",
       " 'max_leaf_nodes': None,\n",
       " 'min_impurity_decrease': 0.0,\n",
       " 'min_impurity_split': None,\n",
       " 'min_samples_leaf': 1,\n",
       " 'min_samples_split': 2,\n",
       " 'min_weight_fraction_leaf': 0.0,\n",
       " 'random_state': 669991378,\n",
       " 'splitter': 'best'}"
      ]
     },
     "execution_count": 505,
     "metadata": {},
     "output_type": "execute_result"
    }
   ],
   "source": [
    "clf_tree = clf.estimators_[10]\n",
    "clf_tree.get_params()"
   ]
  },
  {
   "cell_type": "code",
   "execution_count": 506,
   "id": "02583e70",
   "metadata": {},
   "outputs": [
    {
     "name": "stdout",
     "output_type": "stream",
     "text": [
      "*******************************************\n",
      "Error cudratico medio train: 28438.879858351036\n",
      "Error cudratico medio test: 37978.547206959716\n",
      "*******************************************\n",
      "El Coeficiente de determinacion train: 0.9057157660979713\n",
      "El Coeficiente de determinacion test: 0.8320803277728006\n",
      "*******************************************\n"
     ]
    }
   ],
   "source": [
    "y_train_pred = clf_tree.predict(X_train)\n",
    "y_test_pred = clf_tree.predict(X_test)\n",
    "\n",
    "RMSE_train=np.sqrt(mean_squared_error(y_train,y_train_pred))\n",
    "RMSE_test=np.sqrt(mean_squared_error(y_test,y_test_pred))\n",
    "r2_train= metrics.r2_score(y_train, y_train_pred)\n",
    "r2_test= metrics.r2_score(y_test, y_test_pred)\n",
    "\n",
    "print(\"*******************************************\")\n",
    "print(\"Error cudratico medio train:\",RMSE_train)\n",
    "print(\"Error cudratico medio test:\",RMSE_test)\n",
    "print(\"*******************************************\")\n",
    "print(\"El Coeficiente de determinacion train:\",r2_train)\n",
    "print(\"El Coeficiente de determinacion test:\",r2_test)\n",
    "print(\"*******************************************\")"
   ]
  },
  {
   "cell_type": "code",
   "execution_count": 507,
   "id": "b8423b68",
   "metadata": {},
   "outputs": [
    {
     "data": {
      "text/plain": [
       "{'ccp_alpha': 0.0,\n",
       " 'criterion': 'mse',\n",
       " 'max_depth': None,\n",
       " 'max_features': 4,\n",
       " 'max_leaf_nodes': None,\n",
       " 'min_impurity_decrease': 0.0,\n",
       " 'min_impurity_split': None,\n",
       " 'min_samples_leaf': 1,\n",
       " 'min_samples_split': 2,\n",
       " 'min_weight_fraction_leaf': 0.0,\n",
       " 'random_state': 787716372,\n",
       " 'splitter': 'best'}"
      ]
     },
     "execution_count": 507,
     "metadata": {},
     "output_type": "execute_result"
    }
   ],
   "source": [
    "clf_tree = clf.estimators_[30]\n",
    "clf_tree.get_params()"
   ]
  },
  {
   "cell_type": "code",
   "execution_count": 508,
   "id": "0bc14d2b",
   "metadata": {},
   "outputs": [
    {
     "name": "stdout",
     "output_type": "stream",
     "text": [
      "*******************************************\n",
      "Error cudratico medio train: 28568.809131376303\n",
      "Error cudratico medio test: 37811.21988806691\n",
      "*******************************************\n",
      "El Coeficiente de determinacion train: 0.904852281594884\n",
      "El Coeficiente de determinacion test: 0.8335567218944411\n",
      "*******************************************\n"
     ]
    }
   ],
   "source": [
    "y_train_pred = clf_tree.predict(X_train)\n",
    "y_test_pred = clf_tree.predict(X_test)\n",
    "\n",
    "RMSE_train=np.sqrt(mean_squared_error(y_train,y_train_pred))\n",
    "RMSE_test=np.sqrt(mean_squared_error(y_test,y_test_pred))\n",
    "r2_train= metrics.r2_score(y_train, y_train_pred)\n",
    "r2_test= metrics.r2_score(y_test, y_test_pred)\n",
    "\n",
    "print(\"*******************************************\")\n",
    "print(\"Error cudratico medio train:\",RMSE_train)\n",
    "print(\"Error cudratico medio test:\",RMSE_test)\n",
    "print(\"*******************************************\")\n",
    "print(\"El Coeficiente de determinacion train:\",r2_train)\n",
    "print(\"El Coeficiente de determinacion test:\",r2_test)\n",
    "print(\"*******************************************\")"
   ]
  },
  {
   "cell_type": "code",
   "execution_count": 509,
   "id": "39fd0935",
   "metadata": {},
   "outputs": [
    {
     "data": {
      "text/plain": [
       "{'ccp_alpha': 0.0,\n",
       " 'criterion': 'mse',\n",
       " 'max_depth': None,\n",
       " 'max_features': 4,\n",
       " 'max_leaf_nodes': None,\n",
       " 'min_impurity_decrease': 0.0,\n",
       " 'min_impurity_split': None,\n",
       " 'min_samples_leaf': 1,\n",
       " 'min_samples_split': 2,\n",
       " 'min_weight_fraction_leaf': 0.0,\n",
       " 'random_state': 1224821422,\n",
       " 'splitter': 'best'}"
      ]
     },
     "execution_count": 509,
     "metadata": {},
     "output_type": "execute_result"
    }
   ],
   "source": [
    "clf_tree = clf.estimators_[50]\n",
    "clf_tree.get_params()"
   ]
  },
  {
   "cell_type": "code",
   "execution_count": 510,
   "id": "8102e6e0",
   "metadata": {},
   "outputs": [
    {
     "name": "stdout",
     "output_type": "stream",
     "text": [
      "*******************************************\n",
      "Error cudratico medio train: 28419.075216563906\n",
      "Error cudratico medio test: 38168.931955503846\n",
      "*******************************************\n",
      "El Coeficiente de determinacion train: 0.9058470381672254\n",
      "El Coeficiente de determinacion test: 0.8303925604740159\n",
      "*******************************************\n"
     ]
    }
   ],
   "source": [
    "y_train_pred = clf_tree.predict(X_train)\n",
    "y_test_pred = clf_tree.predict(X_test)\n",
    "\n",
    "RMSE_train=np.sqrt(mean_squared_error(y_train,y_train_pred))\n",
    "RMSE_test=np.sqrt(mean_squared_error(y_test,y_test_pred))\n",
    "r2_train= metrics.r2_score(y_train, y_train_pred)\n",
    "r2_test= metrics.r2_score(y_test, y_test_pred)\n",
    "\n",
    "print(\"*******************************************\")\n",
    "print(\"Error cudratico medio train:\",RMSE_train)\n",
    "print(\"Error cudratico medio test:\",RMSE_test)\n",
    "print(\"*******************************************\")\n",
    "print(\"El Coeficiente de determinacion train:\",r2_train)\n",
    "print(\"El Coeficiente de determinacion test:\",r2_test)\n",
    "print(\"*******************************************\")"
   ]
  },
  {
   "cell_type": "code",
   "execution_count": 511,
   "id": "a55213b8",
   "metadata": {},
   "outputs": [
    {
     "data": {
      "text/plain": [
       "{'ccp_alpha': 0.0,\n",
       " 'criterion': 'mse',\n",
       " 'max_depth': None,\n",
       " 'max_features': 4,\n",
       " 'max_leaf_nodes': None,\n",
       " 'min_impurity_decrease': 0.0,\n",
       " 'min_impurity_split': None,\n",
       " 'min_samples_leaf': 1,\n",
       " 'min_samples_split': 2,\n",
       " 'min_weight_fraction_leaf': 0.0,\n",
       " 'random_state': 524150214,\n",
       " 'splitter': 'best'}"
      ]
     },
     "execution_count": 511,
     "metadata": {},
     "output_type": "execute_result"
    }
   ],
   "source": [
    "clf_tree = clf.estimators_[80]\n",
    "clf_tree.get_params()"
   ]
  },
  {
   "cell_type": "code",
   "execution_count": 512,
   "id": "dba5bba5",
   "metadata": {},
   "outputs": [
    {
     "name": "stdout",
     "output_type": "stream",
     "text": [
      "*******************************************\n",
      "Error cudratico medio train: 28567.203171886948\n",
      "Error cudratico medio test: 38487.65890777957\n",
      "*******************************************\n",
      "El Coeficiente de determinacion train: 0.9048629785116322\n",
      "El Coeficiente de determinacion test: 0.8275481440769622\n",
      "*******************************************\n"
     ]
    }
   ],
   "source": [
    "y_train_pred = clf_tree.predict(X_train)\n",
    "y_test_pred = clf_tree.predict(X_test)\n",
    "\n",
    "RMSE_train=np.sqrt(mean_squared_error(y_train,y_train_pred))\n",
    "RMSE_test=np.sqrt(mean_squared_error(y_test,y_test_pred))\n",
    "r2_train= metrics.r2_score(y_train, y_train_pred)\n",
    "r2_test= metrics.r2_score(y_test, y_test_pred)\n",
    "\n",
    "print(\"*******************************************\")\n",
    "print(\"Error cudratico medio train:\",RMSE_train)\n",
    "print(\"Error cudratico medio test:\",RMSE_test)\n",
    "print(\"*******************************************\")\n",
    "print(\"El Coeficiente de determinacion train:\",r2_train)\n",
    "print(\"El Coeficiente de determinacion test:\",r2_test)\n",
    "print(\"*******************************************\")"
   ]
  },
  {
   "cell_type": "markdown",
   "id": "31926d07",
   "metadata": {},
   "source": [
    "## -Comparando el rendimiento de estos árboles podemos ver la fortaleza de los algoritmos         de baggin, ya que de por si los árboles no tienen un rendimiento que supere el 82% sin             embargo cuando estos se combinan el rendimiento del modelo en general mejora mas              del 10%.\n",
    "## -Revisando estos árboles al azar podemos inferir que según los parámetros fijados lo que         cambia en estos es el random state el cual controla la aleatoriedad de estos. \n",
    "## -Con relación a los resultados esperados para este dataset puedo afirmar que el                         comportamiento de este fue como se esperaba ya que en el anterior ejercicio nos dieron         los filtros para el preprocesamiento sin embargo para este no hubo parámetros                         específicos de como filtrar aun así la cantidad de filas y columnas dadas la vez anterior           sirvieron de guía para llegar a un dataset lo mas limpio posible además de que esta vez           ya teníamos más herramientas en la caja para poder codificar variables numéricas o                 agregar  dummys dependiendo del caso\n"
   ]
  },
  {
   "cell_type": "markdown",
   "id": "78614005",
   "metadata": {},
   "source": [
    "# -Concluisiones sobre este ejercicio de machine learning\n"
   ]
  },
  {
   "cell_type": "markdown",
   "id": "61471fa3",
   "metadata": {},
   "source": [
    "\n",
    "## - Una de las conclusiones de este proceso es que las variables así no tengan una                        correlación lineal con la variable a predecir pueden igual tener importancia a la hora de            las predicciones esto fue comprobado a través de prueba y error corriendo los modelos          con variables dummys y sin variables dummys y cuando se hizo la prueba sin las                      dummys el r2 disminuyo en un 10%y RMSE aumento.\n",
    "## - El correcto preprocesamiento es una de las tareas más importantes para el correcto                desempeño de los modelos\n",
    "## - Siempre se busca llegar a un modelo en el punto medio de bias y varianza ya que                      cuando se tiene mucho de uno es necesario aplicar transformación a los datos ya sea              para complejizarlos o simplificarlos dependiendo del caso \n",
    "## - Los modelos pueden ser más o menos sensible a la optimización de parámetros ya que          para este ejercicio el modelo de random forest aumento 3.1% en test después de la                  optimización de parámetros mientras en ADAboost\n"
   ]
  },
  {
   "cell_type": "markdown",
   "id": "bb1da69d",
   "metadata": {},
   "source": [
    "# Clustering"
   ]
  },
  {
   "cell_type": "markdown",
   "id": "0ee8f955",
   "metadata": {},
   "source": [
    "### - Vamos a ahora a aplicar Kmeans para ver que clusters existen entre rooms y price "
   ]
  },
  {
   "cell_type": "code",
   "execution_count": 645,
   "id": "3bf5d76e",
   "metadata": {},
   "outputs": [],
   "source": [
    "from sklearn.cluster import KMeans\n",
    "import seaborn as sns\n"
   ]
  },
  {
   "cell_type": "code",
   "execution_count": 646,
   "id": "068b51af",
   "metadata": {},
   "outputs": [],
   "source": [
    "X = data3[[\"rooms\"]] \n",
    "y = data3[['price']]"
   ]
  },
  {
   "cell_type": "code",
   "execution_count": 647,
   "id": "bea5ba94",
   "metadata": {},
   "outputs": [],
   "source": [
    "from sklearn.cluster import KMeans\n"
   ]
  },
  {
   "cell_type": "code",
   "execution_count": 648,
   "id": "d96aaaf3",
   "metadata": {},
   "outputs": [],
   "source": [
    "kmeans_1 = KMeans(n_clusters=4, random_state=0)\n",
    "\n"
   ]
  },
  {
   "cell_type": "code",
   "execution_count": 649,
   "id": "13f5c4d6",
   "metadata": {},
   "outputs": [
    {
     "data": {
      "text/plain": [
       "KMeans(n_clusters=4, random_state=0)"
      ]
     },
     "execution_count": 649,
     "metadata": {},
     "output_type": "execute_result"
    }
   ],
   "source": [
    "kmeans_1.fit(X,y)\n",
    "\n"
   ]
  },
  {
   "cell_type": "code",
   "execution_count": 650,
   "id": "447a1c9e",
   "metadata": {},
   "outputs": [
    {
     "data": {
      "text/plain": [
       "array([3, 3, 3, ..., 1, 3, 0])"
      ]
     },
     "execution_count": 650,
     "metadata": {},
     "output_type": "execute_result"
    }
   ],
   "source": [
    "kmeans_1.labels_"
   ]
  },
  {
   "cell_type": "code",
   "execution_count": 654,
   "id": "025bd43a",
   "metadata": {
    "scrolled": false
   },
   "outputs": [
    {
     "data": {
      "text/plain": [
       "<AxesSubplot:>"
      ]
     },
     "execution_count": 654,
     "metadata": {},
     "output_type": "execute_result"
    },
    {
     "data": {
      "image/png": "[encoded data removed]",
      "text/plain": [
       "<Figure size 432x288 with 1 Axes>"
      ]
     },
     "metadata": {
      "needs_background": "light"
     },
     "output_type": "display_data"
    }
   ],
   "source": [
    "pd.DataFrame(kmeans_1.cluster_centers_).plot(kind='bar',color='red')"
   ]
  },
  {
   "cell_type": "markdown",
   "id": "5df791d5",
   "metadata": {},
   "source": [
    "## - Finalmenete observamos que entre rooms y price existen 4 clusters definidos por la cantidad de habitaciones de la propiedad y el precio de esta misma"
   ]
  },
  {
   "cell_type": "code",
   "execution_count": null,
   "id": "0c1cf622",
   "metadata": {},
   "outputs": [],
   "source": []
  }
 ],
 "metadata": {
  "kernelspec": {
   "display_name": "Python 3",
   "language": "python",
   "name": "python3"
  },
  "language_info": {
   "codemirror_mode": {
    "name": "ipython",
    "version": 3
   },
   "file_extension": ".py",
   "mimetype": "text/x-python",
   "name": "python",
   "nbconvert_exporter": "python",
   "pygments_lexer": "ipython3",
   "version": "3.8.8"
  }
 },
 "nbformat": 4,
 "nbformat_minor": 5
}
