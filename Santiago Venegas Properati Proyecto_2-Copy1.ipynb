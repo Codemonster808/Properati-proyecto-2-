{
 "cells": [
  {
   "cell_type": "markdown",
   "id": "285e5844",
   "metadata": {},
   "source": [
    "# 2 PROYECTO STORY POINTS \n",
    "\n",
    "# 1\n",
    "\n",
    "#### PUNTOS A REALIZAR \n",
    "     - DETECION Y ELIMINACION DE OUTLIERS \n",
    "     - ENCODING \n",
    "     - IMPUTACION DE VALORES FALTANTES \n",
    "     - REDUCCION DE DIMENSIONALIDAD \n",
    " # 2\n",
    "    - IMPLEMENTAR LAS TRSANFORMACIONES REQURIDAS \n",
    "    - VOLVER A ENTRENAR EL MODELO DE ARBOL DE DESICION \n",
    "    \n",
    "# 3 \n",
    "    - ESCOGER 2 MODELOS AVANZADOS (REGRESION LINEAL CON ATRIBUTOS             POLINOMICOS) REGULARIZACION \n",
    "    -OPTIMIZAR HIPER PARAMETROS CON UN CROSS VALIDATION Y CON UN GRID        SEARCH \n",
    "    - COMPARAR CON EL PRIMER MODELO CUAL ELEGIRIA Y POR QUE \n",
    "# 4\n",
    "    -DE ACUERDO A LO QUE EL MODELO PERMITE RESPONDE ALGUNAS O TODAS LAS      REGUNTAS: QUE VARIABLES FUERON RELEVANTES PARA EL MODELO PARA HACER      UNA PREDICCION? CUALES NO ?SI USASTE REGRESION LINEAL CON                NORMALIZACION PRESTA ATENCION A LOS PARAMETROS PENDIENTES , SI          USASTE DE E NSAMBLE DE ARBOLES , DEMAS DE VER LA IMPORTANCIOA DE        CADA ATRIBUTO TAMBIEN ELIGE ALGUNOS ARBOLES AL AZAR Y OBSERVA QUE        ATRIBUTOS CONSIDERAS IMPORTANTES \n",
    "     EN QUE SE DIFERENCIAN ESTOS ARBOLES ? POR QUE FINALMENETE RESPONDE\n",
    "     COINCIDE CON LO QUE ESPERABAS A PARTIR DE TU EXPERIENCIA CON ESTE        DATASET\n",
    "# 5 \n",
    "     -COMO ES LA DISTRUBUCION DE LOS ERRORES ? DONDE FALLAN LOS MODELOS?       A QUE SE DEBE \n",
    "# 6 \n",
    "     - CONCLUSIONES OBTENIDAS DEL TRABAJO "
   ]
  },
  {
   "cell_type": "code",
   "execution_count": 20,
   "id": "ff8a767b",
   "metadata": {},
   "outputs": [],
   "source": [
    "\n",
    "import numpy as np\n",
    "import pandas as pd\n",
    "import matplotlib.pyplot as plt\n",
    "import seaborn as sns\n",
    "sns.set()\n",
    "%matplotlib inline\n",
    "from sklearn.linear_model import LinearRegression\n",
    "from sklearn.tree import DecisionTreeRegressor\n",
    "from sklearn.neighbors import KNeighborsRegressor\n",
    "from sklearn.metrics import mean_absolute_error\n",
    "from sklearn.metrics import mean_squared_error\n",
    "from sklearn.metrics import r2_score\n",
    "from sklearn import metrics\n",
    "from sklearn.preprocessing import StandardScaler\n",
    "from sklearn.model_selection import cross_val_score\n",
    "from sklearn.model_selection import cross_validate\n",
    "from sklearn.model_selection import RandomizedSearchCV\n",
    "from sklearn.ensemble import RandomForestRegressor\n",
    "from sklearn.ensemble import AdaBoostRegressor\n"
   ]
  },
  {
   "cell_type": "code",
   "execution_count": 148,
   "id": "b4cdb659",
   "metadata": {},
   "outputs": [
    {
     "name": "stdout",
     "output_type": "stream",
     "text": [
      "(146660, 19)\n"
     ]
    },
    {
     "data": {
      "text/html": [
       "<div>\n",
       "<style scoped>\n",
       "    .dataframe tbody tr th:only-of-type {\n",
       "        vertical-align: middle;\n",
       "    }\n",
       "\n",
       "    .dataframe tbody tr th {\n",
       "        vertical-align: top;\n",
       "    }\n",
       "\n",
       "    .dataframe thead th {\n",
       "        text-align: right;\n",
       "    }\n",
       "</style>\n",
       "<table border=\"1\" class=\"dataframe\">\n",
       "  <thead>\n",
       "    <tr style=\"text-align: right;\">\n",
       "      <th></th>\n",
       "      <th>start_date</th>\n",
       "      <th>end_date</th>\n",
       "      <th>created_on</th>\n",
       "      <th>lat</th>\n",
       "      <th>lon</th>\n",
       "      <th>l1</th>\n",
       "      <th>l2</th>\n",
       "      <th>l3</th>\n",
       "      <th>rooms</th>\n",
       "      <th>bedrooms</th>\n",
       "      <th>bathrooms</th>\n",
       "      <th>surface_total</th>\n",
       "      <th>surface_covered</th>\n",
       "      <th>price</th>\n",
       "      <th>currency</th>\n",
       "      <th>title</th>\n",
       "      <th>description</th>\n",
       "      <th>property_type</th>\n",
       "      <th>operation_type</th>\n",
       "    </tr>\n",
       "  </thead>\n",
       "  <tbody>\n",
       "    <tr>\n",
       "      <th>0</th>\n",
       "      <td>2019-10-17</td>\n",
       "      <td>2019-12-23</td>\n",
       "      <td>2019-10-17</td>\n",
       "      <td>-34.605880</td>\n",
       "      <td>-58.384949</td>\n",
       "      <td>Argentina</td>\n",
       "      <td>Capital Federal</td>\n",
       "      <td>San Cristobal</td>\n",
       "      <td>7.0</td>\n",
       "      <td>7.0</td>\n",
       "      <td>2.0</td>\n",
       "      <td>140.0</td>\n",
       "      <td>140.0</td>\n",
       "      <td>153000.0</td>\n",
       "      <td>USD</td>\n",
       "      <td>***Venta semipiso centro, ideal hostel*****</td>\n",
       "      <td>DESCRIPCION DE LA PROPIEDAD: Departamento de 1...</td>\n",
       "      <td>Departamento</td>\n",
       "      <td>Venta</td>\n",
       "    </tr>\n",
       "    <tr>\n",
       "      <th>1</th>\n",
       "      <td>2019-10-17</td>\n",
       "      <td>2019-11-21</td>\n",
       "      <td>2019-10-17</td>\n",
       "      <td>-34.624056</td>\n",
       "      <td>-58.412110</td>\n",
       "      <td>Argentina</td>\n",
       "      <td>Capital Federal</td>\n",
       "      <td>Boedo</td>\n",
       "      <td>2.0</td>\n",
       "      <td>1.0</td>\n",
       "      <td>2.0</td>\n",
       "      <td>70.0</td>\n",
       "      <td>58.0</td>\n",
       "      <td>159000.0</td>\n",
       "      <td>USD</td>\n",
       "      <td>Espectacular PH reciclado en Boedo sin expensas.</td>\n",
       "      <td>PH reciclado en Boedo a una cuadra de la plaz...</td>\n",
       "      <td>PH</td>\n",
       "      <td>Venta</td>\n",
       "    </tr>\n",
       "    <tr>\n",
       "      <th>2</th>\n",
       "      <td>2019-10-17</td>\n",
       "      <td>2019-11-01</td>\n",
       "      <td>2019-10-17</td>\n",
       "      <td>-34.593569</td>\n",
       "      <td>-58.427474</td>\n",
       "      <td>Argentina</td>\n",
       "      <td>Capital Federal</td>\n",
       "      <td>Palermo</td>\n",
       "      <td>2.0</td>\n",
       "      <td>1.0</td>\n",
       "      <td>1.0</td>\n",
       "      <td>45.0</td>\n",
       "      <td>45.0</td>\n",
       "      <td>125000.0</td>\n",
       "      <td>USD</td>\n",
       "      <td>Depto.tipo casa de 2 ambientes en Venta en Pal...</td>\n",
       "      <td>2 ambienets amplio , excelente estado , patio ...</td>\n",
       "      <td>PH</td>\n",
       "      <td>Venta</td>\n",
       "    </tr>\n",
       "    <tr>\n",
       "      <th>3</th>\n",
       "      <td>2019-10-17</td>\n",
       "      <td>2019-12-23</td>\n",
       "      <td>2019-10-17</td>\n",
       "      <td>-34.581294</td>\n",
       "      <td>-58.436754</td>\n",
       "      <td>Argentina</td>\n",
       "      <td>Capital Federal</td>\n",
       "      <td>Palermo</td>\n",
       "      <td>2.0</td>\n",
       "      <td>1.0</td>\n",
       "      <td>1.0</td>\n",
       "      <td>85.0</td>\n",
       "      <td>50.0</td>\n",
       "      <td>295000.0</td>\n",
       "      <td>USD</td>\n",
       "      <td>COSTA RICA 5800 / PALERMO HOLLYWOOD / VENTA PH...</td>\n",
       "      <td>HERMOSO PH EN PALERMO!!!2 AMBIENTES TOTALMENTE...</td>\n",
       "      <td>PH</td>\n",
       "      <td>Venta</td>\n",
       "    </tr>\n",
       "    <tr>\n",
       "      <th>4</th>\n",
       "      <td>2019-10-17</td>\n",
       "      <td>2020-03-11</td>\n",
       "      <td>2019-10-17</td>\n",
       "      <td>-34.914194</td>\n",
       "      <td>-57.938219</td>\n",
       "      <td>Argentina</td>\n",
       "      <td>Bs.As. G.B.A. Zona Sur</td>\n",
       "      <td>La Plata</td>\n",
       "      <td>2.0</td>\n",
       "      <td>1.0</td>\n",
       "      <td>1.0</td>\n",
       "      <td>50.0</td>\n",
       "      <td>35.0</td>\n",
       "      <td>40000.0</td>\n",
       "      <td>USD</td>\n",
       "      <td>58 entre 1 y 2  Venta de departamento en ph.1 ...</td>\n",
       "      <td>58 entre 1 y 2  Venta de departamento en PH. P...</td>\n",
       "      <td>PH</td>\n",
       "      <td>Venta</td>\n",
       "    </tr>\n",
       "  </tbody>\n",
       "</table>\n",
       "</div>"
      ],
      "text/plain": [
       "   start_date    end_date  created_on        lat        lon         l1  \\\n",
       "0  2019-10-17  2019-12-23  2019-10-17 -34.605880 -58.384949  Argentina   \n",
       "1  2019-10-17  2019-11-21  2019-10-17 -34.624056 -58.412110  Argentina   \n",
       "2  2019-10-17  2019-11-01  2019-10-17 -34.593569 -58.427474  Argentina   \n",
       "3  2019-10-17  2019-12-23  2019-10-17 -34.581294 -58.436754  Argentina   \n",
       "4  2019-10-17  2020-03-11  2019-10-17 -34.914194 -57.938219  Argentina   \n",
       "\n",
       "                       l2             l3  rooms  bedrooms  bathrooms  \\\n",
       "0         Capital Federal  San Cristobal    7.0       7.0        2.0   \n",
       "1         Capital Federal          Boedo    2.0       1.0        2.0   \n",
       "2         Capital Federal        Palermo    2.0       1.0        1.0   \n",
       "3         Capital Federal        Palermo    2.0       1.0        1.0   \n",
       "4  Bs.As. G.B.A. Zona Sur       La Plata    2.0       1.0        1.0   \n",
       "\n",
       "   surface_total  surface_covered     price currency  \\\n",
       "0          140.0            140.0  153000.0      USD   \n",
       "1           70.0             58.0  159000.0      USD   \n",
       "2           45.0             45.0  125000.0      USD   \n",
       "3           85.0             50.0  295000.0      USD   \n",
       "4           50.0             35.0   40000.0      USD   \n",
       "\n",
       "                                               title  \\\n",
       "0        ***Venta semipiso centro, ideal hostel*****   \n",
       "1   Espectacular PH reciclado en Boedo sin expensas.   \n",
       "2  Depto.tipo casa de 2 ambientes en Venta en Pal...   \n",
       "3  COSTA RICA 5800 / PALERMO HOLLYWOOD / VENTA PH...   \n",
       "4  58 entre 1 y 2  Venta de departamento en ph.1 ...   \n",
       "\n",
       "                                         description property_type  \\\n",
       "0  DESCRIPCION DE LA PROPIEDAD: Departamento de 1...  Departamento   \n",
       "1   PH reciclado en Boedo a una cuadra de la plaz...            PH   \n",
       "2  2 ambienets amplio , excelente estado , patio ...            PH   \n",
       "3  HERMOSO PH EN PALERMO!!!2 AMBIENTES TOTALMENTE...            PH   \n",
       "4  58 entre 1 y 2  Venta de departamento en PH. P...            PH   \n",
       "\n",
       "  operation_type  \n",
       "0          Venta  \n",
       "1          Venta  \n",
       "2          Venta  \n",
       "3          Venta  \n",
       "4          Venta  "
      ]
     },
     "execution_count": 148,
     "metadata": {},
     "output_type": "execute_result"
    }
   ],
   "source": [
    "data = pd.read_csv('DS_Proyecto_01_Datos_Properati.csv')\n",
    "print(data.shape)\n",
    "data.head()\n",
    "\n"
   ]
  },
  {
   "cell_type": "markdown",
   "id": "04c611c0",
   "metadata": {},
   "source": [
    "# Que transformaciones de datos elegi y por que ?\n"
   ]
  },
  {
   "cell_type": "markdown",
   "id": "797f5976",
   "metadata": {},
   "source": [
    "### - Hemos escogido para este dataset 3 tranformaciones de datos que son \n",
    "  \n",
    "  * Detecion de outliers\n",
    "  * Encoding \n",
    "  * Eliminacion de valores faltantes \n",
    "  * Escalado de datos\n",
    "  \n",
    "### - estas son las mas apropiadas ya que el dataset cuenta con una gran cantidad de valores atipicos lo que en anteriores           ocasiones hemos podido evidenciar con los boxplots asi que la primera tranformacion de datos sera la detecion de outliers       para eliminar estos despues, procedemos a hacer un encoding de la variable property type y por ultimo antes del train test el   escalado de datos de todas las variables contra price  "
   ]
  },
  {
   "cell_type": "markdown",
   "id": "f85fe022",
   "metadata": {},
   "source": [
    "## Transformaciones de datos \n",
    "\n",
    "    -Detecion de outliers \n",
    "    -Encoding \n",
    "    -Escalado de datos "
   ]
  },
  {
   "cell_type": "markdown",
   "id": "5706a19f",
   "metadata": {},
   "source": [
    "#### Construimos un loop para verificar el % de valores faltantes "
   ]
  },
  {
   "cell_type": "code",
   "execution_count": 149,
   "id": "3616947e",
   "metadata": {
    "scrolled": true
   },
   "outputs": [
    {
     "name": "stdout",
     "output_type": "stream",
     "text": [
      "start_date 0.00%\n",
      "end_date 0.00%\n",
      "created_on 0.00%\n",
      "lat 6.77%\n",
      "lon 6.79%\n",
      "l1 0.00%\n",
      "l2 0.00%\n",
      "l3 0.00%\n",
      "rooms 0.00%\n",
      "bedrooms 0.00%\n",
      "bathrooms 4.06%\n",
      "surface_total 14.00%\n",
      "surface_covered 14.74%\n",
      "price 0.00%\n",
      "currency 0.00%\n",
      "title 0.00%\n",
      "description 0.00%\n",
      "property_type 0.00%\n",
      "operation_type 0.00%\n"
     ]
    }
   ],
   "source": [
    "for col in data.columns:\n",
    "  nulos= data[col].isna().sum()\n",
    "  print(col,   \"{:.2f}%\".format(nulos*100/146660))"
   ]
  },
  {
   "cell_type": "markdown",
   "id": "9603a3e8",
   "metadata": {},
   "source": [
    "## Eliminamos las columnas que no tienen informacion relevante para este analisis "
   ]
  },
  {
   "cell_type": "code",
   "execution_count": 150,
   "id": "bf47d85f",
   "metadata": {},
   "outputs": [],
   "source": [
    "data.drop(columns=['l1','l2','l3','lat','lon','start_date','end_date','created_on','description','operation_type','title','currency'], inplace=True)"
   ]
  },
  {
   "cell_type": "code",
   "execution_count": 151,
   "id": "3dc5c8f5",
   "metadata": {},
   "outputs": [
    {
     "data": {
      "text/plain": [
       "(146660, 7)"
      ]
     },
     "execution_count": 151,
     "metadata": {},
     "output_type": "execute_result"
    }
   ],
   "source": [
    "data.shape"
   ]
  },
  {
   "cell_type": "code",
   "execution_count": 152,
   "id": "b34b0c46",
   "metadata": {},
   "outputs": [],
   "source": [
    "data2 = data "
   ]
  },
  {
   "cell_type": "code",
   "execution_count": 153,
   "id": "8b5c424e",
   "metadata": {},
   "outputs": [
    {
     "data": {
      "text/plain": [
       "(146660, 7)"
      ]
     },
     "execution_count": 153,
     "metadata": {},
     "output_type": "execute_result"
    }
   ],
   "source": [
    "data2.shape "
   ]
  },
  {
   "cell_type": "markdown",
   "id": "a89d9503",
   "metadata": {},
   "source": [
    "# Detecion de outliers \n"
   ]
  },
  {
   "cell_type": "markdown",
   "id": "b3bf2302",
   "metadata": {},
   "source": [
    "## Definimos una funcion para detectar los outliers "
   ]
  },
  {
   "cell_type": "code",
   "execution_count": 154,
   "id": "7704d579",
   "metadata": {},
   "outputs": [],
   "source": [
    "def detect_IQR(data):\n",
    "    Q1=data2[data].quantile(0.25)\n",
    "    Q3=data2[data].quantile(0.75)\n",
    "    IQR=Q3-Q1\n",
    "    print('Maxima :',data2[data].max())\n",
    "    print('Minima :',data2[data].min())\n",
    "    print('IQR',IQR)"
   ]
  },
  {
   "cell_type": "code",
   "execution_count": 155,
   "id": "d8bf405d",
   "metadata": {},
   "outputs": [
    {
     "name": "stdout",
     "output_type": "stream",
     "text": [
      "Maxima : 193549.0\n",
      "Minima : 10.0\n",
      "IQR 88.0\n"
     ]
    }
   ],
   "source": [
    "detect_IQR('surface_total')"
   ]
  },
  {
   "cell_type": "code",
   "execution_count": 156,
   "id": "195cc5a0",
   "metadata": {},
   "outputs": [
    {
     "name": "stdout",
     "output_type": "stream",
     "text": [
      "Maxima : 126062.0\n",
      "Minima : 1.0\n",
      "IQR 61.0\n"
     ]
    }
   ],
   "source": [
    "detect_IQR('surface_covered')"
   ]
  },
  {
   "cell_type": "code",
   "execution_count": 157,
   "id": "b8e37652",
   "metadata": {
    "scrolled": true
   },
   "outputs": [
    {
     "name": "stdout",
     "output_type": "stream",
     "text": [
      "Maxima : 32434232.0\n",
      "Minima : 5500.0\n",
      "IQR 154000.0\n"
     ]
    }
   ],
   "source": [
    "detect_IQR('price')"
   ]
  },
  {
   "cell_type": "code",
   "execution_count": 158,
   "id": "dbb2a7f5",
   "metadata": {},
   "outputs": [
    {
     "name": "stdout",
     "output_type": "stream",
     "text": [
      "Maxima : 14.0\n",
      "Minima : 1.0\n",
      "IQR 1.0\n"
     ]
    }
   ],
   "source": [
    "detect_IQR('bathrooms')"
   ]
  },
  {
   "cell_type": "code",
   "execution_count": 159,
   "id": "8c5e31f9",
   "metadata": {},
   "outputs": [
    {
     "name": "stdout",
     "output_type": "stream",
     "text": [
      "Maxima : 15.0\n",
      "Minima : 0.0\n",
      "IQR 2.0\n"
     ]
    }
   ],
   "source": [
    "detect_IQR('bedrooms')"
   ]
  },
  {
   "cell_type": "code",
   "execution_count": 160,
   "id": "8f1b9c82",
   "metadata": {},
   "outputs": [
    {
     "name": "stdout",
     "output_type": "stream",
     "text": [
      "Maxima : 35.0\n",
      "Minima : 1.0\n",
      "IQR 2.0\n"
     ]
    }
   ],
   "source": [
    "detect_IQR('rooms')"
   ]
  },
  {
   "cell_type": "code",
   "execution_count": null,
   "id": "823cd837",
   "metadata": {},
   "outputs": [],
   "source": []
  },
  {
   "cell_type": "code",
   "execution_count": 161,
   "id": "65843cfc",
   "metadata": {},
   "outputs": [
    {
     "name": "stdout",
     "output_type": "stream",
     "text": [
      "IQR PARA surface_total: 193549.0\n",
      "IQR PARA surface_covered: 126062.0\n",
      "IQR PARA price: 32434232.0\n",
      "IQR PARA bedrooms: 15.0\n",
      "IQR PARA rooms: 35.0\n"
     ]
    }
   ],
   "source": [
    "\n",
    "print('IQR PARA surface_total:', data2['surface_total'].max())\n",
    "print('IQR PARA surface_covered:',data2['surface_covered'].max())\n",
    "print('IQR PARA price:',data2['price'].max())\n",
    "print('IQR PARA bedrooms:',data2['bedrooms'].max())\n",
    "print('IQR PARA rooms:',data2['rooms'].max())"
   ]
  },
  {
   "cell_type": "code",
   "execution_count": 162,
   "id": "0663c16f",
   "metadata": {},
   "outputs": [],
   "source": [
    "\n",
    "def FILTRO_IQR(datafiltro,nombredata):\n",
    "    q1=datafiltro[nombredata].quantile(0.25)\n",
    "    q3=datafiltro[nombredata].quantile(0.75)\n",
    "    iqr=q3-q1\n",
    "    limitebajo=q1-1.5*iqr\n",
    "    limitealto=q3+1.5*iqr\n",
    "    datalimpia=datafiltro.loc[(datafiltro[nombredata]>limitebajo)&(datafiltro[nombredata]<limitealto)]\n",
    "    return datalimpia"
   ]
  },
  {
   "cell_type": "code",
   "execution_count": 163,
   "id": "cdc8db8d",
   "metadata": {},
   "outputs": [],
   "source": [
    "filtrodata2=FILTRO_IQR(data2,'surface_total')\n",
    "filtrodata2=FILTRO_IQR(filtrodata2,'surface_covered')\n",
    "filtrodata2=FILTRO_IQR(filtrodata2,'price')\n",
    "filtrodata2=FILTRO_IQR(filtrodata2,'bathrooms')\n",
    "filtrodata2=FILTRO_IQR(filtrodata2,'bedrooms')\n",
    "filtrodata2=FILTRO_IQR(filtrodata2,'rooms')\n",
    "filtrodata2=filtrodata2[filtrodata2.surface_total>filtrodata2.surface_covered]"
   ]
  },
  {
   "cell_type": "code",
   "execution_count": 164,
   "id": "1a17e038",
   "metadata": {
    "scrolled": true
   },
   "outputs": [
    {
     "name": "stdout",
     "output_type": "stream",
     "text": [
      "271.0\n",
      "162.0\n",
      "432000.0\n",
      "3.0\n",
      "3.0\n",
      "4.0\n"
     ]
    }
   ],
   "source": [
    "\n",
    "print(filtrodata2['surface_total'].max())\n",
    "print(filtrodata2['surface_covered'].max())\n",
    "print(filtrodata2['price'].max())\n",
    "print(filtrodata2['bathrooms'].max())\n",
    "print(filtrodata2['bedrooms'].max())\n",
    "print(filtrodata2['rooms'].max())\n"
   ]
  },
  {
   "cell_type": "code",
   "execution_count": 165,
   "id": "a27dc2ac",
   "metadata": {},
   "outputs": [],
   "source": [
    "#datacolums=['rooms','bedrooms','bathrooms','surface_total','surface_covered','price','property_type']\n",
    "#datacolums=pd.DataFrame(datacolums)\n",
    "#datacolums.isnull().sum()\n",
    "#datacolums.shape()\n",
    "#datacolums = data[datacolums].copy() \n",
    "#datacolums =pd.DataFrame(datacolums)\n",
    "#filtrodata2 = datacolums.dropna()"
   ]
  },
  {
   "cell_type": "code",
   "execution_count": 166,
   "id": "1ee0042b",
   "metadata": {},
   "outputs": [
    {
     "data": {
      "text/plain": [
       "(65733, 7)"
      ]
     },
     "execution_count": 166,
     "metadata": {},
     "output_type": "execute_result"
    }
   ],
   "source": [
    "filtrodata2.shape"
   ]
  },
  {
   "cell_type": "markdown",
   "id": "ca940933",
   "metadata": {},
   "source": [
    "## Vamos a hacer encoding para la variable property_type para asi poder alimentar el modelo con esta variable a la hora de hace predicciones "
   ]
  },
  {
   "cell_type": "code",
   "execution_count": 167,
   "id": "2d441c48",
   "metadata": {},
   "outputs": [
    {
     "data": {
      "text/html": [
       "<div>\n",
       "<style scoped>\n",
       "    .dataframe tbody tr th:only-of-type {\n",
       "        vertical-align: middle;\n",
       "    }\n",
       "\n",
       "    .dataframe tbody tr th {\n",
       "        vertical-align: top;\n",
       "    }\n",
       "\n",
       "    .dataframe thead th {\n",
       "        text-align: right;\n",
       "    }\n",
       "</style>\n",
       "<table border=\"1\" class=\"dataframe\">\n",
       "  <thead>\n",
       "    <tr style=\"text-align: right;\">\n",
       "      <th></th>\n",
       "      <th>rooms</th>\n",
       "      <th>bedrooms</th>\n",
       "      <th>bathrooms</th>\n",
       "      <th>surface_total</th>\n",
       "      <th>surface_covered</th>\n",
       "      <th>price</th>\n",
       "      <th>property_type_Casa</th>\n",
       "      <th>property_type_Casa de campo</th>\n",
       "      <th>property_type_Departamento</th>\n",
       "      <th>property_type_Local comercial</th>\n",
       "      <th>property_type_Lote</th>\n",
       "      <th>property_type_Oficina</th>\n",
       "      <th>property_type_Otro</th>\n",
       "      <th>property_type_PH</th>\n",
       "    </tr>\n",
       "  </thead>\n",
       "  <tbody>\n",
       "    <tr>\n",
       "      <th>1</th>\n",
       "      <td>2.0</td>\n",
       "      <td>1.0</td>\n",
       "      <td>2.0</td>\n",
       "      <td>70.0</td>\n",
       "      <td>58.0</td>\n",
       "      <td>159000.0</td>\n",
       "      <td>0</td>\n",
       "      <td>0</td>\n",
       "      <td>0</td>\n",
       "      <td>0</td>\n",
       "      <td>0</td>\n",
       "      <td>0</td>\n",
       "      <td>0</td>\n",
       "      <td>1</td>\n",
       "    </tr>\n",
       "    <tr>\n",
       "      <th>3</th>\n",
       "      <td>2.0</td>\n",
       "      <td>1.0</td>\n",
       "      <td>1.0</td>\n",
       "      <td>85.0</td>\n",
       "      <td>50.0</td>\n",
       "      <td>295000.0</td>\n",
       "      <td>0</td>\n",
       "      <td>0</td>\n",
       "      <td>0</td>\n",
       "      <td>0</td>\n",
       "      <td>0</td>\n",
       "      <td>0</td>\n",
       "      <td>0</td>\n",
       "      <td>1</td>\n",
       "    </tr>\n",
       "    <tr>\n",
       "      <th>4</th>\n",
       "      <td>2.0</td>\n",
       "      <td>1.0</td>\n",
       "      <td>1.0</td>\n",
       "      <td>50.0</td>\n",
       "      <td>35.0</td>\n",
       "      <td>40000.0</td>\n",
       "      <td>0</td>\n",
       "      <td>0</td>\n",
       "      <td>0</td>\n",
       "      <td>0</td>\n",
       "      <td>0</td>\n",
       "      <td>0</td>\n",
       "      <td>0</td>\n",
       "      <td>1</td>\n",
       "    </tr>\n",
       "    <tr>\n",
       "      <th>8</th>\n",
       "      <td>1.0</td>\n",
       "      <td>1.0</td>\n",
       "      <td>1.0</td>\n",
       "      <td>45.0</td>\n",
       "      <td>37.0</td>\n",
       "      <td>89000.0</td>\n",
       "      <td>0</td>\n",
       "      <td>0</td>\n",
       "      <td>0</td>\n",
       "      <td>0</td>\n",
       "      <td>0</td>\n",
       "      <td>0</td>\n",
       "      <td>0</td>\n",
       "      <td>1</td>\n",
       "    </tr>\n",
       "    <tr>\n",
       "      <th>9</th>\n",
       "      <td>1.0</td>\n",
       "      <td>1.0</td>\n",
       "      <td>1.0</td>\n",
       "      <td>45.0</td>\n",
       "      <td>37.0</td>\n",
       "      <td>89000.0</td>\n",
       "      <td>0</td>\n",
       "      <td>0</td>\n",
       "      <td>0</td>\n",
       "      <td>0</td>\n",
       "      <td>0</td>\n",
       "      <td>0</td>\n",
       "      <td>0</td>\n",
       "      <td>1</td>\n",
       "    </tr>\n",
       "  </tbody>\n",
       "</table>\n",
       "</div>"
      ],
      "text/plain": [
       "   rooms  bedrooms  bathrooms  surface_total  surface_covered     price  \\\n",
       "1    2.0       1.0        2.0           70.0             58.0  159000.0   \n",
       "3    2.0       1.0        1.0           85.0             50.0  295000.0   \n",
       "4    2.0       1.0        1.0           50.0             35.0   40000.0   \n",
       "8    1.0       1.0        1.0           45.0             37.0   89000.0   \n",
       "9    1.0       1.0        1.0           45.0             37.0   89000.0   \n",
       "\n",
       "   property_type_Casa  property_type_Casa de campo  \\\n",
       "1                   0                            0   \n",
       "3                   0                            0   \n",
       "4                   0                            0   \n",
       "8                   0                            0   \n",
       "9                   0                            0   \n",
       "\n",
       "   property_type_Departamento  property_type_Local comercial  \\\n",
       "1                           0                              0   \n",
       "3                           0                              0   \n",
       "4                           0                              0   \n",
       "8                           0                              0   \n",
       "9                           0                              0   \n",
       "\n",
       "   property_type_Lote  property_type_Oficina  property_type_Otro  \\\n",
       "1                   0                      0                   0   \n",
       "3                   0                      0                   0   \n",
       "4                   0                      0                   0   \n",
       "8                   0                      0                   0   \n",
       "9                   0                      0                   0   \n",
       "\n",
       "   property_type_PH  \n",
       "1                 1  \n",
       "3                 1  \n",
       "4                 1  \n",
       "8                 1  \n",
       "9                 1  "
      ]
     },
     "execution_count": 167,
     "metadata": {},
     "output_type": "execute_result"
    }
   ],
   "source": [
    "dummies = pd.get_dummies(filtrodata2, columns=[\"property_type\"])\n",
    "dummies.head()"
   ]
  },
  {
   "cell_type": "code",
   "execution_count": 168,
   "id": "0023b196",
   "metadata": {},
   "outputs": [
    {
     "data": {
      "text/plain": [
       "pandas.core.frame.DataFrame"
      ]
     },
     "execution_count": 168,
     "metadata": {},
     "output_type": "execute_result"
    }
   ],
   "source": [
    "dummies.shape\n",
    "type(dummies)"
   ]
  },
  {
   "cell_type": "markdown",
   "id": "1b5ab4b0",
   "metadata": {},
   "source": [
    "## Realizamos un mapa de calor para  visualizar valores faltantes "
   ]
  },
  {
   "cell_type": "code",
   "execution_count": 169,
   "id": "627ffe78",
   "metadata": {
    "scrolled": true
   },
   "outputs": [
    {
     "data": {
      "text/plain": [
       "<AxesSubplot:>"
      ]
     },
     "execution_count": 169,
     "metadata": {},
     "output_type": "execute_result"
    },
    {
     "data": {
      "image/png": "[encoded data removed]",
      "text/plain": [
       "<Figure size 432x288 with 1 Axes>"
      ]
     },
     "metadata": {
      "needs_background": "light"
     },
     "output_type": "display_data"
    }
   ],
   "source": [
    "sns.heatmap(dummies.isnull(), yticklabels=False, cbar=False)\n"
   ]
  },
  {
   "cell_type": "code",
   "execution_count": 170,
   "id": "bdeea5c3",
   "metadata": {
    "scrolled": true
   },
   "outputs": [
    {
     "data": {
      "text/plain": [
       "rooms                               4\n",
       "bedrooms                            4\n",
       "bathrooms                           3\n",
       "surface_total                     255\n",
       "surface_covered                   161\n",
       "price                            3550\n",
       "property_type_Casa                  2\n",
       "property_type_Casa de campo         2\n",
       "property_type_Departamento          2\n",
       "property_type_Local comercial       2\n",
       "property_type_Lote                  2\n",
       "property_type_Oficina               2\n",
       "property_type_Otro                  2\n",
       "property_type_PH                    2\n",
       "dtype: int64"
      ]
     },
     "execution_count": 170,
     "metadata": {},
     "output_type": "execute_result"
    }
   ],
   "source": [
    "dummies.nunique( axis=0, dropna=True)"
   ]
  },
  {
   "cell_type": "markdown",
   "id": "8cc8a97a",
   "metadata": {},
   "source": [
    "# Definimos x e y para entrenar nuestros modelos "
   ]
  },
  {
   "cell_type": "code",
   "execution_count": 171,
   "id": "aeb50da6",
   "metadata": {},
   "outputs": [],
   "source": [
    "X = dummies[[\"rooms\",\"surface_covered\",\"surface_total\",\"bedrooms\",\"bathrooms\",\"property_type_Casa\",\"property_type_Casa de campo\",\"property_type_Departamento\",\"property_type_Local comercial\",\"property_type_Lote\",\"property_type_Oficina\",\"property_type_Otro\",\"property_type_PH\"]] #Observa que sólo usamos 3 features del dataset\n",
    "y = dummies['price']\n",
    "\n",
    "#X = dummies.drop(columns=[\"price\"])\n",
    "#y = dummies.price\n"
   ]
  },
  {
   "cell_type": "markdown",
   "id": "f9a77590",
   "metadata": {},
   "source": [
    "# Escalado de datos"
   ]
  },
  {
   "cell_type": "code",
   "execution_count": 172,
   "id": "a7fbec32",
   "metadata": {},
   "outputs": [
    {
     "data": {
      "text/plain": [
       "StandardScaler()"
      ]
     },
     "execution_count": 172,
     "metadata": {},
     "output_type": "execute_result"
    }
   ],
   "source": [
    "escalador = StandardScaler()\n",
    "escalador.fit(X)"
   ]
  },
  {
   "cell_type": "code",
   "execution_count": 173,
   "id": "1ab7811b",
   "metadata": {},
   "outputs": [
    {
     "data": {
      "text/plain": [
       "array([[-0.80454846, -0.24855939, -0.28311058, ..., -0.04312127,\n",
       "        -0.02241167,  2.85815696],\n",
       "       [-0.80454846, -0.55798193,  0.0749231 , ..., -0.04312127,\n",
       "        -0.02241167,  2.85815696],\n",
       "       [-0.80454846, -1.1381492 , -0.76048881, ..., -0.04312127,\n",
       "        -0.02241167,  2.85815696],\n",
       "       ...,\n",
       "       [-0.80454846, -0.63533757, -0.66501317, ..., -0.04312127,\n",
       "        -0.02241167, -0.34987582],\n",
       "       [ 1.51396903,  0.98913077,  1.96056714, ..., -0.04312127,\n",
       "        -0.02241167, -0.34987582],\n",
       "       [-1.9638072 , -1.1381492 , -0.76048881, ..., -0.04312127,\n",
       "        -0.02241167, -0.34987582]])"
      ]
     },
     "execution_count": 173,
     "metadata": {},
     "output_type": "execute_result"
    }
   ],
   "source": [
    "X_escalado = escalador.transform(X)\n",
    "X_escalado"
   ]
  },
  {
   "cell_type": "markdown",
   "id": "70399bf4",
   "metadata": {},
   "source": [
    "## Train test split \n"
   ]
  },
  {
   "cell_type": "code",
   "execution_count": 174,
   "id": "9ed6433b",
   "metadata": {},
   "outputs": [],
   "source": [
    "from sklearn.model_selection import train_test_split\n",
    "X_train,X_test,y_train,y_test= train_test_split(X_escalado, y,test_size=0.20,random_state=42)"
   ]
  },
  {
   "cell_type": "markdown",
   "id": "e2529873",
   "metadata": {},
   "source": [
    "# - Construimos un DecisionTreeRegressor con nuestro nuevo dataset transfromado "
   ]
  },
  {
   "cell_type": "code",
   "execution_count": 175,
   "id": "77ce019f",
   "metadata": {},
   "outputs": [],
   "source": [
    "decision_tree= DecisionTreeRegressor()\n",
    "decision_tree.fit(X_train, y_train)\n",
    "\n",
    "y_arbol_train_pred = decision_tree.predict(X_train)\n",
    "y_arbol_test_pred= decision_tree.predict(X_test)"
   ]
  },
  {
   "cell_type": "code",
   "execution_count": 176,
   "id": "280d108b",
   "metadata": {},
   "outputs": [],
   "source": [
    "\n",
    "MAE_train=mean_absolute_error(y_train,y_arbol_train_pred)\n",
    "MAE_test=mean_absolute_error(y_test,y_arbol_test_pred)\n",
    "RMSE_train=np.sqrt(mean_squared_error(y_train,y_arbol_train_pred))\n",
    "RMSE_test=np.sqrt(mean_squared_error(y_test,y_arbol_test_pred))\n",
    "r2_train= metrics.r2_score(y_train, y_arbol_train_pred)\n",
    "r2_test= metrics.r2_score(y_test, y_arbol_test_pred)"
   ]
  },
  {
   "cell_type": "code",
   "execution_count": 177,
   "id": "519909d6",
   "metadata": {
    "scrolled": false
   },
   "outputs": [
    {
     "name": "stdout",
     "output_type": "stream",
     "text": [
      "El Error absoluto medio train: 19567.335658659\n",
      "El Error absoluto medio test: 31954.917354958794\n",
      "*******************************************\n",
      "Error cudratico medio train: 32448.02917100131\n",
      "Error cudratico medio test: 50417.19884889091\n",
      "*******************************************\n",
      "El Coeficiente de determinacion train: 0.8430880383947964\n",
      "El Coeficiente de determinacion test: 0.6255063262829943\n",
      "*******************************************\n"
     ]
    }
   ],
   "source": [
    "print(\"El Error absoluto medio train:\",MAE_train)\n",
    "print(\"El Error absoluto medio test:\",MAE_test)\n",
    "print(\"*******************************************\")\n",
    "print(\"Error cudratico medio train:\",RMSE_train)\n",
    "print(\"Error cudratico medio test:\",RMSE_test)\n",
    "print(\"*******************************************\")\n",
    "print(\"El Coeficiente de determinacion train:\",r2_train)\n",
    "print(\"El Coeficiente de determinacion test:\",r2_test)\n",
    "print(\"*******************************************\")"
   ]
  },
  {
   "cell_type": "markdown",
   "id": "9ed58839",
   "metadata": {},
   "source": [
    "### Metricas del anterior arbol de desicion \n",
    "\n"
   ]
  },
  {
   "cell_type": "markdown",
   "id": "19ecc4e3",
   "metadata": {},
   "source": [
    "El Error absoluto medio train: 23681.8678332786\n",
    "El Error absoluto medio test: 49388.884628718595\n",
    "*******************************************\n",
    "Error cudratico medio train: 54047.89650654257\n",
    "Error cudratico medio test: 141864.7831195434\n",
    "*******************************************\n",
    "El Coeficiente de determinacion train: 0.9671459367517681\n",
    "El Coeficiente de determinacion test: 0.7793119430612151"
   ]
  },
  {
   "cell_type": "markdown",
   "id": "6c095886",
   "metadata": {},
   "source": [
    "### - El árbol de decisión que construimos en el sprint anterior tuvo ligeras mejoras después de eliminar outliers , eliminar los valores faltantes y por ultimo escalar los datos, como podemos ver los resultados del árbol en las métricas escogidas para evaluar este modelo vemos que el valor para el error absoluto medio en el primer modelo fue de 49388.88 para el test  en este nuevo modelo el error absoluto medio 51290.17 vemos un incremento del  3.85% del error respecto al primer modelo así mismo para el error cuadrático medio no mostro mejora en el, sin embargo el preprocesamiento de datos mejoro el coeficiente de determinación en un 0.0006% lo que no es una mejora sustancial lo que nos lleva a la interrogante debo utilizar un modelo más complejo tipo boosting o un tipo bagging para mejorar estos resultados "
   ]
  },
  {
   "cell_type": "markdown",
   "id": "4b1c2368",
   "metadata": {},
   "source": [
    "# Modelos avanzados \n"
   ]
  },
  {
   "cell_type": "markdown",
   "id": "95c2af5a",
   "metadata": {},
   "source": [
    "## - Vamos a construir un random forest como primer modelo avanzado antes de crear este vamos a hacer cross validation a los datos \n"
   ]
  },
  {
   "cell_type": "code",
   "execution_count": 77,
   "id": "abdbba42",
   "metadata": {},
   "outputs": [],
   "source": [
    "from sklearn.ensemble import RandomForestRegressor"
   ]
  },
  {
   "cell_type": "code",
   "execution_count": 178,
   "id": "dd9fb005",
   "metadata": {},
   "outputs": [],
   "source": [
    "clf_cv =cross_validate(clf,X_escalado, y, cv=5,)\n"
   ]
  },
  {
   "cell_type": "code",
   "execution_count": 180,
   "id": "62b53c6a",
   "metadata": {},
   "outputs": [
    {
     "data": {
      "text/plain": [
       "{'fit_time': array([19.14434791, 13.85581517, 13.34197021, 13.58159328, 13.92435718]),\n",
       " 'score_time': array([0.364043  , 0.36700058, 0.36644483, 0.37152267, 0.33597326]),\n",
       " 'test_score': array([0.66175734, 0.68418666, 0.65676705, 0.64853176, 0.69040575])}"
      ]
     },
     "execution_count": 180,
     "metadata": {},
     "output_type": "execute_result"
    }
   ],
   "source": [
    "clf_cv"
   ]
  },
  {
   "cell_type": "code",
   "execution_count": 181,
   "id": "d968aaba",
   "metadata": {},
   "outputs": [],
   "source": [
    "X_train,X_test,y_train,y_test= train_test_split(X_escalado, y,test_size=0.20,random_state=42)"
   ]
  },
  {
   "cell_type": "code",
   "execution_count": 182,
   "id": "6fef5f0f",
   "metadata": {},
   "outputs": [
    {
     "data": {
      "text/plain": [
       "RandomForestRegressor(max_features='sqrt', n_jobs=-1, oob_score=True,\n",
       "                      random_state=42)"
      ]
     },
     "execution_count": 182,
     "metadata": {},
     "output_type": "execute_result"
    }
   ],
   "source": [
    "clf = RandomForestRegressor(n_estimators=100, max_features='sqrt', n_jobs=-1, oob_score = True, random_state = 42)\n",
    "clf.fit(X_train,y_train)"
   ]
  },
  {
   "cell_type": "markdown",
   "id": "2a5d1330",
   "metadata": {},
   "source": [
    "## - Para las metricas de evalucacion hemos escogido el error cuadratico medio y el r2  "
   ]
  },
  {
   "cell_type": "code",
   "execution_count": 183,
   "id": "82b1eeb0",
   "metadata": {},
   "outputs": [],
   "source": [
    "y_train_pred = clf.predict(X_train)\n",
    "y_test_pred = clf.predict(X_test)\n",
    "#print(metrics.accuracy_score(y_train, y_train_pred))\n",
    "#print(metrics.accuracy_score(y_test, y_test_pred))"
   ]
  },
  {
   "cell_type": "code",
   "execution_count": 184,
   "id": "426d74ee",
   "metadata": {},
   "outputs": [],
   "source": [
    "RMSE_train=np.sqrt(mean_squared_error(y_train,y_train_pred))\n",
    "RMSE_test=np.sqrt(mean_squared_error(y_test,y_test_pred))\n",
    "r2_train= metrics.r2_score(y_train, y_train_pred)\n",
    "r2_test= metrics.r2_score(y_test, y_test_pred)\n",
    "\n"
   ]
  },
  {
   "cell_type": "code",
   "execution_count": 185,
   "id": "712bad0a",
   "metadata": {},
   "outputs": [
    {
     "name": "stdout",
     "output_type": "stream",
     "text": [
      "Error cudratico medio train: 34074.40249785962\n",
      "Error cudratico medio test: 46444.798073430495\n",
      "*******************************************\n",
      "El Coeficiente de determinacion train: 0.8269642249975693\n",
      "El Coeficiente de determinacion test: 0.682194639709002\n",
      "*******************************************\n"
     ]
    }
   ],
   "source": [
    "print(\"Error cudratico medio train:\",RMSE_train)\n",
    "print(\"Error cudratico medio test:\",RMSE_test)\n",
    "print(\"*******************************************\")\n",
    "print(\"El Coeficiente de determinacion train:\",r2_train)\n",
    "print(\"El Coeficiente de determinacion test:\",r2_test)\n",
    "print(\"*******************************************\")"
   ]
  },
  {
   "cell_type": "code",
   "execution_count": 186,
   "id": "52735a6c",
   "metadata": {},
   "outputs": [
    {
     "data": {
      "text/plain": [
       "0.6763166729135339"
      ]
     },
     "execution_count": 186,
     "metadata": {},
     "output_type": "execute_result"
    }
   ],
   "source": [
    "clf.oob_score_"
   ]
  },
  {
   "cell_type": "code",
   "execution_count": 187,
   "id": "6486bd29",
   "metadata": {
    "scrolled": false
   },
   "outputs": [
    {
     "data": {
      "text/plain": [
       "array([6.61073649e-02, 3.41965973e-01, 3.08151149e-01, 4.47600934e-02,\n",
       "       1.60819700e-01, 1.72359555e-02, 0.00000000e+00, 4.46126702e-02,\n",
       "       1.10644251e-05, 5.64096586e-06, 3.20836533e-04, 3.14605070e-04,\n",
       "       1.56949472e-02])"
      ]
     },
     "execution_count": 187,
     "metadata": {},
     "output_type": "execute_result"
    }
   ],
   "source": [
    "clf.feature_importances_"
   ]
  },
  {
   "cell_type": "code",
   "execution_count": 188,
   "id": "233702ed",
   "metadata": {
    "scrolled": true
   },
   "outputs": [
    {
     "data": {
      "text/plain": [
       "[DecisionTreeRegressor(max_features='sqrt', random_state=1608637542),\n",
       " DecisionTreeRegressor(max_features='sqrt', random_state=1273642419),\n",
       " DecisionTreeRegressor(max_features='sqrt', random_state=1935803228),\n",
       " DecisionTreeRegressor(max_features='sqrt', random_state=787846414),\n",
       " DecisionTreeRegressor(max_features='sqrt', random_state=996406378),\n",
       " DecisionTreeRegressor(max_features='sqrt', random_state=1201263687),\n",
       " DecisionTreeRegressor(max_features='sqrt', random_state=423734972),\n",
       " DecisionTreeRegressor(max_features='sqrt', random_state=415968276),\n",
       " DecisionTreeRegressor(max_features='sqrt', random_state=670094950),\n",
       " DecisionTreeRegressor(max_features='sqrt', random_state=1914837113),\n",
       " DecisionTreeRegressor(max_features='sqrt', random_state=669991378),\n",
       " DecisionTreeRegressor(max_features='sqrt', random_state=429389014),\n",
       " DecisionTreeRegressor(max_features='sqrt', random_state=249467210),\n",
       " DecisionTreeRegressor(max_features='sqrt', random_state=1972458954),\n",
       " DecisionTreeRegressor(max_features='sqrt', random_state=1572714583),\n",
       " DecisionTreeRegressor(max_features='sqrt', random_state=1433267572),\n",
       " DecisionTreeRegressor(max_features='sqrt', random_state=434285667),\n",
       " DecisionTreeRegressor(max_features='sqrt', random_state=613608295),\n",
       " DecisionTreeRegressor(max_features='sqrt', random_state=893664919),\n",
       " DecisionTreeRegressor(max_features='sqrt', random_state=648061058),\n",
       " DecisionTreeRegressor(max_features='sqrt', random_state=88409749),\n",
       " DecisionTreeRegressor(max_features='sqrt', random_state=242285876),\n",
       " DecisionTreeRegressor(max_features='sqrt', random_state=2018247425),\n",
       " DecisionTreeRegressor(max_features='sqrt', random_state=953477463),\n",
       " DecisionTreeRegressor(max_features='sqrt', random_state=1427830251),\n",
       " DecisionTreeRegressor(max_features='sqrt', random_state=1883569565),\n",
       " DecisionTreeRegressor(max_features='sqrt', random_state=911989541),\n",
       " DecisionTreeRegressor(max_features='sqrt', random_state=3344769),\n",
       " DecisionTreeRegressor(max_features='sqrt', random_state=780932287),\n",
       " DecisionTreeRegressor(max_features='sqrt', random_state=2114032571),\n",
       " DecisionTreeRegressor(max_features='sqrt', random_state=787716372),\n",
       " DecisionTreeRegressor(max_features='sqrt', random_state=504579232),\n",
       " DecisionTreeRegressor(max_features='sqrt', random_state=1306710475),\n",
       " DecisionTreeRegressor(max_features='sqrt', random_state=479546681),\n",
       " DecisionTreeRegressor(max_features='sqrt', random_state=106328085),\n",
       " DecisionTreeRegressor(max_features='sqrt', random_state=30349564),\n",
       " DecisionTreeRegressor(max_features='sqrt', random_state=1855189739),\n",
       " DecisionTreeRegressor(max_features='sqrt', random_state=99052376),\n",
       " DecisionTreeRegressor(max_features='sqrt', random_state=1250819632),\n",
       " DecisionTreeRegressor(max_features='sqrt', random_state=106406362),\n",
       " DecisionTreeRegressor(max_features='sqrt', random_state=480404538),\n",
       " DecisionTreeRegressor(max_features='sqrt', random_state=1717389822),\n",
       " DecisionTreeRegressor(max_features='sqrt', random_state=599121577),\n",
       " DecisionTreeRegressor(max_features='sqrt', random_state=200427519),\n",
       " DecisionTreeRegressor(max_features='sqrt', random_state=1254751707),\n",
       " DecisionTreeRegressor(max_features='sqrt', random_state=2034764475),\n",
       " DecisionTreeRegressor(max_features='sqrt', random_state=1573512143),\n",
       " DecisionTreeRegressor(max_features='sqrt', random_state=999745294),\n",
       " DecisionTreeRegressor(max_features='sqrt', random_state=1958805693),\n",
       " DecisionTreeRegressor(max_features='sqrt', random_state=389151677),\n",
       " DecisionTreeRegressor(max_features='sqrt', random_state=1224821422),\n",
       " DecisionTreeRegressor(max_features='sqrt', random_state=508464061),\n",
       " DecisionTreeRegressor(max_features='sqrt', random_state=857592370),\n",
       " DecisionTreeRegressor(max_features='sqrt', random_state=1642661739),\n",
       " DecisionTreeRegressor(max_features='sqrt', random_state=61136438),\n",
       " DecisionTreeRegressor(max_features='sqrt', random_state=2075460851),\n",
       " DecisionTreeRegressor(max_features='sqrt', random_state=396917567),\n",
       " DecisionTreeRegressor(max_features='sqrt', random_state=2004731384),\n",
       " DecisionTreeRegressor(max_features='sqrt', random_state=199502978),\n",
       " DecisionTreeRegressor(max_features='sqrt', random_state=1545932260),\n",
       " DecisionTreeRegressor(max_features='sqrt', random_state=461901618),\n",
       " DecisionTreeRegressor(max_features='sqrt', random_state=774414982),\n",
       " DecisionTreeRegressor(max_features='sqrt', random_state=732395540),\n",
       " DecisionTreeRegressor(max_features='sqrt', random_state=1934879560),\n",
       " DecisionTreeRegressor(max_features='sqrt', random_state=279394470),\n",
       " DecisionTreeRegressor(max_features='sqrt', random_state=56972561),\n",
       " DecisionTreeRegressor(max_features='sqrt', random_state=1927948675),\n",
       " DecisionTreeRegressor(max_features='sqrt', random_state=1899242072),\n",
       " DecisionTreeRegressor(max_features='sqrt', random_state=1999874363),\n",
       " DecisionTreeRegressor(max_features='sqrt', random_state=271820813),\n",
       " DecisionTreeRegressor(max_features='sqrt', random_state=1324556529),\n",
       " DecisionTreeRegressor(max_features='sqrt', random_state=1655351289),\n",
       " DecisionTreeRegressor(max_features='sqrt', random_state=1308306184),\n",
       " DecisionTreeRegressor(max_features='sqrt', random_state=68574553),\n",
       " DecisionTreeRegressor(max_features='sqrt', random_state=419498548),\n",
       " DecisionTreeRegressor(max_features='sqrt', random_state=991681409),\n",
       " DecisionTreeRegressor(max_features='sqrt', random_state=791274835),\n",
       " DecisionTreeRegressor(max_features='sqrt', random_state=1035196507),\n",
       " DecisionTreeRegressor(max_features='sqrt', random_state=1890440558),\n",
       " DecisionTreeRegressor(max_features='sqrt', random_state=787110843),\n",
       " DecisionTreeRegressor(max_features='sqrt', random_state=524150214),\n",
       " DecisionTreeRegressor(max_features='sqrt', random_state=472432043),\n",
       " DecisionTreeRegressor(max_features='sqrt', random_state=2126768636),\n",
       " DecisionTreeRegressor(max_features='sqrt', random_state=1431061255),\n",
       " DecisionTreeRegressor(max_features='sqrt', random_state=147697582),\n",
       " DecisionTreeRegressor(max_features='sqrt', random_state=744595490),\n",
       " DecisionTreeRegressor(max_features='sqrt', random_state=1758017741),\n",
       " DecisionTreeRegressor(max_features='sqrt', random_state=1679592528),\n",
       " DecisionTreeRegressor(max_features='sqrt', random_state=1111451555),\n",
       " DecisionTreeRegressor(max_features='sqrt', random_state=782698033),\n",
       " DecisionTreeRegressor(max_features='sqrt', random_state=698027879),\n",
       " DecisionTreeRegressor(max_features='sqrt', random_state=1096768899),\n",
       " DecisionTreeRegressor(max_features='sqrt', random_state=1338788865),\n",
       " DecisionTreeRegressor(max_features='sqrt', random_state=1826030589),\n",
       " DecisionTreeRegressor(max_features='sqrt', random_state=86191493),\n",
       " DecisionTreeRegressor(max_features='sqrt', random_state=893102645),\n",
       " DecisionTreeRegressor(max_features='sqrt', random_state=200619113),\n",
       " DecisionTreeRegressor(max_features='sqrt', random_state=290770691),\n",
       " DecisionTreeRegressor(max_features='sqrt', random_state=793943861),\n",
       " DecisionTreeRegressor(max_features='sqrt', random_state=134489564)]"
      ]
     },
     "execution_count": 188,
     "metadata": {},
     "output_type": "execute_result"
    }
   ],
   "source": [
    "clf.estimators_"
   ]
  },
  {
   "cell_type": "code",
   "execution_count": 87,
   "id": "785f65e8",
   "metadata": {},
   "outputs": [
    {
     "data": {
      "text/plain": [
       "{'ccp_alpha': 0.0,\n",
       " 'criterion': 'mse',\n",
       " 'max_depth': None,\n",
       " 'max_features': 'sqrt',\n",
       " 'max_leaf_nodes': None,\n",
       " 'min_impurity_decrease': 0.0,\n",
       " 'min_impurity_split': None,\n",
       " 'min_samples_leaf': 1,\n",
       " 'min_samples_split': 2,\n",
       " 'min_weight_fraction_leaf': 0.0,\n",
       " 'random_state': 1324556529,\n",
       " 'splitter': 'best'}"
      ]
     },
     "execution_count": 87,
     "metadata": {},
     "output_type": "execute_result"
    }
   ],
   "source": [
    "clf_tree = clf.estimators_[70]\n",
    "clf_tree.get_params()"
   ]
  },
  {
   "cell_type": "code",
   "execution_count": null,
   "id": "796a7b1c",
   "metadata": {},
   "outputs": [],
   "source": [
    "y_train_pred = clf_tree.predict(X_train)\n",
    "y_test_pred = clf_tree.predict(X_test)"
   ]
  },
  {
   "cell_type": "code",
   "execution_count": null,
   "id": "fca2057c",
   "metadata": {},
   "outputs": [],
   "source": [
    "RMSE_train=np.sqrt(mean_squared_error(y_train,y_train_pred))\n",
    "RMSE_test=np.sqrt(mean_squared_error(y_test,y_test_pred))\n",
    "r2_train= metrics.r2_score(y_train, y_train_pred)\n",
    "r2_test= metrics.r2_score(y_test, y_test_pred)"
   ]
  },
  {
   "cell_type": "code",
   "execution_count": null,
   "id": "00703fa0",
   "metadata": {},
   "outputs": [],
   "source": [
    "print(\"Error cudratico medio train:\",RMSE_train)\n",
    "print(\"Error cudratico medio test:\",RMSE_test)\n",
    "print(\"*******************************************\")\n",
    "print(\"El Coeficiente de determinacion train:\",r2_train)\n",
    "print(\"El Coeficiente de determinacion test:\",r2_test)\n",
    "print(\"*******************************************\")"
   ]
  },
  {
   "cell_type": "code",
   "execution_count": null,
   "id": "b71ba7db",
   "metadata": {},
   "outputs": [],
   "source": [
    "train_RMSE = []\n",
    "test_RMSE = []\n",
    "train_r2 = []\n",
    "test_r2 = []\n",
    "oob_scores = []\n",
    "\n",
    "N_estimadores= [1,2,3,4,5,10,25,50,100,250,500,1000]\n",
    "for estimadores in N_estimadores:\n",
    "    print(estimadores)\n",
    "    clf = RandomForestRegressor(n_estimators=estimadores, max_features='sqrt', n_jobs=-1, oob_score = True, random_state = 42)\n",
    "    clf.fit(X_train,y_train)\n",
    "    \n",
    "    y_train_pred = clf.predict(X_train)\n",
    "    y_test_pred = clf.predict(X_test)\n",
    "    \n",
    "    train_RMSE.append(mean_squared_error(y_train,y_train_pred))\n",
    "    test_RMSE.append(mean_squared_error(y_test,y_test_pred))\n",
    "    train_r2.append(r2_score(y_train, y_train_pred))\n",
    "    test_r2.append(r2_score(y_test, y_test_pred))\n",
    "    oob_scores.append(clf.oob_score_)\n",
    "    \n",
    "train_RMSE = np.array(train_RMSE)\n",
    "test_RMSE = np.array(test_RMSE)\n",
    "\n",
    "train_r2 = np.array(train_r2)\n",
    "test_r2 = np.array(test_r2)\n",
    "\n",
    "\n",
    "oob_scores = np.array(oob_scores)"
   ]
  },
  {
   "cell_type": "code",
   "execution_count": null,
   "id": "1a3714b7",
   "metadata": {},
   "outputs": [],
   "source": [
    "plt.figure(figsize = (8,6))\n",
    "plt.plot(N_estimadores, train_RMSE, label = 'train_RMSE')\n",
    "plt.plot(N_estimadores, test_RMSE, label = 'test_RMSE')\n",
    "plt.plot(N_estimadores, oob_scores, label = 'OOB')\n",
    "plt.xlabel('Numero de estimadores')\n",
    "plt.ylabel('RMSE')\n",
    "plt.legend()"
   ]
  },
  {
   "cell_type": "code",
   "execution_count": null,
   "id": "2563640e",
   "metadata": {
    "scrolled": true
   },
   "outputs": [],
   "source": [
    "plt.figure(figsize = (8,6))\n",
    "plt.plot(N_estimadores, train_r2, label = 'train_r2')\n",
    "plt.plot(N_estimadores, test_r2, label = 'test_r2')\n",
    "plt.plot(N_estimadores, oob_scores, label = 'OOB')\n",
    "plt.xlabel('Numero de estimadores')\n",
    "plt.ylabel('r2')\n",
    "plt.legend()\n",
    "# plt.xlim(0,50)\n",
    "plt.show()\n",
    "\n"
   ]
  },
  {
   "cell_type": "markdown",
   "id": "e2b74ffd",
   "metadata": {},
   "source": [
    "## Ahora vamos a construir un Adaboost "
   ]
  },
  {
   "cell_type": "code",
   "execution_count": 189,
   "id": "6c8f1345",
   "metadata": {},
   "outputs": [],
   "source": [
    "from sklearn.ensemble import AdaBoostRegressor"
   ]
  },
  {
   "cell_type": "code",
   "execution_count": null,
   "id": "e0428bae",
   "metadata": {},
   "outputs": [],
   "source": [
    "#X = dummies[[\"rooms\",\"surface_covered\",\"surface_total\",\"bedrooms\",\"bathrooms\",\"property_type_Casa\",\"property_type_Casa de campo\",\"property_type_Cochera\",\"property_type_Departamento\",\"property_type_Depósito\",\"property_type_Local comercial\",\"property_type_Lote\",\"property_type_Oficina\",\"property_type_Otro\",\"property_type_PH\"]] #Observa que sólo usamos 3 features del dataset\n",
    "#y = dummies['price']"
   ]
  },
  {
   "cell_type": "code",
   "execution_count": 93,
   "id": "cc274009",
   "metadata": {},
   "outputs": [],
   "source": [
    "X_train, X_test, y_train, y_test = train_test_split(X_escalado, y, test_size=0.30, random_state=42)"
   ]
  },
  {
   "cell_type": "code",
   "execution_count": 212,
   "id": "9f74df6e",
   "metadata": {
    "scrolled": true
   },
   "outputs": [
    {
     "data": {
      "text/plain": [
       "AdaBoostRegressor(base_estimator=DecisionTreeRegressor(max_depth=20))"
      ]
     },
     "execution_count": 212,
     "metadata": {},
     "output_type": "execute_result"
    }
   ],
   "source": [
    "ada_clf = AdaBoostRegressor(DecisionTreeRegressor(max_depth=20))\n",
    "# Entrenamos el modelo\n",
    "ada_clf.fit(X_train, y_train)\n",
    "#get_params().keys()"
   ]
  },
  {
   "cell_type": "code",
   "execution_count": 213,
   "id": "f592b130",
   "metadata": {},
   "outputs": [],
   "source": [
    "y_train_pred = ada_clf.predict(X_train)\n",
    "y_test_pred = ada_clf.predict(X_test)"
   ]
  },
  {
   "cell_type": "code",
   "execution_count": 214,
   "id": "6b9d7e3f",
   "metadata": {},
   "outputs": [],
   "source": [
    "RMSE_train=np.sqrt(mean_squared_error(y_train,y_train_pred))\n",
    "RMSE_test=np.sqrt(mean_squared_error(y_test,y_test_pred))\n",
    "r2_train= metrics.r2_score(y_train, y_train_pred)\n",
    "r2_test= metrics.r2_score(y_test, y_test_pred)"
   ]
  },
  {
   "cell_type": "code",
   "execution_count": 215,
   "id": "728b5bf6",
   "metadata": {
    "scrolled": false
   },
   "outputs": [
    {
     "name": "stdout",
     "output_type": "stream",
     "text": [
      "*******************************************\n",
      "Error cudratico medio train: 38814.95359576155\n",
      "Error cudratico medio test: 49401.76094504905\n",
      "*******************************************\n",
      "El Coeficiente de determinacion train: 0.7754683608956006\n",
      "El Coeficiente de determinacion test: 0.6404395465220567\n",
      "*******************************************\n"
     ]
    }
   ],
   "source": [
    "print(\"*******************************************\")\n",
    "print(\"Error cudratico medio train:\",RMSE_train)\n",
    "print(\"Error cudratico medio test:\",RMSE_test)\n",
    "print(\"*******************************************\")\n",
    "print(\"El Coeficiente de determinacion train:\",r2_train)\n",
    "print(\"El Coeficiente de determinacion test:\",r2_test)\n",
    "print(\"*******************************************\")"
   ]
  },
  {
   "cell_type": "code",
   "execution_count": 194,
   "id": "68886757",
   "metadata": {},
   "outputs": [
    {
     "data": {
      "text/plain": [
       "RandomizedSearchCV(cv=3, estimator=AdaBoostRegressor(), n_jobs=-1,\n",
       "                   param_distributions={'learning_rate': [0.01, 0.05, 0.1, 0.3,\n",
       "                                                          1],\n",
       "                                        'loss': ['linear', 'square',\n",
       "                                                 'exponential'],\n",
       "                                        'n_estimators': [50, 100, 250, 500,\n",
       "                                                         1000]})"
      ]
     },
     "execution_count": 194,
     "metadata": {},
     "output_type": "execute_result"
    }
   ],
   "source": [
    "\n",
    "param_dist = {\n",
    " 'n_estimators': [50, 100,250,500,1000],\n",
    " 'learning_rate' : [0.01,0.05,0.1,0.3,1],\n",
    " 'loss' : ['linear', 'square', 'exponential']\n",
    " }\n",
    "\n",
    "ada_clf = RandomizedSearchCV(AdaBoostRegressor(),\n",
    " param_distributions = param_dist,\n",
    " cv=3,\n",
    " n_iter = 10,\n",
    " n_jobs=-1)\n",
    "\n",
    "ada_clf.fit(X_train, y_train)"
   ]
  },
  {
   "cell_type": "code",
   "execution_count": 195,
   "id": "61ee7dfd",
   "metadata": {
    "scrolled": false
   },
   "outputs": [
    {
     "data": {
      "text/plain": [
       "{'n_estimators': 100, 'loss': 'linear', 'learning_rate': 0.05}"
      ]
     },
     "execution_count": 195,
     "metadata": {},
     "output_type": "execute_result"
    }
   ],
   "source": [
    "ada_clf.best_params_"
   ]
  },
  {
   "cell_type": "code",
   "execution_count": 226,
   "id": "df633917",
   "metadata": {},
   "outputs": [],
   "source": [
    "ada_clf = AdaBoostRegressor(DecisionTreeRegressor(max_depth=20),n_estimators=100,loss='linear',learning_rate=0.05)\n"
   ]
  },
  {
   "cell_type": "code",
   "execution_count": 227,
   "id": "7e34770b",
   "metadata": {},
   "outputs": [
    {
     "data": {
      "text/plain": [
       "AdaBoostRegressor(base_estimator=DecisionTreeRegressor(max_depth=20),\n",
       "                  learning_rate=0.05, n_estimators=100)"
      ]
     },
     "execution_count": 227,
     "metadata": {},
     "output_type": "execute_result"
    }
   ],
   "source": [
    "ada_clf.fit(X_train, y_train)\n"
   ]
  },
  {
   "cell_type": "code",
   "execution_count": 228,
   "id": "1503ee1f",
   "metadata": {},
   "outputs": [],
   "source": [
    "y_train_pred = ada_clf.predict(X_train)\n",
    "y_test_pred = ada_clf.predict(X_test)"
   ]
  },
  {
   "cell_type": "code",
   "execution_count": 229,
   "id": "1861ec81",
   "metadata": {},
   "outputs": [],
   "source": [
    "RMSE_train=np.sqrt(mean_squared_error(y_train,y_train_pred))\n",
    "RMSE_test=np.sqrt(mean_squared_error(y_test,y_test_pred))\n",
    "r2_train= metrics.r2_score(y_train, y_train_pred)\n",
    "r2_test= metrics.r2_score(y_test, y_test_pred)"
   ]
  },
  {
   "cell_type": "code",
   "execution_count": 230,
   "id": "deebab93",
   "metadata": {
    "scrolled": true
   },
   "outputs": [
    {
     "name": "stdout",
     "output_type": "stream",
     "text": [
      "*******************************************\n",
      "Error cudratico medio train: 33558.01853791476\n",
      "Error cudratico medio test: 47997.82443217715\n",
      "*******************************************\n",
      "El Coeficiente de determinacion train: 0.8321690613827736\n",
      "El Coeficiente de determinacion test: 0.6605856767564664\n",
      "*******************************************\n"
     ]
    }
   ],
   "source": [
    "print(\"*******************************************\")\n",
    "print(\"Error cudratico medio train:\",RMSE_train)\n",
    "print(\"Error cudratico medio test:\",RMSE_test)\n",
    "print(\"*******************************************\")\n",
    "print(\"El Coeficiente de determinacion train:\",r2_train)\n",
    "print(\"El Coeficiente de determinacion test:\",r2_test)\n",
    "print(\"*******************************************\")"
   ]
  },
  {
   "cell_type": "code",
   "execution_count": null,
   "id": "d5b74135",
   "metadata": {},
   "outputs": [],
   "source": []
  },
  {
   "cell_type": "code",
   "execution_count": null,
   "id": "a5776e6a",
   "metadata": {},
   "outputs": [],
   "source": []
  }
 ],
 "metadata": {
  "kernelspec": {
   "display_name": "Python 3",
   "language": "python",
   "name": "python3"
  },
  "language_info": {
   "codemirror_mode": {
    "name": "ipython",
    "version": 3
   },
   "file_extension": ".py",
   "mimetype": "text/x-python",
   "name": "python",
   "nbconvert_exporter": "python",
   "pygments_lexer": "ipython3",
   "version": "3.8.8"
  }
 },
 "nbformat": 4,
 "nbformat_minor": 5
}
